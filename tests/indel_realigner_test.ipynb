{
 "cells": [
  {
   "cell_type": "markdown",
   "metadata": {},
   "source": [
    "# Package initiation"
   ]
  },
  {
   "cell_type": "code",
   "execution_count": 1,
   "metadata": {},
   "outputs": [],
   "source": [
    "%load_ext autoreload\n",
    "%autoreload 2\n",
    "\n",
    "import os\n",
    "import re\n",
    "import shutil\n",
    "import random\n",
    "import pprint\n",
    "import itertools\n",
    "import functools\n",
    "import collections\n",
    "\n",
    "import pysam\n",
    "import pyranges as pr\n",
    "import numpy as np\n",
    "import matplotlib as mpl\n",
    "import matplotlib.pyplot as plt\n",
    "import seaborn as sns\n",
    "import pandas as pd\n",
    "import scipy.stats\n",
    "\n",
    "import sys\n",
    "sys.path.append('/home/users/pjh/scripts/python_genome_packages')"
   ]
  },
  {
   "cell_type": "code",
   "execution_count": 2,
   "metadata": {},
   "outputs": [],
   "source": [
    "from handygenome import common\n",
    "from handygenome.common import ChromDict, Vcfspec, Interval\n",
    "from handygenome.variantplus.breakends import Breakends\n",
    "from handygenome.variantplus.variantplus import VariantPlus, VariantPlusList\n",
    "from handygenome.variantplus.vcfplus import VcfPlus\n",
    "from handygenome.igvhandle import IGVHandle\n",
    "\n",
    "from handygenome.variantplus import vpfilter as libvpfilter\n",
    "from handygenome.vcfeditor.initvcf import create_header"
   ]
  },
  {
   "cell_type": "code",
   "execution_count": 3,
   "metadata": {},
   "outputs": [],
   "source": [
    "FASTA_PATH_HG19 = \"/home/users/data/01_reference/human_g1k_v37/human_g1k_v37.fasta\"\n",
    "FASTA_PATH_HG38 = \"/home/users/data/01_reference/human_g1k_v38/Homo_sapiens_assembly38.fasta\"\n",
    "\n",
    "FASTA_HG19 = pysam.FastaFile(FASTA_PATH_HG19)\n",
    "FASTA_HG38 = pysam.FastaFile(FASTA_PATH_HG38)\n",
    "CHROMDICT_HG19 = ChromDict(fasta_path=FASTA_PATH_HG19)\n",
    "CHROMDICT_HG38 = ChromDict(fasta_path=FASTA_PATH_HG38)"
   ]
  },
  {
   "cell_type": "markdown",
   "metadata": {},
   "source": [
    "# Basic setups"
   ]
  },
  {
   "cell_type": "code",
   "execution_count": 4,
   "metadata": {},
   "outputs": [],
   "source": [
    "SAMPLEIDS = [\n",
    "    '14', '6', '87', 'F13', 'F2', 'F33', 'F37', 'FF1', 'FF104', 'FF115', 'FF13', 'FF18', 'FF20', 'FF21', 'FF23', 'FF24', 'FF27', \n",
    "    'FF3', 'FF31', 'FF34', 'FF37', 'FF39', 'FF4', 'FF43', 'FF53', 'FF56', 'FF57', 'FF58', 'FF6', 'FF62', 'FF67', 'FF71', 'FF76', \n",
    "    'FF77', 'FF78', 'FF79', 'FF80', 'FF85', \n",
    "    #'IO04',  # swapped sample\n",
    "    'IO05', 'IO06', 'IO07', 'IO08', 'IO09', 'IO12', 'IO13', 'IO15', 'IO16', 'IO17', \n",
    "    'IO18', 'IO22', 'IO23', 'IO24', 'IO25', 'SC126', 'SC134', 'SC31', 'SC81', 'SC88', 'SC97', 'SC98', \n",
    "]\n",
    "SAMPLEIDS_LU = [f'LU-{x}' for x in SAMPLEIDS]\n",
    "SAMPLEIDS_LU_PANEL = [f'{x}_panel' for x in SAMPLEIDS_LU]\n",
    "SAMPLEIDS_LU_TUMOR = [f'{x}_tumor' for x in SAMPLEIDS_LU]\n",
    "\n",
    "BAM_TOPDIR = '/home/users/team_projects/Lung_Cancer_Panel_data/03_Data_from_YTKim/02_BAM/'\n",
    "PANEL_REGION_PATH = '/home/users/team_projects/Lung_Cancer_Panel_data/03_Data_from_YTKim/metadata/panel_bait_design/custom/exon_intron_targetregions_merged.bed'\n",
    "PANEL_REGION_EXONS_PATH = '/home/users/team_projects/Lung_Cancer_Panel_data/03_Data_from_YTKim/metadata/panel_bait_design/custom/SNUH_FIRST_Lung_Cancer_V5_exon_Regions_tracknamechanged.bed'\n",
    "PANEL_REGION_INTRONS_PATH = '/home/users/team_projects/Lung_Cancer_Panel_data/03_Data_from_YTKim/metadata/panel_bait_design/custom/SNUH_FIRST_Lung_Cancer_V5_intron_Regions_tracknamechanged.bed'\n",
    "WGS_TMB_PATH = '/home/users/team_projects/Lung_Cancer_Panel_data/03_Data_from_YTKim/metadata/wgs_TMB_previously_found_210312.txt'"
   ]
  },
  {
   "cell_type": "code",
   "execution_count": 5,
   "metadata": {
    "scrolled": true
   },
   "outputs": [],
   "source": [
    "BAM_PATHS = {'normal': dict(), 'tumor': dict(), 'panel': dict()}\n",
    "for top, dirs, files in os.walk(BAM_TOPDIR):\n",
    "    for f in files:\n",
    "        for sampleid in SAMPLEIDS_LU:\n",
    "            for sampletype in ('tumor', 'normal', 'panel'):\n",
    "                if f == f'{sampleid}.{sampletype}.bam':\n",
    "                    BAM_PATHS[sampletype][sampleid] = os.path.join(top, f)"
   ]
  },
  {
   "cell_type": "code",
   "execution_count": 6,
   "metadata": {},
   "outputs": [],
   "source": [
    "BAMS = {sampletype: {sampleid: pysam.AlignmentFile(bampath) \n",
    "                     for sampleid, bampath in bampathdic.items()}\n",
    "        for sampletype, bampathdic in BAM_PATHS.items()}"
   ]
  },
  {
   "cell_type": "code",
   "execution_count": 7,
   "metadata": {},
   "outputs": [],
   "source": [
    "PANEL_REGION_GR = pr.read_bed(PANEL_REGION_PATH)"
   ]
  },
  {
   "cell_type": "code",
   "execution_count": 8,
   "metadata": {},
   "outputs": [],
   "source": [
    "WHOLE_GENOME_LENGTH = 3_095_677_412\n",
    "PANEL_REGION_LENGTH = 1_890_272"
   ]
  },
  {
   "cell_type": "code",
   "execution_count": 9,
   "metadata": {},
   "outputs": [],
   "source": [
    "igv = IGVHandle(60387)"
   ]
  },
  {
   "cell_type": "code",
   "execution_count": null,
   "metadata": {},
   "outputs": [],
   "source": []
  },
  {
   "cell_type": "code",
   "execution_count": 10,
   "metadata": {},
   "outputs": [],
   "source": [
    "def load_bams(sampleid):\n",
    "    igv.load([BAM_PATHS['normal'][sampleid], BAM_PATHS['tumor'][sampleid], BAM_PATHS['panel'][sampleid]])"
   ]
  },
  {
   "cell_type": "code",
   "execution_count": 11,
   "metadata": {},
   "outputs": [],
   "source": [
    "def show_vp_igv(vp, sampleid):\n",
    "    igv.cmd('new')\n",
    "    igv.load([PANEL_REGION_PATH, PANEL_REGION_EXONS_PATH, PANEL_REGION_INTRONS_PATH])\n",
    "    load_bams(sampleid)\n",
    "\n",
    "    igv.goto([vp.vcfspec], width=200)\n",
    "    igv.cmd('viewaspairs')\n",
    "    igv.cmd('sort base')"
   ]
  },
  {
   "cell_type": "markdown",
   "metadata": {},
   "source": [
    "# Find candidate variant sites"
   ]
  },
  {
   "cell_type": "code",
   "execution_count": 11,
   "metadata": {},
   "outputs": [],
   "source": [
    "PANEL_VCF_INDEL_PATH = '/home/users/team_projects/Lung_Cancer_Panel_data/03_Data_from_YTKim/09_short_variants_union/220707_indel/02_union/panel_indel_union.annot.readstats_again.vcf.gz'"
   ]
  },
  {
   "cell_type": "code",
   "execution_count": 12,
   "metadata": {},
   "outputs": [
    {
     "name": "stderr",
     "output_type": "stream",
     "text": [
      "[KST 2022-07-18 11:33:21 INFO] handygenome.variantplus.vcfplus: 1000 variant records processed\n",
      "[KST 2022-07-18 11:33:59 INFO] handygenome.variantplus.vcfplus: 2000 variant records processed\n"
     ]
    }
   ],
   "source": [
    "vcfp_indel = VcfPlus(PANEL_VCF_INDEL_PATH, set_annotdb=True, set_readstats=True, logging_lineno=1000)"
   ]
  },
  {
   "cell_type": "code",
   "execution_count": 13,
   "metadata": {},
   "outputs": [],
   "source": [
    "fi_popfreq = libvpfilter.PopfreqFilter(cutoff=0.01, popnames=(\"GnomAD\", \"1000Genomes\", \"KOREAN\", \"Korea1K\"))\n",
    "fi_diffBQ = libvpfilter.DiffMeanBQFilter(cutoff=-5)\n",
    "fi_BQ = libvpfilter.AbsMeanBQFilter(cutoff=20)\n",
    "fi_diffMQ = libvpfilter.DiffMeanMQFilter(cutoff=-15)\n",
    "fi_MQ = libvpfilter.AbsMeanMQFilter(cutoff=40)\n",
    "fi_clipovlp = libvpfilter.ClipoverlapFilter(cutoff=1)\n",
    "fi_varposunif = libvpfilter.VarposUniformFilter(cutoff=0.05)\n",
    "fi_readcount = libvpfilter.ReadcountFilter(cutoff=2)\n",
    "fi_otherratio = libvpfilter.OthercountRatioFilter(cutoff=1.5)\n",
    "\n",
    "ponfilter_params = {\n",
    "    'deviation_cutoff': 5, \n",
    "    'subset_num_cutoff': 3, \n",
    "    'subset_fraction': 0.5,\n",
    "    'germline_vaf_cutoff': 0.2,\n",
    "    'germline_sample_ratio_cutoff': 0.2,\n",
    "    'mode': 'mean',\n",
    "}"
   ]
  },
  {
   "cell_type": "code",
   "execution_count": 14,
   "metadata": {},
   "outputs": [],
   "source": [
    "def allfilter(vp, sampleid):\n",
    "    fi_pon = vp.get_ponfilter(sampleids=SAMPLEIDS_LU_PANEL, **ponfilter_params)\n",
    "    mask_all = all([\n",
    "        fi_pon.check(vp, sampleid),\n",
    "        fi_popfreq.check(vp),\n",
    "        fi_diffBQ.check(vp, sampleid),\n",
    "        fi_BQ.check(vp, sampleid),\n",
    "        fi_diffMQ.check(vp, sampleid),\n",
    "        fi_MQ.check(vp, sampleid),\n",
    "        fi_clipovlp.check(vp, sampleid),\n",
    "        fi_readcount.check(vp, sampleid),\n",
    "        (len(vp.vcfspec.ref) >= 4 or\n",
    "         fi_otherratio.check(vp, sampleid)),\n",
    "    ])\n",
    "    \n",
    "    return mask_all\n",
    "\n",
    "def cosmicfilter(vp):\n",
    "    return vp.get_cosmic_total_occur() > 20\n",
    "\n",
    "def readcountfilter(vp, sampleid):\n",
    "    return fi_readcount.check(vp, sampleid)\n",
    "\n",
    "def PONfilter(vp, sampleid):\n",
    "    return vp.get_ponfilter(SAMPLEIDS_LU_PANEL, **ponfilter_params).check(vp, sampleid)\n",
    "\n",
    "def functionalfilter(vp):\n",
    "    return any(\n",
    "        any(feature['consequence_flags'][key] for key in (\n",
    "#             'is_3pUTR_involved', \n",
    "#             'is_5pUTR_involved', \n",
    "            'is_protein_altering',\n",
    "        ))\n",
    "        for feature in vp.annotdb.transcript_canon_ovlp.values()\n",
    "    )"
   ]
  },
  {
   "cell_type": "code",
   "execution_count": 18,
   "metadata": {},
   "outputs": [
    {
     "name": "stdout",
     "output_type": "stream",
     "text": [
      "4\n"
     ]
    }
   ],
   "source": [
    "def vpfilter(vp):\n",
    "    sampleid = 'LU-87_panel'\n",
    "#     return functionalfilter(vp) and any(readcountfilter(vp, sampleid) for sampleid in SAMPLEIDS_LU_PANEL)\n",
    "    return cosmicfilter(vp)\n",
    "#     return (readcountfilter(vp, sampleid) and PONfilter(vp, sampleid))\n",
    "#     return allfilter(vp, sampleid)\n",
    "\n",
    "\n",
    "vcfp_indel.filter_vplist(vpfilter)\n",
    "print(len(vcfp_indel.vplist_filtered))"
   ]
  },
  {
   "cell_type": "code",
   "execution_count": 19,
   "metadata": {},
   "outputs": [],
   "source": [
    "# vp = vcfp_indel.vplist_filtered.sample()\n",
    "# vplist = vcfp_indel.vplist_filtered.sample(20)\n",
    "vplist = vcfp_indel.vplist_filtered"
   ]
  },
  {
   "cell_type": "code",
   "execution_count": 21,
   "metadata": {},
   "outputs": [],
   "source": [
    "idx = -1"
   ]
  },
  {
   "cell_type": "code",
   "execution_count": 22,
   "metadata": {},
   "outputs": [
    {
     "name": "stdout",
     "output_type": "stream",
     "text": [
      "0\n"
     ]
    }
   ],
   "source": [
    "idx += 1\n",
    "print(idx)\n",
    "vp = vplist[idx]"
   ]
  },
  {
   "cell_type": "code",
   "execution_count": null,
   "metadata": {},
   "outputs": [],
   "source": []
  },
  {
   "cell_type": "code",
   "execution_count": null,
   "metadata": {},
   "outputs": [],
   "source": []
  },
  {
   "cell_type": "code",
   "execution_count": 24,
   "metadata": {},
   "outputs": [
    {
     "data": {
      "image/png": "[encoded data removed]",
      "text/plain": [
       "<Figure size 2520x720 with 2 Axes>"
      ]
     },
     "metadata": {
      "needs_background": "light"
     },
     "output_type": "display_data"
    }
   ],
   "source": [
    "vp.show_readcounts(sampleids=SAMPLEIDS_LU_PANEL, figsize=(35, 10))\n",
    "# vp.show_readcounts(sampleids=SAMPLEIDS_LU_PANEL, figsize=(35, 10), mask=mask_all)"
   ]
  },
  {
   "cell_type": "code",
   "execution_count": 25,
   "metadata": {},
   "outputs": [],
   "source": [
    "sampleid = 'LU-FF43'\n",
    "sampleid_panel = sampleid + '_panel'"
   ]
  },
  {
   "cell_type": "code",
   "execution_count": 26,
   "metadata": {},
   "outputs": [
    {
     "name": "stdout",
     "output_type": "stream",
     "text": [
      "OK\n",
      "OK\n",
      "OK\n",
      "OK\n",
      "OK\n",
      "OK\n",
      "OK\n",
      "OK\n",
      "OK\n",
      "OK\n"
     ]
    }
   ],
   "source": [
    "show_vp_igv(vp, sampleid)"
   ]
  },
  {
   "cell_type": "markdown",
   "metadata": {},
   "source": [
    "# Candidate sites"
   ]
  },
  {
   "cell_type": "code",
   "execution_count": 18,
   "metadata": {},
   "outputs": [],
   "source": [
    "vcfspec = Vcfspec('15', 88593724, 'GTGTGTGTGTGTGTGTGTGTGTGTA', ('G',))\n",
    "sampleid = 'LU-FF18'"
   ]
  },
  {
   "cell_type": "code",
   "execution_count": 19,
   "metadata": {},
   "outputs": [],
   "source": [
    "vcfspec = '[<VariantPlus object (15\t88486723\t.\tGC\tG)>]'\n",
    "sampleid = 'LU-FF18'"
   ]
  },
  {
   "cell_type": "code",
   "execution_count": null,
   "metadata": {},
   "outputs": [],
   "source": [
    "vcfspec = '<VariantPlus object (8\t32601091\t.\tCATATATAT\tC)>'\n",
    "sampleid = 'LU-FF20'"
   ]
  },
  {
   "cell_type": "code",
   "execution_count": null,
   "metadata": {},
   "outputs": [],
   "source": [
    "vcfspec = '<VariantPlus object (17\t7578503\t.\tCAGGGCAGGTCT\tC)>'\n",
    "sampleid = 'LU-FF20'"
   ]
  },
  {
   "cell_type": "code",
   "execution_count": null,
   "metadata": {},
   "outputs": [],
   "source": [
    "# dirty region with heterogeneous softclips AKT1\n",
    "vcfspec = '<VariantPlus object (14\t105242405\t.\tCAGCAGGACTCCGCCCCCCCCA\tC)>'\n",
    "sampleid = 'LU-FF21'"
   ]
  },
  {
   "cell_type": "code",
   "execution_count": null,
   "metadata": {},
   "outputs": [],
   "source": [
    "# dirty region with heterogeneous softclips CTNNB1\n",
    "vcfspec = '<VariantPlus object (3\t41278937\t.\tCAAA\tC)>'\n",
    "sampleid = 'LU-IO16'"
   ]
  },
  {
   "cell_type": "code",
   "execution_count": null,
   "metadata": {},
   "outputs": [],
   "source": [
    "# ALT1/ALT2 germline het, with phasable nearby G insertion. The minor(non-germline) allele should be aligned while preserving the major(germline) alleles.\n",
    "vcfspec = '<VariantPlus object (2\t213316731\t.\tA\tAG)>'\n",
    "sampleid = 'LU-FF3'"
   ]
  },
  {
   "cell_type": "code",
   "execution_count": null,
   "metadata": {},
   "outputs": [],
   "source": [
    "# ALT1/ALT2 germline het\n",
    "vcfspec = '<VariantPlus object (15\t88599429\t.\tATATATTTT\tA)>'\n",
    "sampleid = 'LU-FF43'"
   ]
  },
  {
   "cell_type": "code",
   "execution_count": null,
   "metadata": {},
   "outputs": [],
   "source": [
    "# delins reconstruction test\n",
    "vcfspec = '<VariantPlus object (4\t55964315\t.\tC\tCACTT)>'\n",
    "sampleid = 'LU-FF56'"
   ]
  },
  {
   "cell_type": "code",
   "execution_count": null,
   "metadata": {},
   "outputs": [],
   "source": [
    "# delins reconstruction test\n",
    "vcfspec = '<VariantPlus object (7\t55242466\t.\tGAA\tG)>'\n",
    "sampleid = 'LU-FF56'"
   ]
  },
  {
   "cell_type": "code",
   "execution_count": null,
   "metadata": {},
   "outputs": [],
   "source": [
    "vcfspec = '<VariantPlus object (2\t212488828\t.\tG\tGTC)>'\n",
    "sampleid = 'LU-FF57'"
   ]
  },
  {
   "cell_type": "code",
   "execution_count": null,
   "metadata": {},
   "outputs": [],
   "source": [
    "# multiple nearby germline variants interspersed with a somatic mutation. For genotype resolution practice.\n",
    "vcfspec = '<VariantPlus object (2\t212488828\t.\tG\tGTC)>'\n",
    "sampleid = 'LU-FF62_normal, LU-FF62_tumor'"
   ]
  },
  {
   "cell_type": "code",
   "execution_count": null,
   "metadata": {},
   "outputs": [],
   "source": [
    "# to confirm pairwise2 works well with this pattern\n",
    "vcfspec = '15:88408511 CC>CAA'\n",
    "sampleid = 'LU-FF62'"
   ]
  },
  {
   "cell_type": "code",
   "execution_count": null,
   "metadata": {},
   "outputs": [],
   "source": [
    "# check the VAF of deletion to the right\n",
    "vcfspec = '<VariantPlus object (2\t213316731\t.\tA\tAG)>'\n",
    "sampleid = 'LU-FF80'"
   ]
  },
  {
   "cell_type": "markdown",
   "metadata": {},
   "source": [
    "# Code development"
   ]
  },
  {
   "cell_type": "code",
   "execution_count": 12,
   "metadata": {},
   "outputs": [],
   "source": [
    "np.set_printoptions(threshold=np.inf)\n",
    "pd.options.display.max_columns = None\n",
    "pd.options.display.max_rows = None"
   ]
  },
  {
   "cell_type": "code",
   "execution_count": 13,
   "metadata": {},
   "outputs": [],
   "source": [
    "import re\n",
    "        \n",
    "def get_seq_specs(pileup):\n",
    "    seq_specs = dict()\n",
    "    for qname, row in pileup.iterrows():\n",
    "        seq_spec = {\n",
    "            'seq': ''.join(re.sub('[()]', '', x) for x in row\n",
    "                           if x not in ('*', None)),\n",
    "            'match_length': sum(x is not None for x in row),\n",
    "            'left_filled': row.iloc[0] is not None,\n",
    "            'right_filled': row.iloc[-1] is not None,\n",
    "            'qname': qname,\n",
    "        }\n",
    "        seq_specs[seq_spec['qname']] = seq_spec\n",
    "    return seq_specs\n",
    "\n",
    "        \n",
    "def group_seq_specs(seq_specs):\n",
    "    def sortkey(seq_spec):\n",
    "        return -1 * seq_spec['match_length']\n",
    "#         key1 = 0 if (seq_spec['left_filled'] and seq_spec['right_filled']) else 1\n",
    "#         key2 = -1 * seq_spec['match_length']\n",
    "#         return (key1, key2)    \n",
    "    \n",
    "    def matcher(query, target):\n",
    "        if query['left_filled']:\n",
    "            if query['right_filled']:\n",
    "                if target['left_filled'] and target['right_filled']:\n",
    "                    return query['seq'] in target['seq']\n",
    "                else:\n",
    "                    return False\n",
    "            else:\n",
    "                if target['left_filled']:\n",
    "                    return query['seq'] == target['seq'][:len(query['seq'])]\n",
    "                else:\n",
    "                    return False\n",
    "        else:\n",
    "            if query['right_filled']:\n",
    "                if target['right_filled']:\n",
    "                    return query['seq'] == target['seq'][-len(query['seq']):]\n",
    "                else:\n",
    "                    return False\n",
    "            else:\n",
    "                return query['seq'] in target['seq']                \n",
    "        \n",
    "    result = dict()\n",
    "    for query in sorted(seq_specs.values(), key=sortkey):\n",
    "        superseq_candidates = list()\n",
    "        for qname in result.keys():\n",
    "            target = seq_specs[qname]\n",
    "            if matcher(query, target):\n",
    "                superseq_candidates.append(qname)\n",
    "                \n",
    "        if len(superseq_candidates) == 0:                \n",
    "            result[query['qname']] = list()\n",
    "            result[query['qname']].append(query)\n",
    "        else:\n",
    "            superseq_qname = max(superseq_candidates, key=(lambda qname: seq_specs[qname]['match_length']))\n",
    "            result[superseq_qname].append(query)\n",
    "            \n",
    "    return result"
   ]
  },
  {
   "cell_type": "code",
   "execution_count": 14,
   "metadata": {},
   "outputs": [],
   "source": [
    "tbam = BAMS['tumor']['LU-FF43']\n",
    "tbam_path = BAM_PATHS['tumor']['LU-FF43']\n",
    "nbam = BAMS['normal']['LU-FF43']\n",
    "nbam_path = BAM_PATHS['normal']['LU-FF43']\n",
    "\n",
    "vcfspec = Vcfspec('7', 55_242_464, 'A', ('G',))\n",
    "# intv = Interval(chrom='7', start1=55_242_464, end1=55_242_480)\n",
    "intv = Interval(chrom='7', start1=55_242_464, end1=55_242_480)\n",
    "bam = tbam\n",
    "\n",
    "# readlist = list(BAMS['normal']['LU-FF43'].fetch(vcfspec.chrom, vcfspec.pos0, vcfspec.end0))\n",
    "# readlist = list(BAMS['tumor']['LU-FF43'].fetch(vcfspec.chrom, vcfspec.pos0, vcfspec.end0))\n",
    "# readlist = list(tbam.fetch(intv.chrom, intv.start0, intv.end0))"
   ]
  },
  {
   "cell_type": "code",
   "execution_count": 15,
   "metadata": {},
   "outputs": [
    {
     "name": "stdout",
     "output_type": "stream",
     "text": [
      "OK\n",
      "OK\n",
      "OK\n"
     ]
    }
   ],
   "source": [
    "igv.load([tbam_path, nbam_path])\n",
    "igv.goto([vcfspec], width=100)"
   ]
  },
  {
   "cell_type": "code",
   "execution_count": null,
   "metadata": {},
   "outputs": [],
   "source": []
  },
  {
   "cell_type": "code",
   "execution_count": null,
   "metadata": {},
   "outputs": [],
   "source": []
  },
  {
   "cell_type": "code",
   "execution_count": 16,
   "metadata": {},
   "outputs": [],
   "source": [
    "from handygenome.align import realign\n",
    "from handygenome.readplus import readhandler\n",
    "\n",
    "active_range = realign.get_active_range(bam, intv.chrom, intv.start0, intv.end0, threshold=0.9, inactive_padding=30, add_pileup_by=10)\n",
    "pileup, readlist = readhandler.get_pileup(bam, intv.chrom, active_range.start, active_range.stop, as_array=False, truncate=True, with_readlist=True, append_read12_to_qname=True)\n",
    "\n",
    "seq_specs = get_seq_specs(pileup)\n",
    "seq_spec_groups = group_seq_specs(seq_specs)"
   ]
  },
  {
   "cell_type": "code",
   "execution_count": 17,
   "metadata": {},
   "outputs": [
    {
     "name": "stdout",
     "output_type": "stream",
     "text": [
      "range(55242434, 55242510)\n"
     ]
    }
   ],
   "source": [
    "print(active_range)"
   ]
  },
  {
   "cell_type": "code",
   "execution_count": 397,
   "metadata": {
    "collapsed": true,
    "jupyter": {
     "outputs_hidden": true
    }
   },
   "outputs": [
    {
     "name": "stdout",
     "output_type": "stream",
     "text": [
      "{'left_filled': True,\n",
      " 'match_length': 76,\n",
      " 'qname': 'ST-E00129:825:HVYFNCCXY:6:1204:23734:35256_read2',\n",
      " 'right_filled': True,\n",
      " 'seq': 'TGAGAAAGTTAAAATTCCCGTCGCTATCAAAACATCTCCGAAAGCCAACAAGGAAATCCTC'}\n",
      "{'left_filled': True,\n",
      " 'match_length': 76,\n",
      " 'qname': 'ST-E00129:825:HVYFNCCXY:5:2120:25449:14142_read2',\n",
      " 'right_filled': True,\n",
      " 'seq': 'TGAGAAAGTTAAAATTCCCGTCGCTATCAAGGAATTAAGAGAAGCAACATCTCCGAAAGCCAACAAGGAAATCCTC'}\n",
      "{'left_filled': True,\n",
      " 'match_length': 76,\n",
      " 'qname': 'ST-E00129:825:HVYFNCCXY:5:2204:24393:26835_read2',\n",
      " 'right_filled': True,\n",
      " 'seq': 'TGAGAAAGTTAAAATTCTCGTCGCTATCAAAACATCCCCGAAAGCCAAAAAGGAAATCCTC'}\n",
      "{'left_filled': True,\n",
      " 'match_length': 76,\n",
      " 'qname': 'ST-E00129:825:HVYFNCCXY:6:2214:24302:58919_read1',\n",
      " 'right_filled': True,\n",
      " 'seq': 'TGAGAAAGTTAAAATTCCCGTCGCTATCTAGGAATTAAGAGAAGCAACATCTCCGAAAGCCAACAAGGAAATCCTC'}\n",
      "{'left_filled': True,\n",
      " 'match_length': 43,\n",
      " 'qname': 'ST-E00129:825:HVYFNCCXY:6:2104:1610:19786_read2',\n",
      " 'right_filled': False,\n",
      " 'seq': 'TGAGAAAGTTAAAATTCCCGTCGCTATCAAGGAATTAAGAGAN'}\n",
      "{'left_filled': False,\n",
      " 'match_length': 42,\n",
      " 'qname': 'ST-E00129:825:HVYFNCCXY:8:1209:23551:59200_read1',\n",
      " 'right_filled': False,\n",
      " 'seq': 'AACACCACCCAGAATACCCGGGCACCTGTCGGCACATTCCCCCAATGCCCGGTAAGCGTCTCCTTCTCTCTTCGGCAATCGGGACTTTGTGTCCCAAAAGGTACGAAAGTAAAATTCCCGTCGCTATCAAGGAATTAAGAGAAGCAACATC'}\n",
      "{'left_filled': True,\n",
      " 'match_length': 34,\n",
      " 'qname': 'ST-E00129:825:HVYFNCCXY:7:1208:1824:1801_read1',\n",
      " 'right_filled': False,\n",
      " 'seq': 'TGAGAAAGTTAAAATTCCCGTCGCTCTCAAGGAA'}\n",
      "{'left_filled': True,\n",
      " 'match_length': 30,\n",
      " 'qname': 'ST-E00129:825:HVYFNCCXY:7:1112:26047:68623_read2',\n",
      " 'right_filled': False,\n",
      " 'seq': 'TGAGAAAGTTAAAATTCCCGTCGCTATCAAAACATCGCCGAAAGCCA'}\n",
      "{'left_filled': True,\n",
      " 'match_length': 20,\n",
      " 'qname': 'ST-E00129:825:HVYFNCCXY:7:2104:11738:31810_read1',\n",
      " 'right_filled': False,\n",
      " 'seq': 'TGAGAAAGTTAAAAGTCCCG'}\n",
      "{'left_filled': False,\n",
      " 'match_length': 20,\n",
      " 'qname': 'ST-E00129:825:HVYFNCCXY:5:1222:2351:65687_read1',\n",
      " 'right_filled': True,\n",
      " 'seq': 'ACGCCAACAAGGAAATCCTC'}\n",
      "{'left_filled': False,\n",
      " 'match_length': 12,\n",
      " 'qname': 'ST-E00129:825:HVYFNCCXY:6:1108:29488:72403_read1',\n",
      " 'right_filled': True,\n",
      " 'seq': 'AAGGAAACCCTC'}\n",
      "{'left_filled': False,\n",
      " 'match_length': 8,\n",
      " 'qname': 'ST-E00129:825:HVYFNCCXY:8:2218:32309:63191_read1',\n",
      " 'right_filled': True,\n",
      " 'seq': 'AGATCCTC'}\n"
     ]
    }
   ],
   "source": [
    "for qname in seq_spec_groups.keys():\n",
    "    pprint.pprint(seq_specs[qname])"
   ]
  },
  {
   "cell_type": "code",
   "execution_count": 420,
   "metadata": {},
   "outputs": [],
   "source": [
    "counts = dict()\n",
    "for qname, group in seq_spec_groups.items():\n",
    "    counts[seq_specs[qname]['seq']] = len(group)\n",
    "    "
   ]
  },
  {
   "cell_type": "code",
   "execution_count": 422,
   "metadata": {},
   "outputs": [
    {
     "name": "stdout",
     "output_type": "stream",
     "text": [
      "TGAGAAAGTTAAAATTCCCGTCGCTATCAAAACATCTCCGAAAGCCAACAAGGAAATCCTC 0.723\n",
      "TGAGAAAGTTAAAATTCCCGTCGCTATCAAGGAATTAAGAGAAGCAACATCTCCGAAAGCCAACAAGGAAATCCTC 0.214\n",
      "TGAGAAAGTTAAAATTCTCGTCGCTATCAAAACATCCCCGAAAGCCAAAAAGGAAATCCTC 0.006\n",
      "TGAGAAAGTTAAAATTCCCGTCGCTATCTAGGAATTAAGAGAAGCAACATCTCCGAAAGCCAACAAGGAAATCCTC 0.006\n",
      "TGAGAAAGTTAAAATTCCCGTCGCTATCAAGGAATTAAGAGAN 0.006\n",
      "AACACCACCCAGAATACCCGGGCACCTGTCGGCACATTCCCCCAATGCCCGGTAAGCGTCTCCTTCTCTCTTCGGCAATCGGGACTTTGTGTCCCAAAAGGTACGAAAGTAAAATTCCCGTCGCTATCAAGGAATTAAGAGAAGCAACATC 0.006\n",
      "TGAGAAAGTTAAAATTCCCGTCGCTCTCAAGGAA 0.006\n",
      "TGAGAAAGTTAAAATTCCCGTCGCTATCAAAACATCGCCGAAAGCCA 0.006\n",
      "TGAGAAAGTTAAAAGTCCCG 0.006\n",
      "ACGCCAACAAGGAAATCCTC 0.006\n",
      "AAGGAAACCCTC 0.006\n",
      "AGATCCTC 0.006\n"
     ]
    }
   ],
   "source": [
    "for key, val in counts.items():\n",
    "    print(key, round(val / sum(counts.values()), 3))"
   ]
  },
  {
   "cell_type": "code",
   "execution_count": null,
   "metadata": {},
   "outputs": [],
   "source": []
  },
  {
   "cell_type": "code",
   "execution_count": null,
   "metadata": {},
   "outputs": [],
   "source": []
  },
  {
   "cell_type": "code",
   "execution_count": 395,
   "metadata": {},
   "outputs": [],
   "source": [
    "import Bio.Align\n",
    "import Bio.Seq\n",
    "from handygenome.align import pairwise\n",
    "\n",
    "aligner = Bio.Align.PairwiseAligner(\n",
    "    mode='global',\n",
    "match_score=2,\n",
    "mismatch_score=-3,\n",
    "query_internal_open_gap_score=-7,\n",
    "query_internal_extend_gap_score=-2,\n",
    "target_internal_open_gap_score=-7,\n",
    "target_internal_extend_gap_score=-2,\n",
    "query_left_open_gap_score=-7,\n",
    "query_left_extend_gap_score=-2,\n",
    ")\n"
   ]
  },
  {
   "cell_type": "code",
   "execution_count": 413,
   "metadata": {},
   "outputs": [],
   "source": [
    "target = FASTA_HG19.fetch(intv.chrom, active_range.start, active_range.stop)\n",
    "query = 'AGATCCTC'"
   ]
  },
  {
   "cell_type": "code",
   "execution_count": 417,
   "metadata": {},
   "outputs": [],
   "source": [
    "# alns = aligner.align(target, query)\n",
    "alns = aligner.align(target[::-1], query[::-1])"
   ]
  },
  {
   "cell_type": "code",
   "execution_count": 418,
   "metadata": {},
   "outputs": [
    {
     "name": "stdout",
     "output_type": "stream",
     "text": [
      "CTCCTAAAGGAACAACCGAAAGCCTCTACAACGAAGAGAATTAAGGAACTATCGCTGCCCTTAAAATTGAAAGAGT\n",
      "||||||.|--------------------------------------------------------------------\n",
      "CTCCTAGA--------------------------------------------------------------------\n",
      "\n",
      "query\t0\ttarget\t1\t255\t8M\t*\t0\t0\tCTCCTAGA\t*\tAS:i:11\n",
      "\n",
      "11.0\n"
     ]
    }
   ],
   "source": [
    "aln = alns[0]\n",
    "print(aln)\n",
    "print(aln.format('sam'))\n",
    "print(aln.score)"
   ]
  },
  {
   "cell_type": "code",
   "execution_count": null,
   "metadata": {},
   "outputs": [],
   "source": []
  },
  {
   "cell_type": "code",
   "execution_count": 363,
   "metadata": {},
   "outputs": [
    {
     "name": "stderr",
     "output_type": "stream",
     "text": [
      "[M::bwa_idx_load_from_disk] read 0 ALT contigs\n",
      "[M::process] read 12 sequences (609 bp)...\n",
      "[M::mem_process_seqs] Processed 12 reads in 0.008 CPU sec, 0.018 real sec\n",
      "[main] Version: 0.7.17-r1188\n",
      "[main] CMD: /home/users/pjh/scripts/python_genome_packages/utils/bwa mem -Y -M -t 1 -o /home/users/pjh/scripts/python_genome_packages/tests/tmpgmmpngfh/output.sam /home/users/data/01_reference/human_g1k_v37/human_g1k_v37.fasta /home/users/pjh/scripts/python_genome_packages/tests/tmpgmmpngfh/input.fasta\n",
      "[main] Real time: 10.322 sec; CPU: 6.612 sec\n"
     ]
    }
   ],
   "source": [
    "from handygenome.align import bwa\n",
    "\n",
    "seqlist = list()\n",
    "namelist = list()\n",
    "for qname in seq_spec_groups.keys():\n",
    "    seqlist.append(seq_specs[qname]['seq'])\n",
    "    namelist.append(qname)\n",
    "    \n",
    "bwa_result = bwa.run_bwa(seqlist=seqlist, refver='hg19', namelist=namelist)"
   ]
  },
  {
   "cell_type": "code",
   "execution_count": 364,
   "metadata": {},
   "outputs": [
    {
     "name": "stdout",
     "output_type": "stream",
     "text": [
      "ST-E00129:825:HVYFNCCXY:6:1204:23734:35256_read2\t0\t7\t55242435\t41\t30M15D31M\t*\t0\t0\tTGAGAAAGTTAAAATTCCCGTCGCTATCAAAACATCTCCGAAAGCCAACAAGGAAATCCTC\t*\tNM:i:15\tMD:Z:30^GGAATTAAGAGAAGC31\tAS:i:40\tXS:i:0\n",
      "ST-E00129:825:HVYFNCCXY:5:2120:25449:14142_read2\t0\t7\t55242435\t60\t76M\t*\t0\t0\tTGAGAAAGTTAAAATTCCCGTCGCTATCAAGGAATTAAGAGAAGCAACATCTCCGAAAGCCAACAAGGAAATCCTC\t*\tNM:i:0\tMD:Z:76\tAS:i:76\tXS:i:20\n",
      "ST-E00129:825:HVYFNCCXY:5:2204:24393:26835_read2\t4\t*\t0\t0\t*\t*\t0\t0\tTGAGAAAGTTAAAATTCTCGTCGCTATCAAAACATCCCCGAAAGCCAAAAAGGAAATCCTC\t*\tAS:i:0\tXS:i:0\n",
      "ST-E00129:825:HVYFNCCXY:6:2214:24302:58919_read1\t0\t7\t55242435\t60\t76M\t*\t0\t0\tTGAGAAAGTTAAAATTCCCGTCGCTATCTAGGAATTAAGAGAAGCAACATCTCCGAAAGCCAACAAGGAAATCCTC\t*\tNM:i:1\tMD:Z:28A47\tAS:i:71\tXS:i:19\n",
      "ST-E00129:825:HVYFNCCXY:6:2104:1610:19786_read2\t0\t7\t55242435\t60\t43M\t*\t0\t0\tTGAGAAAGTTAAAATTCCCGTCGCTATCAAGGAATTAAGAGAN\t*\tNM:i:1\tMD:Z:42A0\tAS:i:42\tXS:i:0\n",
      "ST-E00129:825:HVYFNCCXY:8:1209:23551:59200_read1\t0\t7\t55242444\t60\t109S42M\t*\t0\t0\tAACACCACCCAGAATACCCGGGCACCTGTCGGCACATTCCCCCAATGCCCGGTAAGCGTCTCCTTCTCTCTTCGGCAATCGGGACTTTGTGTCCCAAAAGGTACGAAAGTAAAATTCCCGTCGCTATCAAGGAATTAAGAGAAGCAACATC\t*\tNM:i:0\tMD:Z:42\tAS:i:42\tXS:i:20\n",
      "ST-E00129:825:HVYFNCCXY:7:1208:1824:1801_read1\t4\t*\t0\t0\t*\t*\t0\t0\tTGAGAAAGTTAAAATTCCCGTCGCTCTCAAGGAA\t*\tAS:i:0\tXS:i:0\n",
      "ST-E00129:825:HVYFNCCXY:7:1112:26047:68623_read2\t0\t7\t55242435\t60\t30M17S\t*\t0\t0\tTGAGAAAGTTAAAATTCCCGTCGCTATCAAAACATCGCCGAAAGCCA\t*\tNM:i:0\tMD:Z:30\tAS:i:30\tXS:i:0\n",
      "ST-E00129:825:HVYFNCCXY:7:2104:11738:31810_read1\t4\t*\t0\t0\t*\t*\t0\t0\tTGAGAAAGTTAAAAGTCCCG\t*\tAS:i:0\tXS:i:0\n",
      "ST-E00129:825:HVYFNCCXY:5:1222:2351:65687_read1\t4\t*\t0\t0\t*\t*\t0\t0\tACGCCAACAAGGAAATCCTC\t*\tAS:i:0\tXS:i:0\n",
      "ST-E00129:825:HVYFNCCXY:6:1108:29488:72403_read1\t4\t*\t0\t0\t*\t*\t0\t0\tAAGGAAACCCTC\t*\tAS:i:0\tXS:i:0\n",
      "ST-E00129:825:HVYFNCCXY:8:2218:32309:63191_read1\t4\t*\t0\t0\t*\t*\t0\t0\tAGATCCTC\t*\tAS:i:0\tXS:i:0\n"
     ]
    }
   ],
   "source": [
    "for read in bwa_result:\n",
    "    print(read.to_string())"
   ]
  },
  {
   "cell_type": "code",
   "execution_count": null,
   "metadata": {},
   "outputs": [],
   "source": []
  },
  {
   "cell_type": "code",
   "execution_count": null,
   "metadata": {},
   "outputs": [],
   "source": []
  },
  {
   "cell_type": "code",
   "execution_count": null,
   "metadata": {},
   "outputs": [],
   "source": []
  },
  {
   "cell_type": "code",
   "execution_count": null,
   "metadata": {},
   "outputs": [],
   "source": []
  }
 ],
 "metadata": {
  "kernelspec": {
   "display_name": "genome_v5",
   "language": "python",
   "name": "genome_v5"
  },
  "language_info": {
   "codemirror_mode": {
    "name": "ipython",
    "version": 3
   },
   "file_extension": ".py",
   "mimetype": "text/x-python",
   "name": "python",
   "nbconvert_exporter": "python",
   "pygments_lexer": "ipython3",
   "version": "3.9.12"
  }
 },
 "nbformat": 4,
 "nbformat_minor": 4
}
