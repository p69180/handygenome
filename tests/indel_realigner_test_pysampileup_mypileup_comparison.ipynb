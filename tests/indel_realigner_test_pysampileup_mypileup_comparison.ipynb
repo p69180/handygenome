{
 "cells": [
  {
   "cell_type": "markdown",
   "metadata": {},
   "source": [
    "# Package initiation"
   ]
  },
  {
   "cell_type": "code",
   "execution_count": 2,
   "metadata": {},
   "outputs": [],
   "source": [
    "%load_ext autoreload\n",
    "%autoreload 2\n",
    "\n",
    "import os\n",
    "import re\n",
    "import shutil\n",
    "import random\n",
    "import pprint\n",
    "import itertools\n",
    "import functools\n",
    "import collections\n",
    "\n",
    "import pysam\n",
    "import pyranges as pr\n",
    "import numpy as np\n",
    "import matplotlib as mpl\n",
    "import matplotlib.pyplot as plt\n",
    "import seaborn as sns\n",
    "import pandas as pd\n",
    "import scipy.stats\n",
    "\n",
    "import sys\n",
    "sys.path.append('/home/users/pjh/scripts/python_genome_packages')"
   ]
  },
  {
   "cell_type": "code",
   "execution_count": 3,
   "metadata": {},
   "outputs": [],
   "source": [
    "from handygenome import common\n",
    "from handygenome.common import ChromDict, Vcfspec, Interval\n",
    "from handygenome.variantplus.breakends import Breakends\n",
    "from handygenome.variantplus.variantplus import VariantPlus, VariantPlusList\n",
    "from handygenome.variantplus.vcfplus import VcfPlus\n",
    "from handygenome.igvhandle import IGVHandle\n",
    "\n",
    "from handygenome.variantplus import vpfilter as libvpfilter\n",
    "from handygenome.vcfeditor.initvcf import create_header"
   ]
  },
  {
   "cell_type": "code",
   "execution_count": 4,
   "metadata": {},
   "outputs": [],
   "source": [
    "FASTA_PATH_HG19 = \"/home/users/data/01_reference/human_g1k_v37/human_g1k_v37.fasta\"\n",
    "FASTA_PATH_HG38 = \"/home/users/data/01_reference/human_g1k_v38/Homo_sapiens_assembly38.fasta\"\n",
    "\n",
    "FASTA_HG19 = pysam.FastaFile(FASTA_PATH_HG19)\n",
    "FASTA_HG38 = pysam.FastaFile(FASTA_PATH_HG38)\n",
    "CHROMDICT_HG19 = ChromDict(fasta_path=FASTA_PATH_HG19)\n",
    "CHROMDICT_HG38 = ChromDict(fasta_path=FASTA_PATH_HG38)"
   ]
  },
  {
   "cell_type": "markdown",
   "metadata": {},
   "source": [
    "# Basic setups"
   ]
  },
  {
   "cell_type": "code",
   "execution_count": 5,
   "metadata": {},
   "outputs": [],
   "source": [
    "SAMPLEIDS = [\n",
    "    '14', '6', '87', 'F13', 'F2', 'F33', 'F37', 'FF1', 'FF104', 'FF115', 'FF13', 'FF18', 'FF20', 'FF21', 'FF23', 'FF24', 'FF27', \n",
    "    'FF3', 'FF31', 'FF34', 'FF37', 'FF39', 'FF4', 'FF43', 'FF53', 'FF56', 'FF57', 'FF58', 'FF6', 'FF62', 'FF67', 'FF71', 'FF76', \n",
    "    'FF77', 'FF78', 'FF79', 'FF80', 'FF85', \n",
    "    #'IO04',  # swapped sample\n",
    "    'IO05', 'IO06', 'IO07', 'IO08', 'IO09', 'IO12', 'IO13', 'IO15', 'IO16', 'IO17', \n",
    "    'IO18', 'IO22', 'IO23', 'IO24', 'IO25', 'SC126', 'SC134', 'SC31', 'SC81', 'SC88', 'SC97', 'SC98', \n",
    "]\n",
    "SAMPLEIDS_LU = [f'LU-{x}' for x in SAMPLEIDS]\n",
    "SAMPLEIDS_LU_PANEL = [f'{x}_panel' for x in SAMPLEIDS_LU]\n",
    "SAMPLEIDS_LU_TUMOR = [f'{x}_tumor' for x in SAMPLEIDS_LU]\n",
    "\n",
    "BAM_TOPDIR = '/home/users/team_projects/Lung_Cancer_Panel_data/03_Data_from_YTKim/02_BAM/'\n",
    "PANEL_REGION_PATH = '/home/users/team_projects/Lung_Cancer_Panel_data/03_Data_from_YTKim/metadata/panel_bait_design/custom/exon_intron_targetregions_merged.bed'\n",
    "PANEL_REGION_EXONS_PATH = '/home/users/team_projects/Lung_Cancer_Panel_data/03_Data_from_YTKim/metadata/panel_bait_design/custom/SNUH_FIRST_Lung_Cancer_V5_exon_Regions_tracknamechanged.bed'\n",
    "PANEL_REGION_INTRONS_PATH = '/home/users/team_projects/Lung_Cancer_Panel_data/03_Data_from_YTKim/metadata/panel_bait_design/custom/SNUH_FIRST_Lung_Cancer_V5_intron_Regions_tracknamechanged.bed'\n",
    "WGS_TMB_PATH = '/home/users/team_projects/Lung_Cancer_Panel_data/03_Data_from_YTKim/metadata/wgs_TMB_previously_found_210312.txt'"
   ]
  },
  {
   "cell_type": "code",
   "execution_count": 6,
   "metadata": {
    "scrolled": true
   },
   "outputs": [],
   "source": [
    "BAM_PATHS = {'normal': dict(), 'tumor': dict(), 'panel': dict()}\n",
    "for top, dirs, files in os.walk(BAM_TOPDIR):\n",
    "    for f in files:\n",
    "        for sampleid in SAMPLEIDS_LU:\n",
    "            for sampletype in ('tumor', 'normal', 'panel'):\n",
    "                if f == f'{sampleid}.{sampletype}.bam':\n",
    "                    BAM_PATHS[sampletype][sampleid] = os.path.join(top, f)"
   ]
  },
  {
   "cell_type": "code",
   "execution_count": 7,
   "metadata": {},
   "outputs": [],
   "source": [
    "BAMS = {sampletype: {sampleid: pysam.AlignmentFile(bampath) \n",
    "                     for sampleid, bampath in bampathdic.items()}\n",
    "        for sampletype, bampathdic in BAM_PATHS.items()}"
   ]
  },
  {
   "cell_type": "code",
   "execution_count": 8,
   "metadata": {},
   "outputs": [],
   "source": [
    "PANEL_REGION_GR = pr.read_bed(PANEL_REGION_PATH)"
   ]
  },
  {
   "cell_type": "code",
   "execution_count": 9,
   "metadata": {},
   "outputs": [],
   "source": [
    "WHOLE_GENOME_LENGTH = 3_095_677_412\n",
    "PANEL_REGION_LENGTH = 1_890_272"
   ]
  },
  {
   "cell_type": "code",
   "execution_count": 10,
   "metadata": {},
   "outputs": [],
   "source": [
    "igv = IGVHandle(60387)"
   ]
  },
  {
   "cell_type": "code",
   "execution_count": null,
   "metadata": {},
   "outputs": [],
   "source": []
  },
  {
   "cell_type": "code",
   "execution_count": 11,
   "metadata": {},
   "outputs": [],
   "source": [
    "def load_bams(sampleid):\n",
    "    igv.load([BAM_PATHS['normal'][sampleid], BAM_PATHS['tumor'][sampleid], BAM_PATHS['panel'][sampleid]])"
   ]
  },
  {
   "cell_type": "code",
   "execution_count": 12,
   "metadata": {},
   "outputs": [],
   "source": [
    "def show_vp_igv(vp, sampleid):\n",
    "    igv.cmd('new')\n",
    "    igv.load([PANEL_REGION_PATH, PANEL_REGION_EXONS_PATH, PANEL_REGION_INTRONS_PATH])\n",
    "    load_bams(sampleid)\n",
    "\n",
    "    igv.goto([vp.vcfspec], width=200)\n",
    "    igv.cmd('viewaspairs')\n",
    "    igv.cmd('sort base')"
   ]
  },
  {
   "cell_type": "markdown",
   "metadata": {},
   "source": [
    "# Code development"
   ]
  },
  {
   "cell_type": "markdown",
   "metadata": {},
   "source": [
    "### get_active_range"
   ]
  },
  {
   "cell_type": "code",
   "execution_count": 131,
   "metadata": {},
   "outputs": [],
   "source": [
    "import collections\n",
    "\n",
    "from handygenome.readplus import readhandler\n",
    "\n",
    "\n",
    "def call_pileup(bam, chrom, start0, end0):\n",
    "    pup = bam.pileup(chrom, start0, end0, \n",
    "                     truncate=True, max_depth=10**6, stepper='all', \n",
    "                     ignore_overlaps=False, ignore_orphans=False, \n",
    "                     min_base_quality=0, min_mapping_quality=0, \n",
    "                     adjust_capq_threshold=0, compute_baq=False, \n",
    "                     redo_baq=False)    \n",
    "\n",
    "    return pup\n",
    "\n",
    "    \n",
    "def get_max_vaf_pysampileup(pupcol):\n",
    "    counts = collections.Counter(pupcol)\n",
    "    max_vaf = max(counts.values()) / sum(counts.values())\n",
    "    return max_vaf\n",
    "\n",
    "\n",
    "def get_is_active_pupcol(pupcol, threshold):\n",
    "    max_vaf = get_max_vaf_pysampileup(\n",
    "        x.upper() for x in\n",
    "        pupcol.get_query_sequences(mark_matches=False, mark_ends=False, add_indels=True)\n",
    "    )\n",
    "    is_active = max_vaf <= threshold\n",
    "    return pupcol.reference_pos, is_active\n",
    "\n",
    "\n",
    "def get_active_info_from_pileup(pup, threshold):\n",
    "    return [get_is_active_pupcol(pupcol, threshold) for pupcol in pup]\n",
    "\n",
    "\n",
    "def check_active_col_pysampileup_rightward(bam, chrom, pos0_init, threshold, add_pileup_by):\n",
    "    start0 = pos0_init\n",
    "    end0 = start0 + add_pileup_by\n",
    "    while True:\n",
    "        pup = call_pileup(bam, chrom, start0, end0)\n",
    "        for pupcol in pup:\n",
    "            pos0, is_active = get_is_active_pupcol(pupcol, threshold)\n",
    "            yield pos0, is_active\n",
    "\n",
    "        start0 = end0\n",
    "        end0 = start0 + add_pileup_by\n",
    "        continue\n",
    "\n",
    "        \n",
    "def check_active_col_pysampileup_leftward(bam, chrom, pos0_init, threshold, add_pileup_by):\n",
    "    end0 = pos0_init + 1\n",
    "    start0 = end0 - add_pileup_by\n",
    "    while True:\n",
    "        pup = call_pileup(bam, chrom, start0, end0)\n",
    "        active_info_buffer = get_active_info_from_pileup(pup, threshold)\n",
    "        for pos0, is_active in reversed(active_info_buffer):\n",
    "            yield pos0, is_active\n",
    "\n",
    "        end0 = start0\n",
    "        start0 = end0 - add_pileup_by\n",
    "        continue\n",
    "\n",
    "            \n",
    "def get_active_range_pysampileup(bam, chrom, start0, end0, threshold=0.9, inactive_padding=5, add_pileup_by=10):\n",
    "        \n",
    "#     readlist = list(bam.fetch(chrom, start0, end0))\n",
    "#     pileup_df = get_pileup(readlist, as_df=True)\n",
    "    pup = call_pileup(bam, chrom, start0, end0)\n",
    "    naive_active_info = get_active_info_from_pileup(pup, threshold)        \n",
    "    naive_active_positions = [pos0 for (pos0, is_active) in naive_active_info if is_active]    \n",
    "    if len(naive_active_positions) == 0:\n",
    "        return\n",
    "    \n",
    "    naive_active_positions_min = min(naive_active_positions)\n",
    "    naive_active_positions_max = max(naive_active_positions)\n",
    "    \n",
    "#     idx_min = naive_active_info.index((naive_active_positions_min, True))\n",
    "#     idx_max = naive_active_info.index((naive_active_positions_max, True))\n",
    "#     naive_active_info_filtered = naive_active_info[idx_min:(idx_min + 1)]\n",
    "    \n",
    "    active_info_rightward = list()\n",
    "    active_info_leftward = list()\n",
    "    \n",
    "    # rightward\n",
    "    current_pos0 = naive_active_positions_max + 1\n",
    "    for pos0, is_active in check_active_col_pysampileup_rightward(\n",
    "        bam, chrom, current_pos0, threshold=threshold, add_pileup_by=add_pileup_by\n",
    "    ):\n",
    "        active_info_rightward.append((pos0, is_active))\n",
    "        if len(active_info_rightward) >= inactive_padding:\n",
    "            if not any(x[1] for x in active_info_rightward[-inactive_padding:]):\n",
    "                break\n",
    "\n",
    "    # leftward\n",
    "    current_pos0 = naive_active_positions_min - 1\n",
    "    for pos0, is_active in check_active_col_pysampileup_leftward(\n",
    "        bam, chrom, current_pos0, threshold=threshold, add_pileup_by=add_pileup_by\n",
    "    ):\n",
    "        active_info_leftward.append((pos0, is_active))\n",
    "        if len(active_info_leftward) >= inactive_padding:\n",
    "            if not any(x[1] for x in active_info_leftward[-inactive_padding:]):\n",
    "                break\n",
    "                \n",
    "#     active_info = active_info_leftward[::-1] + naive_active_info_filtered + active_info_rightward\n",
    "#     positions = [pos0 for (pos0, is_active) in active_info]    \n",
    "    active_range = range(active_info_leftward[-1][0], active_info_rightward[-1][0] + 1)\n",
    "    \n",
    "    return active_range\n",
    "\n",
    "\n",
    "###############################\n",
    "\n",
    "def get_max_vaf_mypileup(col):\n",
    "    counts = collections.Counter(x for x in col if x is not None)\n",
    "    max_vaf = max(counts.values()) / sum(counts.values())    \n",
    "    return max_vaf\n",
    "\n",
    "def get_iterator(pileup, as_array, start0, end0):\n",
    "    if as_array:\n",
    "        rng = range(start0, end0)\n",
    "        return ((rng[idx], pileup[:, idx]) for idx in range(pileup.shape[1]))\n",
    "    else:\n",
    "        return pileup.items()\n",
    "\n",
    "    \n",
    "def get_active_info_mypileup(bam, chrom, start0, end0, threshold, as_array):\n",
    "    pileup = readhandler.get_pileup(bam, chrom, start0, end0, as_array=as_array, truncate=True)\n",
    "    result = list()\n",
    "\n",
    "    for pos0, col in get_iterator(pileup, as_array, start0, end0):\n",
    "        is_active = (get_max_vaf_mypileup(col) <= threshold)\n",
    "        result.append((pos0, is_active))\n",
    "    return result\n",
    "\n",
    "\n",
    "def check_active_col_mypileup_rightward(bam, chrom, pos0_init, threshold, add_pileup_by, as_array):\n",
    "    start0 = pos0_init\n",
    "    end0 = start0 + add_pileup_by\n",
    "    while True:\n",
    "        pileup = readhandler.get_pileup(bam, chrom, start0, end0, as_array=as_array, truncate=True)\n",
    "        for pos0, col in get_iterator(pileup, as_array, start0, end0):\n",
    "            is_active = (get_max_vaf_mypileup(col) <= threshold)\n",
    "            yield pos0, is_active\n",
    "\n",
    "        start0 = end0\n",
    "        end0 = start0 + add_pileup_by\n",
    "        continue\n",
    "        \n",
    "        \n",
    "def check_active_col_mypileup_leftward(bam, chrom, pos0_init, threshold, add_pileup_by, as_array):\n",
    "    end0 = pos0_init + 1\n",
    "    start0 = end0 - add_pileup_by\n",
    "    while True:\n",
    "        pileup = readhandler.get_pileup(bam, chrom, start0, end0, as_array=as_array, truncate=True)\n",
    "        for pos0, col in reversed(tuple(get_iterator(pileup, as_array, start0, end0))):\n",
    "            is_active = (get_max_vaf_mypileup(col) <= threshold)\n",
    "            yield pos0, is_active\n",
    "\n",
    "        end0 = start0\n",
    "        start0 = end0 - add_pileup_by\n",
    "        continue    \n",
    "    \n",
    "###\n",
    "    \n",
    "\n",
    "def get_active_range_mypileup(bam, chrom, start0, end0, threshold=0.9, inactive_padding=5, add_pileup_by=10, as_array=False):\n",
    "    naive_active_info = get_active_info_mypileup(bam, chrom, start0, end0, threshold, as_array)\n",
    "    naive_active_positions = [pos0 for (pos0, is_active) in naive_active_info if is_active]    \n",
    "    if len(naive_active_positions) == 0:\n",
    "        return\n",
    "    \n",
    "    naive_active_positions_min = min(naive_active_positions)\n",
    "    naive_active_positions_max = max(naive_active_positions)\n",
    "        \n",
    "    active_info_rightward = list()\n",
    "    active_info_leftward = list()\n",
    "    \n",
    "    # rightward\n",
    "    current_pos0 = naive_active_positions_max + 1\n",
    "#     n = 0\n",
    "    for pos0, is_active in check_active_col_mypileup_rightward(\n",
    "        bam, chrom, current_pos0, threshold=threshold, add_pileup_by=add_pileup_by, as_array=as_array,\n",
    "    ):\n",
    "#         n += 1\n",
    "#         if n == 500:\n",
    "#             print('overflow')\n",
    "#             break\n",
    "        active_info_rightward.append((pos0, is_active))\n",
    "        if len(active_info_rightward) >= inactive_padding:\n",
    "            if not any(x[1] for x in active_info_rightward[-inactive_padding:]):\n",
    "                break\n",
    "\n",
    "    # leftward\n",
    "    current_pos0 = naive_active_positions_min - 1\n",
    "#     n = 0\n",
    "    for pos0, is_active in check_active_col_mypileup_leftward(\n",
    "        bam, chrom, current_pos0, threshold=threshold, add_pileup_by=add_pileup_by, as_array=as_array,\n",
    "    ):\n",
    "#         n += 1\n",
    "#         if n == 500:\n",
    "#             print('overflow')\n",
    "#             break\n",
    "        active_info_leftward.append((pos0, is_active))\n",
    "        if len(active_info_leftward) >= inactive_padding:\n",
    "            if not any(x[1] for x in active_info_leftward[-inactive_padding:]):\n",
    "                break\n",
    "                \n",
    "#     active_info = active_info_leftward[::-1] + naive_active_info_filtered + active_info_rightward\n",
    "#     positions = [pos0 for (pos0, is_active) in active_info]    \n",
    "    active_range = range(active_info_leftward[-1][0], active_info_rightward[-1][0] + 1)\n",
    "    \n",
    "    return active_range"
   ]
  },
  {
   "cell_type": "code",
   "execution_count": 71,
   "metadata": {},
   "outputs": [],
   "source": [
    "vcfspec = Vcfspec('7', 55_242_464, 'A', ('G',))\n",
    "intv = Interval(chrom='7', start1=55_242_464, end1=55_242_480)\n",
    "\n",
    "tbam = BAMS['tumor']['LU-FF43']\n",
    "tbam_path = BAM_PATHS['tumor']['LU-FF43']\n",
    "nbam = BAMS['normal']['LU-FF43']\n",
    "nbam_path = BAM_PATHS['normal']['LU-FF43']\n",
    "\n",
    "# readlist = list(BAMS['normal']['LU-FF43'].fetch(vcfspec.chrom, vcfspec.pos0, vcfspec.end0))\n",
    "# readlist = list(BAMS['tumor']['LU-FF43'].fetch(vcfspec.chrom, vcfspec.pos0, vcfspec.end0))\n",
    "# readlist = list(tbam.fetch(intv.chrom, intv.start0, intv.end0))"
   ]
  },
  {
   "cell_type": "code",
   "execution_count": 19,
   "metadata": {},
   "outputs": [
    {
     "name": "stdout",
     "output_type": "stream",
     "text": [
      "OK\n",
      "OK\n",
      "OK\n"
     ]
    }
   ],
   "source": [
    "igv.load([tbam_path, nbam_path])\n",
    "igv.goto([vcfspec], width=100)"
   ]
  },
  {
   "cell_type": "code",
   "execution_count": 156,
   "metadata": {},
   "outputs": [],
   "source": [
    "inactive_padding = 20\n",
    "threshold = 0.9"
   ]
  },
  {
   "cell_type": "code",
   "execution_count": 157,
   "metadata": {},
   "outputs": [
    {
     "name": "stdout",
     "output_type": "stream",
     "text": [
      "240 ms ± 3.94 ms per loop (mean ± std. dev. of 7 runs, 1 loop each)\n"
     ]
    }
   ],
   "source": [
    "%%timeit\n",
    "active_range = get_active_range_pysampileup(bam, intv.chrom, intv.start0, intv.end0, inactive_padding=inactive_padding, threshold=threshold)"
   ]
  },
  {
   "cell_type": "code",
   "execution_count": 158,
   "metadata": {},
   "outputs": [
    {
     "name": "stdout",
     "output_type": "stream",
     "text": [
      "range(55242366, 55242529)\n"
     ]
    }
   ],
   "source": [
    "print(active_range)"
   ]
  },
  {
   "cell_type": "code",
   "execution_count": 159,
   "metadata": {
    "scrolled": true
   },
   "outputs": [
    {
     "name": "stdout",
     "output_type": "stream",
     "text": [
      "43.6 ms ± 773 µs per loop (mean ± std. dev. of 7 runs, 10 loops each)\n"
     ]
    }
   ],
   "source": [
    "%%timeit\n",
    "active_range = get_active_range_mypileup(bam, intv.chrom, intv.start0, intv.end0, inactive_padding=inactive_padding, as_array=True, threshold=threshold)"
   ]
  },
  {
   "cell_type": "code",
   "execution_count": 160,
   "metadata": {},
   "outputs": [
    {
     "name": "stdout",
     "output_type": "stream",
     "text": [
      "range(55242366, 55242529)\n"
     ]
    }
   ],
   "source": [
    "print(active_range)"
   ]
  },
  {
   "cell_type": "code",
   "execution_count": 161,
   "metadata": {
    "scrolled": true
   },
   "outputs": [
    {
     "name": "stdout",
     "output_type": "stream",
     "text": [
      "53.3 ms ± 640 µs per loop (mean ± std. dev. of 7 runs, 10 loops each)\n"
     ]
    }
   ],
   "source": [
    "%%timeit\n",
    "active_range = get_active_range_mypileup(bam, intv.chrom, intv.start0, intv.end0, inactive_padding=inactive_padding, as_array=False, threshold=threshold)"
   ]
  },
  {
   "cell_type": "code",
   "execution_count": 162,
   "metadata": {},
   "outputs": [
    {
     "name": "stdout",
     "output_type": "stream",
     "text": [
      "range(55242366, 55242529)\n"
     ]
    }
   ],
   "source": [
    "print(active_range)"
   ]
  },
  {
   "cell_type": "code",
   "execution_count": null,
   "metadata": {},
   "outputs": [],
   "source": []
  }
 ],
 "metadata": {
  "kernelspec": {
   "display_name": "genome_v5",
   "language": "python",
   "name": "genome_v5"
  },
  "language_info": {
   "codemirror_mode": {
    "name": "ipython",
    "version": 3
   },
   "file_extension": ".py",
   "mimetype": "text/x-python",
   "name": "python",
   "nbconvert_exporter": "python",
   "pygments_lexer": "ipython3",
   "version": "3.9.12"
  }
 },
 "nbformat": 4,
 "nbformat_minor": 4
}
