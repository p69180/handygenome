{
 "cells": [
  {
   "cell_type": "markdown",
   "metadata": {},
   "source": [
    "# Initiation"
   ]
  },
  {
   "cell_type": "code",
   "execution_count": 1,
   "metadata": {},
   "outputs": [],
   "source": [
    "%load_ext autoreload\n",
    "%autoreload 2\n",
    "\n",
    "import os\n",
    "import random\n",
    "import pprint\n",
    "\n",
    "import pysam\n",
    "import numpy as np\n",
    "# import pandas as pd\n",
    "# import matplotlib.pyplot as plt\n",
    "\n",
    "import sys\n",
    "sys.path.append('/home/users/pjh/scripts/python_genome_packages')"
   ]
  },
  {
   "cell_type": "code",
   "execution_count": 6,
   "metadata": {},
   "outputs": [],
   "source": [
    "from handygenome.common import ChromDict, Vcfspec, Interval\n",
    "from handygenome.variantplus.breakends import Breakends\n",
    "from handygenome.variantplus.variantplus import VariantPlus\n",
    "from handygenome.variantplus.vcfplus import VcfPlus\n",
    "from handygenome import igvhandle"
   ]
  },
  {
   "cell_type": "code",
   "execution_count": 7,
   "metadata": {},
   "outputs": [],
   "source": [
    "FASTA_PATH_HG19 = \"/home/users/data/01_reference/human_g1k_v37/human_g1k_v37.fasta\"\n",
    "FASTA_PATH_HG38 = \"/home/users/data/01_reference/human_g1k_v38/Homo_sapiens_assembly38.fasta\"\n",
    "\n",
    "FASTA_HG19 = pysam.FastaFile(FASTA_PATH_HG19)\n",
    "FASTA_HG38 = pysam.FastaFile(FASTA_PATH_HG38)\n",
    "CHROMDICT_HG19 = ChromDict(fasta_path=FASTA_PATH_HG19)\n",
    "CHROMDICT_HG38 = ChromDict(fasta_path=FASTA_PATH_HG38)"
   ]
  },
  {
   "cell_type": "code",
   "execution_count": 8,
   "metadata": {},
   "outputs": [],
   "source": [
    "igv = igvhandle.IGVHandle(60387)"
   ]
  },
  {
   "cell_type": "markdown",
   "metadata": {},
   "source": [
    "# Scratches"
   ]
  },
  {
   "cell_type": "code",
   "execution_count": 9,
   "metadata": {},
   "outputs": [],
   "source": [
    "from handygenome.vcfeditor import initvcf\n",
    "from handygenome.annotation import cosmicinfo as libcosmicinfo"
   ]
  },
  {
   "cell_type": "code",
   "execution_count": null,
   "metadata": {},
   "outputs": [],
   "source": []
  },
  {
   "cell_type": "code",
   "execution_count": 12,
   "metadata": {},
   "outputs": [],
   "source": [
    "cosmic_vcf_path = '/home/users/pjh/scripts/python_genome_packages/data/cosmic/v96/grch37/nonSV.vcf.gz'\n",
    "cosmic_vcf = pysam.VariantFile(cosmic_vcf_path)\n",
    "\n",
    "vcfspec = Vcfspec('7', 55242464, 'AGGAATTAAGAGAAGC', ('A', 'ACCCT'))\n",
    "vp = VariantPlus(vcfspec=vcfspec, refver='hg19')"
   ]
  },
  {
   "cell_type": "code",
   "execution_count": 14,
   "metadata": {},
   "outputs": [],
   "source": [
    "cosmicinfolist = libcosmicinfo.CosmicInfoList.from_vcfspec(vcfspec, cosmic_vcf, FASTA_HG19)"
   ]
  },
  {
   "cell_type": "code",
   "execution_count": null,
   "metadata": {},
   "outputs": [],
   "source": []
  },
  {
   "cell_type": "code",
   "execution_count": 21,
   "metadata": {},
   "outputs": [
    {
     "data": {
      "text/plain": [
       "{'id': 'COSV51765119',\n",
       " 'occurrence': {'lung': 1196,\n",
       "  'salivary_gland': 4,\n",
       "  'NS': 1,\n",
       "  'upper_aerodigestive_tract': 3,\n",
       "  'thyroid': 2,\n",
       "  'oesophagus': 1,\n",
       "  'ovary': 2,\n",
       "  'stomach': 1},\n",
       " 'occurrence_somatic': {'lung': 318, 'stomach': 1},\n",
       " 'coding_score': None,\n",
       " 'noncoding_score': None}"
      ]
     },
     "execution_count": 21,
     "metadata": {},
     "output_type": "execute_result"
    }
   ],
   "source": [
    "dict(cosmicinfolist[0])"
   ]
  },
  {
   "cell_type": "code",
   "execution_count": null,
   "metadata": {},
   "outputs": [],
   "source": []
  },
  {
   "cell_type": "code",
   "execution_count": null,
   "metadata": {},
   "outputs": [],
   "source": []
  },
  {
   "cell_type": "code",
   "execution_count": null,
   "metadata": {},
   "outputs": [],
   "source": [
    "10641   rs1477959359    CGGCGCA C,CGGCGCAGGCGCA"
   ]
  },
  {
   "cell_type": "code",
   "execution_count": 93,
   "metadata": {},
   "outputs": [],
   "source": [
    "from handygenome.annotation import customfile\n",
    "from handygenome.variantplus import equivalents"
   ]
  },
  {
   "cell_type": "code",
   "execution_count": 105,
   "metadata": {},
   "outputs": [],
   "source": [
    "dbsnp_path = '/home/users/pjh/References/dbSNP37/original_files_220218/GCF_000001405.25.gz'\n",
    "dbsnp_vcf = pysam.VariantFile(dbsnp_path)"
   ]
  },
  {
   "cell_type": "code",
   "execution_count": 108,
   "metadata": {
    "collapsed": true,
    "jupyter": {
     "outputs_hidden": true
    }
   },
   "outputs": [
    {
     "name": "stdout",
     "output_type": "stream",
     "text": [
      "NC_000001.10\n",
      "NC_000002.11\n",
      "NC_000003.11\n",
      "NC_000004.11\n",
      "NC_000005.9\n",
      "NC_000006.11\n",
      "NC_000007.13\n",
      "NC_000008.10\n",
      "NC_000009.11\n",
      "NC_000010.10\n",
      "NC_000011.9\n",
      "NC_000012.11\n",
      "NC_000013.10\n",
      "NC_000014.8\n",
      "NC_000015.9\n",
      "NC_000016.9\n",
      "NC_000017.10\n",
      "NC_000018.9\n",
      "NC_000019.9\n",
      "NC_000020.10\n",
      "NC_000021.8\n",
      "NC_000022.10\n",
      "NC_000023.10\n",
      "NC_000024.9\n",
      "NC_012920.1\n",
      "NT_113878.1\n",
      "NT_113885.1\n",
      "NT_113888.1\n",
      "NT_113889.1\n",
      "NT_113891.2\n",
      "NT_113901.1\n",
      "NT_113907.1\n",
      "NT_113909.1\n",
      "NT_113911.1\n",
      "NT_113914.1\n",
      "NT_113915.1\n",
      "NT_113916.2\n",
      "NT_113921.2\n",
      "NT_113923.1\n",
      "NT_113930.1\n",
      "NT_113941.1\n",
      "NT_113943.1\n",
      "NT_113945.1\n",
      "NT_113947.1\n",
      "NT_113948.1\n",
      "NT_113949.1\n",
      "NT_113950.2\n",
      "NT_113961.1\n",
      "NT_167207.1\n",
      "NT_167208.1\n",
      "NT_167209.1\n",
      "NT_167210.1\n",
      "NT_167211.1\n",
      "NT_167212.1\n",
      "NT_167213.1\n",
      "NT_167214.1\n",
      "NT_167215.1\n",
      "NT_167216.1\n",
      "NT_167217.1\n",
      "NT_167218.1\n",
      "NT_167219.1\n",
      "NT_167220.1\n",
      "NT_167221.1\n",
      "NT_167222.1\n",
      "NT_167223.1\n",
      "NT_167224.1\n",
      "NT_167225.1\n",
      "NT_167226.1\n",
      "NT_167227.1\n",
      "NT_167228.1\n",
      "NT_167229.1\n",
      "NT_167230.1\n",
      "NT_167231.1\n",
      "NT_167232.1\n",
      "NT_167233.1\n",
      "NT_167234.1\n",
      "NT_167235.1\n",
      "NT_167236.1\n",
      "NT_167237.1\n",
      "NT_167238.1\n",
      "NT_167239.1\n",
      "NT_167240.1\n",
      "NT_167241.1\n",
      "NT_167242.1\n",
      "NT_167243.1\n",
      "NT_167244.1\n",
      "NT_167245.1\n",
      "NT_167246.1\n",
      "NT_167247.1\n",
      "NT_167248.1\n",
      "NT_167249.1\n",
      "NT_167250.1\n",
      "NT_167251.1\n",
      "NW_003315903.1\n",
      "NW_003315904.1\n",
      "NW_003315905.1\n",
      "NW_003315906.1\n",
      "NW_003315907.1\n",
      "NW_003315908.1\n",
      "NW_003315909.1\n",
      "NW_003315910.1\n",
      "NW_003315911.1\n",
      "NW_003315912.1\n",
      "NW_003315913.1\n",
      "NW_003315914.1\n",
      "NW_003315915.1\n",
      "NW_003315916.1\n",
      "NW_003315917.2\n",
      "NW_003315918.1\n",
      "NW_003315919.1\n",
      "NW_003315920.1\n",
      "NW_003315921.1\n",
      "NW_003315922.2\n",
      "NW_003315923.1\n",
      "NW_003315924.1\n",
      "NW_003315925.1\n",
      "NW_003315926.1\n",
      "NW_003315927.1\n",
      "NW_003315928.1\n",
      "NW_003315929.1\n",
      "NW_003315930.1\n",
      "NW_003315931.1\n",
      "NW_003315932.1\n",
      "NW_003315933.1\n",
      "NW_003315934.1\n",
      "NW_003315935.1\n",
      "NW_003315936.1\n",
      "NW_003315937.1\n",
      "NW_003315938.1\n",
      "NW_003315939.1\n",
      "NW_003315940.1\n",
      "NW_003315941.1\n",
      "NW_003315942.2\n",
      "NW_003315943.1\n",
      "NW_003315944.1\n",
      "NW_003315945.1\n",
      "NW_003315946.1\n",
      "NW_003315947.1\n",
      "NW_003315948.2\n",
      "NW_003315949.1\n",
      "NW_003315950.2\n",
      "NW_003315951.1\n",
      "NW_003315952.2\n",
      "NW_003315953.1\n",
      "NW_003315954.1\n",
      "NW_003315955.1\n",
      "NW_003315956.1\n",
      "NW_003315957.1\n",
      "NW_003315958.1\n",
      "NW_003315959.1\n",
      "NW_003315960.1\n",
      "NW_003315961.1\n",
      "NW_003315962.1\n",
      "NW_003315963.1\n",
      "NW_003315964.2\n",
      "NW_003315965.1\n",
      "NW_003315966.1\n",
      "NW_003315967.1\n",
      "NW_003315968.1\n",
      "NW_003315969.1\n",
      "NW_003315970.1\n",
      "NW_003315971.2\n",
      "NW_003315972.1\n",
      "NW_003571030.1\n",
      "NW_003571031.1\n",
      "NW_003571032.1\n",
      "NW_003571033.2\n",
      "NW_003571034.1\n",
      "NW_003571035.1\n",
      "NW_003571036.1\n",
      "NW_003571037.1\n",
      "NW_003571038.1\n",
      "NW_003571039.1\n",
      "NW_003571040.1\n",
      "NW_003571041.1\n",
      "NW_003571042.1\n",
      "NW_003571043.1\n",
      "NW_003571045.1\n",
      "NW_003571046.1\n",
      "NW_003571047.1\n",
      "NW_003571048.1\n",
      "NW_003571049.1\n",
      "NW_003571050.1\n",
      "NW_003571051.1\n",
      "NW_003571052.1\n",
      "NW_003571053.2\n",
      "NW_003571054.1\n",
      "NW_003571055.1\n",
      "NW_003571056.1\n",
      "NW_003571057.1\n",
      "NW_003571058.1\n",
      "NW_003571059.1\n",
      "NW_003571060.1\n",
      "NW_003571061.1\n",
      "NW_003571063.2\n",
      "NW_003571064.2\n",
      "NW_003871055.3\n",
      "NW_003871056.3\n",
      "NW_003871057.1\n",
      "NW_003871058.1\n",
      "NW_003871059.1\n",
      "NW_003871060.1\n",
      "NW_003871061.1\n",
      "NW_003871062.1\n",
      "NW_003871063.1\n",
      "NW_003871064.1\n",
      "NW_003871065.1\n",
      "NW_003871066.2\n",
      "NW_003871067.1\n",
      "NW_003871068.1\n",
      "NW_003871069.1\n",
      "NW_003871070.1\n",
      "NW_003871071.1\n",
      "NW_003871072.2\n",
      "NW_003871073.1\n",
      "NW_003871074.1\n",
      "NW_003871075.1\n",
      "NW_003871076.1\n",
      "NW_003871077.1\n",
      "NW_003871078.1\n",
      "NW_003871079.1\n",
      "NW_003871080.1\n",
      "NW_003871081.1\n",
      "NW_003871082.1\n",
      "NW_003871083.2\n",
      "NW_003871084.1\n",
      "NW_003871085.1\n",
      "NW_003871086.1\n",
      "NW_003871087.1\n",
      "NW_003871088.1\n",
      "NW_003871089.1\n",
      "NW_003871090.1\n",
      "NW_003871091.1\n",
      "NW_003871092.1\n",
      "NW_003871093.1\n",
      "NW_003871094.1\n",
      "NW_003871095.1\n",
      "NW_003871096.1\n",
      "NW_003871098.1\n",
      "NW_003871099.1\n",
      "NW_003871100.1\n",
      "NW_003871101.3\n",
      "NW_003871102.1\n",
      "NW_003871103.3\n",
      "NW_004070863.1\n",
      "NW_004070864.2\n",
      "NW_004070865.1\n",
      "NW_004070866.1\n",
      "NW_004070867.1\n",
      "NW_004070868.1\n",
      "NW_004070869.1\n",
      "NW_004070870.1\n",
      "NW_004070871.1\n",
      "NW_004070872.2\n",
      "NW_004070873.1\n",
      "NW_004070874.1\n",
      "NW_004070875.1\n",
      "NW_004070876.1\n",
      "NW_004070877.1\n",
      "NW_004070878.1\n",
      "NW_004070879.1\n",
      "NW_004070880.2\n",
      "NW_004070881.1\n",
      "NW_004070882.1\n",
      "NW_004070883.1\n",
      "NW_004070884.1\n",
      "NW_004070885.1\n",
      "NW_004070886.1\n",
      "NW_004070887.1\n",
      "NW_004070888.1\n",
      "NW_004070889.1\n",
      "NW_004070890.2\n",
      "NW_004070891.1\n",
      "NW_004070892.1\n",
      "NW_004070893.1\n",
      "NW_004166862.1\n",
      "NW_004166863.1\n",
      "NW_004166864.2\n",
      "NW_004166865.1\n",
      "NW_004166866.1\n",
      "NW_004504299.1\n",
      "NW_004504300.1\n",
      "NW_004504301.1\n",
      "NW_004504302.1\n",
      "NW_004504303.2\n",
      "NW_004504304.1\n",
      "NW_004504305.1\n",
      "NW_004775426.1\n",
      "NW_004775427.1\n",
      "NW_004775428.1\n",
      "NW_004775429.1\n",
      "NW_004775430.1\n",
      "NW_004775431.1\n",
      "NW_004775432.1\n",
      "NW_004775433.1\n",
      "NW_004775434.1\n",
      "NW_004775435.1\n"
     ]
    }
   ],
   "source": [
    "for x in dbsnp_vcf.header.contigs:\n",
    "    print(x)"
   ]
  },
  {
   "cell_type": "code",
   "execution_count": null,
   "metadata": {},
   "outputs": [],
   "source": []
  },
  {
   "cell_type": "code",
   "execution_count": 98,
   "metadata": {},
   "outputs": [],
   "source": [
    "query_vcfspec = Vcfspec('1', 10641, 'CGGCGCA', ('CGGCGCAGGCGCA',))"
   ]
  },
  {
   "cell_type": "code",
   "execution_count": 99,
   "metadata": {},
   "outputs": [
    {
     "data": {
      "text/plain": [
       "[<Vcfspec (1:10641 C>CGGCGCA)>,\n",
       " <Vcfspec (1:10642 G>GGCGCAG)>,\n",
       " <Vcfspec (1:10643 G>GCGCAGG)>,\n",
       " <Vcfspec (1:10644 C>CGCAGGC)>,\n",
       " <Vcfspec (1:10645 G>GCAGGCG)>,\n",
       " <Vcfspec (1:10646 C>CAGGCGC)>,\n",
       " <Vcfspec (1:10647 A>AGGCGCA)>,\n",
       " <Vcfspec (1:10648 G>GGCGCAG)>,\n",
       " <Vcfspec (1:10649 G>GCGCAGG)>,\n",
       " <Vcfspec (1:10650 C>CGCAGGC)>,\n",
       " <Vcfspec (1:10651 G>GCAGGCG)>,\n",
       " <Vcfspec (1:10652 C>CAGGCGC)>,\n",
       " <Vcfspec (1:10653 A>AGGCGCA)>,\n",
       " <Vcfspec (1:10654 G>GGCGCAG)>]"
      ]
     },
     "execution_count": 99,
     "metadata": {},
     "output_type": "execute_result"
    }
   ],
   "source": [
    "equivalents.indel_equivalents(query_vcfspec, FASTA_HG19)"
   ]
  },
  {
   "cell_type": "code",
   "execution_count": null,
   "metadata": {},
   "outputs": [],
   "source": []
  },
  {
   "cell_type": "code",
   "execution_count": 85,
   "metadata": {},
   "outputs": [
    {
     "data": {
      "text/plain": [
       "[<Vcfspec (NC_000001.10:10641 CGGCGCA>CGGCGCAGGCGCA)>]"
      ]
     },
     "execution_count": 85,
     "metadata": {},
     "output_type": "execute_result"
    }
   ],
   "source": [
    "equivalents.indel_equivalents(query_vcfspec, FASTA_HG19)"
   ]
  },
  {
   "cell_type": "code",
   "execution_count": 82,
   "metadata": {},
   "outputs": [],
   "source": [
    "relevant_vr = customfile.fetch_relevant_vr(query_vcfspec, dbsnp_vcf, fasta=FASTA_HG19,\n",
    "                                           search_equivs=False, matchmode='any')"
   ]
  },
  {
   "cell_type": "code",
   "execution_count": 83,
   "metadata": {},
   "outputs": [
    {
     "name": "stdout",
     "output_type": "stream",
     "text": [
      "NC_000001.10\t10641\trs1477959359\tCGGCGCA\tC,CGGCGCAGGCGCA\t.\t.\tRS=1477959359;dbSNPBuildID=151;SSR=0;PSEUDOGENEINFO=DDX11L1:100287102;VC=INDEL;R5;GNO;FREQ=TOPMED:1,.,3.778e-06|dbGaP_PopFreq:1,0,0\n",
      "\n"
     ]
    }
   ],
   "source": [
    "print(relevant_vr)"
   ]
  },
  {
   "cell_type": "code",
   "execution_count": null,
   "metadata": {},
   "outputs": [],
   "source": []
  },
  {
   "cell_type": "code",
   "execution_count": null,
   "metadata": {},
   "outputs": [],
   "source": []
  },
  {
   "cell_type": "code",
   "execution_count": 102,
   "metadata": {},
   "outputs": [],
   "source": [
    "gen = (x for x in range(5))"
   ]
  },
  {
   "cell_type": "code",
   "execution_count": 104,
   "metadata": {},
   "outputs": [
    {
     "name": "stdout",
     "output_type": "stream",
     "text": [
      "0 0\n",
      "1 1\n",
      "2 2\n",
      "3 3\n",
      "4 4\n"
     ]
    }
   ],
   "source": [
    "for idx, x in enumerate(gen):\n",
    "    print(idx, x)"
   ]
  }
 ],
 "metadata": {
  "kernelspec": {
   "display_name": "genome_v5",
   "language": "python",
   "name": "genome_v5"
  },
  "language_info": {
   "codemirror_mode": {
    "name": "ipython",
    "version": 3
   },
   "file_extension": ".py",
   "mimetype": "text/x-python",
   "name": "python",
   "nbconvert_exporter": "python",
   "pygments_lexer": "ipython3",
   "version": "3.9.12"
  }
 },
 "nbformat": 4,
 "nbformat_minor": 5
}
