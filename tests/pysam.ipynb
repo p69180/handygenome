{
 "cells": [
  {
   "cell_type": "code",
   "execution_count": 14,
   "metadata": {},
   "outputs": [
    {
     "name": "stdout",
     "output_type": "stream",
     "text": [
      "The autoreload extension is already loaded. To reload it, use:\n",
      "  %reload_ext autoreload\n"
     ]
    }
   ],
   "source": [
    "%load_ext autoreload\n",
    "%autoreload 2\n",
    "\n",
    "import pysam\n",
    "\n",
    "import re\n",
    "import os\n",
    "import sys\n",
    "sys.path.append('/home/users/pjh/scripts/python_genome_packages/')\n",
    "from handygenome import common\n",
    "from handygenome.common import ChromDict\n",
    "\n",
    "FASTA_PATH = \"/home/users/data/01_reference/human_g1k_v37/human_g1k_v37.fasta\"\n",
    "FASTA_PATH_38 = \"/home/users/data/01_reference/human_g1k_v38/Homo_sapiens_assembly38.fasta\"\n",
    "\n",
    "VCF_PATH = \"/home/users/pjh/scripts/python_genome_packages/tests/vep_split.vcf.gz\"\n",
    "\n",
    "chromdict = ChromDict(fasta_path = FASTA_PATH)\n",
    "chromdict_38 = ChromDict(fasta_path = FASTA_PATH_38)\n",
    "fasta = pysam.FastaFile(FASTA_PATH)\n",
    "fasta_38 = pysam.FastaFile(FASTA_PATH_38)"
   ]
  },
  {
   "cell_type": "code",
   "execution_count": null,
   "metadata": {},
   "outputs": [],
   "source": []
  },
  {
   "cell_type": "code",
   "execution_count": null,
   "metadata": {},
   "outputs": [],
   "source": []
  },
  {
   "cell_type": "code",
   "execution_count": null,
   "metadata": {},
   "outputs": [],
   "source": []
  },
  {
   "cell_type": "code",
   "execution_count": null,
   "metadata": {},
   "outputs": [],
   "source": []
  },
  {
   "cell_type": "code",
   "execution_count": 15,
   "metadata": {},
   "outputs": [],
   "source": [
    "#vcf_path = '/home/users/pjh/References/dbSNP38/modified_files/dbSNP_b155_GRCh38.p13.vcf.gz'\n",
    "vcf_path = '/home/users/pjh/scripts/python_genome_packages/tests/input.vcf.gz'\n",
    "# vcf_path2 = '/home/users/pjh/scripts/python_genome_packages/tests/vep_split.vcf.gz'"
   ]
  },
  {
   "cell_type": "code",
   "execution_count": 17,
   "metadata": {},
   "outputs": [
    {
     "name": "stderr",
     "output_type": "stream",
     "text": [
      "[E::idx_find_and_load] Could not retrieve index file for '/home/users/pjh/scripts/python_genome_packages/tests/input.vcf.gz'\n"
     ]
    }
   ],
   "source": [
    "vcf = pysam.VariantFile(vcf_path)\n",
    "# vcf2 = pysam.VariantFile(vcf_path2)"
   ]
  },
  {
   "cell_type": "code",
   "execution_count": 18,
   "metadata": {},
   "outputs": [],
   "source": [
    "vr = next(vcf.fetch())"
   ]
  },
  {
   "cell_type": "code",
   "execution_count": 31,
   "metadata": {},
   "outputs": [
    {
     "name": "stdout",
     "output_type": "stream",
     "text": [
      "['LY12_C.Mutect2', 'LY12_N.Mutect2', 'LY12_N.Strelka2', 'LY12_C.Strelka2', 'LY12_C', 'LY12_N']\n"
     ]
    }
   ],
   "source": [
    "print(vr.samples.keys())"
   ]
  },
  {
   "cell_type": "code",
   "execution_count": 26,
   "metadata": {},
   "outputs": [
    {
     "name": "stdout",
     "output_type": "stream",
     "text": [
      "1\t69496\t.\tG\tA\t.\tPASS\tAS_SB_TABLE=20,14|4,4;ECNT=1;GERMQ=16;DP=43;AS_FilterStatus=SITE;MBQ=37,37;MFRL=364,322;MMQ=25,42;MPOS=50;NALOD=1.18;NLOD=4.21;POPAF=2.69;TLOD=20.33;context=CCG>T;repeatRegion=0;satellite=0;dbSNP_FREQ=1000Genomes:0.0009984|ExAC:0.0007382|GnomAD_exomes:0.0007058|GoESP:0.002364;dbSNP_MAX_FREQ=0.002364;dbSNP_MAX_FREQ_POP=GoESP;ponSNU_tDP=874;ponSNU_tN=30;ponSNU_vDP=0;ponSNU_vN=0;ponSNU_vafPct=0;ponPCAWG_tDP=684;ponPCAWG_tN=32;ponPCAWG_vDP=1;ponPCAWG_vN=1;ponPCAWG_vafPct=0.15;ponBGI_tDP=468;ponBGI_tN=24;ponBGI_vDP=1;ponBGI_vN=1;ponBGI_vafPct=0.21;ponPCNSL_tDP=199;ponPCNSL_tN=11;ponPCNSL_vDP=1;ponPCNSL_vN=1;ponPCNSL_vafPct=0.5\tGT:AD:AF:DP:F1R2:F2R1:SB:ref_read:var_read:other_read:ref_read_lowqual:var_read_lowqual:other_read_lowqual:vaf:ref_minMQ:ref_medMQ:ref_meanMQ:ref_maxMQ:var_minMQ:var_medMQ:var_meanMQ:var_maxMQ:ref_minBQ:ref_medBQ:ref_meanBQ:ref_maxBQ:var_minBQ:var_medBQ:var_meanBQ:var_maxBQ:minLocaLt:medLocaLt:meanLocaLt:maxLocaLt:minLocaRt:medLocaRt:meanLocaRt:maxLocaRt:ref_minMM:ref_medMM:ref_meanMM:ref_maxMM:var_minMM:var_medMM:var_meanMM:var_maxMM:ref_ClipCnt:ref_ClipFrac:var_ClipCnt:var_ClipFrac:ref_InsCnt:ref_InsFrac:var_InsCnt:var_InsFrac:ref_DelCnt:ref_DelFrac:var_DelCnt:var_DelFrac:N_Loca:snv_withinRepeat:RdInfoAnnot\t0/1:20,8:0.285:28:7,4:13,4:12,8,4,4:.:.:.:.:.:.:.:.:.:.:.:.:.:.:.:.:.:.:.:.:.:.:.:.:.:.:.:.:.:.:.:.:.:.:.:.:.:.:.:.:.:.:.:.:.:.:.:.:.:.:.:.:.:.\t0/0:14,0:0.063:14:8,0:6,0:8,6,0,0:.:.:.:.:.:.:.:.:.:.:.:.:.:.:.:.:.:.:.:.:.:.:.:.:.:.:.:.:.:.:.:.:.:.:.:.:.:.:.:.:.:.:.:.:.:.:.:.:.:.:.:.:.:.\t./.:.:.:.:.:.:.:.:.:.:.:.:.:.:.:.:.:.:.:.:.:.:.:.:.:.:.:.:.:.:.:.:.:.:.:.:.:.:.:.:.:.:.:.:.:.:.:.:.:.:.:.:.:.:.:.:.:.:.:.:.\t./.:.:.:.:.:.:.:.:.:.:.:.:.:.:.:.:.:.:.:.:.:.:.:.:.:.:.:.:.:.:.:.:.:.:.:.:.:.:.:.:.:.:.:.:.:.:.:.:.:.:.:.:.:.:.:.:.:.:.:.:.\t./.:.:.:.:.:.:.:19:7:0:2:1:0:0.269231:25:25:34.6842:55:25:40:39.8571:60:37:37:37:37:37:37:37:37:60:92:100.714:144:8:60:51.2857:92:0:1:0.842105:1:0:1:2.57143:13:0:0:0:0:0:0:0:0:0:0:0:0:7:0:2\t./.:.:.:.:.:.:.:13:0:0:0:0:0:0:25:25:36:55:.:.:.:.:37:37:37:37:.:.:.:.:.:.:.:.:.:.:.:.:0:1:1.07692:2:.:.:.:.:0:0:0:.:0:0:0:.:0:0:0:.:0:0:2\n",
      "\n"
     ]
    }
   ],
   "source": [
    "print(vr)"
   ]
  },
  {
   "cell_type": "code",
   "execution_count": 45,
   "metadata": {},
   "outputs": [],
   "source": [
    "vr.samples.values()[-1].allele_indices = [1, 1, 0]\n",
    "vr.samples.values()[-1].phased = False"
   ]
  },
  {
   "cell_type": "code",
   "execution_count": 46,
   "metadata": {},
   "outputs": [
    {
     "name": "stdout",
     "output_type": "stream",
     "text": [
      "1\t69496\t.\tG\tA\t.\tPASS\tAS_SB_TABLE=20,14|4,4;ECNT=1;GERMQ=16;DP=43;AS_FilterStatus=SITE;MBQ=37,37;MFRL=364,322;MMQ=25,42;MPOS=50;NALOD=1.18;NLOD=4.21;POPAF=2.69;TLOD=20.33;context=CCG>T;repeatRegion=0;satellite=0;dbSNP_FREQ=1000Genomes:0.0009984|ExAC:0.0007382|GnomAD_exomes:0.0007058|GoESP:0.002364;dbSNP_MAX_FREQ=0.002364;dbSNP_MAX_FREQ_POP=GoESP;ponSNU_tDP=874;ponSNU_tN=30;ponSNU_vDP=0;ponSNU_vN=0;ponSNU_vafPct=0;ponPCAWG_tDP=684;ponPCAWG_tN=32;ponPCAWG_vDP=1;ponPCAWG_vN=1;ponPCAWG_vafPct=0.15;ponBGI_tDP=468;ponBGI_tN=24;ponBGI_vDP=1;ponBGI_vN=1;ponBGI_vafPct=0.21;ponPCNSL_tDP=199;ponPCNSL_tN=11;ponPCNSL_vDP=1;ponPCNSL_vN=1;ponPCNSL_vafPct=0.5\tGT:AD:AF:DP:F1R2:F2R1:SB:ref_read:var_read:other_read:ref_read_lowqual:var_read_lowqual:other_read_lowqual:vaf:ref_minMQ:ref_medMQ:ref_meanMQ:ref_maxMQ:var_minMQ:var_medMQ:var_meanMQ:var_maxMQ:ref_minBQ:ref_medBQ:ref_meanBQ:ref_maxBQ:var_minBQ:var_medBQ:var_meanBQ:var_maxBQ:minLocaLt:medLocaLt:meanLocaLt:maxLocaLt:minLocaRt:medLocaRt:meanLocaRt:maxLocaRt:ref_minMM:ref_medMM:ref_meanMM:ref_maxMM:var_minMM:var_medMM:var_meanMM:var_maxMM:ref_ClipCnt:ref_ClipFrac:var_ClipCnt:var_ClipFrac:ref_InsCnt:ref_InsFrac:var_InsCnt:var_InsFrac:ref_DelCnt:ref_DelFrac:var_DelCnt:var_DelFrac:N_Loca:snv_withinRepeat:RdInfoAnnot\t0/1:20,8:0.285:28:7,4:13,4:12,8,4,4:.:.:.:.:.:.:.:.:.:.:.:.:.:.:.:.:.:.:.:.:.:.:.:.:.:.:.:.:.:.:.:.:.:.:.:.:.:.:.:.:.:.:.:.:.:.:.:.:.:.:.:.:.:.\t0/0:14,0:0.063:14:8,0:6,0:8,6,0,0:.:.:.:.:.:.:.:.:.:.:.:.:.:.:.:.:.:.:.:.:.:.:.:.:.:.:.:.:.:.:.:.:.:.:.:.:.:.:.:.:.:.:.:.:.:.:.:.:.:.:.:.:.:.\t./.:.:.:.:.:.:.:.:.:.:.:.:.:.:.:.:.:.:.:.:.:.:.:.:.:.:.:.:.:.:.:.:.:.:.:.:.:.:.:.:.:.:.:.:.:.:.:.:.:.:.:.:.:.:.:.:.:.:.:.:.\t./.:.:.:.:.:.:.:.:.:.:.:.:.:.:.:.:.:.:.:.:.:.:.:.:.:.:.:.:.:.:.:.:.:.:.:.:.:.:.:.:.:.:.:.:.:.:.:.:.:.:.:.:.:.:.:.:.:.:.:.:.\t./.:.:.:.:.:.:.:19:7:0:2:1:0:0.269231:25:25:34.6842:55:25:40:39.8571:60:37:37:37:37:37:37:37:37:60:92:100.714:144:8:60:51.2857:92:0:1:0.842105:1:0:1:2.57143:13:0:0:0:0:0:0:0:0:0:0:0:0:7:0:2\t1/1/0:.:.:.:.:.:.:13:0:0:0:0:0:0:25:25:36:55:.:.:.:.:37:37:37:37:.:.:.:.:.:.:.:.:.:.:.:.:0:1:1.07692:2:.:.:.:.:0:0:0:.:0:0:0:.:0:0:0:.:0:0:2\n",
      "\n"
     ]
    }
   ],
   "source": [
    "print(vr)"
   ]
  },
  {
   "cell_type": "code",
   "execution_count": null,
   "metadata": {},
   "outputs": [],
   "source": []
  },
  {
   "cell_type": "code",
   "execution_count": null,
   "metadata": {},
   "outputs": [],
   "source": []
  },
  {
   "cell_type": "code",
   "execution_count": 6,
   "metadata": {},
   "outputs": [
    {
     "name": "stdout",
     "output_type": "stream",
     "text": [
      "LY12_C.Mutect2\n"
     ]
    }
   ],
   "source": [
    "print(vcf.header.samples[0])"
   ]
  },
  {
   "cell_type": "code",
   "execution_count": null,
   "metadata": {},
   "outputs": [],
   "source": []
  },
  {
   "cell_type": "code",
   "execution_count": 27,
   "metadata": {},
   "outputs": [
    {
     "name": "stderr",
     "output_type": "stream",
     "text": [
      "[W::bcf_update_info] INFO/END=999999 is smaller than POS at 1:1000000\n"
     ]
    }
   ],
   "source": [
    "vr = vcf.header.new_record()\n",
    "vr.contig = '1'\n",
    "vr.pos = 1000000\n",
    "vr.ref = 'C'"
   ]
  },
  {
   "cell_type": "code",
   "execution_count": 28,
   "metadata": {},
   "outputs": [
    {
     "name": "stdout",
     "output_type": "stream",
     "text": [
      "1\t1000000\t.\tC\t<NON_REF>\t.\t.\tEND=1000000\t.\t.\t.\t.\t.\t.\t.\n",
      "\n"
     ]
    }
   ],
   "source": [
    "print(vr)"
   ]
  },
  {
   "cell_type": "code",
   "execution_count": null,
   "metadata": {},
   "outputs": [],
   "source": []
  },
  {
   "cell_type": "code",
   "execution_count": null,
   "metadata": {},
   "outputs": [],
   "source": []
  },
  {
   "cell_type": "code",
   "execution_count": 4,
   "metadata": {},
   "outputs": [],
   "source": [
    "from handygenome.readplus import readhandler"
   ]
  },
  {
   "cell_type": "code",
   "execution_count": 2,
   "metadata": {},
   "outputs": [],
   "source": [
    "bam = pysam.AlignmentFile('/home/users/pjh/tmp/testbam.bam')\n",
    "bam2 = pysam.AlignmentFile('/home/users/pjh/tmp/testbam_withMD.bam')"
   ]
  },
  {
   "cell_type": "code",
   "execution_count": 3,
   "metadata": {},
   "outputs": [],
   "source": [
    "read = next(bam.fetch())"
   ]
  },
  {
   "cell_type": "code",
   "execution_count": 4,
   "metadata": {},
   "outputs": [
    {
     "name": "stdout",
     "output_type": "stream",
     "text": [
      "ST-E00130:582:HC7KJALXX:6:2108:26524:54612\t81\t1\t9998\t0\t95S56M\t2\t182140535\t0\tCCTCACCCTAACCCTACCCCTAACCCTAACCCTAACCAGCACACGACCGCATACGATATCGAGTAACGTGACCCGAGTCCTAACGTGTGCTCTTACGATAACCCTAACCCTAACCCTAACCCTAACCCTAACCCTAACCCTAACCCTAACC\t<00'7<<000B70000'00007070'0<7'0'7000'0''<'7''70''707B0'07<70'00070''<<<0'''B70'000<''0'7<<0<<00770B70<<<B<<<<<B<<<<<B<<<<<B<<<<<B<<<<<B<<<<<B<<<<BBB<<B\tSA:Z:12,95440,+,114S37M,0,1;\tMC:Z:52M99S\tNM:i:0\tMQ:i:0\tAS:i:56\tXS:i:53\tRG:Z:JKL-LU-14-blood-wgs-ILLUMINA\n"
     ]
    }
   ],
   "source": [
    "print(read.to_string())"
   ]
  },
  {
   "cell_type": "code",
   "execution_count": null,
   "metadata": {},
   "outputs": [],
   "source": []
  },
  {
   "cell_type": "code",
   "execution_count": 9,
   "metadata": {},
   "outputs": [],
   "source": [
    "read.set_tag('ai', '1')"
   ]
  },
  {
   "cell_type": "code",
   "execution_count": 10,
   "metadata": {},
   "outputs": [
    {
     "name": "stdout",
     "output_type": "stream",
     "text": [
      "ST-E00130:582:HC7KJALXX:6:2108:26524:54612\t81\t1\t9998\t0\t95S56M\t2\t182140535\t0\tCCTCACCCTAACCCTACCCCTAACCCTAACCCTAACCAGCACACGACCGCATACGATATCGAGTAACGTGACCCGAGTCCTAACGTGTGCTCTTACGATAACCCTAACCCTAACCCTAACCCTAACCCTAACCCTAACCCTAACCCTAACC\t<00'7<<000B70000'00007070'0<7'0'7000'0''<'7''70''707B0'07<70'00070''<<<0'''B70'000<''0'7<<0<<00770B70<<<B<<<<<B<<<<<B<<<<<B<<<<<B<<<<<B<<<<<B<<<<BBB<<B\tSA:Z:12,95440,+,114S37M,0,1;\tMC:Z:52M99S\tNM:i:0\tMQ:i:0\tAS:i:56\tXS:i:53\tRG:Z:JKL-LU-14-blood-wgs-ILLUMINA\tAI:Z:1\tai:Z:1\n"
     ]
    }
   ],
   "source": [
    "print(read.to_string())"
   ]
  },
  {
   "cell_type": "code",
   "execution_count": 11,
   "metadata": {},
   "outputs": [
    {
     "name": "stdout",
     "output_type": "stream",
     "text": [
      "@HD\tVN:1.5\tGO:none\tSO:coordinate\n",
      "@SQ\tSN:1\tLN:249250621\tM5:1b22b98cdeb4a9304cb5d48026a85128\tUR:/home/users/data/01_reference/human_g1k_v37/human_g1k_v37.fasta\n",
      "@SQ\tSN:2\tLN:243199373\tM5:a0d9851da00400dec1098a9255ac712e\tUR:/home/users/data/01_reference/human_g1k_v37/human_g1k_v37.fasta\n",
      "@SQ\tSN:3\tLN:198022430\tM5:fdfd811849cc2fadebc929bb925902e5\tUR:/home/users/data/01_reference/human_g1k_v37/human_g1k_v37.fasta\n",
      "@SQ\tSN:4\tLN:191154276\tM5:23dccd106897542ad87d2765d28a19a1\tUR:/home/users/data/01_reference/human_g1k_v37/human_g1k_v37.fasta\n",
      "@SQ\tSN:5\tLN:180915260\tM5:0740173db9ffd264d728f32784845cd7\tUR:/home/users/data/01_reference/human_g1k_v37/human_g1k_v37.fasta\n",
      "@SQ\tSN:6\tLN:171115067\tM5:1d3a93a248d92a729ee764823acbbc6b\tUR:/home/users/data/01_reference/human_g1k_v37/human_g1k_v37.fasta\n",
      "@SQ\tSN:7\tLN:159138663\tM5:618366e953d6aaad97dbe4777c29375e\tUR:/home/users/data/01_reference/human_g1k_v37/human_g1k_v37.fasta\n",
      "@SQ\tSN:8\tLN:146364022\tM5:96f514a9929e410c6651697bded59aec\tUR:/home/users/data/01_reference/human_g1k_v37/human_g1k_v37.fasta\n",
      "@SQ\tSN:9\tLN:141213431\tM5:3e273117f15e0a400f01055d9f393768\tUR:/home/users/data/01_reference/human_g1k_v37/human_g1k_v37.fasta\n",
      "@SQ\tSN:10\tLN:135534747\tM5:988c28e000e84c26d552359af1ea2e1d\tUR:/home/users/data/01_reference/human_g1k_v37/human_g1k_v37.fasta\n",
      "@SQ\tSN:11\tLN:135006516\tM5:98c59049a2df285c76ffb1c6db8f8b96\tUR:/home/users/data/01_reference/human_g1k_v37/human_g1k_v37.fasta\n",
      "@SQ\tSN:12\tLN:133851895\tM5:51851ac0e1a115847ad36449b0015864\tUR:/home/users/data/01_reference/human_g1k_v37/human_g1k_v37.fasta\n",
      "@SQ\tSN:13\tLN:115169878\tM5:283f8d7892baa81b510a015719ca7b0b\tUR:/home/users/data/01_reference/human_g1k_v37/human_g1k_v37.fasta\n",
      "@SQ\tSN:14\tLN:107349540\tM5:98f3cae32b2a2e9524bc19813927542e\tUR:/home/users/data/01_reference/human_g1k_v37/human_g1k_v37.fasta\n",
      "@SQ\tSN:15\tLN:102531392\tM5:e5645a794a8238215b2cd77acb95a078\tUR:/home/users/data/01_reference/human_g1k_v37/human_g1k_v37.fasta\n",
      "@SQ\tSN:16\tLN:90354753\tM5:fc9b1a7b42b97a864f56b348b06095e6\tUR:/home/users/data/01_reference/human_g1k_v37/human_g1k_v37.fasta\n",
      "@SQ\tSN:17\tLN:81195210\tM5:351f64d4f4f9ddd45b35336ad97aa6de\tUR:/home/users/data/01_reference/human_g1k_v37/human_g1k_v37.fasta\n",
      "@SQ\tSN:18\tLN:78077248\tM5:b15d4b2d29dde9d3e4f93d1d0f2cbc9c\tUR:/home/users/data/01_reference/human_g1k_v37/human_g1k_v37.fasta\n",
      "@SQ\tSN:19\tLN:59128983\tM5:1aacd71f30db8e561810913e0b72636d\tUR:/home/users/data/01_reference/human_g1k_v37/human_g1k_v37.fasta\n",
      "@SQ\tSN:20\tLN:63025520\tM5:0dec9660ec1efaaf33281c0d5ea2560f\tUR:/home/users/data/01_reference/human_g1k_v37/human_g1k_v37.fasta\n",
      "@SQ\tSN:21\tLN:48129895\tM5:2979a6085bfe28e3ad6f552f361ed74d\tUR:/home/users/data/01_reference/human_g1k_v37/human_g1k_v37.fasta\n",
      "@SQ\tSN:22\tLN:51304566\tM5:a718acaa6135fdca8357d5bfe94211dd\tUR:/home/users/data/01_reference/human_g1k_v37/human_g1k_v37.fasta\n",
      "@SQ\tSN:X\tLN:155270560\tM5:7e0e2e580297b7764e31dbc80c2540dd\tUR:/home/users/data/01_reference/human_g1k_v37/human_g1k_v37.fasta\n",
      "@SQ\tSN:Y\tLN:59373566\tM5:1fa3474750af0948bdf97d5a0ee52e51\tUR:/home/users/data/01_reference/human_g1k_v37/human_g1k_v37.fasta\n",
      "@SQ\tSN:MT\tLN:16569\tM5:c68f52674c9fb33aef52dcf399755519\tUR:/home/users/data/01_reference/human_g1k_v37/human_g1k_v37.fasta\n",
      "@SQ\tSN:GL000207.1\tLN:4262\tM5:f3814841f1939d3ca19072d9e89f3fd7\tUR:/home/users/data/01_reference/human_g1k_v37/human_g1k_v37.fasta\n",
      "@SQ\tSN:GL000226.1\tLN:15008\tM5:1c1b2cd1fccbc0a99b6a447fa24d1504\tUR:/home/users/data/01_reference/human_g1k_v37/human_g1k_v37.fasta\n",
      "@SQ\tSN:GL000229.1\tLN:19913\tM5:d0f40ec87de311d8e715b52e4c7062e1\tUR:/home/users/data/01_reference/human_g1k_v37/human_g1k_v37.fasta\n",
      "@SQ\tSN:GL000231.1\tLN:27386\tM5:ba8882ce3a1efa2080e5d29b956568a4\tUR:/home/users/data/01_reference/human_g1k_v37/human_g1k_v37.fasta\n",
      "@SQ\tSN:GL000210.1\tLN:27682\tM5:851106a74238044126131ce2a8e5847c\tUR:/home/users/data/01_reference/human_g1k_v37/human_g1k_v37.fasta\n",
      "@SQ\tSN:GL000239.1\tLN:33824\tM5:99795f15702caec4fa1c4e15f8a29c07\tUR:/home/users/data/01_reference/human_g1k_v37/human_g1k_v37.fasta\n",
      "@SQ\tSN:GL000235.1\tLN:34474\tM5:118a25ca210cfbcdfb6c2ebb249f9680\tUR:/home/users/data/01_reference/human_g1k_v37/human_g1k_v37.fasta\n",
      "@SQ\tSN:GL000201.1\tLN:36148\tM5:dfb7e7ec60ffdcb85cb359ea28454ee9\tUR:/home/users/data/01_reference/human_g1k_v37/human_g1k_v37.fasta\n",
      "@SQ\tSN:GL000247.1\tLN:36422\tM5:7de00226bb7df1c57276ca6baabafd15\tUR:/home/users/data/01_reference/human_g1k_v37/human_g1k_v37.fasta\n",
      "@SQ\tSN:GL000245.1\tLN:36651\tM5:89bc61960f37d94abf0df2d481ada0ec\tUR:/home/users/data/01_reference/human_g1k_v37/human_g1k_v37.fasta\n",
      "@SQ\tSN:GL000197.1\tLN:37175\tM5:6f5efdd36643a9b8c8ccad6f2f1edc7b\tUR:/home/users/data/01_reference/human_g1k_v37/human_g1k_v37.fasta\n",
      "@SQ\tSN:GL000203.1\tLN:37498\tM5:96358c325fe0e70bee73436e8bb14dbd\tUR:/home/users/data/01_reference/human_g1k_v37/human_g1k_v37.fasta\n",
      "@SQ\tSN:GL000246.1\tLN:38154\tM5:e4afcd31912af9d9c2546acf1cb23af2\tUR:/home/users/data/01_reference/human_g1k_v37/human_g1k_v37.fasta\n",
      "@SQ\tSN:GL000249.1\tLN:38502\tM5:1d78abec37c15fe29a275eb08d5af236\tUR:/home/users/data/01_reference/human_g1k_v37/human_g1k_v37.fasta\n",
      "@SQ\tSN:GL000196.1\tLN:38914\tM5:d92206d1bb4c3b4019c43c0875c06dc0\tUR:/home/users/data/01_reference/human_g1k_v37/human_g1k_v37.fasta\n",
      "@SQ\tSN:GL000248.1\tLN:39786\tM5:5a8e43bec9be36c7b49c84d585107776\tUR:/home/users/data/01_reference/human_g1k_v37/human_g1k_v37.fasta\n",
      "@SQ\tSN:GL000244.1\tLN:39929\tM5:0996b4475f353ca98bacb756ac479140\tUR:/home/users/data/01_reference/human_g1k_v37/human_g1k_v37.fasta\n",
      "@SQ\tSN:GL000238.1\tLN:39939\tM5:131b1efc3270cc838686b54e7c34b17b\tUR:/home/users/data/01_reference/human_g1k_v37/human_g1k_v37.fasta\n",
      "@SQ\tSN:GL000202.1\tLN:40103\tM5:06cbf126247d89664a4faebad130fe9c\tUR:/home/users/data/01_reference/human_g1k_v37/human_g1k_v37.fasta\n",
      "@SQ\tSN:GL000234.1\tLN:40531\tM5:93f998536b61a56fd0ff47322a911d4b\tUR:/home/users/data/01_reference/human_g1k_v37/human_g1k_v37.fasta\n",
      "@SQ\tSN:GL000232.1\tLN:40652\tM5:3e06b6741061ad93a8587531307057d8\tUR:/home/users/data/01_reference/human_g1k_v37/human_g1k_v37.fasta\n",
      "@SQ\tSN:GL000206.1\tLN:41001\tM5:43f69e423533e948bfae5ce1d45bd3f1\tUR:/home/users/data/01_reference/human_g1k_v37/human_g1k_v37.fasta\n",
      "@SQ\tSN:GL000240.1\tLN:41933\tM5:445a86173da9f237d7bcf41c6cb8cc62\tUR:/home/users/data/01_reference/human_g1k_v37/human_g1k_v37.fasta\n",
      "@SQ\tSN:GL000236.1\tLN:41934\tM5:fdcd739913efa1fdc64b6c0cd7016779\tUR:/home/users/data/01_reference/human_g1k_v37/human_g1k_v37.fasta\n",
      "@SQ\tSN:GL000241.1\tLN:42152\tM5:ef4258cdc5a45c206cea8fc3e1d858cf\tUR:/home/users/data/01_reference/human_g1k_v37/human_g1k_v37.fasta\n",
      "@SQ\tSN:GL000243.1\tLN:43341\tM5:cc34279a7e353136741c9fce79bc4396\tUR:/home/users/data/01_reference/human_g1k_v37/human_g1k_v37.fasta\n",
      "@SQ\tSN:GL000242.1\tLN:43523\tM5:2f8694fc47576bc81b5fe9e7de0ba49e\tUR:/home/users/data/01_reference/human_g1k_v37/human_g1k_v37.fasta\n",
      "@SQ\tSN:GL000230.1\tLN:43691\tM5:b4eb71ee878d3706246b7c1dbef69299\tUR:/home/users/data/01_reference/human_g1k_v37/human_g1k_v37.fasta\n",
      "@SQ\tSN:GL000237.1\tLN:45867\tM5:e0c82e7751df73f4f6d0ed30cdc853c0\tUR:/home/users/data/01_reference/human_g1k_v37/human_g1k_v37.fasta\n",
      "@SQ\tSN:GL000233.1\tLN:45941\tM5:7fed60298a8d62ff808b74b6ce820001\tUR:/home/users/data/01_reference/human_g1k_v37/human_g1k_v37.fasta\n",
      "@SQ\tSN:GL000204.1\tLN:81310\tM5:efc49c871536fa8d79cb0a06fa739722\tUR:/home/users/data/01_reference/human_g1k_v37/human_g1k_v37.fasta\n",
      "@SQ\tSN:GL000198.1\tLN:90085\tM5:868e7784040da90d900d2d1b667a1383\tUR:/home/users/data/01_reference/human_g1k_v37/human_g1k_v37.fasta\n",
      "@SQ\tSN:GL000208.1\tLN:92689\tM5:aa81be49bf3fe63a79bdc6a6f279abf6\tUR:/home/users/data/01_reference/human_g1k_v37/human_g1k_v37.fasta\n",
      "@SQ\tSN:GL000191.1\tLN:106433\tM5:d75b436f50a8214ee9c2a51d30b2c2cc\tUR:/home/users/data/01_reference/human_g1k_v37/human_g1k_v37.fasta\n",
      "@SQ\tSN:GL000227.1\tLN:128374\tM5:a4aead23f8053f2655e468bcc6ecdceb\tUR:/home/users/data/01_reference/human_g1k_v37/human_g1k_v37.fasta\n",
      "@SQ\tSN:GL000228.1\tLN:129120\tM5:c5a17c97e2c1a0b6a9cc5a6b064b714f\tUR:/home/users/data/01_reference/human_g1k_v37/human_g1k_v37.fasta\n",
      "@SQ\tSN:GL000214.1\tLN:137718\tM5:46c2032c37f2ed899eb41c0473319a69\tUR:/home/users/data/01_reference/human_g1k_v37/human_g1k_v37.fasta\n",
      "@SQ\tSN:GL000221.1\tLN:155397\tM5:3238fb74ea87ae857f9c7508d315babb\tUR:/home/users/data/01_reference/human_g1k_v37/human_g1k_v37.fasta\n",
      "@SQ\tSN:GL000209.1\tLN:159169\tM5:f40598e2a5a6b26e84a3775e0d1e2c81\tUR:/home/users/data/01_reference/human_g1k_v37/human_g1k_v37.fasta\n",
      "@SQ\tSN:GL000218.1\tLN:161147\tM5:1d708b54644c26c7e01c2dad5426d38c\tUR:/home/users/data/01_reference/human_g1k_v37/human_g1k_v37.fasta\n",
      "@SQ\tSN:GL000220.1\tLN:161802\tM5:fc35de963c57bf7648429e6454f1c9db\tUR:/home/users/data/01_reference/human_g1k_v37/human_g1k_v37.fasta\n",
      "@SQ\tSN:GL000213.1\tLN:164239\tM5:9d424fdcc98866650b58f004080a992a\tUR:/home/users/data/01_reference/human_g1k_v37/human_g1k_v37.fasta\n",
      "@SQ\tSN:GL000211.1\tLN:166566\tM5:7daaa45c66b288847b9b32b964e623d3\tUR:/home/users/data/01_reference/human_g1k_v37/human_g1k_v37.fasta\n",
      "@SQ\tSN:GL000199.1\tLN:169874\tM5:569af3b73522fab4b40995ae4944e78e\tUR:/home/users/data/01_reference/human_g1k_v37/human_g1k_v37.fasta\n",
      "@SQ\tSN:GL000217.1\tLN:172149\tM5:6d243e18dea1945fb7f2517615b8f52e\tUR:/home/users/data/01_reference/human_g1k_v37/human_g1k_v37.fasta\n",
      "@SQ\tSN:GL000216.1\tLN:172294\tM5:642a232d91c486ac339263820aef7fe0\tUR:/home/users/data/01_reference/human_g1k_v37/human_g1k_v37.fasta\n",
      "@SQ\tSN:GL000215.1\tLN:172545\tM5:5eb3b418480ae67a997957c909375a73\tUR:/home/users/data/01_reference/human_g1k_v37/human_g1k_v37.fasta\n",
      "@SQ\tSN:GL000205.1\tLN:174588\tM5:d22441398d99caf673e9afb9a1908ec5\tUR:/home/users/data/01_reference/human_g1k_v37/human_g1k_v37.fasta\n",
      "@SQ\tSN:GL000219.1\tLN:179198\tM5:f977edd13bac459cb2ed4a5457dba1b3\tUR:/home/users/data/01_reference/human_g1k_v37/human_g1k_v37.fasta\n",
      "@SQ\tSN:GL000224.1\tLN:179693\tM5:d5b2fc04f6b41b212a4198a07f450e20\tUR:/home/users/data/01_reference/human_g1k_v37/human_g1k_v37.fasta\n",
      "@SQ\tSN:GL000223.1\tLN:180455\tM5:399dfa03bf32022ab52a846f7ca35b30\tUR:/home/users/data/01_reference/human_g1k_v37/human_g1k_v37.fasta\n",
      "@SQ\tSN:GL000195.1\tLN:182896\tM5:5d9ec007868d517e73543b005ba48535\tUR:/home/users/data/01_reference/human_g1k_v37/human_g1k_v37.fasta\n",
      "@SQ\tSN:GL000212.1\tLN:186858\tM5:563531689f3dbd691331fd6c5730a88b\tUR:/home/users/data/01_reference/human_g1k_v37/human_g1k_v37.fasta\n",
      "@SQ\tSN:GL000222.1\tLN:186861\tM5:6fe9abac455169f50470f5a6b01d0f59\tUR:/home/users/data/01_reference/human_g1k_v37/human_g1k_v37.fasta\n",
      "@SQ\tSN:GL000200.1\tLN:187035\tM5:75e4c8d17cd4addf3917d1703cacaf25\tUR:/home/users/data/01_reference/human_g1k_v37/human_g1k_v37.fasta\n",
      "@SQ\tSN:GL000193.1\tLN:189789\tM5:dbb6e8ece0b5de29da56601613007c2a\tUR:/home/users/data/01_reference/human_g1k_v37/human_g1k_v37.fasta\n",
      "@SQ\tSN:GL000194.1\tLN:191469\tM5:6ac8f815bf8e845bb3031b73f812c012\tUR:/home/users/data/01_reference/human_g1k_v37/human_g1k_v37.fasta\n",
      "@SQ\tSN:GL000225.1\tLN:211173\tM5:63945c3e6962f28ffd469719a747e73c\tUR:/home/users/data/01_reference/human_g1k_v37/human_g1k_v37.fasta\n",
      "@SQ\tSN:GL000192.1\tLN:547496\tM5:325ba9e808f669dfeee210fdd7b470ac\tUR:/home/users/data/01_reference/human_g1k_v37/human_g1k_v37.fasta\n",
      "@RG\tID:JKL-LU-14-blood-wgs-ILLUMINA\tLB:JKL-LU-14-blood-wgs-ILLUMINA\tSM:JKL-LU-14-blood-wgs-ILLUMINA\tPL:ILLUMINA\n",
      "@PG\tID:GATK IndelRealigner\tVN:3.5-0-g36282e4\tCL:knownAlleles=[(RodBinding name=knownAlleles source=/blues/ngs/db/reference/gatk_b37/Mills_and_1000G_gold_standard.indels.b37.vcf)] targetIntervals=mapping/gatk_b37/mem/JKL-LU-14-blood-wgs-ILLUMINA.fmarked.realign.intervals LODThresholdForCleaning=5.0 consensusDeterminationModel=USE_READS entropyThreshold=0.15 maxReadsInMemory=150000 maxIsizeForMovement=3000 maxPositionalMoveAllowed=200 maxConsensuses=30 maxReadsForConsensuses=120 maxReadsForRealignment=20000 noOriginalAlignmentTags=false nWayOut=null generate_nWayOut_md5s=false check_early=false noPGTag=false keepPGTags=false indelsFileForDebugging=null statisticsFileForDebugging=null SNPsFileForDebugging=null\n",
      "@PG\tID:SAMBLASTER\tVN:0.1.22\tCL:samblaster -i stdin -o stdout -M --addMateTags\n",
      "@PG\tID:bwa\tPN:bwa\tVN:0.7.12-r1039\tCL:/cluster/ngs/bwa-0.7.12/bwa mem -M -R @RG\\tID:JKL-LU-14-blood-wgs-ILLUMINA\\tLB:JKL-LU-14-blood-wgs-ILLUMINA\\tSM:JKL-LU-14-blood-wgs-ILLUMINA\\tPL:ILLUMINA -t 10 /blues/ngs/db/reference/gatk_b37/human_g1k_v37.fasta fastq/JKL-LU-14-blood-wgs-ILLUMINA_1.fastq.gz fastq/JKL-LU-14-blood-wgs-ILLUMINA_2.fastq.gz\n",
      "@PG\tID:GATK PrintReads\tVN:3.5-0-g36282e4\tCL:readGroup=null platform=null number=-1 sample_file=[] sample_name=[] simplify=false no_pg_tag=false\n",
      "@PG\tID:scramble\tPN:scramble\tPP:GATK IndelRealigner\tVN:1.14.14\tCL:/home/users/kjyi/src/bam2cram/iolib/io_lib-1.14.14/progs/.libs/lt-scramble -4 -t 1 -V 3.0 -e -B -m -D OQ,BI,BD -r /home/users/data/01_reference/human_g1k_v37/human_g1k_v37.fasta /home/users/team_projects/LungAdeno_WGS_sypark/02_BAM/SNUH_BAM/LU-14.normal.rmBDBI.bam /home/users/team_projects/LungAdeno_WGS_sypark/02_BAM/SNUH_BAM/LU-14.normal.rmBDBI.cram \n",
      "@PG\tID:scramble.1\tPN:scramble\tPP:SAMBLASTER\tVN:1.14.14\tCL:/home/users/kjyi/src/bam2cram/iolib/io_lib-1.14.14/progs/.libs/lt-scramble -4 -t 1 -V 3.0 -e -B -m -D OQ,BI,BD -r /home/users/data/01_reference/human_g1k_v37/human_g1k_v37.fasta /home/users/team_projects/LungAdeno_WGS_sypark/02_BAM/SNUH_BAM/LU-14.normal.rmBDBI.bam /home/users/team_projects/LungAdeno_WGS_sypark/02_BAM/SNUH_BAM/LU-14.normal.rmBDBI.cram \n",
      "@PG\tID:scramble.2\tPN:scramble\tPP:bwa\tVN:1.14.14\tCL:/home/users/kjyi/src/bam2cram/iolib/io_lib-1.14.14/progs/.libs/lt-scramble -4 -t 1 -V 3.0 -e -B -m -D OQ,BI,BD -r /home/users/data/01_reference/human_g1k_v37/human_g1k_v37.fasta /home/users/team_projects/LungAdeno_WGS_sypark/02_BAM/SNUH_BAM/LU-14.normal.rmBDBI.bam /home/users/team_projects/LungAdeno_WGS_sypark/02_BAM/SNUH_BAM/LU-14.normal.rmBDBI.cram \n",
      "@PG\tID:scramble.3\tPN:scramble\tPP:GATK PrintReads\tVN:1.14.14\tCL:/home/users/kjyi/src/bam2cram/iolib/io_lib-1.14.14/progs/.libs/lt-scramble -4 -t 1 -V 3.0 -e -B -m -D OQ,BI,BD -r /home/users/data/01_reference/human_g1k_v37/human_g1k_v37.fasta /home/users/team_projects/LungAdeno_WGS_sypark/02_BAM/SNUH_BAM/LU-14.normal.rmBDBI.bam /home/users/team_projects/LungAdeno_WGS_sypark/02_BAM/SNUH_BAM/LU-14.normal.rmBDBI.cram \n",
      "@PG\tID:samtools\tPN:samtools\tPP:scramble\tVN:1.10\tCL:/home/users/pjh/conda_bin/samtools view -O BAM -o /home/users/team_projects/Lung_Cancer_Panel_data/03_Data_from_YTKim/02_BAM/14/LU-14.normal.bam /home/users/team_projects/Lung_Cancer_Panel_data/03_Data_from_YTKim/02_BAM/14/LU-14.normal.cram\n",
      "@PG\tID:samtools.1\tPN:samtools\tPP:scramble.1\tVN:1.10\tCL:/home/users/pjh/conda_bin/samtools view -O BAM -o /home/users/team_projects/Lung_Cancer_Panel_data/03_Data_from_YTKim/02_BAM/14/LU-14.normal.bam /home/users/team_projects/Lung_Cancer_Panel_data/03_Data_from_YTKim/02_BAM/14/LU-14.normal.cram\n",
      "@PG\tID:samtools.2\tPN:samtools\tPP:scramble.2\tVN:1.10\tCL:/home/users/pjh/conda_bin/samtools view -O BAM -o /home/users/team_projects/Lung_Cancer_Panel_data/03_Data_from_YTKim/02_BAM/14/LU-14.normal.bam /home/users/team_projects/Lung_Cancer_Panel_data/03_Data_from_YTKim/02_BAM/14/LU-14.normal.cram\n",
      "@PG\tID:samtools.3\tPN:samtools\tPP:scramble.3\tVN:1.10\tCL:/home/users/pjh/conda_bin/samtools view -O BAM -o /home/users/team_projects/Lung_Cancer_Panel_data/03_Data_from_YTKim/02_BAM/14/LU-14.normal.bam /home/users/team_projects/Lung_Cancer_Panel_data/03_Data_from_YTKim/02_BAM/14/LU-14.normal.cram\n",
      "@PG\tID:samtools.4\tPN:samtools\tPP:samtools\tVN:1.10\tCL:samtools view -h LU-14.normal.bam\n",
      "@PG\tID:samtools.5\tPN:samtools\tPP:samtools.1\tVN:1.10\tCL:samtools view -h LU-14.normal.bam\n",
      "@PG\tID:samtools.6\tPN:samtools\tPP:samtools.2\tVN:1.10\tCL:samtools view -h LU-14.normal.bam\n",
      "@PG\tID:samtools.7\tPN:samtools\tPP:samtools.3\tVN:1.10\tCL:samtools view -h LU-14.normal.bam\n",
      "@PG\tID:samtools.8\tPN:samtools\tPP:samtools.4\tVN:1.10\tCL:samtools view -O BAM -o /home/users/pjh/tmp/testbam.bam\n",
      "@PG\tID:samtools.9\tPN:samtools\tPP:samtools.5\tVN:1.10\tCL:samtools view -O BAM -o /home/users/pjh/tmp/testbam.bam\n",
      "@PG\tID:samtools.10\tPN:samtools\tPP:samtools.6\tVN:1.10\tCL:samtools view -O BAM -o /home/users/pjh/tmp/testbam.bam\n",
      "@PG\tID:samtools.11\tPN:samtools\tPP:samtools.7\tVN:1.10\tCL:samtools view -O BAM -o /home/users/pjh/tmp/testbam.bam\n",
      "@PG\tID:samtools.12\tPN:samtools\tPP:samtools.8\tVN:1.10\tCL:samtools view -h testbam.bam\n",
      "@PG\tID:samtools.13\tPN:samtools\tPP:samtools.9\tVN:1.10\tCL:samtools view -h testbam.bam\n",
      "@PG\tID:samtools.14\tPN:samtools\tPP:samtools.10\tVN:1.10\tCL:samtools view -h testbam.bam\n",
      "@PG\tID:samtools.15\tPN:samtools\tPP:samtools.11\tVN:1.10\tCL:samtools view -h testbam.bam\n",
      "@PG\tID:samtools.16\tPN:samtools\tPP:samtools.12\tVN:1.10\tCL:samtools view -h -b -o testbam.bam testbam.sam\n",
      "@PG\tID:samtools.17\tPN:samtools\tPP:samtools.13\tVN:1.10\tCL:samtools view -h -b -o testbam.bam testbam.sam\n",
      "@PG\tID:samtools.18\tPN:samtools\tPP:samtools.14\tVN:1.10\tCL:samtools view -h -b -o testbam.bam testbam.sam\n",
      "@PG\tID:samtools.19\tPN:samtools\tPP:samtools.15\tVN:1.10\tCL:samtools view -h -b -o testbam.bam testbam.sam\n",
      "\n"
     ]
    }
   ],
   "source": [
    "print(read.header)"
   ]
  }
 ],
 "metadata": {
  "kernelspec": {
   "display_name": "genome_v5",
   "language": "python",
   "name": "genome_v5"
  },
  "language_info": {
   "codemirror_mode": {
    "name": "ipython",
    "version": 3
   },
   "file_extension": ".py",
   "mimetype": "text/x-python",
   "name": "python",
   "nbconvert_exporter": "python",
   "pygments_lexer": "ipython3",
   "version": "3.9.12"
  }
 },
 "nbformat": 4,
 "nbformat_minor": 5
}
