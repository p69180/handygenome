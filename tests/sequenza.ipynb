{
 "cells": [
  {
   "cell_type": "code",
   "execution_count": 3,
   "metadata": {},
   "outputs": [
    {
     "name": "stdout",
     "output_type": "stream",
     "text": [
      "The autoreload extension is already loaded. To reload it, use:\n",
      "  %reload_ext autoreload\n"
     ]
    }
   ],
   "source": [
    "%load_ext autoreload\n",
    "%autoreload 2\n",
    "\n",
    "import os\n",
    "import re\n",
    "import shutil\n",
    "import random\n",
    "import pprint\n",
    "import itertools\n",
    "import functools\n",
    "import collections\n",
    "import subprocess\n",
    "import tempfile\n",
    "\n",
    "import Bio.Seq\n",
    "import Bio.SeqRecord\n",
    "import Bio.Align\n",
    "import Bio.AlignIO\n",
    "import Bio.Align.AlignInfo\n",
    "import pysam\n",
    "import pyranges as pr\n",
    "import numpy as np\n",
    "\n",
    "import sys\n",
    "sys.path.append('/home/users/pjh/scripts/python_genome_packages')"
   ]
  },
  {
   "cell_type": "code",
   "execution_count": 37,
   "metadata": {},
   "outputs": [],
   "source": [
    "from handygenome import common\n",
    "from handygenome.common import ChromDict, Vcfspec, Interval, IntervalList\n",
    "from handygenome.variantplus.breakends import Breakends\n",
    "from handygenome.variantplus.variantplus import VariantPlus, VariantPlusList\n",
    "from handygenome.variantplus.vcfplus import VcfPlus\n",
    "from handygenome import igvhandle"
   ]
  },
  {
   "cell_type": "code",
   "execution_count": 8,
   "metadata": {},
   "outputs": [],
   "source": [
    "FASTA_PATH_HG19 = \"/home/users/data/01_reference/human_g1k_v37/human_g1k_v37.fasta\"\n",
    "FASTA_PATH_HG38 = \"/home/users/data/01_reference/human_g1k_v38/Homo_sapiens_assembly38.fasta\"\n",
    "\n",
    "FASTA_HG19 = pysam.FastaFile(FASTA_PATH_HG19)\n",
    "FASTA_HG38 = pysam.FastaFile(FASTA_PATH_HG38)\n",
    "CHROMDICT_HG19 = ChromDict(fasta_path=FASTA_PATH_HG19)\n",
    "CHROMDICT_HG38 = ChromDict(fasta_path=FASTA_PATH_HG38)"
   ]
  },
  {
   "cell_type": "code",
   "execution_count": 9,
   "metadata": {},
   "outputs": [],
   "source": [
    "igv = igvhandle.IGVHandle(60387)"
   ]
  },
  {
   "cell_type": "code",
   "execution_count": 10,
   "metadata": {},
   "outputs": [],
   "source": [
    "import handygenome.cnv.sequenza"
   ]
  },
  {
   "cell_type": "code",
   "execution_count": null,
   "metadata": {},
   "outputs": [],
   "source": []
  },
  {
   "cell_type": "code",
   "execution_count": 6,
   "metadata": {},
   "outputs": [],
   "source": [
    "fasta_path = '/home/users/pjh/practice/pipeline_test/handygenome/sequenza/human_g1k_v37.fasta'"
   ]
  },
  {
   "cell_type": "code",
   "execution_count": 8,
   "metadata": {},
   "outputs": [],
   "source": [
    "handygenome.cnv.sequenza.make_gc_wiggle(fasta_path)"
   ]
  },
  {
   "cell_type": "code",
   "execution_count": null,
   "metadata": {},
   "outputs": [],
   "source": []
  },
  {
   "cell_type": "code",
   "execution_count": null,
   "metadata": {},
   "outputs": [],
   "source": []
  },
  {
   "cell_type": "code",
   "execution_count": 59,
   "metadata": {},
   "outputs": [],
   "source": [
    "intvlist = CHROMDICT_HG19.to_interval_list()"
   ]
  },
  {
   "cell_type": "code",
   "execution_count": 64,
   "metadata": {},
   "outputs": [],
   "source": [
    "intvlist.sort_intervals(CHROMDICT_HG19)"
   ]
  },
  {
   "cell_type": "code",
   "execution_count": 65,
   "metadata": {},
   "outputs": [
    {
     "data": {
      "text/plain": [
       "[<Interval> 1:1-249,250,621 (1-based),\n",
       " <Interval> 2:1-243,199,373 (1-based),\n",
       " <Interval> 3:1-198,022,430 (1-based),\n",
       " <Interval> 4:1-191,154,276 (1-based),\n",
       " <Interval> 5:1-180,915,260 (1-based),\n",
       " <Interval> 6:1-171,115,067 (1-based),\n",
       " <Interval> 7:1-159,138,663 (1-based),\n",
       " <Interval> 8:1-146,364,022 (1-based),\n",
       " <Interval> 9:1-141,213,431 (1-based),\n",
       " <Interval> 10:1-135,534,747 (1-based),\n",
       " <Interval> 11:1-135,006,516 (1-based),\n",
       " <Interval> 12:1-133,851,895 (1-based),\n",
       " <Interval> 13:1-115,169,878 (1-based),\n",
       " <Interval> 14:1-107,349,540 (1-based),\n",
       " <Interval> 15:1-102,531,392 (1-based),\n",
       " <Interval> 16:1-90,354,753 (1-based),\n",
       " <Interval> 17:1-81,195,210 (1-based),\n",
       " <Interval> 18:1-78,077,248 (1-based),\n",
       " <Interval> 19:1-59,128,983 (1-based),\n",
       " <Interval> 20:1-63,025,520 (1-based),\n",
       " <Interval> 21:1-48,129,895 (1-based),\n",
       " <Interval> 22:1-51,304,566 (1-based),\n",
       " <Interval> X:1-155,270,560 (1-based),\n",
       " <Interval> Y:1-59,373,566 (1-based),\n",
       " <Interval> MT:1-16,569 (1-based),\n",
       " <Interval> GL000207.1:1-4,262 (1-based),\n",
       " <Interval> GL000226.1:1-15,008 (1-based),\n",
       " <Interval> GL000229.1:1-19,913 (1-based),\n",
       " <Interval> GL000231.1:1-27,386 (1-based),\n",
       " <Interval> GL000210.1:1-27,682 (1-based),\n",
       " <Interval> GL000239.1:1-33,824 (1-based),\n",
       " <Interval> GL000235.1:1-34,474 (1-based),\n",
       " <Interval> GL000201.1:1-36,148 (1-based),\n",
       " <Interval> GL000247.1:1-36,422 (1-based),\n",
       " <Interval> GL000245.1:1-36,651 (1-based),\n",
       " <Interval> GL000197.1:1-37,175 (1-based),\n",
       " <Interval> GL000203.1:1-37,498 (1-based),\n",
       " <Interval> GL000246.1:1-38,154 (1-based),\n",
       " <Interval> GL000249.1:1-38,502 (1-based),\n",
       " <Interval> GL000196.1:1-38,914 (1-based),\n",
       " <Interval> GL000248.1:1-39,786 (1-based),\n",
       " <Interval> GL000244.1:1-39,929 (1-based),\n",
       " <Interval> GL000238.1:1-39,939 (1-based),\n",
       " <Interval> GL000202.1:1-40,103 (1-based),\n",
       " <Interval> GL000234.1:1-40,531 (1-based),\n",
       " <Interval> GL000232.1:1-40,652 (1-based),\n",
       " <Interval> GL000206.1:1-41,001 (1-based),\n",
       " <Interval> GL000240.1:1-41,933 (1-based),\n",
       " <Interval> GL000236.1:1-41,934 (1-based),\n",
       " <Interval> GL000241.1:1-42,152 (1-based),\n",
       " <Interval> GL000243.1:1-43,341 (1-based),\n",
       " <Interval> GL000242.1:1-43,523 (1-based),\n",
       " <Interval> GL000230.1:1-43,691 (1-based),\n",
       " <Interval> GL000237.1:1-45,867 (1-based),\n",
       " <Interval> GL000233.1:1-45,941 (1-based),\n",
       " <Interval> GL000204.1:1-81,310 (1-based),\n",
       " <Interval> GL000198.1:1-90,085 (1-based),\n",
       " <Interval> GL000208.1:1-92,689 (1-based),\n",
       " <Interval> GL000191.1:1-106,433 (1-based),\n",
       " <Interval> GL000227.1:1-128,374 (1-based),\n",
       " <Interval> GL000228.1:1-129,120 (1-based),\n",
       " <Interval> GL000214.1:1-137,718 (1-based),\n",
       " <Interval> GL000221.1:1-155,397 (1-based),\n",
       " <Interval> GL000209.1:1-159,169 (1-based),\n",
       " <Interval> GL000218.1:1-161,147 (1-based),\n",
       " <Interval> GL000220.1:1-161,802 (1-based),\n",
       " <Interval> GL000213.1:1-164,239 (1-based),\n",
       " <Interval> GL000211.1:1-166,566 (1-based),\n",
       " <Interval> GL000199.1:1-169,874 (1-based),\n",
       " <Interval> GL000217.1:1-172,149 (1-based),\n",
       " <Interval> GL000216.1:1-172,294 (1-based),\n",
       " <Interval> GL000215.1:1-172,545 (1-based),\n",
       " <Interval> GL000205.1:1-174,588 (1-based),\n",
       " <Interval> GL000219.1:1-179,198 (1-based),\n",
       " <Interval> GL000224.1:1-179,693 (1-based),\n",
       " <Interval> GL000223.1:1-180,455 (1-based),\n",
       " <Interval> GL000195.1:1-182,896 (1-based),\n",
       " <Interval> GL000212.1:1-186,858 (1-based),\n",
       " <Interval> GL000222.1:1-186,861 (1-based),\n",
       " <Interval> GL000200.1:1-187,035 (1-based),\n",
       " <Interval> GL000193.1:1-189,789 (1-based),\n",
       " <Interval> GL000194.1:1-191,469 (1-based),\n",
       " <Interval> GL000225.1:1-211,173 (1-based),\n",
       " <Interval> GL000192.1:1-547,496 (1-based)]"
      ]
     },
     "execution_count": 65,
     "metadata": {},
     "output_type": "execute_result"
    }
   ],
   "source": [
    "intvlist"
   ]
  },
  {
   "cell_type": "code",
   "execution_count": 35,
   "metadata": {},
   "outputs": [],
   "source": [
    "intvlist_gr = intvlist.to_gr()"
   ]
  },
  {
   "cell_type": "code",
   "execution_count": null,
   "metadata": {},
   "outputs": [],
   "source": []
  },
  {
   "cell_type": "code",
   "execution_count": 7,
   "metadata": {},
   "outputs": [],
   "source": [
    "intvlist.write_bed('/home/users/pjh/tmp/zzz.bed.gz')"
   ]
  },
  {
   "cell_type": "code",
   "execution_count": 67,
   "metadata": {},
   "outputs": [
    {
     "data": {
      "text/plain": [
       "\"'hihi'\""
      ]
     },
     "execution_count": 67,
     "metadata": {},
     "output_type": "execute_result"
    }
   ],
   "source": [
    "var = 'hihi'\n",
    "f'{repr(var)}'"
   ]
  },
  {
   "cell_type": "code",
   "execution_count": 72,
   "metadata": {},
   "outputs": [
    {
     "data": {
      "text/plain": [
       "'2'"
      ]
     },
     "execution_count": 72,
     "metadata": {},
     "output_type": "execute_result"
    }
   ],
   "source": [
    "var = 2\n",
    "repr(var)"
   ]
  },
  {
   "cell_type": "code",
   "execution_count": null,
   "metadata": {},
   "outputs": [],
   "source": []
  },
  {
   "cell_type": "code",
   "execution_count": 85,
   "metadata": {},
   "outputs": [],
   "source": [
    "split_intvlists = intvlist.get_split_interval_lists(num=10)"
   ]
  },
  {
   "cell_type": "code",
   "execution_count": 88,
   "metadata": {
    "collapsed": true,
    "jupyter": {
     "outputs_hidden": true
    }
   },
   "outputs": [
    {
     "data": {
      "text/plain": [
       "[([<Interval> 1:1-249,250,621 (1-based), <Interval> 2:1-60,929,853 (1-based)],\n",
       "  310180474),\n",
       " ([<Interval> 2:60,929,854-243,199,373 (1-based),\n",
       "   <Interval> 3:1-127,910,954 (1-based)],\n",
       "  310180474),\n",
       " ([<Interval> 3:127,910,955-198,022,430 (1-based),\n",
       "   <Interval> 4:1-191,154,276 (1-based),\n",
       "   <Interval> 5:1-48,914,722 (1-based)],\n",
       "  310180474),\n",
       " ([<Interval> 5:48,914,723-180,915,260 (1-based),\n",
       "   <Interval> 6:1-171,115,067 (1-based),\n",
       "   <Interval> 7:1-7,064,869 (1-based)],\n",
       "  310180474),\n",
       " ([<Interval> 7:7,064,870-159,138,663 (1-based),\n",
       "   <Interval> 8:1-146,364,022 (1-based),\n",
       "   <Interval> 9:1-11,742,658 (1-based)],\n",
       "  310180474),\n",
       " ([<Interval> 9:11,742,659-141,213,431 (1-based),\n",
       "   <Interval> 10:1-135,534,747 (1-based),\n",
       "   <Interval> 11:1-45,174,954 (1-based)],\n",
       "  310180474),\n",
       " ([<Interval> 11:45,174,955-135,006,516 (1-based),\n",
       "   <Interval> 12:1-133,851,895 (1-based),\n",
       "   <Interval> 13:1-86,497,017 (1-based)],\n",
       "  310180474),\n",
       " ([<Interval> 13:86,497,018-115,169,878 (1-based),\n",
       "   <Interval> 14:1-107,349,540 (1-based),\n",
       "   <Interval> 15:1-102,531,392 (1-based),\n",
       "   <Interval> 16:1-71,626,681 (1-based)],\n",
       "  310180474),\n",
       " ([<Interval> 16:71,626,682-90,354,753 (1-based),\n",
       "   <Interval> 17:1-81,195,210 (1-based),\n",
       "   <Interval> 18:1-78,077,248 (1-based),\n",
       "   <Interval> 19:1-59,128,983 (1-based),\n",
       "   <Interval> 20:1-63,025,520 (1-based),\n",
       "   <Interval> 21:1-10,025,441 (1-based)],\n",
       "  310180474),\n",
       " ([<Interval> 21:10,025,442-48,129,895 (1-based),\n",
       "   <Interval> 22:1-51,304,566 (1-based),\n",
       "   <Interval> X:1-155,270,560 (1-based),\n",
       "   <Interval> Y:1-59,373,566 (1-based),\n",
       "   <Interval> MT:1-16,569 (1-based),\n",
       "   <Interval> GL000207.1:1-4,262 (1-based),\n",
       "   <Interval> GL000226.1:1-15,008 (1-based),\n",
       "   <Interval> GL000229.1:1-19,913 (1-based),\n",
       "   <Interval> GL000231.1:1-27,386 (1-based),\n",
       "   <Interval> GL000210.1:1-27,682 (1-based),\n",
       "   <Interval> GL000239.1:1-33,824 (1-based),\n",
       "   <Interval> GL000235.1:1-34,474 (1-based),\n",
       "   <Interval> GL000201.1:1-36,148 (1-based),\n",
       "   <Interval> GL000247.1:1-36,422 (1-based),\n",
       "   <Interval> GL000245.1:1-36,651 (1-based),\n",
       "   <Interval> GL000197.1:1-37,175 (1-based),\n",
       "   <Interval> GL000203.1:1-37,498 (1-based),\n",
       "   <Interval> GL000246.1:1-38,154 (1-based),\n",
       "   <Interval> GL000249.1:1-38,502 (1-based),\n",
       "   <Interval> GL000196.1:1-38,914 (1-based),\n",
       "   <Interval> GL000248.1:1-39,786 (1-based),\n",
       "   <Interval> GL000244.1:1-39,929 (1-based),\n",
       "   <Interval> GL000238.1:1-39,939 (1-based),\n",
       "   <Interval> GL000202.1:1-40,103 (1-based),\n",
       "   <Interval> GL000234.1:1-40,531 (1-based),\n",
       "   <Interval> GL000232.1:1-40,652 (1-based),\n",
       "   <Interval> GL000206.1:1-41,001 (1-based),\n",
       "   <Interval> GL000240.1:1-41,933 (1-based),\n",
       "   <Interval> GL000236.1:1-41,934 (1-based),\n",
       "   <Interval> GL000241.1:1-42,152 (1-based),\n",
       "   <Interval> GL000243.1:1-43,341 (1-based),\n",
       "   <Interval> GL000242.1:1-43,523 (1-based),\n",
       "   <Interval> GL000230.1:1-43,691 (1-based),\n",
       "   <Interval> GL000237.1:1-45,867 (1-based),\n",
       "   <Interval> GL000233.1:1-45,941 (1-based),\n",
       "   <Interval> GL000204.1:1-81,310 (1-based),\n",
       "   <Interval> GL000198.1:1-90,085 (1-based),\n",
       "   <Interval> GL000208.1:1-92,689 (1-based),\n",
       "   <Interval> GL000191.1:1-106,433 (1-based),\n",
       "   <Interval> GL000227.1:1-128,374 (1-based),\n",
       "   <Interval> GL000228.1:1-129,120 (1-based),\n",
       "   <Interval> GL000214.1:1-137,718 (1-based),\n",
       "   <Interval> GL000221.1:1-155,397 (1-based),\n",
       "   <Interval> GL000209.1:1-159,169 (1-based),\n",
       "   <Interval> GL000218.1:1-161,147 (1-based),\n",
       "   <Interval> GL000220.1:1-161,802 (1-based),\n",
       "   <Interval> GL000213.1:1-164,239 (1-based),\n",
       "   <Interval> GL000211.1:1-166,566 (1-based),\n",
       "   <Interval> GL000199.1:1-169,874 (1-based),\n",
       "   <Interval> GL000217.1:1-172,149 (1-based),\n",
       "   <Interval> GL000216.1:1-172,294 (1-based),\n",
       "   <Interval> GL000215.1:1-172,545 (1-based),\n",
       "   <Interval> GL000205.1:1-174,588 (1-based),\n",
       "   <Interval> GL000219.1:1-179,198 (1-based),\n",
       "   <Interval> GL000224.1:1-179,693 (1-based),\n",
       "   <Interval> GL000223.1:1-180,455 (1-based),\n",
       "   <Interval> GL000195.1:1-182,896 (1-based),\n",
       "   <Interval> GL000212.1:1-186,858 (1-based),\n",
       "   <Interval> GL000222.1:1-186,861 (1-based),\n",
       "   <Interval> GL000200.1:1-187,035 (1-based),\n",
       "   <Interval> GL000193.1:1-189,789 (1-based),\n",
       "   <Interval> GL000194.1:1-191,469 (1-based),\n",
       "   <Interval> GL000225.1:1-211,173 (1-based),\n",
       "   <Interval> GL000192.1:1-547,496 (1-based)],\n",
       "  310180473)]"
      ]
     },
     "execution_count": 88,
     "metadata": {},
     "output_type": "execute_result"
    }
   ],
   "source": [
    "[(intvlist, intvlist.length) for intvlist in split_intvlists]\n"
   ]
  },
  {
   "cell_type": "code",
   "execution_count": null,
   "metadata": {},
   "outputs": [],
   "source": []
  },
  {
   "cell_type": "code",
   "execution_count": 16,
   "metadata": {},
   "outputs": [
    {
     "name": "stdout",
     "output_type": "stream",
     "text": [
      "/home/users/pjh/practice/pipeline_test/handygenome/sequenza/test.seqz.gz\n"
     ]
    },
    {
     "name": "stderr",
     "output_type": "stream",
     "text": [
      "[mpileup] 1 samples in 1 input files\n",
      "[mpileup] 1 samples in 1 input files\n"
     ]
    }
   ],
   "source": [
    "tbam_path = '/home/users/team_projects/Lung_Cancer_Panel_data/03_Data_from_YTKim/02_BAM/14/LU-14.tumor.bam'\n",
    "nbam_path = '/home/users/team_projects/Lung_Cancer_Panel_data/03_Data_from_YTKim/02_BAM/14/LU-14.normal.bam'\n",
    "fasta_path = FASTA_PATH_HG19\n",
    "outfile_path = '/home/users/pjh/practice/pipeline_test/handygenome/sequenza/test.seqz.gz'\n",
    "gcwiggle_path = '/home/users/data/01_reference/human_g1k_v37/human_g1k_v37.gc50Base.txt.gz'\n",
    "chrom = '1'\n",
    "start0 = 10_000_000\n",
    "end0 = 11_000_000\n",
    "\n",
    "handygenome.cnv.sequenza.seqzutils_bam2seqz(tbam_path=tbam_path, nbam_path=nbam_path, \n",
    "                                            outfile_path=outfile_path, \n",
    "                                            refver='hg19',\n",
    "                                            chrom=chrom, start0=start0, end0=end0)"
   ]
  },
  {
   "cell_type": "code",
   "execution_count": 13,
   "metadata": {},
   "outputs": [
    {
     "data": {
      "text/plain": [
       "True"
      ]
     },
     "execution_count": 13,
     "metadata": {},
     "output_type": "execute_result"
    }
   ],
   "source": [
    "outfile_path.endswith('.seqz.gz')"
   ]
  },
  {
   "cell_type": "code",
   "execution_count": 49,
   "metadata": {},
   "outputs": [],
   "source": [
    "gr1 = pr.from_dict({'Chromosome': ['1', '2'], 'Start': [0, 100], 'End': [10, 150]})\n",
    "gr2 = pr.from_dict({'Chromosome': ['1', '2'], 'Start': [5, 200], 'End': [50, 220]})"
   ]
  },
  {
   "cell_type": "code",
   "execution_count": null,
   "metadata": {},
   "outputs": [],
   "source": []
  },
  {
   "cell_type": "code",
   "execution_count": 50,
   "metadata": {},
   "outputs": [
    {
     "data": {
      "text/html": [
       "<div>\n",
       "<style scoped>\n",
       "    .dataframe tbody tr th:only-of-type {\n",
       "        vertical-align: middle;\n",
       "    }\n",
       "\n",
       "    .dataframe tbody tr th {\n",
       "        vertical-align: top;\n",
       "    }\n",
       "\n",
       "    .dataframe thead th {\n",
       "        text-align: right;\n",
       "    }\n",
       "</style>\n",
       "<table border=\"1\" class=\"dataframe\">\n",
       "  <thead>\n",
       "    <tr style=\"text-align: right;\">\n",
       "      <th></th>\n",
       "      <th>Chromosome</th>\n",
       "      <th>Start</th>\n",
       "      <th>End</th>\n",
       "    </tr>\n",
       "  </thead>\n",
       "  <tbody>\n",
       "    <tr>\n",
       "      <th>0</th>\n",
       "      <td>1</td>\n",
       "      <td>0</td>\n",
       "      <td>10</td>\n",
       "    </tr>\n",
       "    <tr>\n",
       "      <th>1</th>\n",
       "      <td>2</td>\n",
       "      <td>100</td>\n",
       "      <td>150</td>\n",
       "    </tr>\n",
       "  </tbody>\n",
       "</table>\n",
       "</div>"
      ],
      "text/plain": [
       "+--------------+-----------+-----------+\n",
       "|   Chromosome |     Start |       End |\n",
       "|   (category) |   (int32) |   (int32) |\n",
       "|--------------+-----------+-----------|\n",
       "|            1 |         0 |        10 |\n",
       "|            2 |       100 |       150 |\n",
       "+--------------+-----------+-----------+\n",
       "Unstranded PyRanges object has 2 rows and 3 columns from 2 chromosomes.\n",
       "For printing, the PyRanges was sorted on Chromosome."
      ]
     },
     "execution_count": 50,
     "metadata": {},
     "output_type": "execute_result"
    }
   ],
   "source": [
    "gr1"
   ]
  },
  {
   "cell_type": "code",
   "execution_count": 51,
   "metadata": {},
   "outputs": [
    {
     "data": {
      "text/html": [
       "<div>\n",
       "<style scoped>\n",
       "    .dataframe tbody tr th:only-of-type {\n",
       "        vertical-align: middle;\n",
       "    }\n",
       "\n",
       "    .dataframe tbody tr th {\n",
       "        vertical-align: top;\n",
       "    }\n",
       "\n",
       "    .dataframe thead th {\n",
       "        text-align: right;\n",
       "    }\n",
       "</style>\n",
       "<table border=\"1\" class=\"dataframe\">\n",
       "  <thead>\n",
       "    <tr style=\"text-align: right;\">\n",
       "      <th></th>\n",
       "      <th>Chromosome</th>\n",
       "      <th>Start</th>\n",
       "      <th>End</th>\n",
       "    </tr>\n",
       "  </thead>\n",
       "  <tbody>\n",
       "    <tr>\n",
       "      <th>0</th>\n",
       "      <td>1</td>\n",
       "      <td>5</td>\n",
       "      <td>50</td>\n",
       "    </tr>\n",
       "    <tr>\n",
       "      <th>1</th>\n",
       "      <td>2</td>\n",
       "      <td>200</td>\n",
       "      <td>220</td>\n",
       "    </tr>\n",
       "  </tbody>\n",
       "</table>\n",
       "</div>"
      ],
      "text/plain": [
       "+--------------+-----------+-----------+\n",
       "|   Chromosome |     Start |       End |\n",
       "|   (category) |   (int32) |   (int32) |\n",
       "|--------------+-----------+-----------|\n",
       "|            1 |         5 |        50 |\n",
       "|            2 |       200 |       220 |\n",
       "+--------------+-----------+-----------+\n",
       "Unstranded PyRanges object has 2 rows and 3 columns from 2 chromosomes.\n",
       "For printing, the PyRanges was sorted on Chromosome."
      ]
     },
     "execution_count": 51,
     "metadata": {},
     "output_type": "execute_result"
    }
   ],
   "source": [
    "gr2"
   ]
  },
  {
   "cell_type": "code",
   "execution_count": 52,
   "metadata": {},
   "outputs": [
    {
     "data": {
      "text/html": [
       "<div>\n",
       "<style scoped>\n",
       "    .dataframe tbody tr th:only-of-type {\n",
       "        vertical-align: middle;\n",
       "    }\n",
       "\n",
       "    .dataframe tbody tr th {\n",
       "        vertical-align: top;\n",
       "    }\n",
       "\n",
       "    .dataframe thead th {\n",
       "        text-align: right;\n",
       "    }\n",
       "</style>\n",
       "<table border=\"1\" class=\"dataframe\">\n",
       "  <thead>\n",
       "    <tr style=\"text-align: right;\">\n",
       "      <th></th>\n",
       "      <th>Chromosome</th>\n",
       "      <th>Start</th>\n",
       "      <th>End</th>\n",
       "    </tr>\n",
       "  </thead>\n",
       "  <tbody>\n",
       "    <tr>\n",
       "      <th>0</th>\n",
       "      <td>1</td>\n",
       "      <td>0</td>\n",
       "      <td>50</td>\n",
       "    </tr>\n",
       "    <tr>\n",
       "      <th>1</th>\n",
       "      <td>2</td>\n",
       "      <td>100</td>\n",
       "      <td>150</td>\n",
       "    </tr>\n",
       "    <tr>\n",
       "      <th>2</th>\n",
       "      <td>2</td>\n",
       "      <td>200</td>\n",
       "      <td>220</td>\n",
       "    </tr>\n",
       "  </tbody>\n",
       "</table>\n",
       "</div>"
      ],
      "text/plain": [
       "+--------------+-----------+-----------+\n",
       "|   Chromosome |     Start |       End |\n",
       "|   (category) |   (int32) |   (int32) |\n",
       "|--------------+-----------+-----------|\n",
       "|            1 |         0 |        50 |\n",
       "|            2 |       100 |       150 |\n",
       "|            2 |       200 |       220 |\n",
       "+--------------+-----------+-----------+\n",
       "Unstranded PyRanges object has 3 rows and 3 columns from 2 chromosomes.\n",
       "For printing, the PyRanges was sorted on Chromosome."
      ]
     },
     "execution_count": 52,
     "metadata": {},
     "output_type": "execute_result"
    }
   ],
   "source": [
    "gr1.set_union(gr2)"
   ]
  },
  {
   "cell_type": "code",
   "execution_count": 58,
   "metadata": {},
   "outputs": [
    {
     "data": {
      "text/plain": [
       "\"'abc'\""
      ]
     },
     "execution_count": 58,
     "metadata": {},
     "output_type": "execute_result"
    }
   ],
   "source": [
    "repr('abc')"
   ]
  }
 ],
 "metadata": {
  "kernelspec": {
   "display_name": "genome_v5",
   "language": "python",
   "name": "genome_v5"
  },
  "language_info": {
   "codemirror_mode": {
    "name": "ipython",
    "version": 3
   },
   "file_extension": ".py",
   "mimetype": "text/x-python",
   "name": "python",
   "nbconvert_exporter": "python",
   "pygments_lexer": "ipython3",
   "version": "3.9.12"
  }
 },
 "nbformat": 4,
 "nbformat_minor": 4
}
