{
 "cells": [
  {
   "cell_type": "markdown",
   "id": "9eaed22b-0779-4d3f-ae26-f72907970ec9",
   "metadata": {},
   "source": [
    "# Basic setups"
   ]
  },
  {
   "cell_type": "code",
   "execution_count": 1,
   "id": "4bddcca9-6a90-455d-8323-7fb78da7b3c5",
   "metadata": {},
   "outputs": [],
   "source": [
    "%load_ext autoreload\n",
    "%autoreload 2\n",
    "\n",
    "import os\n",
    "import re\n",
    "import shutil\n",
    "import random\n",
    "import pprint\n",
    "import itertools\n",
    "import functools\n",
    "import collections\n",
    "\n",
    "import pysam\n",
    "import pyranges as pr\n",
    "import numpy as np\n",
    "import pandas as pd\n",
    "import matplotlib as mpl\n",
    "import matplotlib.pyplot as plt\n",
    "\n",
    "import sys\n",
    "sys.path.append('/home/users/pjh/scripts/python_genome_package_dev/')"
   ]
  },
  {
   "cell_type": "code",
   "execution_count": 2,
   "id": "e308481a-7d3e-4ec5-a10a-7dc6a0b117f3",
   "metadata": {},
   "outputs": [
    {
     "name": "stderr",
     "output_type": "stream",
     "text": [
      "[W::hts_idx_load3] The index file is older than the data file: /home/users/pjh/scripts/python_genome_packages/data/popfreq/dbSNP_b155_GRCh37.p13.vcf.gz.csi\n"
     ]
    }
   ],
   "source": [
    "from handygenome import common\n",
    "from handygenome.common import ChromDict\n",
    "from handygenome.variant.vcfspec import Vcfspec\n",
    "from handygenome.sv.breakends import Breakends\n",
    "from handygenome.variant.variantplus import VariantPlus, VariantPlusList\n",
    "from handygenome.igvhandle import IGVHandle"
   ]
  },
  {
   "cell_type": "code",
   "execution_count": 3,
   "id": "c083595c-5656-4212-8d75-f47a4447abaa",
   "metadata": {},
   "outputs": [],
   "source": [
    "FASTA_HG19 = common.DEFAULT_FASTAS['hg19']\n",
    "FASTA_HG38 = common.DEFAULT_FASTAS['hg38']\n",
    "CHROMDICT_HG19 = common.DEFAULT_CHROMDICTS['hg19']\n",
    "CHROMDICT_HG38 = common.DEFAULT_CHROMDICTS['hg38']"
   ]
  },
  {
   "cell_type": "markdown",
   "id": "dc4cf7da-2b73-4d8c-94b4-698272f78eb1",
   "metadata": {},
   "source": [
    "# Set file paths"
   ]
  },
  {
   "cell_type": "code",
   "execution_count": null,
   "id": "3883176d-1797-4ce9-ae95-2978cc57be3a",
   "metadata": {},
   "outputs": [],
   "source": []
  }
 ],
 "metadata": {
  "kernelspec": {
   "display_name": "genome_v7",
   "language": "python",
   "name": "genome_v7"
  },
  "language_info": {
   "codemirror_mode": {
    "name": "ipython",
    "version": 3
   },
   "file_extension": ".py",
   "mimetype": "text/x-python",
   "name": "python",
   "nbconvert_exporter": "python",
   "pygments_lexer": "ipython3",
   "version": "3.10.6"
  }
 },
 "nbformat": 4,
 "nbformat_minor": 5
}
