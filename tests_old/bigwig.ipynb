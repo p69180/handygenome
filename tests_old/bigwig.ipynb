{
 "cells": [
  {
   "cell_type": "code",
   "execution_count": 22,
   "id": "7d587cf5-4341-4e03-a944-6d3597922a5c",
   "metadata": {},
   "outputs": [
    {
     "name": "stdout",
     "output_type": "stream",
     "text": [
      "The autoreload extension is already loaded. To reload it, use:\n",
      "  %reload_ext autoreload\n"
     ]
    }
   ],
   "source": [
    "%load_ext autoreload\n",
    "%autoreload 2\n",
    "\n",
    "import pyBigWig\n",
    "import pyranges as pr\n",
    "\n",
    "import sys\n",
    "sys.path.append('/home/users/pjh/scripts/python_genome_package_dev/')\n",
    "\n",
    "import handygenome.pyranges_helper as pyranges_helper"
   ]
  },
  {
   "cell_type": "code",
   "execution_count": 23,
   "id": "9ecf8cbc-8bb2-4479-95d0-808aa11933a6",
   "metadata": {},
   "outputs": [],
   "source": [
    "bw = pyBigWig.open('/home/users/pjh/practice/bigwig/LU-14.normal.100kbin.processed.bw')"
   ]
  },
  {
   "cell_type": "code",
   "execution_count": 144,
   "id": "e1f45997-7276-4db0-ae33-92078d6dc0e2",
   "metadata": {},
   "outputs": [],
   "source": [
    "gr = pr.PyRanges(pd.read_csv(\n",
    "    '/home/users/pjh/practice/bigwig/LU-14.normal.100kbin.processed.bed',\n",
    "    sep='\\t',\n",
    "    names=['Chromosome', 'Start', 'End', 'depth'],\n",
    "))"
   ]
  },
  {
   "cell_type": "code",
   "execution_count": 145,
   "id": "6d60053e-d932-46f4-b4bc-a16b7e274830",
   "metadata": {},
   "outputs": [],
   "source": [
    "PANEL_REGION_PATH = '/home/users/team_projects/Lung_Cancer_Panel_data/03_Data_from_YTKim/metadata/panel_bait_design/custom/exon_intron_targetregions_merged.bed'\n",
    "panelregion_gr = pr.read_bed(PANEL_REGION_PATH)\n",
    "panelregion_gr.Chromosome = 'chr' + panelregion_gr.Chromosome.astype(str)"
   ]
  },
  {
   "cell_type": "code",
   "execution_count": null,
   "id": "b7b5c53d-b920-491e-8935-5e794a597f2e",
   "metadata": {},
   "outputs": [],
   "source": []
  },
  {
   "cell_type": "code",
   "execution_count": 24,
   "id": "0a996d56-d86f-4804-8de9-b8cee5fdf727",
   "metadata": {},
   "outputs": [
    {
     "data": {
      "text/plain": [
       "{'version': 4,\n",
       " 'nLevels': 5,\n",
       " 'nBasesCovered': 3095677412,\n",
       " 'minVal': 0,\n",
       " 'maxVal': 3279,\n",
       " 'sumData': 112981193091,\n",
       " 'sumSquared': 9814727078973}"
      ]
     },
     "execution_count": 24,
     "metadata": {},
     "output_type": "execute_result"
    }
   ],
   "source": [
    "bw.header()"
   ]
  },
  {
   "cell_type": "code",
   "execution_count": 25,
   "id": "6dcaff1f-f22a-4542-bc32-a4b1efcfe78d",
   "metadata": {},
   "outputs": [
    {
     "data": {
      "text/plain": [
       "[63.36000061035156, 63.36000061035156, 63.36000061035156, 63.36000061035156]"
      ]
     },
     "execution_count": 25,
     "metadata": {},
     "output_type": "execute_result"
    }
   ],
   "source": [
    "bw.values('chr1', 0, 4)"
   ]
  },
  {
   "cell_type": "code",
   "execution_count": 28,
   "id": "63386692-4c9c-4ca8-b6e9-6c99c0728a50",
   "metadata": {},
   "outputs": [
    {
     "ename": "RuntimeError",
     "evalue": "The start coordinate must be a number!",
     "output_type": "error",
     "traceback": [
      "\u001b[0;31m---------------------------------------------------------------------------\u001b[0m",
      "\u001b[0;31mRuntimeError\u001b[0m                              Traceback (most recent call last)",
      "Cell \u001b[0;32mIn[28], line 1\u001b[0m\n\u001b[0;32m----> 1\u001b[0m \u001b[43mbw\u001b[49m\u001b[38;5;241;43m.\u001b[39;49m\u001b[43mstats\u001b[49m\u001b[43m(\u001b[49m\n\u001b[1;32m      2\u001b[0m \u001b[43m    \u001b[49m\u001b[38;5;124;43m'\u001b[39;49m\u001b[38;5;124;43mchr1\u001b[39;49m\u001b[38;5;124;43m'\u001b[39;49m\u001b[43m,\u001b[49m\u001b[43m \u001b[49m\n\u001b[1;32m      3\u001b[0m \u001b[43m    \u001b[49m\u001b[43m[\u001b[49m\u001b[38;5;241;43m1570592\u001b[39;49m\u001b[43m]\u001b[49m\u001b[43m \u001b[49m\u001b[38;5;241;43m*\u001b[39;49m\u001b[43m \u001b[49m\u001b[38;5;241;43m2\u001b[39;49m\u001b[43m,\u001b[49m\u001b[43m \u001b[49m\n\u001b[1;32m      4\u001b[0m \u001b[43m    \u001b[49m\u001b[43m[\u001b[49m\u001b[38;5;241;43m1571228\u001b[39;49m\u001b[43m]\u001b[49m\u001b[43m \u001b[49m\u001b[38;5;241;43m*\u001b[39;49m\u001b[43m \u001b[49m\u001b[38;5;241;43m2\u001b[39;49m\u001b[43m,\u001b[49m\u001b[43m \u001b[49m\n\u001b[1;32m      5\u001b[0m \u001b[43m    \u001b[49m\u001b[38;5;28;43mtype\u001b[39;49m\u001b[38;5;241;43m=\u001b[39;49m\u001b[38;5;124;43m'\u001b[39;49m\u001b[38;5;124;43mmean\u001b[39;49m\u001b[38;5;124;43m'\u001b[39;49m\u001b[43m,\u001b[49m\n\u001b[1;32m      6\u001b[0m \u001b[43m)\u001b[49m\n",
      "\u001b[0;31mRuntimeError\u001b[0m: The start coordinate must be a number!"
     ]
    }
   ],
   "source": [
    "bw.stats(\n",
    "    'chr1', \n",
    "    [1570592] * 2, \n",
    "    [1571228] * 2, \n",
    "    type='mean',\n",
    ")"
   ]
  },
  {
   "cell_type": "code",
   "execution_count": 26,
   "id": "16b0b264-1aa5-492d-b083-8de9c3a5864d",
   "metadata": {},
   "outputs": [
    {
     "name": "stdout",
     "output_type": "stream",
     "text": [
      "Help on built-in function stats:\n",
      "\n",
      "stats(...) method of pyBigWig.bigWigFile instance\n",
      "    Return summary statistics for a given range. On error, this function throws a\n",
      "    runtime exception.\n",
      "    \n",
      "    Positional arguments:\n",
      "        chr:   Chromosome name\n",
      "    \n",
      "    Keyword arguments:\n",
      "        start: Starting position\n",
      "        end:   Ending position\n",
      "        type:  Summary type (mean, min, max, coverage, std), default 'mean'.\n",
      "        nBins: Number of bins into which the range should be divided before\n",
      "               computing summary statistics. The default is 1.\n",
      "        exact: By default, pyBigWig uses the same method as Kent's tools from UCSC\n",
      "               for computing statistics. This means that 'zoom levels' may be\n",
      "               used, rather than actual values (please see the pyBigWig repository\n",
      "               on github for further information on this). To avoid this behaviour,\n",
      "               simply specify 'exact=True'. Note that values returned will then\n",
      "               differ from what UCSC, IGV, and similar other tools will report.\n",
      "    \n",
      "    >>> import pyBigWig\n",
      "    >>> bw = pyBigWig.open(\"test/test.bw\")\n",
      "    >>> bw.stats(\"1\", 0, 3)\n",
      "    [0.2000000054637591]\n",
      "    \n",
      "    This is the mean value over the range 1:1-3 (in 1-based coordinates). If\n",
      "    the start and end positions aren't given the entire chromosome is used.\n",
      "    There are additional optional parameters 'type' and 'nBins'. 'type'\n",
      "    specifies the type of summary information to calculate, which is 'mean'\n",
      "    by default. Other possibilites for 'type' are: 'min' (minimum value),\n",
      "    'max' (maximum value), 'coverage' (number of covered bases), and 'std'\n",
      "     (standard deviation). 'nBins' defines how many bins the region will be\n",
      "     divided into and defaults to 1.\n",
      "    \n",
      "    >>> bw.stats(\"1\", 0, 3, type=\"min\")\n",
      "    [0.10000000149011612]\n",
      "    >>> bw.stats(\"1\", 0, 3, type=\"max\")\n",
      "    [0.30000001192092896]\n",
      "    >>> bw.stats(\"1\", 0, 10, type=\"coverage\")\n",
      "    [0.30000000000000004]\n",
      "    >>> bw.stats(\"1\", 0, 3, type=\"std\")\n",
      "    [0.10000000521540645]\n",
      "    >>> bw.stats(\"1\",99,200, type=\"max\", nBins=2)\n",
      "    [1.399999976158142, 1.5]\n",
      "\n"
     ]
    }
   ],
   "source": [
    "help(bw.stats)"
   ]
  },
  {
   "cell_type": "code",
   "execution_count": null,
   "id": "b4de7f9a-7393-463d-a58e-e573ce2bbef3",
   "metadata": {},
   "outputs": [],
   "source": []
  },
  {
   "cell_type": "code",
   "execution_count": null,
   "id": "83ac3e93-9fa6-4d62-9583-e8e17d41d245",
   "metadata": {},
   "outputs": [],
   "source": []
  },
  {
   "cell_type": "code",
   "execution_count": 146,
   "id": "0ecab8e9-019c-48a3-9c59-cef8b58b457e",
   "metadata": {},
   "outputs": [
    {
     "name": "stdout",
     "output_type": "stream",
     "text": [
      "193 ms ± 4 ms per loop (mean ± std. dev. of 7 runs, 10 loops each)\n"
     ]
    }
   ],
   "source": [
    "%%timeit\n",
    "\n",
    "data1 = [\n",
    "    bw.stats(row[0], row[1], row[2], type='mean', exact=True)[0]\n",
    "    for idx, row in panelregion_gr.df.iterrows()\n",
    "]"
   ]
  },
  {
   "cell_type": "code",
   "execution_count": 147,
   "id": "9ed94d06-57d6-40ac-9e53-c2cd3bbd4167",
   "metadata": {},
   "outputs": [
    {
     "name": "stdout",
     "output_type": "stream",
     "text": [
      "537 ms ± 15.9 ms per loop (mean ± std. dev. of 7 runs, 1 loop each)\n"
     ]
    }
   ],
   "source": [
    "%%timeit\n",
    "\n",
    "joined_gr = pyranges_helper.join(panelregion_gr, gr, how='left', merge='mean') \n",
    "data2 = joined_gr.depth"
   ]
  },
  {
   "cell_type": "code",
   "execution_count": null,
   "id": "3fb46997-cce1-4d9a-801b-b1aaebfbe2fb",
   "metadata": {},
   "outputs": [],
   "source": []
  },
  {
   "cell_type": "code",
   "execution_count": 12,
   "id": "037f6445-74d8-427d-9649-0ff8c9237a86",
   "metadata": {},
   "outputs": [
    {
     "data": {
      "text/plain": [
       "float"
      ]
     },
     "execution_count": 12,
     "metadata": {},
     "output_type": "execute_result"
    }
   ],
   "source": [
    "import Bio.SeqUtils\n",
    "type(Bio.SeqUtils.gc_fraction('NNNA'))"
   ]
  },
  {
   "cell_type": "code",
   "execution_count": 5,
   "id": "46c1b306-e76b-4249-8608-3c8a50a9c985",
   "metadata": {
    "scrolled": true,
    "tags": []
   },
   "outputs": [
    {
     "ename": "RuntimeError",
     "evalue": "You must provide a valid set of entries. These can be comprised of any of the following: \n1. A list of each of chromosomes, start positions, end positions and values.\n2. A list of each of start positions and values. Also, a chromosome and span must be specified.\n3. A list values, in which case a single chromosome, start position, span and step must be specified.\n",
     "output_type": "error",
     "traceback": [
      "\u001b[0;31m---------------------------------------------------------------------------\u001b[0m",
      "\u001b[0;31mRuntimeError\u001b[0m                              Traceback (most recent call last)",
      "Cell \u001b[0;32mIn[5], line 5\u001b[0m\n\u001b[1;32m      2\u001b[0m bw \u001b[38;5;241m=\u001b[39m pyBigWig\u001b[38;5;241m.\u001b[39mopen(outfile_path, \u001b[38;5;124m'\u001b[39m\u001b[38;5;124mw\u001b[39m\u001b[38;5;124m'\u001b[39m)\n\u001b[1;32m      3\u001b[0m bw\u001b[38;5;241m.\u001b[39maddHeader([(\u001b[38;5;124m'\u001b[39m\u001b[38;5;124mchr1\u001b[39m\u001b[38;5;124m'\u001b[39m, \u001b[38;5;241m105\u001b[39m), (\u001b[38;5;124m'\u001b[39m\u001b[38;5;124mchr2\u001b[39m\u001b[38;5;124m'\u001b[39m, \u001b[38;5;241m50\u001b[39m)])\n\u001b[0;32m----> 5\u001b[0m \u001b[43mbw\u001b[49m\u001b[38;5;241;43m.\u001b[39;49m\u001b[43maddEntries\u001b[49m\u001b[43m(\u001b[49m\n\u001b[1;32m      6\u001b[0m \u001b[43m    \u001b[49m\u001b[38;5;124;43m'\u001b[39;49m\u001b[38;5;124;43mchr1\u001b[39;49m\u001b[38;5;124;43m'\u001b[39;49m\u001b[43m,\u001b[49m\n\u001b[1;32m      7\u001b[0m \u001b[43m    \u001b[49m\u001b[38;5;241;43m0\u001b[39;49m\u001b[43m,\u001b[49m\n\u001b[1;32m      8\u001b[0m \u001b[43m    \u001b[49m\u001b[38;5;66;43;03m# values=[float(x) for x in range(11)],\u001b[39;49;00m\n\u001b[1;32m      9\u001b[0m \u001b[43m    \u001b[49m\u001b[43mvalues\u001b[49m\u001b[38;5;241;43m=\u001b[39;49m\u001b[38;5;28;43mtuple\u001b[39;49m\u001b[43m(\u001b[49m\u001b[43m[\u001b[49m\u001b[38;5;28;43mfloat\u001b[39;49m\u001b[43m(\u001b[49m\u001b[43mx\u001b[49m\u001b[43m)\u001b[49m\u001b[43m \u001b[49m\u001b[38;5;28;43;01mfor\u001b[39;49;00m\u001b[43m \u001b[49m\u001b[43mx\u001b[49m\u001b[43m \u001b[49m\u001b[38;5;129;43;01min\u001b[39;49;00m\u001b[43m \u001b[49m\u001b[38;5;28;43mrange\u001b[39;49m\u001b[43m(\u001b[49m\u001b[38;5;241;43m11\u001b[39;49m\u001b[43m)\u001b[49m\u001b[43m]\u001b[49m\u001b[43m)\u001b[49m\u001b[43m,\u001b[49m\n\u001b[1;32m     10\u001b[0m \u001b[43m    \u001b[49m\u001b[38;5;66;43;03m# values=array.array('f', [float(x) for x in range(11)]),\u001b[39;49;00m\n\u001b[1;32m     11\u001b[0m \u001b[43m    \u001b[49m\u001b[43mspan\u001b[49m\u001b[38;5;241;43m=\u001b[39;49m\u001b[38;5;241;43m10\u001b[39;49m\u001b[43m,\u001b[49m\n\u001b[1;32m     12\u001b[0m \u001b[43m    \u001b[49m\u001b[43mstep\u001b[49m\u001b[38;5;241;43m=\u001b[39;49m\u001b[38;5;241;43m10\u001b[39;49m\u001b[43m,\u001b[49m\n\u001b[1;32m     13\u001b[0m \u001b[43m)\u001b[49m\n\u001b[1;32m     14\u001b[0m bw\u001b[38;5;241m.\u001b[39mclose()\n",
      "\u001b[0;31mRuntimeError\u001b[0m: You must provide a valid set of entries. These can be comprised of any of the following: \n1. A list of each of chromosomes, start positions, end positions and values.\n2. A list of each of start positions and values. Also, a chromosome and span must be specified.\n3. A list values, in which case a single chromosome, start position, span and step must be specified.\n"
     ]
    }
   ],
   "source": [
    "outfile_path = '/home/users/pjh/practice/bigwig/test_output.bigwig'\n",
    "bw = pyBigWig.open(outfile_path, 'w')\n",
    "bw.addHeader([('chr1', 105), ('chr2', 50)])\n",
    "\n",
    "bw.addEntries(\n",
    "    'chr1',\n",
    "    0,\n",
    "    # values=[float(x) for x in range(11)],\n",
    "    values=tuple([float(x) for x in range(11)]),\n",
    "    # values=array.array('f', [float(x) for x in range(11)]),\n",
    "    span=10,\n",
    "    step=10,\n",
    ")\n",
    "bw.close()"
   ]
  },
  {
   "cell_type": "code",
   "execution_count": 3,
   "id": "caa6bec5-c6ab-41b5-bb93-bf47754ad982",
   "metadata": {},
   "outputs": [
    {
     "data": {
      "text/plain": [
       "1.0"
      ]
     },
     "execution_count": 3,
     "metadata": {},
     "output_type": "execute_result"
    }
   ],
   "source": [
    "import array\n",
    "array.array('f', [1, 2, 3, 4])[0]"
   ]
  },
  {
   "cell_type": "code",
   "execution_count": 7,
   "id": "b2ed376d-67de-4192-ab7a-b6f76febae2e",
   "metadata": {},
   "outputs": [
    {
     "name": "stdout",
     "output_type": "stream",
     "text": [
      "Help on built-in function addEntries:\n",
      "\n",
      "addEntries(...) method of pyBigWig.bigWigFile instance\n",
      "    Adds one or more entries to a bigWig file. This returns nothing, but throws a\n",
      "    runtime exception on error.\n",
      "    \n",
      "    This function always accepts an optional 'validate' option. If set to 'True',\n",
      "    which is the default, the input entries are checked to ensure that they come\n",
      "    after previously entered entries. This comes with significant overhead, so if\n",
      "    this is instead 'False' then this validation is not performed.\n",
      "    \n",
      "    There are three manners in which entries can be stored in bigWig files.\n",
      "    \n",
      "    \n",
      "    bedGraph-like entries (12 bytes each):\n",
      "    \n",
      "    Positional arguments:\n",
      "        chrom:  A list of chromosome. These MUST match those added with addHeader().\n",
      "        starts: A list of start positions. These are 0-based.\n",
      "    \n",
      "    Keyword arguments:\n",
      "        ends:   A list of end positions. These are 0-based half open, so a start of\n",
      "                0 and end of 10 specifies the first 10 bases.\n",
      "        values: A list of values.\n",
      "    \n",
      "    \n",
      "    Variable-step entries (8 bytes each):\n",
      "    \n",
      "    Positional arguments:\n",
      "        chrom:  A chromosome name. This MUST match one added with addHeader().\n",
      "        starts: A list of start positions. These are 0-based.\n",
      "    \n",
      "    Keyword arguments:\n",
      "        values: A list of values.\n",
      "        span:   A span width. This is an integer value and specifies how many bases\n",
      "                each entry describes. An entry with a start position of 0 and a span\n",
      "                of 10 describes the first 10 bases.\n",
      "    \n",
      "    \n",
      "    Fixed-step entries (4 bytes each):\n",
      "    \n",
      "    Positional arguments:\n",
      "        chrom:  A chromosome name. This MUST match one added with addHeader().\n",
      "        starts: A start position. These are 0-based. The start position of each\n",
      "                entry starts 'step' after the previous and describes 'span' bases.\n",
      "    \n",
      "    Keyword arguments:\n",
      "        values: A list of values.\n",
      "        span:   A span width. This is an integer value and specifies how many bases\n",
      "                each entry describes. An entry with a start position of 0 and a span\n",
      "                of 10 describes the first 10 bases.\n",
      "        step:   A step width. Each subsequent entry begins this number of bases\n",
      "                after the previous. So if the first entry has a start of 0 and step\n",
      "                or 30, the second entry will start at 30.\n",
      "    \n",
      "    >>> import pyBigWig\n",
      "    >>> import tempfile\n",
      "    >>> import os\n",
      "    >>> ofile = tempfile.NamedTemporaryFile(delete=False)\n",
      "    >>> oname = ofile.name\n",
      "    >>> ofile.close()\n",
      "    >>> bw = pyBigWig.open(oname, 'w')\n",
      "    >>> bw.addHeader([(\"1\", 1000000), (\"2\", 1500000)])\n",
      "    >>> #Add some bedGraph-like entries\n",
      "    >>> bw.addEntries([\"1\", \"1\", \"1\"], [0, 100, 125], ends=[5, 120, 126], values=[0.0, 1.0, 200.0])\n",
      "    >>> #Variable-step entries, the span 500-520, 600-620, and 635-655\n",
      "    >>> bw.addEntries(\"1\", [500, 600, 635], values=[-2.0, 150.0, 25.0], span=20)\n",
      "    >>> #Fixed-step entries, the bases described are 900-920, 930-950, and 960-980\n",
      "    >>> bw.addEntries(\"1\", 900, values=[-5.0, -20.0, 25.0], span=20, step=30)\n",
      "    >>> #This only works due to using validate=False. Obviously the file is then corrupt.\n",
      "    >>> bw.addEntries([\"1\", \"1\", \"1\"], [0, 100, 125], ends=[5, 120, 126], values=[0.0, 1.0, 200.0], validate=False)\n",
      "    >>> bw.close()\n",
      "    >>> os.remove(oname)\n",
      "\n"
     ]
    }
   ],
   "source": [
    "help(bw.addEntries)"
   ]
  },
  {
   "cell_type": "code",
   "execution_count": 6,
   "id": "df14029c-83ce-410c-886c-b12a1850ec3b",
   "metadata": {},
   "outputs": [
    {
     "data": {
      "text/plain": [
       "[0, 10, 20, 30, 40, 50, 60, 70, 80, 90, 100]"
      ]
     },
     "execution_count": 6,
     "metadata": {},
     "output_type": "execute_result"
    }
   ],
   "source": [
    "list(range(0, 101, 10))"
   ]
  },
  {
   "cell_type": "code",
   "execution_count": null,
   "id": "d3a7daa2-3019-479e-8328-4e9465ca394b",
   "metadata": {},
   "outputs": [],
   "source": []
  },
  {
   "cell_type": "code",
   "execution_count": 129,
   "id": "f8af4f29-f8fd-4350-b0d7-dfa4f7107ec2",
   "metadata": {},
   "outputs": [],
   "source": [
    "bw = pyBigWig.open(outfile_path)"
   ]
  },
  {
   "cell_type": "code",
   "execution_count": 130,
   "id": "32f407d7-6741-44f1-9226-7f8692e29b4d",
   "metadata": {},
   "outputs": [
    {
     "data": {
      "text/plain": [
       "((0, 10, 0.0),\n",
       " (10, 20, 1.0),\n",
       " (20, 30, 2.0),\n",
       " (30, 40, 3.0),\n",
       " (40, 50, 4.0),\n",
       " (50, 60, 5.0),\n",
       " (60, 70, 6.0),\n",
       " (70, 80, 7.0),\n",
       " (80, 90, 8.0),\n",
       " (90, 100, 9.0),\n",
       " (100, 110, 10.0))"
      ]
     },
     "execution_count": 130,
     "metadata": {},
     "output_type": "execute_result"
    }
   ],
   "source": [
    "bw.intervals('chr1')"
   ]
  },
  {
   "cell_type": "code",
   "execution_count": 142,
   "id": "01cf4e1b-6d2b-495d-9d73-a11b0d347eac",
   "metadata": {},
   "outputs": [
    {
     "data": {
      "text/plain": [
       "[10.0, 10.0]"
      ]
     },
     "execution_count": 142,
     "metadata": {},
     "output_type": "execute_result"
    }
   ],
   "source": [
    "bw.values('chr1', 103, 105)"
   ]
  },
  {
   "cell_type": "code",
   "execution_count": null,
   "id": "21cb6302-e618-4cda-be9f-4fe02c40a803",
   "metadata": {},
   "outputs": [],
   "source": []
  },
  {
   "cell_type": "code",
   "execution_count": null,
   "id": "b3c70b49-faff-44cf-bd47-2987ebbb218f",
   "metadata": {},
   "outputs": [],
   "source": []
  },
  {
   "cell_type": "code",
   "execution_count": 19,
   "id": "bd494eaa-aa02-471e-8f83-440c92fed852",
   "metadata": {},
   "outputs": [
    {
     "data": {
      "text/plain": [
       "array([0.51], dtype=float32)"
      ]
     },
     "execution_count": 19,
     "metadata": {},
     "output_type": "execute_result"
    }
   ],
   "source": [
    "bw = pyBigWig.open('/home/users/pjh/tmp/gc100bin.bigwig')\n",
    "bw.values('5', 1_000_000, 1_000_001, numpy=True)"
   ]
  },
  {
   "cell_type": "code",
   "execution_count": 18,
   "id": "d76dd2fe-ac1b-4eb9-a4f7-63bd974f64a7",
   "metadata": {},
   "outputs": [
    {
     "data": {
      "text/plain": [
       "0.51"
      ]
     },
     "execution_count": 18,
     "metadata": {},
     "output_type": "execute_result"
    }
   ],
   "source": [
    "import Bio.SeqUtils\n",
    "\n",
    "Bio.SeqUtils.gc_fraction(fasta.fetch('5', 1_000_000, 1_000_000 + 100))"
   ]
  },
  {
   "cell_type": "code",
   "execution_count": null,
   "id": "81631f82-ef69-4537-86ff-6804707f1667",
   "metadata": {},
   "outputs": [],
   "source": []
  },
  {
   "cell_type": "code",
   "execution_count": 5,
   "id": "1d4d810c-5644-495d-91a8-f1a7ba5faff9",
   "metadata": {},
   "outputs": [
    {
     "name": "stdout",
     "output_type": "stream",
     "text": [
      "1\n",
      "2\n",
      "3\n",
      "4\n",
      "5\n",
      "6\n",
      "7\n",
      "8\n",
      "9\n",
      "10\n",
      "11\n",
      "12\n",
      "13\n",
      "14\n",
      "15\n",
      "16\n",
      "17\n",
      "18\n",
      "19\n",
      "20\n",
      "21\n",
      "22\n",
      "X\n",
      "Y\n",
      "MT\n",
      "GL000207.1\n",
      "GL000226.1\n",
      "GL000229.1\n",
      "GL000231.1\n",
      "GL000210.1\n",
      "GL000239.1\n",
      "GL000235.1\n",
      "GL000201.1\n",
      "GL000247.1\n",
      "GL000245.1\n",
      "GL000197.1\n",
      "GL000203.1\n",
      "GL000246.1\n",
      "GL000249.1\n",
      "GL000196.1\n",
      "GL000248.1\n",
      "GL000244.1\n",
      "GL000238.1\n",
      "GL000202.1\n",
      "GL000234.1\n",
      "GL000232.1\n",
      "GL000206.1\n",
      "GL000240.1\n",
      "GL000236.1\n",
      "GL000241.1\n",
      "GL000243.1\n",
      "GL000242.1\n",
      "GL000230.1\n",
      "GL000237.1\n",
      "GL000233.1\n",
      "GL000204.1\n",
      "GL000198.1\n",
      "GL000208.1\n",
      "GL000191.1\n",
      "GL000227.1\n",
      "GL000228.1\n",
      "GL000214.1\n",
      "GL000221.1\n",
      "GL000209.1\n",
      "GL000218.1\n",
      "GL000220.1\n",
      "GL000213.1\n",
      "GL000211.1\n",
      "GL000199.1\n",
      "GL000217.1\n",
      "GL000216.1\n",
      "GL000215.1\n",
      "GL000205.1\n",
      "GL000219.1\n",
      "GL000224.1\n",
      "GL000223.1\n",
      "GL000195.1\n",
      "GL000212.1\n",
      "GL000222.1\n",
      "GL000200.1\n",
      "GL000193.1\n",
      "GL000194.1\n",
      "GL000225.1\n",
      "GL000192.1\n"
     ]
    }
   ],
   "source": [
    "import handygenome.cnv.misc as cnvmisc\n",
    "import pysam\n",
    "\n",
    "outfile_path = '/home/users/pjh/tmp/gc100bin.bigwig'\n",
    "fasta = pysam.FastaFile('/home/users/data/01_reference/human_g1k_v37/human_g1k_v37.fasta')\n",
    "cnvmisc.make_gc_bigwig(outfile_path, fasta, binsize=100, verbose=True)"
   ]
  }
 ],
 "metadata": {
  "kernelspec": {
   "display_name": "genome_v7",
   "language": "python",
   "name": "genome_v7"
  },
  "language_info": {
   "codemirror_mode": {
    "name": "ipython",
    "version": 3
   },
   "file_extension": ".py",
   "mimetype": "text/x-python",
   "name": "python",
   "nbconvert_exporter": "python",
   "pygments_lexer": "ipython3",
   "version": "3.10.6"
  }
 },
 "nbformat": 4,
 "nbformat_minor": 5
}
