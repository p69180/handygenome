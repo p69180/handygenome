{
 "cells": [
  {
   "cell_type": "markdown",
   "id": "a4e522f8-d71b-40c6-ba46-433273badb52",
   "metadata": {
    "tags": []
   },
   "source": [
    "# Package initiation"
   ]
  },
  {
   "cell_type": "code",
   "execution_count": 1,
   "id": "9704827c-198f-42ad-a183-ef9669efc1f8",
   "metadata": {
    "tags": []
   },
   "outputs": [],
   "source": [
    "%load_ext autoreload\n",
    "%autoreload 2\n",
    "\n",
    "import os\n",
    "import re\n",
    "import shutil\n",
    "import random\n",
    "import pprint\n",
    "import itertools\n",
    "import functools\n",
    "import collections\n",
    "\n",
    "import pysam\n",
    "import pyranges as pr\n",
    "import numpy as np\n",
    "import matplotlib as mpl\n",
    "import matplotlib.pyplot as plt\n",
    "import seaborn as sns\n",
    "import pandas as pd\n",
    "import scipy.stats\n",
    "import sklearn.cluster\n",
    "import sklearn.mixture\n",
    "\n",
    "import sys\n",
    "sys.path.append('/home/users/pjh/scripts/python_genome_package_dev')"
   ]
  },
  {
   "cell_type": "code",
   "execution_count": 2,
   "id": "80ab3fee-4009-4fcc-b4b3-c288da055d15",
   "metadata": {
    "tags": []
   },
   "outputs": [],
   "source": [
    "# from handygenome import common\n",
    "\n",
    "from handygenome.refgenome import ChromDict\n",
    "from handygenome.variant.vcfspec import Vcfspec\n",
    "\n",
    "from handygenome.sv.breakends import Breakends\n",
    "from handygenome.variant.variantplus import VariantPlus, VariantPlusList\n",
    "from handygenome.igvhandle import IGVHandle\n",
    "\n",
    "import handygenome.refgenome as refgenome\n",
    "import handygenome.variant.filter as libfilter\n",
    "import handygenome.variant.variantplus as libvp"
   ]
  },
  {
   "cell_type": "code",
   "execution_count": 3,
   "id": "e1ac29a2-2873-45f7-90b8-15bc6dd694c6",
   "metadata": {},
   "outputs": [],
   "source": [
    "FASTA_HG19 = refgenome.get_default_fasta('human')\n",
    "FASTA_HG38 = refgenome.get_default_fasta('hg38')\n",
    "\n",
    "CHROMDICT_HG19 = refgenome.get_default_chromdict('human')\n",
    "CHROMDICT_HG38 = refgenome.get_default_chromdict('hg38')"
   ]
  },
  {
   "cell_type": "code",
   "execution_count": null,
   "id": "c844cfeb-62a8-4415-8021-68047ba38f7a",
   "metadata": {},
   "outputs": [],
   "source": []
  },
  {
   "cell_type": "code",
   "execution_count": 4,
   "id": "dad25889-a5be-492d-bdfc-3e3a4c913678",
   "metadata": {},
   "outputs": [],
   "source": [
    "import handygenome.cnv.gcfraction as libgcfraction\n",
    "import handygenome.cnv.mosdepth as libmosdepth\n",
    "import handygenome.cnv.misc as cnvmisc\n",
    "import handygenome.pyranges_helper as pyranges_helper\n",
    "import handygenome.variant.variantplus as libvp\n",
    "import handygenome.cnv.rcopynumber as rcopynumber\n",
    "import handygenome.plot.genomeplot as libgenomeplot\n",
    "import handygenome.cnv.baf as libbaf"
   ]
  },
  {
   "cell_type": "code",
   "execution_count": null,
   "id": "77d805bd-9517-494a-8eab-27278c5b551f",
   "metadata": {},
   "outputs": [],
   "source": []
  },
  {
   "cell_type": "code",
   "execution_count": null,
   "id": "5d8a09b2-596a-4fe7-a20c-312996aa22ec",
   "metadata": {},
   "outputs": [],
   "source": []
  },
  {
   "cell_type": "code",
   "execution_count": 8,
   "id": "a1831371-efc0-48c7-9829-9d49382dc74c",
   "metadata": {},
   "outputs": [
    {
     "data": {
      "text/plain": [
       "<module 'handygenome.cnv.baf' from '/home/users/pjh/scripts/python_genome_package_dev/handygenome/cnv/baf.py'>"
      ]
     },
     "execution_count": 8,
     "metadata": {},
     "output_type": "execute_result"
    }
   ],
   "source": [
    "import inspect\n",
    "\n",
    "# inspect.getmodule(libbaf)\n",
    "libbaf"
   ]
  },
  {
   "cell_type": "code",
   "execution_count": null,
   "id": "ed80e424-5395-4352-a1f7-1bcbbaa8bfd8",
   "metadata": {},
   "outputs": [],
   "source": []
  },
  {
   "cell_type": "code",
   "execution_count": null,
   "id": "6b9c94bc-8d55-4770-82d2-f00fc3c12ddc",
   "metadata": {},
   "outputs": [],
   "source": []
  },
  {
   "cell_type": "markdown",
   "id": "cb00d9a3-2cd6-4609-86e8-5b063867a52b",
   "metadata": {},
   "source": [
    "# Banana"
   ]
  },
  {
   "cell_type": "code",
   "execution_count": 6,
   "id": "02837c06-3073-4165-b639-1c50b5acb001",
   "metadata": {},
   "outputs": [],
   "source": [
    "bam_path = '/home/users/yeonjin/practice/banana/02_bam/pan/Pan_wrapper.bam_tmpdir_zZ2QKehF/Pan.mkdup.bam'\n",
    "vcf_path = '/home/users/yeonjin/practice/banana/03_haplotype_caller/Pan.norm.vcf.gz'\n",
    "fasta_path = '/home/users/yeonjin/practice/banana/reference/Musa_acuminata_pahang_v4_cp.fasta'"
   ]
  },
  {
   "cell_type": "code",
   "execution_count": null,
   "id": "5af0e669-b935-411d-b2af-bcbdafdd40bc",
   "metadata": {},
   "outputs": [],
   "source": []
  },
  {
   "cell_type": "code",
   "execution_count": null,
   "id": "5f61123a-2b2c-49c5-b7e0-0fbb73dcd17e",
   "metadata": {},
   "outputs": [],
   "source": []
  },
  {
   "cell_type": "code",
   "execution_count": null,
   "id": "6ac80a44-a9f9-4894-9b8f-1f8b0ad8fa42",
   "metadata": {},
   "outputs": [],
   "source": []
  },
  {
   "cell_type": "code",
   "execution_count": null,
   "id": "c9045ab0-481b-4ea9-8dbb-3e1ecf8c0c64",
   "metadata": {},
   "outputs": [],
   "source": []
  },
  {
   "cell_type": "code",
   "execution_count": null,
   "id": "a22ec0bf-d9b5-49fa-ae6c-d00acfc3f89d",
   "metadata": {},
   "outputs": [],
   "source": []
  }
 ],
 "metadata": {
  "kernelspec": {
   "display_name": "genome_v7",
   "language": "python",
   "name": "genome_v7"
  },
  "language_info": {
   "codemirror_mode": {
    "name": "ipython",
    "version": 3
   },
   "file_extension": ".py",
   "mimetype": "text/x-python",
   "name": "python",
   "nbconvert_exporter": "python",
   "pygments_lexer": "ipython3",
   "version": "3.10.6"
  }
 },
 "nbformat": 4,
 "nbformat_minor": 5
}
