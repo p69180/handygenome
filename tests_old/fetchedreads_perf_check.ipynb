{
 "cells": [
  {
   "cell_type": "code",
   "execution_count": 1,
   "id": "292402e3-7854-4b3a-8d01-cacdc2893cc9",
   "metadata": {},
   "outputs": [],
   "source": [
    "%load_ext autoreload\n",
    "%autoreload 2\n",
    "\n",
    "import os\n",
    "import re\n",
    "import shutil\n",
    "import random\n",
    "import pprint\n",
    "import itertools\n",
    "import functools\n",
    "import collections\n",
    "\n",
    "import pysam\n",
    "import pyranges as pr\n",
    "import numpy as np\n",
    "import pandas as pd\n",
    "import matplotlib as mpl\n",
    "import matplotlib.pyplot as plt\n",
    "\n",
    "import sys\n",
    "sys.path.append('/home/users/pjh/scripts/python_genome_package_dev/')"
   ]
  },
  {
   "cell_type": "code",
   "execution_count": 3,
   "id": "be504724-31e4-4968-8ebe-fbbf7694bb2b",
   "metadata": {},
   "outputs": [
    {
     "name": "stderr",
     "output_type": "stream",
     "text": [
      "[W::hts_idx_load3] The index file is older than the data file: /home/users/pjh/scripts/python_genome_packages/data/popfreq/dbSNP_b155_GRCh37.p13.vcf.gz.csi\n"
     ]
    }
   ],
   "source": [
    "from handygenome import common\n",
    "from handygenome.common import ChromDict\n",
    "from handygenome.variant.vcfspec import Vcfspec\n",
    "from handygenome.sv.breakends import Breakends\n",
    "from handygenome.variant.variantplus import VariantPlus, VariantPlusList\n",
    "from handygenome.igvhandle import IGVHandle"
   ]
  },
  {
   "cell_type": "code",
   "execution_count": 3,
   "id": "874d8202-d718-4973-b31b-065583d076e0",
   "metadata": {},
   "outputs": [],
   "source": [
    "FASTA_PATH_HG19 = \"/home/users/data/01_reference/human_g1k_v37/human_g1k_v37.fasta\"\n",
    "FASTA_PATH_HG38 = \"/home/users/data/01_reference/human_g1k_v38/Homo_sapiens_assembly38.fasta\"\n",
    "\n",
    "FASTA_HG19 = pysam.FastaFile(FASTA_PATH_HG19)\n",
    "FASTA_HG38 = pysam.FastaFile(FASTA_PATH_HG38)\n",
    "CHROMDICT_HG19 = ChromDict(fasta_path=FASTA_PATH_HG19)\n",
    "CHROMDICT_HG38 = ChromDict(fasta_path=FASTA_PATH_HG38)"
   ]
  },
  {
   "cell_type": "markdown",
   "id": "1f6f47ef-3f66-4bdc-9b31-8958842b02ea",
   "metadata": {
    "tags": []
   },
   "source": [
    "# FetchedReads performance check"
   ]
  },
  {
   "cell_type": "code",
   "execution_count": 21,
   "id": "9ab71eb7-ba5a-4a7e-84f6-42105cba41db",
   "metadata": {},
   "outputs": [],
   "source": [
    "from handygenome.read import fetchcache\n",
    "fetchedrefseq = fetchcache.FetchedRefseq(FASTA_HG19)"
   ]
  },
  {
   "cell_type": "code",
   "execution_count": 22,
   "id": "3611be16-46f1-49c5-9157-ce1fe0927adb",
   "metadata": {},
   "outputs": [
    {
     "name": "stdout",
     "output_type": "stream",
     "text": [
      "fasta fetch\n"
     ]
    },
    {
     "data": {
      "text/plain": [
       "'ATCATTTCACTC'"
      ]
     },
     "execution_count": 22,
     "metadata": {},
     "output_type": "execute_result"
    }
   ],
   "source": [
    "fetchedrefseq.fetch('1', 12345678, 12345690)"
   ]
  },
  {
   "cell_type": "code",
   "execution_count": 23,
   "id": "b8693f73-20e0-4d18-822a-ef9e044532d2",
   "metadata": {},
   "outputs": [
    {
     "data": {
      "text/plain": [
       "<FetchedRefseq object, which consists of:\n",
       "\t<FetchedRefseqSinglechrom object (chrom=1, clusters=[<FetchedRefseqCluster object (chrom:1, start0:12345478, end0:12345890)>])>\n",
       ">"
      ]
     },
     "execution_count": 23,
     "metadata": {},
     "output_type": "execute_result"
    }
   ],
   "source": [
    "fetchedrefseq"
   ]
  },
  {
   "cell_type": "code",
   "execution_count": 24,
   "id": "5ab517b8-d05b-4d23-b274-7a451f8134d6",
   "metadata": {},
   "outputs": [
    {
     "data": {
      "text/plain": [
       "'CACTCTACATACGT'"
      ]
     },
     "execution_count": 24,
     "metadata": {},
     "output_type": "execute_result"
    }
   ],
   "source": [
    "fetchedrefseq.fetch('1', 12345685, 12345699)"
   ]
  },
  {
   "cell_type": "code",
   "execution_count": 25,
   "id": "f7512ba7-ef2d-4151-a740-a80726382406",
   "metadata": {},
   "outputs": [
    {
     "data": {
      "text/plain": [
       "<FetchedRefseq object, which consists of:\n",
       "\t<FetchedRefseqSinglechrom object (chrom=1, clusters=[<FetchedRefseqCluster object (chrom:1, start0:12345478, end0:12345890)>])>\n",
       ">"
      ]
     },
     "execution_count": 25,
     "metadata": {},
     "output_type": "execute_result"
    }
   ],
   "source": [
    "fetchedrefseq"
   ]
  },
  {
   "cell_type": "code",
   "execution_count": 26,
   "id": "e4b20254-b62b-4285-b57b-ca0ce930d731",
   "metadata": {},
   "outputs": [
    {
     "data": {
      "text/plain": [
       "'CACTCTACATACGT'"
      ]
     },
     "execution_count": 26,
     "metadata": {},
     "output_type": "execute_result"
    }
   ],
   "source": [
    "FASTA_HG19.fetch('1', 12345685, 12345699)"
   ]
  },
  {
   "cell_type": "code",
   "execution_count": 27,
   "id": "2c67265b-db0d-445d-aaf8-b7697f3541db",
   "metadata": {},
   "outputs": [
    {
     "name": "stdout",
     "output_type": "stream",
     "text": [
      "868 ns ± 1.13 ns per loop (mean ± std. dev. of 7 runs, 1,000,000 loops each)\n"
     ]
    }
   ],
   "source": [
    "%%timeit\n",
    "FASTA_HG19.fetch('1', 12345685, 12345699)"
   ]
  },
  {
   "cell_type": "code",
   "execution_count": 28,
   "id": "dfb9d6e8-5da1-4a69-9125-5a5ff73d817c",
   "metadata": {},
   "outputs": [
    {
     "name": "stdout",
     "output_type": "stream",
     "text": [
      "10.4 ms ± 58.2 µs per loop (mean ± std. dev. of 7 runs, 100 loops each)\n"
     ]
    }
   ],
   "source": [
    "%%timeit\n",
    "fetchedrefseq.fetch('1', 12345685, 12345699)"
   ]
  },
  {
   "cell_type": "code",
   "execution_count": null,
   "id": "c595e46c-20cd-4381-856e-bac63e5f0469",
   "metadata": {},
   "outputs": [],
   "source": []
  },
  {
   "cell_type": "code",
   "execution_count": 29,
   "id": "26e957a8-407c-4a11-a1ad-208f02112c98",
   "metadata": {},
   "outputs": [],
   "source": [
    "bam = pysam.AlignmentFile('/home/users/team_projects/Lung_Cancer_Panel_data/03_Data_from_YTKim/02_BAM/14/LU-14.tumor.bam')"
   ]
  },
  {
   "cell_type": "code",
   "execution_count": 78,
   "id": "6bde4244-83d1-416b-aa9e-a7d58b3da752",
   "metadata": {},
   "outputs": [],
   "source": [
    "chrom = '1'\n",
    "start0 = 12335685\n",
    "end0 = start0 + 100\n",
    "\n",
    "fetchedreads = fetchcache.FetchedReads(bam)\n",
    "reads = list(fetchedreads.fetch(chrom, start0, end0))"
   ]
  },
  {
   "cell_type": "code",
   "execution_count": 79,
   "id": "282d5a9d-584e-4b9e-b983-cc4c74dc8893",
   "metadata": {},
   "outputs": [
    {
     "data": {
      "text/plain": [
       "<FetchedReads object, which consists of:\n",
       "\t<FetchedReadsSinglechrom object (chrom=1, clusters=[<FetchedReadsCluster object (chrom=1, fetch_start0=12,335,485, fetch_end0=12,335,985)>])>\n",
       ">"
      ]
     },
     "execution_count": 79,
     "metadata": {},
     "output_type": "execute_result"
    }
   ],
   "source": [
    "fetchedreads"
   ]
  },
  {
   "cell_type": "code",
   "execution_count": 84,
   "id": "d5b8b972-5681-4169-8ff1-7d14a9d789fa",
   "metadata": {},
   "outputs": [
    {
     "name": "stdout",
     "output_type": "stream",
     "text": [
      "2.82 ms ± 70.5 µs per loop (mean ± std. dev. of 10 runs, 1 loop each)\n"
     ]
    }
   ],
   "source": [
    "%%timeit -n 1 -r 10\n",
    "reads = list(bam.fetch(chrom, start0, end0))"
   ]
  },
  {
   "cell_type": "code",
   "execution_count": 85,
   "id": "17246e82-f655-4b40-807e-196f3399fb2a",
   "metadata": {},
   "outputs": [
    {
     "name": "stdout",
     "output_type": "stream",
     "text": [
      "10.8 ms ± 573 µs per loop (mean ± std. dev. of 10 runs, 1 loop each)\n"
     ]
    }
   ],
   "source": [
    "%%timeit -n 1 -r 10\n",
    "reads = list(fetchedreads.fetch(chrom, start0, end0))"
   ]
  },
  {
   "cell_type": "code",
   "execution_count": 86,
   "id": "9d8280aa-b55d-492e-acd1-4328be61b128",
   "metadata": {},
   "outputs": [
    {
     "name": "stdout",
     "output_type": "stream",
     "text": [
      "22 ms ± 1.32 ms per loop (mean ± std. dev. of 10 runs, 1 loop each)\n"
     ]
    }
   ],
   "source": [
    "%%timeit -n 1 -r 10\n",
    "fetchedreads = fetchcache.FetchedReads(bam)\n",
    "reads = list(fetchedreads.fetch(chrom, start0, end0))"
   ]
  },
  {
   "cell_type": "code",
   "execution_count": 93,
   "id": "d1a6fbde-b5c6-4403-bc34-d845fad57185",
   "metadata": {
    "scrolled": true,
    "tags": []
   },
   "outputs": [
    {
     "data": {
      "text/plain": [
       "OrderedDict([(ReadUID(qname='ST-E00130:582:HC7KJALXX:7:2105:18629:38544', flag=83, chrom='1', pos0=12335336),\n",
       "              <pysam.libcalignedsegment.AlignedSegment at 0x2b3f6a14f1c0>),\n",
       "             (ReadUID(qname='ST-E00130:582:HC7KJALXX:5:1101:27306:54278', flag=99, chrom='1', pos0=12335338),\n",
       "              <pysam.libcalignedsegment.AlignedSegment at 0x2b3f6a14fd00>),\n",
       "             (ReadUID(qname='ST-E00130:582:HC7KJALXX:2:1207:20963:47404', flag=83, chrom='1', pos0=12335339),\n",
       "              <pysam.libcalignedsegment.AlignedSegment at 0x2b3f6a14fee0>),\n",
       "             (ReadUID(qname='ST-E00130:582:HC7KJALXX:8:2105:23277:22018', flag=99, chrom='1', pos0=12335340),\n",
       "              <pysam.libcalignedsegment.AlignedSegment at 0x2b3f6a14f5e0>),\n",
       "             (ReadUID(qname='ST-E00130:582:HC7KJALXX:5:2103:21115:65353', flag=83, chrom='1', pos0=12335346),\n",
       "              <pysam.libcalignedsegment.AlignedSegment at 0x2b3f6972f820>),\n",
       "             (ReadUID(qname='ST-E00130:582:HC7KJALXX:2:1108:17969:39440', flag=147, chrom='1', pos0=12335348),\n",
       "              <pysam.libcalignedsegment.AlignedSegment at 0x2b3f6972fac0>),\n",
       "             (ReadUID(qname='ST-E00130:582:HC7KJALXX:4:2115:8207:10609', flag=83, chrom='1', pos0=12335350),\n",
       "              <pysam.libcalignedsegment.AlignedSegment at 0x2b3f6972f8e0>),\n",
       "             (ReadUID(qname='ST-E00130:582:HC7KJALXX:4:1122:32187:42657', flag=99, chrom='1', pos0=12335353),\n",
       "              <pysam.libcalignedsegment.AlignedSegment at 0x2b3f6972f220>),\n",
       "             (ReadUID(qname='ST-E00130:582:HC7KJALXX:5:1109:28331:13896', flag=83, chrom='1', pos0=12335354),\n",
       "              <pysam.libcalignedsegment.AlignedSegment at 0x2b3f6a14bbe0>),\n",
       "             (ReadUID(qname='ST-E00130:582:HC7KJALXX:5:2223:8044:58884', flag=99, chrom='1', pos0=12335366),\n",
       "              <pysam.libcalignedsegment.AlignedSegment at 0x2b3f6a14bc40>),\n",
       "             (ReadUID(qname='ST-E00130:582:HC7KJALXX:5:1106:28584:26677', flag=147, chrom='1', pos0=12335367),\n",
       "              <pysam.libcalignedsegment.AlignedSegment at 0x2b3f6a14b280>),\n",
       "             (ReadUID(qname='ST-E00130:582:HC7KJALXX:2:1102:12560:72789', flag=147, chrom='1', pos0=12335370),\n",
       "              <pysam.libcalignedsegment.AlignedSegment at 0x2b3f6a14b340>),\n",
       "             (ReadUID(qname='ST-E00130:582:HC7KJALXX:6:1219:12520:47474', flag=163, chrom='1', pos0=12335374),\n",
       "              <pysam.libcalignedsegment.AlignedSegment at 0x2b3f6a14b0a0>),\n",
       "             (ReadUID(qname='ST-E00130:582:HC7KJALXX:1:1121:22556:7233', flag=83, chrom='1', pos0=12335374),\n",
       "              <pysam.libcalignedsegment.AlignedSegment at 0x2b3f6a14b760>),\n",
       "             (ReadUID(qname='ST-E00130:582:HC7KJALXX:8:2204:22962:6847', flag=147, chrom='1', pos0=12335374),\n",
       "              <pysam.libcalignedsegment.AlignedSegment at 0x2b3f6a14b460>),\n",
       "             (ReadUID(qname='ST-E00130:582:HC7KJALXX:3:2215:14012:4983', flag=99, chrom='1', pos0=12335391),\n",
       "              <pysam.libcalignedsegment.AlignedSegment at 0x2b3f6a14b820>),\n",
       "             (ReadUID(qname='ST-E00130:582:HC7KJALXX:2:2122:28036:25903', flag=163, chrom='1', pos0=12335392),\n",
       "              <pysam.libcalignedsegment.AlignedSegment at 0x2b3f6a14b580>),\n",
       "             (ReadUID(qname='ST-E00130:582:HC7KJALXX:1:2218:28513:37313', flag=83, chrom='1', pos0=12335395),\n",
       "              <pysam.libcalignedsegment.AlignedSegment at 0x2b3f6a150d60>),\n",
       "             (ReadUID(qname='ST-E00130:582:HC7KJALXX:5:1120:25093:50269', flag=99, chrom='1', pos0=12335414),\n",
       "              <pysam.libcalignedsegment.AlignedSegment at 0x2b3f6a1500a0>),\n",
       "             (ReadUID(qname='ST-E00130:582:HC7KJALXX:1:1220:16985:41216', flag=83, chrom='1', pos0=12335421),\n",
       "              <pysam.libcalignedsegment.AlignedSegment at 0x2b3f6a150b80>),\n",
       "             (ReadUID(qname='ST-E00130:582:HC7KJALXX:5:2105:17300:35326', flag=147, chrom='1', pos0=12335427),\n",
       "              <pysam.libcalignedsegment.AlignedSegment at 0x2b3f6a150ca0>),\n",
       "             (ReadUID(qname='ST-E00130:582:HC7KJALXX:3:2218:3407:50076', flag=83, chrom='1', pos0=12335433),\n",
       "              <pysam.libcalignedsegment.AlignedSegment at 0x2b3f6a14ea00>),\n",
       "             (ReadUID(qname='ST-E00130:582:HC7KJALXX:4:2124:14204:46525', flag=83, chrom='1', pos0=12335440),\n",
       "              <pysam.libcalignedsegment.AlignedSegment at 0x2b3f6a14eca0>),\n",
       "             (ReadUID(qname='ST-E00130:582:HC7KJALXX:3:1207:17442:51746', flag=83, chrom='1', pos0=12335446),\n",
       "              <pysam.libcalignedsegment.AlignedSegment at 0x2b3f6a14e160>),\n",
       "             (ReadUID(qname='ST-E00130:582:HC7KJALXX:6:1205:5030:5071', flag=147, chrom='1', pos0=12335448),\n",
       "              <pysam.libcalignedsegment.AlignedSegment at 0x2b3f6a14e280>),\n",
       "             (ReadUID(qname='ST-E00130:582:HC7KJALXX:7:1210:28554:29437', flag=147, chrom='1', pos0=12335448),\n",
       "              <pysam.libcalignedsegment.AlignedSegment at 0x2b3f6a14e040>),\n",
       "             (ReadUID(qname='ST-E00130:582:HC7KJALXX:7:1224:24779:71875', flag=147, chrom='1', pos0=12335458),\n",
       "              <pysam.libcalignedsegment.AlignedSegment at 0x2b3f6a14e7c0>),\n",
       "             (ReadUID(qname='ST-E00130:582:HC7KJALXX:6:1104:26758:41972', flag=83, chrom='1', pos0=12335459),\n",
       "              <pysam.libcalignedsegment.AlignedSegment at 0x2b3f6a14e2e0>),\n",
       "             (ReadUID(qname='ST-E00130:582:HC7KJALXX:4:2104:22912:51482', flag=99, chrom='1', pos0=12335460),\n",
       "              <pysam.libcalignedsegment.AlignedSegment at 0x2b3f6a14e4c0>),\n",
       "             (ReadUID(qname='ST-E00130:582:HC7KJALXX:3:1211:2240:27380', flag=83, chrom='1', pos0=12335460),\n",
       "              <pysam.libcalignedsegment.AlignedSegment at 0x2b3f6a14ee80>),\n",
       "             (ReadUID(qname='ST-E00130:582:HC7KJALXX:5:1101:27306:54278', flag=147, chrom='1', pos0=12335467),\n",
       "              <pysam.libcalignedsegment.AlignedSegment at 0x2b3f6a14e0a0>),\n",
       "             (ReadUID(qname='ST-E00130:582:HC7KJALXX:8:1218:14174:43800', flag=163, chrom='1', pos0=12335471),\n",
       "              <pysam.libcalignedsegment.AlignedSegment at 0x2b3f6a14e8e0>),\n",
       "             (ReadUID(qname='ST-E00130:582:HC7KJALXX:4:1105:10115:21755', flag=83, chrom='1', pos0=12335478),\n",
       "              <pysam.libcalignedsegment.AlignedSegment at 0x2b3f6a14e220>),\n",
       "             (ReadUID(qname='ST-E00130:582:HC7KJALXX:7:1201:2818:6196', flag=83, chrom='1', pos0=12335483),\n",
       "              <pysam.libcalignedsegment.AlignedSegment at 0x2b3f6a943be0>),\n",
       "             (ReadUID(qname='ST-E00130:582:HC7KJALXX:3:2215:14012:4983', flag=147, chrom='1', pos0=12335501),\n",
       "              <pysam.libcalignedsegment.AlignedSegment at 0x2b3f6a943160>),\n",
       "             (ReadUID(qname='ST-E00130:582:HC7KJALXX:4:2202:26788:55174', flag=83, chrom='1', pos0=12335503),\n",
       "              <pysam.libcalignedsegment.AlignedSegment at 0x2b3f6a943220>),\n",
       "             (ReadUID(qname='ST-E00130:582:HC7KJALXX:7:1117:2605:46683', flag=99, chrom='1', pos0=12335505),\n",
       "              <pysam.libcalignedsegment.AlignedSegment at 0x2b3f6a943820>),\n",
       "             (ReadUID(qname='ST-E00130:582:HC7KJALXX:5:1122:23652:15813', flag=163, chrom='1', pos0=12335514),\n",
       "              <pysam.libcalignedsegment.AlignedSegment at 0x2b3f6a9430a0>),\n",
       "             (ReadUID(qname='ST-E00130:582:HC7KJALXX:3:2221:9922:59956', flag=163, chrom='1', pos0=12335520),\n",
       "              <pysam.libcalignedsegment.AlignedSegment at 0x2b3f6a943d00>),\n",
       "             (ReadUID(qname='ST-E00130:582:HC7KJALXX:8:1218:12946:10978', flag=99, chrom='1', pos0=12335522),\n",
       "              <pysam.libcalignedsegment.AlignedSegment at 0x2b3f6a943a00>),\n",
       "             (ReadUID(qname='ST-E00130:582:HC7KJALXX:1:1118:21237:52414', flag=99, chrom='1', pos0=12335527),\n",
       "              <pysam.libcalignedsegment.AlignedSegment at 0x2b3f6a943700>),\n",
       "             (ReadUID(qname='ST-E00130:582:HC7KJALXX:5:2223:30381:44591', flag=163, chrom='1', pos0=12335529),\n",
       "              <pysam.libcalignedsegment.AlignedSegment at 0x2b3f6a942f40>),\n",
       "             (ReadUID(qname='ST-E00130:582:HC7KJALXX:1:2105:22841:71998', flag=147, chrom='1', pos0=12335531),\n",
       "              <pysam.libcalignedsegment.AlignedSegment at 0x2b3f6a942280>),\n",
       "             (ReadUID(qname='ST-E00130:582:HC7KJALXX:6:2124:1651:54840', flag=99, chrom='1', pos0=12335533),\n",
       "              <pysam.libcalignedsegment.AlignedSegment at 0x2b3f6a942d00>),\n",
       "             (ReadUID(qname='ST-E00130:582:HC7KJALXX:7:2223:30452:35678', flag=99, chrom='1', pos0=12335538),\n",
       "              <pysam.libcalignedsegment.AlignedSegment at 0x2b3f6a942be0>),\n",
       "             (ReadUID(qname='ST-E00130:582:HC7KJALXX:3:1220:28006:59182', flag=99, chrom='1', pos0=12335547),\n",
       "              <pysam.libcalignedsegment.AlignedSegment at 0x2b3f6a942820>),\n",
       "             (ReadUID(qname='ST-E00130:582:HC7KJALXX:3:2207:6238:44152', flag=83, chrom='1', pos0=12335551),\n",
       "              <pysam.libcalignedsegment.AlignedSegment at 0x2b3f6a942a00>),\n",
       "             (ReadUID(qname='ST-E00130:582:HC7KJALXX:5:2111:30239:37911', flag=163, chrom='1', pos0=12335554),\n",
       "              <pysam.libcalignedsegment.AlignedSegment at 0x2b3f6a942220>),\n",
       "             (ReadUID(qname='ST-E00130:582:HC7KJALXX:8:2107:4533:67111', flag=163, chrom='1', pos0=12335554),\n",
       "              <pysam.libcalignedsegment.AlignedSegment at 0x2b3f6a942700>),\n",
       "             (ReadUID(qname='ST-E00130:582:HC7KJALXX:7:1106:4980:28224', flag=163, chrom='1', pos0=12335555),\n",
       "              <pysam.libcalignedsegment.AlignedSegment at 0x2b3f694f1d60>),\n",
       "             (ReadUID(qname='ST-E00130:582:HC7KJALXX:4:2217:9749:34096', flag=99, chrom='1', pos0=12335557),\n",
       "              <pysam.libcalignedsegment.AlignedSegment at 0x2b3f697be400>),\n",
       "             (ReadUID(qname='ST-E00130:582:HC7KJALXX:5:1218:11972:23319', flag=99, chrom='1', pos0=12335559),\n",
       "              <pysam.libcalignedsegment.AlignedSegment at 0x2b3f6a941f40>),\n",
       "             (ReadUID(qname='ST-E00130:582:HC7KJALXX:3:1207:29934:19416', flag=147, chrom='1', pos0=12335567),\n",
       "              <pysam.libcalignedsegment.AlignedSegment at 0x2b3f6a941d00>),\n",
       "             (ReadUID(qname='ST-E00130:582:HC7KJALXX:5:2221:1357:21350', flag=163, chrom='1', pos0=12335572),\n",
       "              <pysam.libcalignedsegment.AlignedSegment at 0x2b3f6a941940>),\n",
       "             (ReadUID(qname='ST-E00130:582:HC7KJALXX:7:1108:30036:58655', flag=147, chrom='1', pos0=12335591),\n",
       "              <pysam.libcalignedsegment.AlignedSegment at 0x2b3f6a941e80>),\n",
       "             (ReadUID(qname='ST-E00130:582:HC7KJALXX:5:1207:14732:15408', flag=163, chrom='1', pos0=12335595),\n",
       "              <pysam.libcalignedsegment.AlignedSegment at 0x2b3f6a941be0>),\n",
       "             (ReadUID(qname='ST-E00130:582:HC7KJALXX:3:1102:31639:58374', flag=147, chrom='1', pos0=12335600),\n",
       "              <pysam.libcalignedsegment.AlignedSegment at 0x2b3f6a9419a0>),\n",
       "             (ReadUID(qname='ST-E00130:582:HC7KJALXX:6:1219:12520:47474', flag=83, chrom='1', pos0=12335600),\n",
       "              <pysam.libcalignedsegment.AlignedSegment at 0x2b3f6a941d60>),\n",
       "             (ReadUID(qname='ST-E00130:582:HC7KJALXX:8:2211:13433:32250', flag=147, chrom='1', pos0=12335601),\n",
       "              <pysam.libcalignedsegment.AlignedSegment at 0x2b3f6a941dc0>),\n",
       "             (ReadUID(qname='ST-E00130:582:HC7KJALXX:5:1218:13139:52977', flag=99, chrom='1', pos0=12335609),\n",
       "              <pysam.libcalignedsegment.AlignedSegment at 0x2b3f6a941280>),\n",
       "             (ReadUID(qname='ST-E00130:582:HC7KJALXX:4:2201:21339:52133', flag=147, chrom='1', pos0=12335611),\n",
       "              <pysam.libcalignedsegment.AlignedSegment at 0x2b3f6a941ac0>),\n",
       "             (ReadUID(qname='ST-E00130:582:HC7KJALXX:2:2116:7720:33111', flag=163, chrom='1', pos0=12335614),\n",
       "              <pysam.libcalignedsegment.AlignedSegment at 0x2b3f6a941100>),\n",
       "             (ReadUID(qname='ST-E00130:582:HC7KJALXX:5:2223:30381:44591', flag=83, chrom='1', pos0=12335621),\n",
       "              <pysam.libcalignedsegment.AlignedSegment at 0x2b3f6a947c40>),\n",
       "             (ReadUID(qname='ST-E00130:582:HC7KJALXX:3:2109:32461:15004', flag=163, chrom='1', pos0=12335627),\n",
       "              <pysam.libcalignedsegment.AlignedSegment at 0x2b3f6a947f40>),\n",
       "             (ReadUID(qname='ST-E00130:582:HC7KJALXX:2:2122:28036:25903', flag=83, chrom='1', pos0=12335629),\n",
       "              <pysam.libcalignedsegment.AlignedSegment at 0x2b3f6a947b20>),\n",
       "             (ReadUID(qname='ST-E00130:582:HC7KJALXX:2:1112:26737:35537', flag=99, chrom='1', pos0=12335632),\n",
       "              <pysam.libcalignedsegment.AlignedSegment at 0x2b3f6a947400>),\n",
       "             (ReadUID(qname='ST-E00130:582:HC7KJALXX:5:2223:8044:58884', flag=147, chrom='1', pos0=12335639),\n",
       "              <pysam.libcalignedsegment.AlignedSegment at 0x2b3f6a947ca0>),\n",
       "             (ReadUID(qname='ST-E00130:582:HC7KJALXX:6:2209:27509:58673', flag=163, chrom='1', pos0=12335646),\n",
       "              <pysam.libcalignedsegment.AlignedSegment at 0x2b3f6a947520>),\n",
       "             (ReadUID(qname='ST-E00130:582:HC7KJALXX:1:1118:21237:52414', flag=147, chrom='1', pos0=12335655),\n",
       "              <pysam.libcalignedsegment.AlignedSegment at 0x2b3f6a947a00>),\n",
       "             (ReadUID(qname='ST-E00130:582:HC7KJALXX:2:1114:20202:39405', flag=163, chrom='1', pos0=12335667),\n",
       "              <pysam.libcalignedsegment.AlignedSegment at 0x2b3f6a9476a0>),\n",
       "             (ReadUID(qname='ST-E00130:582:HC7KJALXX:6:2124:1651:54840', flag=147, chrom='1', pos0=12335667),\n",
       "              <pysam.libcalignedsegment.AlignedSegment at 0x2b3f6a9483a0>),\n",
       "             (ReadUID(qname='ST-E00130:582:HC7KJALXX:3:1220:28006:59182', flag=147, chrom='1', pos0=12335680),\n",
       "              <pysam.libcalignedsegment.AlignedSegment at 0x2b3f6a948220>),\n",
       "             (ReadUID(qname='ST-E00130:582:HC7KJALXX:7:1118:2930:63243', flag=163, chrom='1', pos0=12335686),\n",
       "              <pysam.libcalignedsegment.AlignedSegment at 0x2b3f6a948400>),\n",
       "             (ReadUID(qname='ST-E00130:582:HC7KJALXX:8:2118:5761:41778', flag=163, chrom='1', pos0=12335688),\n",
       "              <pysam.libcalignedsegment.AlignedSegment at 0x2b3f6a9484c0>),\n",
       "             (ReadUID(qname='ST-E00130:582:HC7KJALXX:8:1214:27793:3296', flag=163, chrom='1', pos0=12335697),\n",
       "              <pysam.libcalignedsegment.AlignedSegment at 0x2b3f6a945e80>),\n",
       "             (ReadUID(qname='ST-E00130:582:HC7KJALXX:5:1122:23652:15813', flag=83, chrom='1', pos0=12335697),\n",
       "              <pysam.libcalignedsegment.AlignedSegment at 0x2b3f6a9458e0>),\n",
       "             (ReadUID(qname='ST-E00130:582:HC7KJALXX:5:1120:25093:50269', flag=147, chrom='1', pos0=12335703),\n",
       "              <pysam.libcalignedsegment.AlignedSegment at 0x2b3f6a9452e0>),\n",
       "             (ReadUID(qname='ST-E00130:582:HC7KJALXX:8:2105:23277:22018', flag=147, chrom='1', pos0=12335703),\n",
       "              <pysam.libcalignedsegment.AlignedSegment at 0x2b3f6a945880>),\n",
       "             (ReadUID(qname='ST-E00130:582:HC7KJALXX:6:1102:23571:56598', flag=163, chrom='1', pos0=12335712),\n",
       "              <pysam.libcalignedsegment.AlignedSegment at 0x2b3f6a945760>),\n",
       "             (ReadUID(qname='ST-E00130:582:HC7KJALXX:8:2107:4533:67111', flag=83, chrom='1', pos0=12335713),\n",
       "              <pysam.libcalignedsegment.AlignedSegment at 0x2b3f6a9450a0>),\n",
       "             (ReadUID(qname='ST-E00130:582:HC7KJALXX:7:2223:30452:35678', flag=147, chrom='1', pos0=12335716),\n",
       "              <pysam.libcalignedsegment.AlignedSegment at 0x2b3f6ab8f700>),\n",
       "             (ReadUID(qname='ST-E00130:582:HC7KJALXX:4:2104:22912:51482', flag=147, chrom='1', pos0=12335721),\n",
       "              <pysam.libcalignedsegment.AlignedSegment at 0x2b3f6ab8ffa0>),\n",
       "             (ReadUID(qname='ST-E00130:582:HC7KJALXX:1:2204:25794:10943', flag=99, chrom='1', pos0=12335723),\n",
       "              <pysam.libcalignedsegment.AlignedSegment at 0x2b3f6ab8f760>),\n",
       "             (ReadUID(qname='ST-E00130:582:HC7KJALXX:1:2206:13190:45470', flag=99, chrom='1', pos0=12335723),\n",
       "              <pysam.libcalignedsegment.AlignedSegment at 0x2b3f6ab8fa00>),\n",
       "             (ReadUID(qname='ST-E00130:582:HC7KJALXX:3:2214:5619:67797', flag=163, chrom='1', pos0=12335732),\n",
       "              <pysam.libcalignedsegment.AlignedSegment at 0x2b3f6ab8f280>),\n",
       "             (ReadUID(qname='ST-E00130:582:HC7KJALXX:4:1122:32187:42657', flag=147, chrom='1', pos0=12335744),\n",
       "              <pysam.libcalignedsegment.AlignedSegment at 0x2b3f6ab8fac0>),\n",
       "             (ReadUID(qname='ST-E00130:582:HC7KJALXX:2:1112:25550:62277', flag=99, chrom='1', pos0=12335765),\n",
       "              <pysam.libcalignedsegment.AlignedSegment at 0x2b3f6ab8f2e0>),\n",
       "             (ReadUID(qname='ST-E00130:582:HC7KJALXX:7:1117:2605:46683', flag=147, chrom='1', pos0=12335766),\n",
       "              <pysam.libcalignedsegment.AlignedSegment at 0x2b3f6ab8f880>),\n",
       "             (ReadUID(qname='ST-E00130:582:HC7KJALXX:4:1121:28239:55860', flag=163, chrom='1', pos0=12335767),\n",
       "              <pysam.libcalignedsegment.AlignedSegment at 0x2b3f6ab8f040>),\n",
       "             (ReadUID(qname='ST-E00130:582:HC7KJALXX:5:2221:1357:21350', flag=83, chrom='1', pos0=12335777),\n",
       "              <pysam.libcalignedsegment.AlignedSegment at 0x2b3f6ab8fee0>),\n",
       "             (ReadUID(qname='ST-E00130:582:HC7KJALXX:6:1116:8795:29209', flag=163, chrom='1', pos0=12335778),\n",
       "              <pysam.libcalignedsegment.AlignedSegment at 0x2b3f6ab8fe20>),\n",
       "             (ReadUID(qname='ST-E00130:582:HC7KJALXX:5:1224:12134:28453', flag=99, chrom='1', pos0=12335779),\n",
       "              <pysam.libcalignedsegment.AlignedSegment at 0x2b3f6ab8f100>),\n",
       "             (ReadUID(qname='ST-E00130:582:HC7KJALXX:7:1106:4980:28224', flag=83, chrom='1', pos0=12335784),\n",
       "              <pysam.libcalignedsegment.AlignedSegment at 0x2b3f6ab8ff40>),\n",
       "             (ReadUID(qname='ST-E00130:582:HC7KJALXX:8:1218:12946:10978', flag=147, chrom='1', pos0=12335788),\n",
       "              <pysam.libcalignedsegment.AlignedSegment at 0x2b3f6ab8f5e0>),\n",
       "             (ReadUID(qname='ST-E00130:582:HC7KJALXX:5:2202:4594:30545', flag=99, chrom='1', pos0=12335797),\n",
       "              <pysam.libcalignedsegment.AlignedSegment at 0x2b3f6ab8f340>),\n",
       "             (ReadUID(qname='ST-E00130:582:HC7KJALXX:2:1213:12012:63402', flag=99, chrom='1', pos0=12335802),\n",
       "              <pysam.libcalignedsegment.AlignedSegment at 0x2b3f6ab8f580>),\n",
       "             (ReadUID(qname='ST-E00130:582:HC7KJALXX:6:2209:27509:58673', flag=83, chrom='1', pos0=12335804),\n",
       "              <pysam.libcalignedsegment.AlignedSegment at 0x2b3f6ab8f9a0>),\n",
       "             (ReadUID(qname='ST-E00130:582:HC7KJALXX:5:1207:14732:15408', flag=83, chrom='1', pos0=12335807),\n",
       "              <pysam.libcalignedsegment.AlignedSegment at 0x2b3f6ab8fa60>),\n",
       "             (ReadUID(qname='ST-E00130:582:HC7KJALXX:3:1124:19177:35449', flag=163, chrom='1', pos0=12335811),\n",
       "              <pysam.libcalignedsegment.AlignedSegment at 0x2b3f6ab8f160>),\n",
       "             (ReadUID(qname='ST-E00130:582:HC7KJALXX:7:2105:9303:17254', flag=163, chrom='1', pos0=12335811),\n",
       "              <pysam.libcalignedsegment.AlignedSegment at 0x2b3f6ab8de80>),\n",
       "             (ReadUID(qname='ST-E00130:582:HC7KJALXX:1:2223:2696:22827', flag=163, chrom='1', pos0=12335819),\n",
       "              <pysam.libcalignedsegment.AlignedSegment at 0x2b3f6ab8de20>),\n",
       "             (ReadUID(qname='ST-E00130:582:HC7KJALXX:3:2221:9922:59956', flag=83, chrom='1', pos0=12335819),\n",
       "              <pysam.libcalignedsegment.AlignedSegment at 0x2b3f6ab8d6a0>),\n",
       "             (ReadUID(qname='ST-E00130:582:HC7KJALXX:5:1218:11972:23319', flag=147, chrom='1', pos0=12335824),\n",
       "              <pysam.libcalignedsegment.AlignedSegment at 0x2b3f6ab8d820>),\n",
       "             (ReadUID(qname='ST-E00130:582:HC7KJALXX:3:1101:20791:54489', flag=99, chrom='1', pos0=12335827),\n",
       "              <pysam.libcalignedsegment.AlignedSegment at 0x2b3f6ab8db20>),\n",
       "             (ReadUID(qname='ST-E00130:582:HC7KJALXX:2:1112:26737:35537', flag=147, chrom='1', pos0=12335828),\n",
       "              <pysam.libcalignedsegment.AlignedSegment at 0x2b3f6ab8dee0>),\n",
       "             (ReadUID(qname='ST-E00130:582:HC7KJALXX:8:1119:5710:2030', flag=99, chrom='1', pos0=12335831),\n",
       "              <pysam.libcalignedsegment.AlignedSegment at 0x2b3f6ab8dfa0>),\n",
       "             (ReadUID(qname='ST-E00130:582:HC7KJALXX:1:2204:25794:10943', flag=147, chrom='1', pos0=12335834),\n",
       "              <pysam.libcalignedsegment.AlignedSegment at 0x2b3f6ab8dca0>),\n",
       "             (ReadUID(qname='ST-E00130:582:HC7KJALXX:5:2111:30239:37911', flag=83, chrom='1', pos0=12335834),\n",
       "              <pysam.libcalignedsegment.AlignedSegment at 0x2b3f6ab8d880>),\n",
       "             (ReadUID(qname='ST-E00130:582:HC7KJALXX:2:2217:10805:68412', flag=163, chrom='1', pos0=12335836),\n",
       "              <pysam.libcalignedsegment.AlignedSegment at 0x2b3f6ab8dd00>),\n",
       "             (ReadUID(qname='ST-E00130:582:HC7KJALXX:5:1218:13139:52977', flag=147, chrom='1', pos0=12335843),\n",
       "              <pysam.libcalignedsegment.AlignedSegment at 0x2b3f6ab8d700>),\n",
       "             (ReadUID(qname='ST-E00130:582:HC7KJALXX:2:1114:20202:39405', flag=83, chrom='1', pos0=12335852),\n",
       "              <pysam.libcalignedsegment.AlignedSegment at 0x2b3f6ab8ddc0>),\n",
       "             (ReadUID(qname='ST-E00130:582:HC7KJALXX:8:1116:24292:29156', flag=99, chrom='1', pos0=12335854),\n",
       "              <pysam.libcalignedsegment.AlignedSegment at 0x2b3f695ba2e0>),\n",
       "             (ReadUID(qname='ST-E00130:582:HC7KJALXX:4:2118:13007:23354', flag=163, chrom='1', pos0=12335858),\n",
       "              <pysam.libcalignedsegment.AlignedSegment at 0x2b3f6a1476a0>),\n",
       "             (ReadUID(qname='ST-E00130:582:HC7KJALXX:3:2215:4168:9976', flag=163, chrom='1', pos0=12335867),\n",
       "              <pysam.libcalignedsegment.AlignedSegment at 0x2b3f6a1472e0>),\n",
       "             (ReadUID(qname='ST-E00130:582:HC7KJALXX:8:1218:14174:43800', flag=83, chrom='1', pos0=12335870),\n",
       "              <pysam.libcalignedsegment.AlignedSegment at 0x2b3f6a147a00>),\n",
       "             (ReadUID(qname='ST-E00130:582:HC7KJALXX:8:2204:10896:66953', flag=99, chrom='1', pos0=12335885),\n",
       "              <pysam.libcalignedsegment.AlignedSegment at 0x2b3f6a1471c0>),\n",
       "             (ReadUID(qname='ST-E00130:582:HC7KJALXX:2:1220:5619:50990', flag=163, chrom='1', pos0=12335886),\n",
       "              <pysam.libcalignedsegment.AlignedSegment at 0x2b3f6a147700>),\n",
       "             (ReadUID(qname='ST-E00130:582:HC7KJALXX:8:1214:27793:3296', flag=83, chrom='1', pos0=12335888),\n",
       "              <pysam.libcalignedsegment.AlignedSegment at 0x2b3f6a147d00>),\n",
       "             (ReadUID(qname='ST-E00130:582:HC7KJALXX:1:1120:15940:40882', flag=99, chrom='1', pos0=12335891),\n",
       "              <pysam.libcalignedsegment.AlignedSegment at 0x2b3f6a147220>),\n",
       "             (ReadUID(qname='ST-E00130:582:HC7KJALXX:3:1110:10906:31846', flag=99, chrom='1', pos0=12335891),\n",
       "              <pysam.libcalignedsegment.AlignedSegment at 0x2b3f6a1473a0>),\n",
       "             (ReadUID(qname='ST-E00130:582:HC7KJALXX:5:1119:20983:1590', flag=99, chrom='1', pos0=12335891),\n",
       "              <pysam.libcalignedsegment.AlignedSegment at 0x2b3f6a147760>),\n",
       "             (ReadUID(qname='ST-E00130:582:HC7KJALXX:5:2217:24485:57372', flag=99, chrom='1', pos0=12335896),\n",
       "              <pysam.libcalignedsegment.AlignedSegment at 0x2b3f6a147b80>),\n",
       "             (ReadUID(qname='ST-E00130:582:HC7KJALXX:8:2222:18446:45927', flag=99, chrom='1', pos0=12335902),\n",
       "              <pysam.libcalignedsegment.AlignedSegment at 0x2b3f6a1478e0>),\n",
       "             (ReadUID(qname='ST-E00130:582:HC7KJALXX:3:2109:32461:15004', flag=83, chrom='1', pos0=12335902),\n",
       "              <pysam.libcalignedsegment.AlignedSegment at 0x2b3f6a147940>),\n",
       "             (ReadUID(qname='ST-E00130:582:HC7KJALXX:7:2213:2706:60606', flag=99, chrom='1', pos0=12335903),\n",
       "              <pysam.libcalignedsegment.AlignedSegment at 0x2b3f6a147100>),\n",
       "             (ReadUID(qname='ST-E00130:582:HC7KJALXX:4:2217:9749:34096', flag=147, chrom='1', pos0=12335910),\n",
       "              <pysam.libcalignedsegment.AlignedSegment at 0x2b3f6a147160>),\n",
       "             (ReadUID(qname='ST-E00130:582:HC7KJALXX:8:1123:32431:45224', flag=163, chrom='1', pos0=12335918),\n",
       "              <pysam.libcalignedsegment.AlignedSegment at 0x2b3f6a1475e0>),\n",
       "             (ReadUID(qname='ST-E00130:582:HC7KJALXX:5:2202:4594:30545', flag=147, chrom='1', pos0=12335920),\n",
       "              <pysam.libcalignedsegment.AlignedSegment at 0x2b3f6a14c520>),\n",
       "             (ReadUID(qname='ST-E00130:582:HC7KJALXX:2:2112:13880:51658', flag=163, chrom='1', pos0=12335923),\n",
       "              <pysam.libcalignedsegment.AlignedSegment at 0x2b3f6a14c460>),\n",
       "             (ReadUID(qname='ST-E00130:582:HC7KJALXX:6:1102:23571:56598', flag=83, chrom='1', pos0=12335935),\n",
       "              <pysam.libcalignedsegment.AlignedSegment at 0x2b3f6a14c400>),\n",
       "             (ReadUID(qname='ST-E00130:582:HC7KJALXX:7:1118:2930:63243', flag=83, chrom='1', pos0=12335941),\n",
       "              <pysam.libcalignedsegment.AlignedSegment at 0x2b3f6a14c6a0>),\n",
       "             (ReadUID(qname='ST-E00130:582:HC7KJALXX:3:2110:8856:15496', flag=163, chrom='1', pos0=12335946),\n",
       "              <pysam.libcalignedsegment.AlignedSegment at 0x2b3f6a14c5e0>),\n",
       "             (ReadUID(qname='ST-E00130:582:HC7KJALXX:3:1117:22404:58936', flag=163, chrom='1', pos0=12335947),\n",
       "              <pysam.libcalignedsegment.AlignedSegment at 0x2b3f6a14ce80>),\n",
       "             (ReadUID(qname='ST-E00130:582:HC7KJALXX:4:1121:28239:55860', flag=83, chrom='1', pos0=12335951),\n",
       "              <pysam.libcalignedsegment.AlignedSegment at 0x2b3f6a14ce20>),\n",
       "             (ReadUID(qname='ST-E00130:582:HC7KJALXX:1:1214:3559:58180', flag=163, chrom='1', pos0=12335955),\n",
       "              <pysam.libcalignedsegment.AlignedSegment at 0x2b3f6a14c340>),\n",
       "             (ReadUID(qname='ST-E00130:582:HC7KJALXX:3:2214:5619:67797', flag=83, chrom='1', pos0=12335957),\n",
       "              <pysam.libcalignedsegment.AlignedSegment at 0x2b3f6a14c280>),\n",
       "             (ReadUID(qname='ST-E00130:582:HC7KJALXX:3:1123:9648:61134', flag=99, chrom='1', pos0=12335959),\n",
       "              <pysam.libcalignedsegment.AlignedSegment at 0x2b3f6a14c0a0>),\n",
       "             (ReadUID(qname='ST-E00130:582:HC7KJALXX:3:1101:20253:66425', flag=99, chrom='1', pos0=12335960),\n",
       "              <pysam.libcalignedsegment.AlignedSegment at 0x2b3f6a14c9a0>),\n",
       "             (ReadUID(qname='ST-E00130:582:HC7KJALXX:6:2112:13007:39598', flag=163, chrom='1', pos0=12335976),\n",
       "              <pysam.libcalignedsegment.AlignedSegment at 0x2b3f6a14c940>),\n",
       "             (ReadUID(qname='ST-E00130:582:HC7KJALXX:4:1212:28584:69889', flag=99, chrom='1', pos0=12335977),\n",
       "              <pysam.libcalignedsegment.AlignedSegment at 0x2b3f6a1484c0>)])"
      ]
     },
     "execution_count": 93,
     "metadata": {},
     "output_type": "execute_result"
    }
   ],
   "source": [
    "fetchedreads.subdata['1'].clusters[0].dict"
   ]
  },
  {
   "cell_type": "code",
   "execution_count": 95,
   "id": "334b8b11-f8e0-4932-89d5-070ba9e49126",
   "metadata": {},
   "outputs": [],
   "source": [
    "from handygenome.read.readhandler import ReadUID\n",
    "readuid = ReadUID(qname='ST-E00130:582:HC7KJALXX:7:2105:18629:38544', flag=83, chrom='1', pos0=12335336)"
   ]
  },
  {
   "cell_type": "code",
   "execution_count": 97,
   "id": "2d7ed694-d73f-4270-ac5c-7b3ce0c11bf5",
   "metadata": {},
   "outputs": [
    {
     "name": "stdout",
     "output_type": "stream",
     "text": [
      "1.23 µs ± 16.7 ns per loop (mean ± std. dev. of 7 runs, 1,000,000 loops each)\n"
     ]
    }
   ],
   "source": [
    "%%timeit\n",
    "fetchedreads.get_read(readuid)"
   ]
  },
  {
   "cell_type": "code",
   "execution_count": 98,
   "id": "16a7732a-4f41-4d32-a360-87ae5d949563",
   "metadata": {},
   "outputs": [
    {
     "name": "stdout",
     "output_type": "stream",
     "text": [
      "2.79 ms ± 7.19 µs per loop (mean ± std. dev. of 7 runs, 100 loops each)\n"
     ]
    }
   ],
   "source": [
    "%%timeit\n",
    "for read in bam.fetch('1', 12335336, 12335336 + 1):\n",
    "    if read.query_name == 'ST-E00130:582:HC7KJALXX:7:2105:18629:38544' and read.flag == 83:\n",
    "        break"
   ]
  },
  {
   "cell_type": "code",
   "execution_count": null,
   "id": "2729aa2a-b8ac-4487-ad6c-cf547befafdb",
   "metadata": {},
   "outputs": [],
   "source": []
  },
  {
   "cell_type": "code",
   "execution_count": 4,
   "id": "20101e30-bc44-41ca-a368-138ea87a22e8",
   "metadata": {},
   "outputs": [],
   "source": [
    "from handygenome.read import pileup as libpileup"
   ]
  },
  {
   "cell_type": "code",
   "execution_count": 7,
   "id": "309fa601-ff07-4dd4-9b15-c467b644735f",
   "metadata": {},
   "outputs": [],
   "source": [
    "chrom = '1'\n",
    "start0 = 12335685\n",
    "end0 = start0 + 100\n",
    "bam = pysam.AlignmentFile('/home/users/team_projects/Lung_Cancer_Panel_data/03_Data_from_YTKim/02_BAM/14/LU-14.tumor.bam')"
   ]
  },
  {
   "cell_type": "code",
   "execution_count": 22,
   "id": "a8cbab5e-aabe-4fc5-a155-f6058524d570",
   "metadata": {},
   "outputs": [],
   "source": [
    "pileup = libpileup.get_pileup(chrom, start0, end0, bam, FASTA_HG19)"
   ]
  },
  {
   "cell_type": "code",
   "execution_count": 24,
   "id": "c78da087-b5b9-4ac6-ab5c-e7bf002a18cb",
   "metadata": {},
   "outputs": [
    {
     "data": {
      "text/plain": [
       "'GTGTTTTGATTTCCAAATTTATAGGTAAATTCACACTTAGAAAATGGTAAACAAAGATATTATGCTTAAGAGTTTTCCTCAGTTTTCTTAAACAAACTGG'"
      ]
     },
     "execution_count": 24,
     "metadata": {},
     "output_type": "execute_result"
    }
   ],
   "source": [
    "pileup.get_ref_seq()"
   ]
  },
  {
   "cell_type": "code",
   "execution_count": 15,
   "id": "ef071a6f-3a5b-41c6-8b2d-7baddb97ffb5",
   "metadata": {},
   "outputs": [
    {
     "data": {
      "text/plain": [
       "{(12335685,\n",
       "  12335785): 'GTGTTTTGATTTCCAAATTTATAGGTAAATTCACACTTAGAAAATGGTAAACAAAGATATTATGCTTAAGAGTTTTCCTCAGTTTTCTTAAACAAACTGG'}"
      ]
     },
     "execution_count": 15,
     "metadata": {},
     "output_type": "execute_result"
    }
   ],
   "source": [
    "pileup._ref_seq_cache"
   ]
  },
  {
   "cell_type": "code",
   "execution_count": 18,
   "id": "e811642e-b660-4986-a31d-da23a515ff6f",
   "metadata": {},
   "outputs": [
    {
     "data": {
      "text/plain": [
       "'GTGTTTTGATTTCCAAATTTATAGGTAAATTCACACTTAGAAAATGGTAAACAAAGATATTATGCTTAAGAGTTTTCCTCAGTTTTCTTAAACAAACTGG'"
      ]
     },
     "execution_count": 18,
     "metadata": {},
     "output_type": "execute_result"
    }
   ],
   "source": [
    "FASTA_HG19.fetch(chrom, start0, end0)"
   ]
  },
  {
   "cell_type": "code",
   "execution_count": 25,
   "id": "e1edfc0f-dcb7-4ce7-bba1-e132060f9cb4",
   "metadata": {},
   "outputs": [
    {
     "name": "stdout",
     "output_type": "stream",
     "text": [
      "3.48 µs ± 48.3 ns per loop (mean ± std. dev. of 7 runs, 100,000 loops each)\n"
     ]
    }
   ],
   "source": [
    "%%timeit\n",
    "pileup.get_ref_seq()"
   ]
  },
  {
   "cell_type": "code",
   "execution_count": 29,
   "id": "88629b9d-b6d8-46f1-b365-0e77ff705976",
   "metadata": {},
   "outputs": [
    {
     "name": "stdout",
     "output_type": "stream",
     "text": [
      "3.31 µs ± 48.8 ns per loop (mean ± std. dev. of 7 runs, 100,000 loops each)\n"
     ]
    }
   ],
   "source": [
    "%%timeit\n",
    "pileup.fasta.fetch(pileup.chrom, pileup.start0, pileup.end0)"
   ]
  },
  {
   "cell_type": "code",
   "execution_count": 26,
   "id": "a186208b-e83f-4277-9b2a-c5339488de14",
   "metadata": {},
   "outputs": [
    {
     "name": "stdout",
     "output_type": "stream",
     "text": [
      "1.45 µs ± 10.2 ns per loop (mean ± std. dev. of 7 runs, 1,000,000 loops each)\n"
     ]
    }
   ],
   "source": [
    "%%timeit\n",
    "FASTA_HG19.fetch(chrom, start0, end0)"
   ]
  }
 ],
 "metadata": {
  "kernelspec": {
   "display_name": "genome_v7",
   "language": "python",
   "name": "genome_v7"
  },
  "language_info": {
   "codemirror_mode": {
    "name": "ipython",
    "version": 3
   },
   "file_extension": ".py",
   "mimetype": "text/x-python",
   "name": "python",
   "nbconvert_exporter": "python",
   "pygments_lexer": "ipython3",
   "version": "3.10.6"
  }
 },
 "nbformat": 4,
 "nbformat_minor": 5
}
