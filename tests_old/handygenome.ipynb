{
 "cells": [
  {
   "cell_type": "markdown",
   "id": "8a6393b6-52da-4b39-8b51-3fd60d8d036e",
   "metadata": {},
   "source": [
    "# Basic setups"
   ]
  },
  {
   "cell_type": "code",
   "execution_count": null,
   "id": "292402e3-7854-4b3a-8d01-cacdc2893cc9",
   "metadata": {},
   "outputs": [],
   "source": [
    "%load_ext autoreload\n",
    "%autoreload 2\n",
    "\n",
    "import os\n",
    "import re\n",
    "import shutil\n",
    "import random\n",
    "import pprint\n",
    "import itertools\n",
    "import functools\n",
    "import collections\n",
    "\n",
    "import Bio\n",
    "import Bio.SeqIO\n",
    "import pysam\n",
    "import pyranges as pr\n",
    "import numpy as np\n",
    "import pandas as pd\n",
    "# pd.options.display.max_rows = 10\n",
    "# import matplotlib as mpl\n",
    "# import matplotlib.pyplot as plt\n",
    "# import seaborn as sns\n",
    "# import scipy\n",
    "# import sklearn\n",
    "\n",
    "import handygenome"
   ]
  },
  {
   "cell_type": "code",
   "execution_count": null,
   "id": "be504724-31e4-4968-8ebe-fbbf7694bb2b",
   "metadata": {
    "tags": []
   },
   "outputs": [],
   "source": [
    "# from handygenome import common\n",
    "# from handygenome.common import ChromDict\n",
    "# from handygenome.variant.vcfspec import Vcfspec\n",
    "# from handygenome.sv.breakends import Breakends\n",
    "# from handygenome.variant.variantplus import VariantPlus, VariantPlusList\n",
    "# from handygenome.igvhandle import IGVHandle\n",
    "\n",
    "# import handygenome.tools as tools\n",
    "# import handygenome.publicdb.ncbi as libncbi\n",
    "# import handygenome.publicdb.ncbi_cache as libncbicache\n",
    "# import handygenome.refgenome as refgenome\n",
    "# import handygenome.logutils as logutils\n",
    "\n",
    "from handygenome.genomedf import GenomeDataFrame"
   ]
  },
  {
   "cell_type": "code",
   "execution_count": null,
   "id": "d72ee716-3957-4996-ac25-986b8ca905db",
   "metadata": {},
   "outputs": [],
   "source": [
    "gdf1 = GenomeDataFrame.from_data(chroms=['1', '1', '1'], starts=[0, 1, 2], ends=[10, 11, 12], refver='hg19')\n",
    "gdf2 = GenomeDataFrame.from_data(chroms=['1', '1', '1'], starts=[5, 2, 10], ends=[10, 8, 12], refver='hg19')"
   ]
  },
  {
   "cell_type": "code",
   "execution_count": null,
   "id": "98794a05-a741-4d26-825e-69a734fe9c0a",
   "metadata": {},
   "outputs": [],
   "source": [
    "right_gr = pr.from_dict({'Chromosome': ['1'], 'Start': [5], 'End': [8]})"
   ]
  },
  {
   "cell_type": "code",
   "execution_count": null,
   "id": "2c8755ef-e42b-46d6-aa54-919bfe495889",
   "metadata": {},
   "outputs": [],
   "source": [
    "isec_gdf = gdf1.intersect(gdf2)"
   ]
  },
  {
   "cell_type": "code",
   "execution_count": 129,
   "id": "019ccc5a-1a15-4076-92a3-edee48e55aa2",
   "metadata": {},
   "outputs": [
    {
     "data": {
      "text/html": [
       "<div>\n",
       "<style scoped>\n",
       "    .dataframe tbody tr th:only-of-type {\n",
       "        vertical-align: middle;\n",
       "    }\n",
       "\n",
       "    .dataframe tbody tr th {\n",
       "        vertical-align: top;\n",
       "    }\n",
       "\n",
       "    .dataframe thead th {\n",
       "        text-align: right;\n",
       "    }\n",
       "</style>\n",
       "<table border=\"1\" class=\"dataframe\">\n",
       "  <thead>\n",
       "    <tr style=\"text-align: right;\">\n",
       "      <th></th>\n",
       "      <th>Chromosome</th>\n",
       "      <th>Start</th>\n",
       "      <th>End</th>\n",
       "    </tr>\n",
       "  </thead>\n",
       "  <tbody>\n",
       "    <tr>\n",
       "      <th>0</th>\n",
       "      <td>1</td>\n",
       "      <td>2</td>\n",
       "      <td>8</td>\n",
       "    </tr>\n",
       "    <tr>\n",
       "      <th>1</th>\n",
       "      <td>1</td>\n",
       "      <td>5</td>\n",
       "      <td>10</td>\n",
       "    </tr>\n",
       "    <tr>\n",
       "      <th>2</th>\n",
       "      <td>1</td>\n",
       "      <td>2</td>\n",
       "      <td>8</td>\n",
       "    </tr>\n",
       "    <tr>\n",
       "      <th>3</th>\n",
       "      <td>1</td>\n",
       "      <td>5</td>\n",
       "      <td>10</td>\n",
       "    </tr>\n",
       "    <tr>\n",
       "      <th>4</th>\n",
       "      <td>1</td>\n",
       "      <td>10</td>\n",
       "      <td>11</td>\n",
       "    </tr>\n",
       "    <tr>\n",
       "      <th>5</th>\n",
       "      <td>1</td>\n",
       "      <td>2</td>\n",
       "      <td>8</td>\n",
       "    </tr>\n",
       "    <tr>\n",
       "      <th>6</th>\n",
       "      <td>1</td>\n",
       "      <td>5</td>\n",
       "      <td>10</td>\n",
       "    </tr>\n",
       "    <tr>\n",
       "      <th>7</th>\n",
       "      <td>1</td>\n",
       "      <td>10</td>\n",
       "      <td>12</td>\n",
       "    </tr>\n",
       "  </tbody>\n",
       "</table>\n",
       "</div>"
      ],
      "text/plain": [
       "  Chromosome  Start  End\n",
       "0          1      2    8\n",
       "1          1      5   10\n",
       "2          1      2    8\n",
       "3          1      5   10\n",
       "4          1     10   11\n",
       "5          1      2    8\n",
       "6          1      5   10\n",
       "7          1     10   12"
      ]
     },
     "execution_count": 129,
     "metadata": {},
     "output_type": "execute_result"
    }
   ],
   "source": [
    "isec_gdf.df"
   ]
  },
  {
   "cell_type": "code",
   "execution_count": 130,
   "id": "7353e1cf-b9c0-464d-8b32-6aa33d094536",
   "metadata": {},
   "outputs": [
    {
     "data": {
      "text/plain": [
       "datetime.datetime(2023, 8, 28, 21, 30, 32, 468203)"
      ]
     },
     "execution_count": 130,
     "metadata": {},
     "output_type": "execute_result"
    }
   ],
   "source": [
    "isec_gdf._df_lastaccess"
   ]
  },
  {
   "cell_type": "code",
   "execution_count": 131,
   "id": "f8dc4e69-06b1-40ff-b781-72833bc06881",
   "metadata": {},
   "outputs": [
    {
     "data": {
      "text/html": [
       "<div>\n",
       "<style scoped>\n",
       "    .dataframe tbody tr th:only-of-type {\n",
       "        vertical-align: middle;\n",
       "    }\n",
       "\n",
       "    .dataframe tbody tr th {\n",
       "        vertical-align: top;\n",
       "    }\n",
       "\n",
       "    .dataframe thead th {\n",
       "        text-align: right;\n",
       "    }\n",
       "</style>\n",
       "<table border=\"1\" class=\"dataframe\">\n",
       "  <thead>\n",
       "    <tr style=\"text-align: right;\">\n",
       "      <th></th>\n",
       "      <th>Chromosome</th>\n",
       "      <th>Start</th>\n",
       "      <th>End</th>\n",
       "    </tr>\n",
       "  </thead>\n",
       "  <tbody>\n",
       "    <tr>\n",
       "      <th>0</th>\n",
       "      <td>1</td>\n",
       "      <td>2</td>\n",
       "      <td>8</td>\n",
       "    </tr>\n",
       "    <tr>\n",
       "      <th>1</th>\n",
       "      <td>1</td>\n",
       "      <td>5</td>\n",
       "      <td>10</td>\n",
       "    </tr>\n",
       "    <tr>\n",
       "      <th>2</th>\n",
       "      <td>1</td>\n",
       "      <td>2</td>\n",
       "      <td>8</td>\n",
       "    </tr>\n",
       "    <tr>\n",
       "      <th>3</th>\n",
       "      <td>1</td>\n",
       "      <td>5</td>\n",
       "      <td>10</td>\n",
       "    </tr>\n",
       "    <tr>\n",
       "      <th>4</th>\n",
       "      <td>1</td>\n",
       "      <td>10</td>\n",
       "      <td>11</td>\n",
       "    </tr>\n",
       "    <tr>\n",
       "      <th>5</th>\n",
       "      <td>1</td>\n",
       "      <td>2</td>\n",
       "      <td>8</td>\n",
       "    </tr>\n",
       "    <tr>\n",
       "      <th>6</th>\n",
       "      <td>1</td>\n",
       "      <td>5</td>\n",
       "      <td>10</td>\n",
       "    </tr>\n",
       "    <tr>\n",
       "      <th>7</th>\n",
       "      <td>1</td>\n",
       "      <td>10</td>\n",
       "      <td>12</td>\n",
       "    </tr>\n",
       "  </tbody>\n",
       "</table>\n",
       "</div>"
      ],
      "text/plain": [
       "+--------------+-----------+-----------+\n",
       "|   Chromosome |     Start |       End |\n",
       "|   (category) |   (int64) |   (int64) |\n",
       "|--------------+-----------+-----------|\n",
       "|            1 |         2 |         8 |\n",
       "|            1 |         5 |        10 |\n",
       "|            1 |         2 |         8 |\n",
       "|            1 |         5 |        10 |\n",
       "|            1 |        10 |        11 |\n",
       "|            1 |         2 |         8 |\n",
       "|            1 |         5 |        10 |\n",
       "|            1 |        10 |        12 |\n",
       "+--------------+-----------+-----------+\n",
       "Unstranded PyRanges object has 8 rows and 3 columns from 1 chromosomes.\n",
       "For printing, the PyRanges was sorted on Chromosome."
      ]
     },
     "execution_count": 131,
     "metadata": {},
     "output_type": "execute_result"
    }
   ],
   "source": [
    "isec_gdf.gr"
   ]
  },
  {
   "cell_type": "code",
   "execution_count": 132,
   "id": "1af99be1-066f-471f-aeaf-666c8db47566",
   "metadata": {},
   "outputs": [
    {
     "data": {
      "text/plain": [
       "datetime.datetime(2023, 8, 28, 21, 30, 35, 529890)"
      ]
     },
     "execution_count": 132,
     "metadata": {},
     "output_type": "execute_result"
    }
   ],
   "source": [
    "isec_gdf._gr_lastaccess"
   ]
  },
  {
   "cell_type": "code",
   "execution_count": 133,
   "id": "31c7a3f5-9cec-48fc-8d83-56355c64791a",
   "metadata": {},
   "outputs": [],
   "source": [
    "isec_gdf.sort()"
   ]
  },
  {
   "cell_type": "code",
   "execution_count": 134,
   "id": "87d81a2c-957b-45c5-a558-02c8f5223617",
   "metadata": {},
   "outputs": [
    {
     "data": {
      "text/html": [
       "<div>\n",
       "<style scoped>\n",
       "    .dataframe tbody tr th:only-of-type {\n",
       "        vertical-align: middle;\n",
       "    }\n",
       "\n",
       "    .dataframe tbody tr th {\n",
       "        vertical-align: top;\n",
       "    }\n",
       "\n",
       "    .dataframe thead th {\n",
       "        text-align: right;\n",
       "    }\n",
       "</style>\n",
       "<table border=\"1\" class=\"dataframe\">\n",
       "  <thead>\n",
       "    <tr style=\"text-align: right;\">\n",
       "      <th></th>\n",
       "      <th>Chromosome</th>\n",
       "      <th>Start</th>\n",
       "      <th>End</th>\n",
       "    </tr>\n",
       "  </thead>\n",
       "  <tbody>\n",
       "    <tr>\n",
       "      <th>0</th>\n",
       "      <td>1</td>\n",
       "      <td>2</td>\n",
       "      <td>8</td>\n",
       "    </tr>\n",
       "    <tr>\n",
       "      <th>1</th>\n",
       "      <td>1</td>\n",
       "      <td>2</td>\n",
       "      <td>8</td>\n",
       "    </tr>\n",
       "    <tr>\n",
       "      <th>2</th>\n",
       "      <td>1</td>\n",
       "      <td>2</td>\n",
       "      <td>8</td>\n",
       "    </tr>\n",
       "    <tr>\n",
       "      <th>3</th>\n",
       "      <td>1</td>\n",
       "      <td>5</td>\n",
       "      <td>10</td>\n",
       "    </tr>\n",
       "    <tr>\n",
       "      <th>4</th>\n",
       "      <td>1</td>\n",
       "      <td>5</td>\n",
       "      <td>10</td>\n",
       "    </tr>\n",
       "    <tr>\n",
       "      <th>5</th>\n",
       "      <td>1</td>\n",
       "      <td>5</td>\n",
       "      <td>10</td>\n",
       "    </tr>\n",
       "    <tr>\n",
       "      <th>6</th>\n",
       "      <td>1</td>\n",
       "      <td>10</td>\n",
       "      <td>11</td>\n",
       "    </tr>\n",
       "    <tr>\n",
       "      <th>7</th>\n",
       "      <td>1</td>\n",
       "      <td>10</td>\n",
       "      <td>12</td>\n",
       "    </tr>\n",
       "  </tbody>\n",
       "</table>\n",
       "</div>"
      ],
      "text/plain": [
       "  Chromosome  Start  End\n",
       "0          1      2    8\n",
       "1          1      2    8\n",
       "2          1      2    8\n",
       "3          1      5   10\n",
       "4          1      5   10\n",
       "5          1      5   10\n",
       "6          1     10   11\n",
       "7          1     10   12"
      ]
     },
     "execution_count": 134,
     "metadata": {},
     "output_type": "execute_result"
    }
   ],
   "source": [
    "isec_gdf.df"
   ]
  },
  {
   "cell_type": "code",
   "execution_count": 135,
   "id": "b652fb23-454c-452f-837d-b156581a133f",
   "metadata": {},
   "outputs": [
    {
     "data": {
      "text/html": [
       "<div>\n",
       "<style scoped>\n",
       "    .dataframe tbody tr th:only-of-type {\n",
       "        vertical-align: middle;\n",
       "    }\n",
       "\n",
       "    .dataframe tbody tr th {\n",
       "        vertical-align: top;\n",
       "    }\n",
       "\n",
       "    .dataframe thead th {\n",
       "        text-align: right;\n",
       "    }\n",
       "</style>\n",
       "<table border=\"1\" class=\"dataframe\">\n",
       "  <thead>\n",
       "    <tr style=\"text-align: right;\">\n",
       "      <th></th>\n",
       "      <th>Chromosome</th>\n",
       "      <th>Start</th>\n",
       "      <th>End</th>\n",
       "    </tr>\n",
       "  </thead>\n",
       "  <tbody>\n",
       "    <tr>\n",
       "      <th>0</th>\n",
       "      <td>1</td>\n",
       "      <td>2</td>\n",
       "      <td>8</td>\n",
       "    </tr>\n",
       "    <tr>\n",
       "      <th>1</th>\n",
       "      <td>1</td>\n",
       "      <td>5</td>\n",
       "      <td>10</td>\n",
       "    </tr>\n",
       "    <tr>\n",
       "      <th>2</th>\n",
       "      <td>1</td>\n",
       "      <td>2</td>\n",
       "      <td>8</td>\n",
       "    </tr>\n",
       "    <tr>\n",
       "      <th>3</th>\n",
       "      <td>1</td>\n",
       "      <td>5</td>\n",
       "      <td>10</td>\n",
       "    </tr>\n",
       "    <tr>\n",
       "      <th>4</th>\n",
       "      <td>1</td>\n",
       "      <td>10</td>\n",
       "      <td>11</td>\n",
       "    </tr>\n",
       "    <tr>\n",
       "      <th>5</th>\n",
       "      <td>1</td>\n",
       "      <td>2</td>\n",
       "      <td>8</td>\n",
       "    </tr>\n",
       "    <tr>\n",
       "      <th>6</th>\n",
       "      <td>1</td>\n",
       "      <td>5</td>\n",
       "      <td>10</td>\n",
       "    </tr>\n",
       "    <tr>\n",
       "      <th>7</th>\n",
       "      <td>1</td>\n",
       "      <td>10</td>\n",
       "      <td>12</td>\n",
       "    </tr>\n",
       "  </tbody>\n",
       "</table>\n",
       "</div>"
      ],
      "text/plain": [
       "+--------------+-----------+-----------+\n",
       "|   Chromosome |     Start |       End |\n",
       "|   (category) |   (int64) |   (int64) |\n",
       "|--------------+-----------+-----------|\n",
       "|            1 |         2 |         8 |\n",
       "|            1 |         5 |        10 |\n",
       "|            1 |         2 |         8 |\n",
       "|            1 |         5 |        10 |\n",
       "|            1 |        10 |        11 |\n",
       "|            1 |         2 |         8 |\n",
       "|            1 |         5 |        10 |\n",
       "|            1 |        10 |        12 |\n",
       "+--------------+-----------+-----------+\n",
       "Unstranded PyRanges object has 8 rows and 3 columns from 1 chromosomes.\n",
       "For printing, the PyRanges was sorted on Chromosome."
      ]
     },
     "execution_count": 135,
     "metadata": {},
     "output_type": "execute_result"
    }
   ],
   "source": [
    "isec_gdf.gr"
   ]
  },
  {
   "cell_type": "code",
   "execution_count": null,
   "id": "79ed3533-2341-40e0-9039-aaf59874c66b",
   "metadata": {},
   "outputs": [],
   "source": []
  },
  {
   "cell_type": "code",
   "execution_count": null,
   "id": "b96af647-034d-4012-9089-09fbcbabe07a",
   "metadata": {},
   "outputs": [],
   "source": []
  },
  {
   "cell_type": "code",
   "execution_count": null,
   "id": "6001527a-7bce-4354-93cf-372776a71da2",
   "metadata": {},
   "outputs": [],
   "source": []
  },
  {
   "cell_type": "code",
   "execution_count": 3,
   "id": "af13f364-ddaa-477b-a5f8-88acb3d8ed7e",
   "metadata": {},
   "outputs": [
    {
     "data": {
      "text/plain": [
       "'/home/users/pjh/.handygenome/data/ncbi_files/Homo_sapiens/GRCh37/gff'"
      ]
     },
     "execution_count": 3,
     "metadata": {},
     "output_type": "execute_result"
    }
   ],
   "source": [
    "libncbicache.get_gff_path('GRCh37', 'Homo_sapiens')"
   ]
  },
  {
   "cell_type": "code",
   "execution_count": 6,
   "id": "4b1d9d39-dfdd-470a-aa24-e1b5822d38b1",
   "metadata": {},
   "outputs": [
    {
     "data": {
      "text/plain": [
       "<pysam.libcfaidx.FastaFile at 0x2b7502d77b80>"
      ]
     },
     "execution_count": 6,
     "metadata": {},
     "output_type": "execute_result"
    }
   ],
   "source": [
    "refgenome.get_fasta('banana')"
   ]
  },
  {
   "cell_type": "code",
   "execution_count": 5,
   "id": "2d2a3be4-089e-4fbe-8e09-5e8b82fb7504",
   "metadata": {},
   "outputs": [
    {
     "data": {
      "text/plain": [
       "'/home/users/pjh/.handygenome/data/ncbi_files/Homo_sapiens/GRCh38/genome_fasta'"
      ]
     },
     "execution_count": 5,
     "metadata": {},
     "output_type": "execute_result"
    }
   ],
   "source": [
    "libncbicache.get_fasta_path('GRCh38', 'Homo_sapiens')"
   ]
  },
  {
   "cell_type": "code",
   "execution_count": null,
   "id": "849d0213-9409-4d43-995a-a84d4e8bf48b",
   "metadata": {},
   "outputs": [],
   "source": []
  },
  {
   "cell_type": "code",
   "execution_count": null,
   "id": "fa526901-64d6-4b61-8252-0db08821ee1a",
   "metadata": {},
   "outputs": [],
   "source": []
  },
  {
   "cell_type": "code",
   "execution_count": 41,
   "id": "52735599-a420-49f5-ab8b-e5dfdc3ed79c",
   "metadata": {},
   "outputs": [
    {
     "data": {
      "text/plain": [
       "<pysam.libcfaidx.FastaFile at 0x2ac66dd34ac0>"
      ]
     },
     "execution_count": 41,
     "metadata": {},
     "output_type": "execute_result"
    }
   ],
   "source": [
    "refgenome.get_fasta('hg19')"
   ]
  },
  {
   "cell_type": "code",
   "execution_count": null,
   "id": "784b74d2-138e-4d2c-ad7e-016459d53b5e",
   "metadata": {},
   "outputs": [],
   "source": []
  },
  {
   "cell_type": "code",
   "execution_count": null,
   "id": "fcbf01c2-8b1a-4035-95bc-dd3e8aebff7e",
   "metadata": {},
   "outputs": [],
   "source": []
  },
  {
   "cell_type": "code",
   "execution_count": 106,
   "id": "66df840b-d44e-4f9d-a70a-7926fa124010",
   "metadata": {},
   "outputs": [
    {
     "data": {
      "text/plain": [
       "True"
      ]
     },
     "execution_count": 106,
     "metadata": {},
     "output_type": "execute_result"
    }
   ],
   "source": [
    "tools.check_bgzipped('/home/users/pjh/practice/fastafetch/bg_compressed.fasta.gz')"
   ]
  },
  {
   "cell_type": "code",
   "execution_count": 107,
   "id": "2439a3da-c165-470b-88fd-9305db4a5d7e",
   "metadata": {},
   "outputs": [],
   "source": [
    "fa1 = pysam.FastaFile('/home/users/data/01_reference/human_g1k_v37/human_g1k_v37.fa')\n",
    "fa2 = pysam.FastaFile('/home/users/pjh/practice/fastafetch/bg_compressed.fasta.gz')"
   ]
  },
  {
   "cell_type": "code",
   "execution_count": 110,
   "id": "b97c7c6f-d734-4556-928d-bf168be7cb59",
   "metadata": {},
   "outputs": [],
   "source": [
    "import random\n",
    "\n",
    "targets = list()\n",
    "for _ in range(100):\n",
    "    chrom = random.choice(fa1.references[:24])\n",
    "    chromlen = fa1.lengths[fa1.references.index(chrom)]\n",
    "    start0 = random.randrange(0, chromlen)\n",
    "    end0 = random.randrange(start0 + 1, min(start0 + 1 + 1000, chromlen))\n",
    "    targets.append((chrom, start0, end0))"
   ]
  },
  {
   "cell_type": "code",
   "execution_count": 116,
   "id": "90b7f2a4-26f9-48bf-9f0c-a383418dee07",
   "metadata": {},
   "outputs": [
    {
     "name": "stdout",
     "output_type": "stream",
     "text": [
      "1.68 ms ± 95.2 µs per loop (mean ± std. dev. of 10 runs, 1 loop each)\n"
     ]
    }
   ],
   "source": [
    "%%timeit -n1 -r10\n",
    "for x in targets:\n",
    "    fa1.fetch(*x)"
   ]
  },
  {
   "cell_type": "code",
   "execution_count": 119,
   "id": "75dce8da-0b1e-4bba-a2e0-6cb836cefaf3",
   "metadata": {},
   "outputs": [
    {
     "name": "stdout",
     "output_type": "stream",
     "text": [
      "20.5 ms ± 67.2 µs per loop (mean ± std. dev. of 10 runs, 1 loop each)\n"
     ]
    }
   ],
   "source": [
    "%%timeit -n1 -r10\n",
    "for x in targets:\n",
    "    fa2.fetch(*x)"
   ]
  },
  {
   "cell_type": "code",
   "execution_count": null,
   "id": "079dd50b-896c-40a3-bac0-61dfd3db73a3",
   "metadata": {},
   "outputs": [],
   "source": []
  },
  {
   "cell_type": "code",
   "execution_count": null,
   "id": "1038fc60-8e02-4809-b77a-0e04472dcc59",
   "metadata": {},
   "outputs": [],
   "source": []
  },
  {
   "cell_type": "code",
   "execution_count": null,
   "id": "4b6216ea-b42b-4926-96db-c66f3e419441",
   "metadata": {},
   "outputs": [],
   "source": []
  },
  {
   "cell_type": "code",
   "execution_count": 74,
   "id": "d72b1ad3-debb-4792-8c72-95157bbeaa04",
   "metadata": {},
   "outputs": [
    {
     "name": "stderr",
     "output_type": "stream",
     "text": [
      "[W::fai_insert_index] Ignoring duplicate sequence \"ABCD_ST-E00127:1038:H7V3TCCX2:3:1217:14996:50076\" at byte offset 6155\n"
     ]
    }
   ],
   "source": [
    "import handygenome.fastahandler as fastahandler\n",
    "\n",
    "in_fa_path = '/home/users/data/01_reference/human_g1k_v37/human_g1k_v37.fasta'\n",
    "out_fa_text_path = '/home/users/pjh/practice/fastafetch/plain.fa'\n",
    "out_fa_zip_path = '/home/users/pjh/practice/fastafetch/zip.fa.gz'\n",
    "\n",
    "fastahandler.rename_fasta_compress(in_fa_path, out_fa_path, chromconv, index=True)"
   ]
  },
  {
   "cell_type": "code",
   "execution_count": null,
   "id": "7377bf26-3f01-4d46-a120-26a27ba611c6",
   "metadata": {},
   "outputs": [],
   "source": []
  },
  {
   "cell_type": "code",
   "execution_count": null,
   "id": "cb1589fd-6059-4f49-ba15-972afca7eb8b",
   "metadata": {},
   "outputs": [],
   "source": []
  },
  {
   "cell_type": "code",
   "execution_count": null,
   "id": "4fe58b77-aad4-4daa-90af-a34f7d2cc3e6",
   "metadata": {},
   "outputs": [],
   "source": []
  },
  {
   "cell_type": "code",
   "execution_count": null,
   "id": "76dd2838-0d27-4cf9-b00c-ca687015a34b",
   "metadata": {},
   "outputs": [],
   "source": []
  },
  {
   "cell_type": "code",
   "execution_count": null,
   "id": "910e3c7e-8627-4efd-b7d6-821a0750584a",
   "metadata": {},
   "outputs": [],
   "source": []
  },
  {
   "cell_type": "code",
   "execution_count": 10,
   "id": "54627545-2eda-4656-9a43-32580c9e0ada",
   "metadata": {
    "scrolled": true,
    "tags": []
   },
   "outputs": [
    {
     "name": "stderr",
     "output_type": "stream",
     "text": [
      "[KST 2023-08-02 21:47:55] Downloading fasta file for reference version \"GRCh37\"\n",
      "[KST 2023-08-02 21:47:57] Trying to open url 'https://ftp.ncbi.nlm.nih.gov/genomes/refseq/vertebrate_mammalian/Homo_sapiens/all_assembly_versions/GCF_000001405.25_GRCh37.p13/GCF_000001405.25_GRCh37.p13_rna_from_genomic.fna.gz'\n",
      "[KST 2023-08-02 21:47:58] Succeeded to open url 'https://ftp.ncbi.nlm.nih.gov/genomes/refseq/vertebrate_mammalian/Homo_sapiens/all_assembly_versions/GCF_000001405.25_GRCh37.p13/GCF_000001405.25_GRCh37.p13_rna_from_genomic.fna.gz'\n",
      "[KST 2023-08-02 21:48:05] Making fasta index file\n",
      "[E::fai_build3_core] Cannot index files compressed with gzip, please use bgzip\n"
     ]
    },
    {
     "ename": "SamtoolsError",
     "evalue": "'samtools returned with error 1: stdout=, stderr=[faidx] Could not build fai index /home/users/pjh/scripts/python_genome_package_dev/data/refseq_fasta/Homo_sapiens/GRCh37.fasta.fai\\n'",
     "output_type": "error",
     "traceback": [
      "\u001b[0;31m---------------------------------------------------------------------------\u001b[0m",
      "\u001b[0;31mSamtoolsError\u001b[0m                             Traceback (most recent call last)",
      "Cell \u001b[0;32mIn[10], line 1\u001b[0m\n\u001b[0;32m----> 1\u001b[0m \u001b[43mrefgenome\u001b[49m\u001b[38;5;241;43m.\u001b[39;49m\u001b[43mREFVERINFO\u001b[49m\u001b[38;5;241;43m.\u001b[39;49m\u001b[43mget_default_fasta_path\u001b[49m\u001b[43m(\u001b[49m\u001b[38;5;124;43m'\u001b[39;49m\u001b[38;5;124;43mhg19\u001b[39;49m\u001b[38;5;124;43m'\u001b[39;49m\u001b[43m)\u001b[49m\n",
      "File \u001b[0;32m~/scripts/python_genome_package_dev/handygenome/refgenome.py:252\u001b[0m, in \u001b[0;36mRefverInfo.get_default_fasta_path\u001b[0;34m(self, refver)\u001b[0m\n\u001b[1;32m    251\u001b[0m \u001b[38;5;28;01mdef\u001b[39;00m \u001b[38;5;21mget_default_fasta_path\u001b[39m(\u001b[38;5;28mself\u001b[39m, refver):\n\u001b[0;32m--> 252\u001b[0m     \u001b[38;5;28;01mreturn\u001b[39;00m \u001b[38;5;28;43mself\u001b[39;49m\u001b[38;5;241;43m.\u001b[39;49m\u001b[43mget_datafile_path\u001b[49m\u001b[43m(\u001b[49m\u001b[43mrefver\u001b[49m\u001b[43m,\u001b[49m\u001b[43m \u001b[49m\u001b[38;5;124;43m'\u001b[39;49m\u001b[38;5;124;43mstandard_fastapath_map\u001b[39;49m\u001b[38;5;124;43m'\u001b[39;49m\u001b[43m,\u001b[49m\u001b[43m \u001b[49m\u001b[38;5;124;43m'\u001b[39;49m\u001b[38;5;124;43mget_fasta_path\u001b[39;49m\u001b[38;5;124;43m'\u001b[39;49m\u001b[43m)\u001b[49m\n",
      "File \u001b[0;32m~/scripts/python_genome_package_dev/handygenome/refgenome.py:245\u001b[0m, in \u001b[0;36mRefverInfo.get_datafile_path\u001b[0;34m(self, refver, map_name, refseq_pathfunc_name)\u001b[0m\n\u001b[1;32m    243\u001b[0m     \u001b[38;5;28;01massert\u001b[39;00m refveritem[\u001b[38;5;124m'\u001b[39m\u001b[38;5;124mparent_standard\u001b[39m\u001b[38;5;124m'\u001b[39m] \u001b[38;5;129;01mis\u001b[39;00m \u001b[38;5;129;01mnot\u001b[39;00m \u001b[38;5;28;01mNone\u001b[39;00m\n\u001b[1;32m    244\u001b[0m     species \u001b[38;5;241m=\u001b[39m refveritem[\u001b[38;5;124m'\u001b[39m\u001b[38;5;124mspecies\u001b[39m\u001b[38;5;124m'\u001b[39m]\n\u001b[0;32m--> 245\u001b[0m     result \u001b[38;5;241m=\u001b[39m \u001b[38;5;28;43mgetattr\u001b[39;49m\u001b[43m(\u001b[49m\u001b[43mlibncbi\u001b[49m\u001b[43m,\u001b[49m\u001b[43m \u001b[49m\u001b[43mrefseq_pathfunc_name\u001b[49m\u001b[43m)\u001b[49m\u001b[43m(\u001b[49m\u001b[43mstandard\u001b[49m\u001b[43m,\u001b[49m\u001b[43m \u001b[49m\u001b[43mspecies\u001b[49m\u001b[43m)\u001b[49m\n\u001b[1;32m    246\u001b[0m     \u001b[38;5;66;03m#result = libncbi.get_fasta_path(standard, species)\u001b[39;00m\n\u001b[1;32m    247\u001b[0m \u001b[38;5;28;01melse\u001b[39;00m:\n\u001b[1;32m    248\u001b[0m     result \u001b[38;5;241m=\u001b[39m config_path\n",
      "File \u001b[0;32m~/scripts/python_genome_package_dev/handygenome/publicdb/ncbi.py:380\u001b[0m, in \u001b[0;36mget_fasta_path\u001b[0;34m(standard_refver, species, force_download)\u001b[0m\n\u001b[1;32m    378\u001b[0m \u001b[38;5;28;01mif\u001b[39;00m did_download:\n\u001b[1;32m    379\u001b[0m     logutils\u001b[38;5;241m.\u001b[39mprint_timestamp(\u001b[38;5;124mf\u001b[39m\u001b[38;5;124m'\u001b[39m\u001b[38;5;124mMaking fasta index file\u001b[39m\u001b[38;5;124m'\u001b[39m)\n\u001b[0;32m--> 380\u001b[0m     \u001b[43mfastahandler\u001b[49m\u001b[38;5;241;43m.\u001b[39;49m\u001b[43mmake_index\u001b[49m\u001b[43m(\u001b[49m\u001b[43mfilepath\u001b[49m\u001b[43m)\u001b[49m\n\u001b[1;32m    382\u001b[0m \u001b[38;5;28;01mreturn\u001b[39;00m filepath\n",
      "File \u001b[0;32m~/scripts/python_genome_package_dev/handygenome/fastahandler.py:11\u001b[0m, in \u001b[0;36mmake_index\u001b[0;34m(fasta_path)\u001b[0m\n\u001b[1;32m      9\u001b[0m fai_path \u001b[38;5;241m=\u001b[39m fasta_path \u001b[38;5;241m+\u001b[39m \u001b[38;5;124m'\u001b[39m\u001b[38;5;124m.fai\u001b[39m\u001b[38;5;124m'\u001b[39m\n\u001b[1;32m     10\u001b[0m \u001b[38;5;28;01mif\u001b[39;00m \u001b[38;5;129;01mnot\u001b[39;00m os\u001b[38;5;241m.\u001b[39mpath\u001b[38;5;241m.\u001b[39mexists(fai_path):\n\u001b[0;32m---> 11\u001b[0m     _ \u001b[38;5;241m=\u001b[39m \u001b[43mpysam\u001b[49m\u001b[38;5;241;43m.\u001b[39;49m\u001b[43mfaidx\u001b[49m\u001b[43m(\u001b[49m\u001b[43mfasta_path\u001b[49m\u001b[43m)\u001b[49m\n",
      "File \u001b[0;32m~/tools/miniconda/221104/miniconda3/envs/genome_v7/lib/python3.10/site-packages/pysam/utils.py:69\u001b[0m, in \u001b[0;36mPysamDispatcher.__call__\u001b[0;34m(self, *args, **kwargs)\u001b[0m\n\u001b[1;32m     66\u001b[0m         stderr \u001b[38;5;241m=\u001b[39m stderr\u001b[38;5;241m.\u001b[39msplitlines()\n\u001b[1;32m     68\u001b[0m \u001b[38;5;28;01mif\u001b[39;00m retval:\n\u001b[0;32m---> 69\u001b[0m     \u001b[38;5;28;01mraise\u001b[39;00m SamtoolsError(\n\u001b[1;32m     70\u001b[0m         \u001b[38;5;124m\"\u001b[39m\u001b[38;5;132;01m%s\u001b[39;00m\u001b[38;5;124m returned with error \u001b[39m\u001b[38;5;132;01m%i\u001b[39;00m\u001b[38;5;124m: \u001b[39m\u001b[38;5;124m\"\u001b[39m\n\u001b[1;32m     71\u001b[0m         \u001b[38;5;124m\"\u001b[39m\u001b[38;5;124mstdout=\u001b[39m\u001b[38;5;132;01m%s\u001b[39;00m\u001b[38;5;124m, stderr=\u001b[39m\u001b[38;5;132;01m%s\u001b[39;00m\u001b[38;5;124m\"\u001b[39m \u001b[38;5;241m%\u001b[39m\n\u001b[1;32m     72\u001b[0m         (\u001b[38;5;28mself\u001b[39m\u001b[38;5;241m.\u001b[39mcollection,\n\u001b[1;32m     73\u001b[0m          retval,\n\u001b[1;32m     74\u001b[0m          stdout,\n\u001b[1;32m     75\u001b[0m          stderr))\n\u001b[1;32m     77\u001b[0m \u001b[38;5;28mself\u001b[39m\u001b[38;5;241m.\u001b[39mstderr \u001b[38;5;241m=\u001b[39m stderr\n\u001b[1;32m     79\u001b[0m \u001b[38;5;66;03m# call parser for stdout:\u001b[39;00m\n",
      "\u001b[0;31mSamtoolsError\u001b[0m: 'samtools returned with error 1: stdout=, stderr=[faidx] Could not build fai index /home/users/pjh/scripts/python_genome_package_dev/data/refseq_fasta/Homo_sapiens/GRCh37.fasta.fai\\n'"
     ]
    }
   ],
   "source": [
    "refgenome.REFVERINFO.get_default_fasta_path('hg19')"
   ]
  },
  {
   "cell_type": "code",
   "execution_count": 7,
   "id": "319259c5-e3c1-4563-9f1b-a4b22d20ba83",
   "metadata": {},
   "outputs": [
    {
     "name": "stderr",
     "output_type": "stream",
     "text": [
      "[KST 2023-08-02 20:59:51] Downloading gff file for reference version \"GRCh38\"\n",
      "[KST 2023-08-02 20:59:55] Trying to open url 'https://ftp.ncbi.nlm.nih.gov/genomes/refseq/vertebrate_mammalian/Homo_sapiens/all_assembly_versions/GCF_000001405.40_GRCh38.p14/GCF_000001405.40_GRCh38.p14_genomic.gff.gz'\n",
      "[KST 2023-08-02 21:00:01] Succeeded to open url 'https://ftp.ncbi.nlm.nih.gov/genomes/refseq/vertebrate_mammalian/Homo_sapiens/all_assembly_versions/GCF_000001405.40_GRCh38.p14/GCF_000001405.40_GRCh38.p14_genomic.gff.gz'\n"
     ]
    },
    {
     "data": {
      "text/plain": [
       "'/home/users/pjh/scripts/python_genome_package_dev/data/refseq_geneset/Homo_sapiens/GRCh38.geneset.gff.gz'"
      ]
     },
     "execution_count": 7,
     "metadata": {},
     "output_type": "execute_result"
    }
   ],
   "source": [
    "libncbi.get_geneset_path('GRCh38', 'Homo_sapiens')"
   ]
  },
  {
   "cell_type": "code",
   "execution_count": null,
   "id": "083806d3-7fd7-4c70-8796-cea0ca1c8ac1",
   "metadata": {},
   "outputs": [],
   "source": []
  },
  {
   "cell_type": "code",
   "execution_count": 26,
   "id": "5224cc90-3c2d-451b-95ae-830620a683a9",
   "metadata": {},
   "outputs": [],
   "source": [
    "fasta = pysam.FastaFile('/home/users/data/01_reference/human_g1k_v37/human_g1k_v37.fasta')"
   ]
  },
  {
   "cell_type": "code",
   "execution_count": 28,
   "id": "c3492c23-c279-42ab-a49f-0f6705995f62",
   "metadata": {
    "scrolled": true,
    "tags": []
   },
   "outputs": [
    {
     "data": {
      "text/plain": [
       "{'chr1': '1',\n",
       " 'CM000663.1': '1',\n",
       " '1': '1',\n",
       " 'NC_000001.10': '1',\n",
       " '2': '2',\n",
       " 'chr2': '2',\n",
       " 'CM000664.1': '2',\n",
       " 'NC_000002.11': '2',\n",
       " '3': '3',\n",
       " 'chr3': '3',\n",
       " 'CM000665.1': '3',\n",
       " 'NC_000003.11': '3',\n",
       " '4': '4',\n",
       " 'chr4': '4',\n",
       " 'CM000666.1': '4',\n",
       " 'NC_000004.11': '4',\n",
       " 'chr5': '5',\n",
       " '5': '5',\n",
       " 'CM000667.1': '5',\n",
       " 'NC_000005.9': '5',\n",
       " 'CM000668.1': '6',\n",
       " 'NC_000006.11': '6',\n",
       " '6': '6',\n",
       " 'chr6': '6',\n",
       " 'chr7': '7',\n",
       " 'CM000669.1': '7',\n",
       " '7': '7',\n",
       " 'NC_000007.13': '7',\n",
       " 'CM000670.1': '8',\n",
       " 'NC_000008.10': '8',\n",
       " 'chr8': '8',\n",
       " '8': '8',\n",
       " '9': '9',\n",
       " 'CM000671.1': '9',\n",
       " 'NC_000009.11': '9',\n",
       " 'chr9': '9',\n",
       " 'NC_000010.10': '10',\n",
       " '10': '10',\n",
       " 'chr10': '10',\n",
       " 'CM000672.1': '10',\n",
       " 'NC_000011.9': '11',\n",
       " '11': '11',\n",
       " 'chr11': '11',\n",
       " 'CM000673.1': '11',\n",
       " 'NC_000012.11': '12',\n",
       " 'CM000674.1': '12',\n",
       " '12': '12',\n",
       " 'chr12': '12',\n",
       " 'NC_000013.10': '13',\n",
       " 'chr13': '13',\n",
       " 'CM000675.1': '13',\n",
       " '13': '13',\n",
       " '14': '14',\n",
       " 'NC_000014.8': '14',\n",
       " 'CM000676.1': '14',\n",
       " 'chr14': '14',\n",
       " '15': '15',\n",
       " 'NC_000015.9': '15',\n",
       " 'chr15': '15',\n",
       " 'CM000677.1': '15',\n",
       " '16': '16',\n",
       " 'CM000678.1': '16',\n",
       " 'NC_000016.9': '16',\n",
       " 'chr16': '16',\n",
       " '17': '17',\n",
       " 'NC_000017.10': '17',\n",
       " 'chr17': '17',\n",
       " 'CM000679.1': '17',\n",
       " '18': '18',\n",
       " 'CM000680.1': '18',\n",
       " 'chr18': '18',\n",
       " 'NC_000018.9': '18',\n",
       " 'CM000681.1': '19',\n",
       " '19': '19',\n",
       " 'chr19': '19',\n",
       " 'NC_000019.9': '19',\n",
       " 'NC_000020.10': '20',\n",
       " 'chr20': '20',\n",
       " 'CM000682.1': '20',\n",
       " '20': '20',\n",
       " 'CM000683.1': '21',\n",
       " 'chr21': '21',\n",
       " 'NC_000021.8': '21',\n",
       " '21': '21',\n",
       " 'CM000684.1': '22',\n",
       " '22': '22',\n",
       " 'NC_000022.10': '22',\n",
       " 'chr22': '22',\n",
       " 'chrX': 'X',\n",
       " 'X': 'X',\n",
       " 'CM000685.1': 'X',\n",
       " 'NC_000023.10': 'X',\n",
       " 'NC_000024.9': 'Y',\n",
       " 'chrY': 'Y',\n",
       " 'CM000686.1': 'Y',\n",
       " 'Y': 'Y',\n",
       " 'chrM': 'MT',\n",
       " 'MT': 'MT',\n",
       " 'J01415.2': 'MT',\n",
       " 'NC_012920.1': 'MT',\n",
       " 'GL000207.1': 'GL000207.1',\n",
       " 'NT_113947.1': 'GL000207.1',\n",
       " 'HSCHR18_RANDOM_CTG1': 'GL000207.1',\n",
       " 'chr18_gl000207_random': 'GL000207.1',\n",
       " 'GL000226.1': 'GL000226.1',\n",
       " 'HSCHRUN_RANDOM_CTG19': 'GL000226.1',\n",
       " 'NT_167220.1': 'GL000226.1',\n",
       " 'chrUn_gl000226': 'GL000226.1',\n",
       " 'GL000229.1': 'GL000229.1',\n",
       " 'HSCHRUN_RANDOM_CTG22': 'GL000229.1',\n",
       " 'NT_167223.1': 'GL000229.1',\n",
       " 'chrUn_gl000229': 'GL000229.1',\n",
       " 'NT_167225.1': 'GL000231.1',\n",
       " 'HSCHRUN_RANDOM_CTG24': 'GL000231.1',\n",
       " 'chrUn_gl000231': 'GL000231.1',\n",
       " 'GL000231.1': 'GL000231.1',\n",
       " 'NT_113950.2': 'GL000210.1',\n",
       " 'GL000210.1': 'GL000210.1',\n",
       " 'HSCHR21_RANDOM_CTG9': 'GL000210.1',\n",
       " 'chr21_gl000210_random': 'GL000210.1',\n",
       " 'HSCHRUN_RANDOM_CTG32': 'GL000239.1',\n",
       " 'chrUn_gl000239': 'GL000239.1',\n",
       " 'GL000239.1': 'GL000239.1',\n",
       " 'NT_167233.1': 'GL000239.1',\n",
       " 'GL000235.1': 'GL000235.1',\n",
       " 'HSCHRUN_RANDOM_CTG28': 'GL000235.1',\n",
       " 'NT_167229.1': 'GL000235.1',\n",
       " 'chrUn_gl000235': 'GL000235.1',\n",
       " 'GL000201.1': 'GL000201.1',\n",
       " 'HSCHR9_RANDOM_CTG5': 'GL000201.1',\n",
       " 'NT_113911.1': 'GL000201.1',\n",
       " 'chr9_gl000201_random': 'GL000201.1',\n",
       " 'chrUn_gl000247': 'GL000247.1',\n",
       " 'NT_167241.1': 'GL000247.1',\n",
       " 'HSCHRUN_RANDOM_CTG40': 'GL000247.1',\n",
       " 'GL000247.1': 'GL000247.1',\n",
       " 'NT_167239.1': 'GL000245.1',\n",
       " 'GL000245.1': 'GL000245.1',\n",
       " 'chrUn_gl000245': 'GL000245.1',\n",
       " 'HSCHRUN_RANDOM_CTG38': 'GL000245.1',\n",
       " 'GL000197.1': 'GL000197.1',\n",
       " 'HSCHR8_RANDOM_CTG4': 'GL000197.1',\n",
       " 'chr8_gl000197_random': 'GL000197.1',\n",
       " 'NT_113907.1': 'GL000197.1',\n",
       " 'HSCHR17_RANDOM_CTG1': 'GL000203.1',\n",
       " 'GL000203.1': 'GL000203.1',\n",
       " 'NT_113941.1': 'GL000203.1',\n",
       " 'chr17_gl000203_random': 'GL000203.1',\n",
       " 'HSCHRUN_RANDOM_CTG39': 'GL000246.1',\n",
       " 'chrUn_gl000246': 'GL000246.1',\n",
       " 'NT_167240.1': 'GL000246.1',\n",
       " 'GL000246.1': 'GL000246.1',\n",
       " 'NT_167243.1': 'GL000249.1',\n",
       " 'GL000249.1': 'GL000249.1',\n",
       " 'HSCHRUN_RANDOM_CTG42': 'GL000249.1',\n",
       " 'chrUn_gl000249': 'GL000249.1',\n",
       " 'NT_113909.1': 'GL000196.1',\n",
       " 'GL000196.1': 'GL000196.1',\n",
       " 'chr8_gl000196_random': 'GL000196.1',\n",
       " 'HSCHR8_RANDOM_CTG1': 'GL000196.1',\n",
       " 'chrUn_gl000248': 'GL000248.1',\n",
       " 'NT_167242.1': 'GL000248.1',\n",
       " 'HSCHRUN_RANDOM_CTG41': 'GL000248.1',\n",
       " 'GL000248.1': 'GL000248.1',\n",
       " 'NT_167238.1': 'GL000244.1',\n",
       " 'GL000244.1': 'GL000244.1',\n",
       " 'HSCHRUN_RANDOM_CTG37': 'GL000244.1',\n",
       " 'chrUn_gl000244': 'GL000244.1',\n",
       " 'NT_167232.1': 'GL000238.1',\n",
       " 'chrUn_gl000238': 'GL000238.1',\n",
       " 'GL000238.1': 'GL000238.1',\n",
       " 'HSCHRUN_RANDOM_CTG31': 'GL000238.1',\n",
       " 'GL000202.1': 'GL000202.1',\n",
       " 'chr11_gl000202_random': 'GL000202.1',\n",
       " 'NT_113921.2': 'GL000202.1',\n",
       " 'HSCHR11_RANDOM_CTG2': 'GL000202.1',\n",
       " 'HSCHRUN_RANDOM_CTG27': 'GL000234.1',\n",
       " 'GL000234.1': 'GL000234.1',\n",
       " 'chrUn_gl000234': 'GL000234.1',\n",
       " 'NT_167228.1': 'GL000234.1',\n",
       " 'chrUn_gl000232': 'GL000232.1',\n",
       " 'HSCHRUN_RANDOM_CTG25': 'GL000232.1',\n",
       " 'GL000232.1': 'GL000232.1',\n",
       " 'NT_167226.1': 'GL000232.1',\n",
       " 'NT_113945.1': 'GL000206.1',\n",
       " 'GL000206.1': 'GL000206.1',\n",
       " 'HSCHR17_RANDOM_CTG4': 'GL000206.1',\n",
       " 'chr17_gl000206_random': 'GL000206.1',\n",
       " 'GL000240.1': 'GL000240.1',\n",
       " 'NT_167234.1': 'GL000240.1',\n",
       " 'chrUn_gl000240': 'GL000240.1',\n",
       " 'HSCHRUN_RANDOM_CTG33': 'GL000240.1',\n",
       " 'HSCHRUN_RANDOM_CTG29': 'GL000236.1',\n",
       " 'NT_167230.1': 'GL000236.1',\n",
       " 'GL000236.1': 'GL000236.1',\n",
       " 'chrUn_gl000236': 'GL000236.1',\n",
       " 'HSCHRUN_RANDOM_CTG34': 'GL000241.1',\n",
       " 'NT_167235.1': 'GL000241.1',\n",
       " 'chrUn_gl000241': 'GL000241.1',\n",
       " 'GL000241.1': 'GL000241.1',\n",
       " 'GL000243.1': 'GL000243.1',\n",
       " 'chrUn_gl000243': 'GL000243.1',\n",
       " 'HSCHRUN_RANDOM_CTG36': 'GL000243.1',\n",
       " 'NT_167237.1': 'GL000243.1',\n",
       " 'HSCHRUN_RANDOM_CTG35': 'GL000242.1',\n",
       " 'NT_167236.1': 'GL000242.1',\n",
       " 'chrUn_gl000242': 'GL000242.1',\n",
       " 'GL000242.1': 'GL000242.1',\n",
       " 'NT_167224.1': 'GL000230.1',\n",
       " 'HSCHRUN_RANDOM_CTG23': 'GL000230.1',\n",
       " 'GL000230.1': 'GL000230.1',\n",
       " 'chrUn_gl000230': 'GL000230.1',\n",
       " 'NT_167231.1': 'GL000237.1',\n",
       " 'HSCHRUN_RANDOM_CTG30': 'GL000237.1',\n",
       " 'GL000237.1': 'GL000237.1',\n",
       " 'chrUn_gl000237': 'GL000237.1',\n",
       " 'GL000233.1': 'GL000233.1',\n",
       " 'HSCHRUN_RANDOM_CTG26': 'GL000233.1',\n",
       " 'chrUn_gl000233': 'GL000233.1',\n",
       " 'NT_167227.1': 'GL000233.1',\n",
       " 'HSCHR17_RANDOM_CTG2': 'GL000204.1',\n",
       " 'GL000204.1': 'GL000204.1',\n",
       " 'NT_113943.1': 'GL000204.1',\n",
       " 'chr17_gl000204_random': 'GL000204.1',\n",
       " 'NT_113914.1': 'GL000198.1',\n",
       " 'HSCHR9_RANDOM_CTG1': 'GL000198.1',\n",
       " 'chr9_gl000198_random': 'GL000198.1',\n",
       " 'GL000198.1': 'GL000198.1',\n",
       " 'HSCHR19_RANDOM_CTG1': 'GL000208.1',\n",
       " 'chr19_gl000208_random': 'GL000208.1',\n",
       " 'GL000208.1': 'GL000208.1',\n",
       " 'NT_113948.1': 'GL000208.1',\n",
       " 'NT_113878.1': 'GL000191.1',\n",
       " 'HSCHR1_RANDOM_CTG5': 'GL000191.1',\n",
       " 'chr1_gl000191_random': 'GL000191.1',\n",
       " 'GL000191.1': 'GL000191.1',\n",
       " 'chrUn_gl000227': 'GL000227.1',\n",
       " 'NT_167221.1': 'GL000227.1',\n",
       " 'GL000227.1': 'GL000227.1',\n",
       " 'HSCHRUN_RANDOM_CTG20': 'GL000227.1',\n",
       " 'HSCHRUN_RANDOM_CTG21': 'GL000228.1',\n",
       " 'chrUn_gl000228': 'GL000228.1',\n",
       " 'GL000228.1': 'GL000228.1',\n",
       " 'NT_167222.1': 'GL000228.1',\n",
       " 'NT_167209.1': 'GL000214.1',\n",
       " 'GL000214.1': 'GL000214.1',\n",
       " 'HSCHRUN_RANDOM_CTG4': 'GL000214.1',\n",
       " 'chrUn_gl000214': 'GL000214.1',\n",
       " 'NT_167215.1': 'GL000221.1',\n",
       " 'GL000221.1': 'GL000221.1',\n",
       " 'HSCHRUN_RANDOM_CTG13': 'GL000221.1',\n",
       " 'chrUn_gl000221': 'GL000221.1',\n",
       " 'chr19_gl000209_random': 'GL000209.1',\n",
       " 'NT_113949.1': 'GL000209.1',\n",
       " 'GL000209.1': 'GL000209.1',\n",
       " 'HSCHR19_RANDOM_CTG2': 'GL000209.1',\n",
       " 'NT_113889.1': 'GL000218.1',\n",
       " 'chrUn_gl000218': 'GL000218.1',\n",
       " 'GL000218.1': 'GL000218.1',\n",
       " 'HSCHRUN_RANDOM_CTG9': 'GL000218.1',\n",
       " 'chrUn_gl000220': 'GL000220.1',\n",
       " 'GL000220.1': 'GL000220.1',\n",
       " 'HSCHRUN_RANDOM_CTG11': 'GL000220.1',\n",
       " 'NT_167214.1': 'GL000220.1',\n",
       " 'chrUn_gl000213': 'GL000213.1',\n",
       " 'HSCHRUN_RANDOM_CTG3': 'GL000213.1',\n",
       " 'NT_167208.1': 'GL000213.1',\n",
       " 'GL000213.1': 'GL000213.1',\n",
       " 'chrUn_gl000211': 'GL000211.1',\n",
       " 'GL000211.1': 'GL000211.1',\n",
       " 'NT_113961.1': 'GL000211.1',\n",
       " 'HSCHRUN_RANDOM_CTG1': 'GL000211.1',\n",
       " 'chr9_gl000199_random': 'GL000199.1',\n",
       " 'HSCHR9_RANDOM_CTG2': 'GL000199.1',\n",
       " 'NT_113916.2': 'GL000199.1',\n",
       " 'GL000199.1': 'GL000199.1',\n",
       " 'HSCHRUN_RANDOM_CTG7': 'GL000217.1',\n",
       " 'GL000217.1': 'GL000217.1',\n",
       " 'NT_167212.1': 'GL000217.1',\n",
       " 'chrUn_gl000217': 'GL000217.1',\n",
       " 'HSCHRUN_RANDOM_CTG6': 'GL000216.1',\n",
       " 'GL000216.1': 'GL000216.1',\n",
       " 'chrUn_gl000216': 'GL000216.1',\n",
       " 'NT_167211.1': 'GL000216.1',\n",
       " 'HSCHRUN_RANDOM_CTG5': 'GL000215.1',\n",
       " 'NT_167210.1': 'GL000215.1',\n",
       " 'chrUn_gl000215': 'GL000215.1',\n",
       " 'GL000215.1': 'GL000215.1',\n",
       " 'GL000205.1': 'GL000205.1',\n",
       " 'chr17_gl000205_random': 'GL000205.1',\n",
       " 'HSCHR17_RANDOM_CTG3': 'GL000205.1',\n",
       " 'NT_113930.1': 'GL000205.1',\n",
       " 'chrUn_gl000219': 'GL000219.1',\n",
       " 'HSCHRUN_RANDOM_CTG10': 'GL000219.1',\n",
       " 'GL000219.1': 'GL000219.1',\n",
       " 'NT_167213.1': 'GL000219.1',\n",
       " 'chrUn_gl000224': 'GL000224.1',\n",
       " 'NT_167218.1': 'GL000224.1',\n",
       " 'GL000224.1': 'GL000224.1',\n",
       " 'HSCHRUN_RANDOM_CTG16': 'GL000224.1',\n",
       " 'chrUn_gl000223': 'GL000223.1',\n",
       " 'GL000223.1': 'GL000223.1',\n",
       " 'HSCHRUN_RANDOM_CTG15': 'GL000223.1',\n",
       " 'NT_167217.1': 'GL000223.1',\n",
       " 'GL000195.1': 'GL000195.1',\n",
       " 'chr7_gl000195_random': 'GL000195.1',\n",
       " 'NT_113901.1': 'GL000195.1',\n",
       " 'HSCHR7_RANDOM_CTG1': 'GL000195.1',\n",
       " 'chrUn_gl000212': 'GL000212.1',\n",
       " 'HSCHRUN_RANDOM_CTG2': 'GL000212.1',\n",
       " 'NT_113923.1': 'GL000212.1',\n",
       " 'GL000212.1': 'GL000212.1',\n",
       " 'NT_167216.1': 'GL000222.1',\n",
       " 'GL000222.1': 'GL000222.1',\n",
       " 'chrUn_gl000222': 'GL000222.1',\n",
       " 'HSCHRUN_RANDOM_CTG14': 'GL000222.1',\n",
       " 'GL000200.1': 'GL000200.1',\n",
       " 'NT_113915.1': 'GL000200.1',\n",
       " 'HSCHR9_RANDOM_CTG4': 'GL000200.1',\n",
       " 'chr9_gl000200_random': 'GL000200.1',\n",
       " 'HSCHR4_RANDOM_CTG2': 'GL000193.1',\n",
       " 'NT_113885.1': 'GL000193.1',\n",
       " 'chr4_gl000193_random': 'GL000193.1',\n",
       " 'GL000193.1': 'GL000193.1',\n",
       " 'HSCHR4_RANDOM_CTG3': 'GL000194.1',\n",
       " 'chr4_gl000194_random': 'GL000194.1',\n",
       " 'NT_113888.1': 'GL000194.1',\n",
       " 'GL000194.1': 'GL000194.1',\n",
       " 'NT_167219.1': 'GL000225.1',\n",
       " 'chrUn_gl000225': 'GL000225.1',\n",
       " 'HSCHRUN_RANDOM_CTG17': 'GL000225.1',\n",
       " 'GL000225.1': 'GL000225.1',\n",
       " 'GL000192.1': 'GL000192.1',\n",
       " 'NT_167207.1': 'GL000192.1',\n",
       " 'HSCHR1_RANDOM_CTG12': 'GL000192.1',\n",
       " 'chr1_gl000192_random': 'GL000192.1'}"
      ]
     },
     "execution_count": 28,
     "metadata": {},
     "output_type": "execute_result"
    }
   ],
   "source": [
    "refgenome.REFVERINFO.get_assemblyspec('hg19').get_chrom_converter(fasta.references, fasta.lengths)"
   ]
  },
  {
   "cell_type": "code",
   "execution_count": 24,
   "id": "ca09775d-c4a3-4209-b386-2f3e0407d021",
   "metadata": {
    "scrolled": true,
    "tags": []
   },
   "outputs": [
    {
     "data": {
      "text/plain": [
       "[{'1', 'CM000663.1', 'NC_000001.10', 'chr1'},\n",
       " {'2', 'CM000664.1', 'NC_000002.11', 'chr2'},\n",
       " {'3', 'CM000665.1', 'NC_000003.11', 'chr3'},\n",
       " {'4', 'CM000666.1', 'NC_000004.11', 'chr4'},\n",
       " {'5', 'CM000667.1', 'NC_000005.9', 'chr5'},\n",
       " {'6', 'CM000668.1', 'NC_000006.11', 'chr6'},\n",
       " {'7', 'CM000669.1', 'NC_000007.13', 'chr7'},\n",
       " {'8', 'CM000670.1', 'NC_000008.10', 'chr8'},\n",
       " {'9', 'CM000671.1', 'NC_000009.11', 'chr9'},\n",
       " {'10', 'CM000672.1', 'NC_000010.10', 'chr10'},\n",
       " {'11', 'CM000673.1', 'NC_000011.9', 'chr11'},\n",
       " {'12', 'CM000674.1', 'NC_000012.11', 'chr12'},\n",
       " {'13', 'CM000675.1', 'NC_000013.10', 'chr13'},\n",
       " {'14', 'CM000676.1', 'NC_000014.8', 'chr14'},\n",
       " {'15', 'CM000677.1', 'NC_000015.9', 'chr15'},\n",
       " {'16', 'CM000678.1', 'NC_000016.9', 'chr16'},\n",
       " {'17', 'CM000679.1', 'NC_000017.10', 'chr17'},\n",
       " {'18', 'CM000680.1', 'NC_000018.9', 'chr18'},\n",
       " {'19', 'CM000681.1', 'NC_000019.9', 'chr19'},\n",
       " {'20', 'CM000682.1', 'NC_000020.10', 'chr20'},\n",
       " {'21', 'CM000683.1', 'NC_000021.8', 'chr21'},\n",
       " {'22', 'CM000684.1', 'NC_000022.10', 'chr22'},\n",
       " {'CM000685.1', 'NC_000023.10', 'X', 'chrX'},\n",
       " {'CM000686.1', 'NC_000024.9', 'Y', 'chrY'},\n",
       " {'GL000191.1', 'HSCHR1_RANDOM_CTG5', 'NT_113878.1', 'chr1_gl000191_random'},\n",
       " {'GL000192.1', 'HSCHR1_RANDOM_CTG12', 'NT_167207.1', 'chr1_gl000192_random'},\n",
       " {'GL000193.1', 'HSCHR4_RANDOM_CTG2', 'NT_113885.1', 'chr4_gl000193_random'},\n",
       " {'GL000194.1', 'HSCHR4_RANDOM_CTG3', 'NT_113888.1', 'chr4_gl000194_random'},\n",
       " {'GL000195.1', 'HSCHR7_RANDOM_CTG1', 'NT_113901.1', 'chr7_gl000195_random'},\n",
       " {'GL000196.1', 'HSCHR8_RANDOM_CTG1', 'NT_113909.1', 'chr8_gl000196_random'},\n",
       " {'GL000197.1', 'HSCHR8_RANDOM_CTG4', 'NT_113907.1', 'chr8_gl000197_random'},\n",
       " {'GL000198.1', 'HSCHR9_RANDOM_CTG1', 'NT_113914.1', 'chr9_gl000198_random'},\n",
       " {'GL000199.1', 'HSCHR9_RANDOM_CTG2', 'NT_113916.2', 'chr9_gl000199_random'},\n",
       " {'GL000200.1', 'HSCHR9_RANDOM_CTG4', 'NT_113915.1', 'chr9_gl000200_random'},\n",
       " {'GL000201.1', 'HSCHR9_RANDOM_CTG5', 'NT_113911.1', 'chr9_gl000201_random'},\n",
       " {'GL000202.1', 'HSCHR11_RANDOM_CTG2', 'NT_113921.2', 'chr11_gl000202_random'},\n",
       " {'GL000203.1', 'HSCHR17_RANDOM_CTG1', 'NT_113941.1', 'chr17_gl000203_random'},\n",
       " {'GL000204.1', 'HSCHR17_RANDOM_CTG2', 'NT_113943.1', 'chr17_gl000204_random'},\n",
       " {'GL000205.1', 'HSCHR17_RANDOM_CTG3', 'NT_113930.1', 'chr17_gl000205_random'},\n",
       " {'GL000206.1', 'HSCHR17_RANDOM_CTG4', 'NT_113945.1', 'chr17_gl000206_random'},\n",
       " {'GL000207.1', 'HSCHR18_RANDOM_CTG1', 'NT_113947.1', 'chr18_gl000207_random'},\n",
       " {'GL000208.1', 'HSCHR19_RANDOM_CTG1', 'NT_113948.1', 'chr19_gl000208_random'},\n",
       " {'GL000209.1', 'HSCHR19_RANDOM_CTG2', 'NT_113949.1', 'chr19_gl000209_random'},\n",
       " {'GL000210.1', 'HSCHR21_RANDOM_CTG9', 'NT_113950.2', 'chr21_gl000210_random'},\n",
       " {'GL000211.1', 'HSCHRUN_RANDOM_CTG1', 'NT_113961.1', 'chrUn_gl000211'},\n",
       " {'GL000212.1', 'HSCHRUN_RANDOM_CTG2', 'NT_113923.1', 'chrUn_gl000212'},\n",
       " {'GL000213.1', 'HSCHRUN_RANDOM_CTG3', 'NT_167208.1', 'chrUn_gl000213'},\n",
       " {'GL000214.1', 'HSCHRUN_RANDOM_CTG4', 'NT_167209.1', 'chrUn_gl000214'},\n",
       " {'GL000215.1', 'HSCHRUN_RANDOM_CTG5', 'NT_167210.1', 'chrUn_gl000215'},\n",
       " {'GL000216.1', 'HSCHRUN_RANDOM_CTG6', 'NT_167211.1', 'chrUn_gl000216'},\n",
       " {'GL000217.1', 'HSCHRUN_RANDOM_CTG7', 'NT_167212.1', 'chrUn_gl000217'},\n",
       " {'GL000218.1', 'HSCHRUN_RANDOM_CTG9', 'NT_113889.1', 'chrUn_gl000218'},\n",
       " {'GL000219.1', 'HSCHRUN_RANDOM_CTG10', 'NT_167213.1', 'chrUn_gl000219'},\n",
       " {'GL000220.1', 'HSCHRUN_RANDOM_CTG11', 'NT_167214.1', 'chrUn_gl000220'},\n",
       " {'GL000221.1', 'HSCHRUN_RANDOM_CTG13', 'NT_167215.1', 'chrUn_gl000221'},\n",
       " {'GL000222.1', 'HSCHRUN_RANDOM_CTG14', 'NT_167216.1', 'chrUn_gl000222'},\n",
       " {'GL000223.1', 'HSCHRUN_RANDOM_CTG15', 'NT_167217.1', 'chrUn_gl000223'},\n",
       " {'GL000224.1', 'HSCHRUN_RANDOM_CTG16', 'NT_167218.1', 'chrUn_gl000224'},\n",
       " {'GL000225.1', 'HSCHRUN_RANDOM_CTG17', 'NT_167219.1', 'chrUn_gl000225'},\n",
       " {'GL000226.1', 'HSCHRUN_RANDOM_CTG19', 'NT_167220.1', 'chrUn_gl000226'},\n",
       " {'GL000227.1', 'HSCHRUN_RANDOM_CTG20', 'NT_167221.1', 'chrUn_gl000227'},\n",
       " {'GL000228.1', 'HSCHRUN_RANDOM_CTG21', 'NT_167222.1', 'chrUn_gl000228'},\n",
       " {'GL000229.1', 'HSCHRUN_RANDOM_CTG22', 'NT_167223.1', 'chrUn_gl000229'},\n",
       " {'GL000230.1', 'HSCHRUN_RANDOM_CTG23', 'NT_167224.1', 'chrUn_gl000230'},\n",
       " {'GL000231.1', 'HSCHRUN_RANDOM_CTG24', 'NT_167225.1', 'chrUn_gl000231'},\n",
       " {'GL000232.1', 'HSCHRUN_RANDOM_CTG25', 'NT_167226.1', 'chrUn_gl000232'},\n",
       " {'GL000233.1', 'HSCHRUN_RANDOM_CTG26', 'NT_167227.1', 'chrUn_gl000233'},\n",
       " {'GL000234.1', 'HSCHRUN_RANDOM_CTG27', 'NT_167228.1', 'chrUn_gl000234'},\n",
       " {'GL000235.1', 'HSCHRUN_RANDOM_CTG28', 'NT_167229.1', 'chrUn_gl000235'},\n",
       " {'GL000236.1', 'HSCHRUN_RANDOM_CTG29', 'NT_167230.1', 'chrUn_gl000236'},\n",
       " {'GL000237.1', 'HSCHRUN_RANDOM_CTG30', 'NT_167231.1', 'chrUn_gl000237'},\n",
       " {'GL000238.1', 'HSCHRUN_RANDOM_CTG31', 'NT_167232.1', 'chrUn_gl000238'},\n",
       " {'GL000239.1', 'HSCHRUN_RANDOM_CTG32', 'NT_167233.1', 'chrUn_gl000239'},\n",
       " {'GL000240.1', 'HSCHRUN_RANDOM_CTG33', 'NT_167234.1', 'chrUn_gl000240'},\n",
       " {'GL000241.1', 'HSCHRUN_RANDOM_CTG34', 'NT_167235.1', 'chrUn_gl000241'},\n",
       " {'GL000242.1', 'HSCHRUN_RANDOM_CTG35', 'NT_167236.1', 'chrUn_gl000242'},\n",
       " {'GL000243.1', 'HSCHRUN_RANDOM_CTG36', 'NT_167237.1', 'chrUn_gl000243'},\n",
       " {'GL000244.1', 'HSCHRUN_RANDOM_CTG37', 'NT_167238.1', 'chrUn_gl000244'},\n",
       " {'GL000245.1', 'HSCHRUN_RANDOM_CTG38', 'NT_167239.1', 'chrUn_gl000245'},\n",
       " {'GL000246.1', 'HSCHRUN_RANDOM_CTG39', 'NT_167240.1', 'chrUn_gl000246'},\n",
       " {'GL000247.1', 'HSCHRUN_RANDOM_CTG40', 'NT_167241.1', 'chrUn_gl000247'},\n",
       " {'GL000248.1', 'HSCHRUN_RANDOM_CTG41', 'NT_167242.1', 'chrUn_gl000248'},\n",
       " {'GL000249.1', 'HSCHRUN_RANDOM_CTG42', 'NT_167243.1', 'chrUn_gl000249'},\n",
       " {'GL383516.1', 'HG999_1_PATCH', 'NW_003315903.1'},\n",
       " {'GL383517.1', 'HG999_2_PATCH', 'NW_003315904.1'},\n",
       " {'GL949741.1', 'HG989_PATCH', 'NW_003571030.1'},\n",
       " {'HG1287_PATCH', 'JH636052.4', 'NW_003871055.3'},\n",
       " {'HG1292_PATCH', 'JH636053.3', 'NW_003871056.3'},\n",
       " {'HG1293_PATCH', 'JH636054.1', 'NW_003871057.1'},\n",
       " {'HG1471_PATCH', 'JH806573.1', 'NW_004070863.1'},\n",
       " {'HG1472_PATCH', 'JH806574.2', 'NW_004070864.2'},\n",
       " {'HG1473_PATCH', 'JH806575.1', 'NW_004070865.1'},\n",
       " {'GL383518.1', 'HSCHR1_1_CTG31', 'NW_003315905.1'},\n",
       " {'GL383519.1', 'HSCHR1_2_CTG31', 'NW_003315906.1'},\n",
       " {'GL383520.1', 'HSCHR1_3_CTG31', 'NW_003315907.1'},\n",
       " {'GL877870.2', 'HG1007_PATCH', 'NW_003571031.1'},\n",
       " {'GL877871.1', 'HG686_PATCH', 'NW_003571032.1'},\n",
       " {'HG953_PATCH', 'KB663603.1', 'NW_004504299.1'},\n",
       " {'GL383521.1', 'HSCHR2_1_CTG1', 'NW_003315908.1'},\n",
       " {'GL383522.1', 'HSCHR2_1_CTG12', 'NW_003315909.1'},\n",
       " {'GL582966.2', 'HSCHR2_2_CTG12', 'NW_003571033.2'},\n",
       " {'GL383523.1', 'HG186_PATCH', 'NW_003315910.1'},\n",
       " {'GL383524.1', 'HG280_PATCH', 'NW_003315911.1'},\n",
       " {'GL383525.1', 'HG991_PATCH', 'NW_003315912.1'},\n",
       " {'HG1091_PATCH', 'JH159131.1', 'NW_003871058.1'},\n",
       " {'HG325_PATCH', 'JH159132.1', 'NW_003871059.1'},\n",
       " {'HG957_PATCH', 'KE332495.1', 'NW_004775426.1'},\n",
       " {'GL383526.1', 'HSCHR3_1_CTG2_1', 'NW_003315913.1'},\n",
       " {'HSCHR3_1_CTG1', 'JH636055.1', 'NW_003871060.1'},\n",
       " {'GL582967.1', 'HG706_PATCH', 'NW_003571035.1'},\n",
       " {'GL877872.1', 'HG1032_PATCH', 'NW_003571034.1'},\n",
       " {'HG174_HG254_PATCH', 'KE332496.1', 'NW_004775427.1'},\n",
       " {'GL383527.1', 'HSCHR4_1_CTG12', 'NW_003315914.1'},\n",
       " {'GL383528.1', 'HSCHR4_1_CTG6', 'NW_003315915.1'},\n",
       " {'GL383529.1', 'HSCHR4_2_CTG9', 'NW_003315916.1'},\n",
       " {'HG1063_PATCH', 'JH159133.1', 'NW_003871061.1'},\n",
       " {'HG1082_HG167_PATCH', 'KE332497.1', 'NW_004775428.1'},\n",
       " {'GL339449.2', 'HSCHR5_1_CTG1', 'NW_003315917.2'},\n",
       " {'GL383530.1', 'HSCHR5_1_CTG2', 'NW_003315918.1'},\n",
       " {'GL383531.1', 'HSCHR5_1_CTG5', 'NW_003315919.1'},\n",
       " {'GL383532.1', 'HSCHR5_2_CTG1', 'NW_003315920.1'},\n",
       " {'GL949742.1', 'HSCHR5_3_CTG1', 'NW_003571036.1'},\n",
       " {'HG1304_PATCH', 'JH636056.1', 'NW_003871062.1'},\n",
       " {'HG1322_PATCH', 'JH636057.1', 'NW_003871063.1'},\n",
       " {'HG27_PATCH', 'JH806576.1', 'NW_004070866.1'},\n",
       " {'HG357_PATCH', 'KB663604.1', 'NW_004504300.1'},\n",
       " {'HG193_PATCH', 'KE332498.1', 'NW_004775429.1'},\n",
       " {'GL383533.1', 'HSCHR6_1_CTG5', 'NW_003315921.1'},\n",
       " {'HSCHR6_2_CTG5', 'KB021644.1', 'NW_004166862.1'},\n",
       " {'GL582968.1', 'HG115_PATCH', 'NW_003571037.1'},\n",
       " {'GL582969.1', 'HG14_PATCH', 'NW_003571038.1'},\n",
       " {'GL582970.1', 'HG736_PATCH', 'NW_003571039.1'},\n",
       " {'GL582971.1', 'HG7_PATCH', 'NW_003571040.1'},\n",
       " {'GL582972.1', 'HG946_PATCH', 'NW_003571041.1'},\n",
       " {'HG1257_PATCH', 'JH159134.2', 'NW_003871064.1'},\n",
       " {'HG1308_PATCH', 'JH636058.1', 'NW_003871065.1'},\n",
       " {'HG444_PATCH', 'KE332499.1', 'NW_004775430.1'},\n",
       " {'GL383534.2', 'HSCHR7_1_CTG6', 'NW_003315922.2'},\n",
       " {'GL383535.1', 'HG104_HG975_PATCH', 'NW_003315923.1'},\n",
       " {'GL383536.1', 'HG243_PATCH', 'NW_003315924.1'},\n",
       " {'GL949743.1', 'HG19_PATCH', 'NW_003571042.1'},\n",
       " {'HG418_PATCH', 'JH159135.2', 'NW_003871066.2'},\n",
       " {'HG1699_PATCH', 'KE332500.1', 'NW_004775431.1'},\n",
       " {'GL339450.1', 'HG79_PATCH', 'NW_003315925.1'},\n",
       " {'GL383537.1', 'HG998_1_PATCH', 'NW_003315926.1'},\n",
       " {'GL383538.1', 'HG998_2_PATCH', 'NW_003315927.1'},\n",
       " {'HG962_PATCH', 'JH636059.1', 'NW_003871067.1'},\n",
       " {'HG1500_PATCH', 'JH806577.1', 'NW_004070867.1'},\n",
       " {'HG1501_PATCH', 'JH806578.1', 'NW_004070868.1'},\n",
       " {'HG1502_PATCH', 'JH806579.1', 'NW_004070869.1'},\n",
       " {'HG50_PATCH', 'KB663605.1', 'NW_004504301.1'},\n",
       " {'GL383539.1', 'HSCHR9_1_CTG1', 'NW_003315928.1'},\n",
       " {'GL383540.1', 'HSCHR9_1_CTG35', 'NW_003315929.1'},\n",
       " {'GL383541.1', 'HSCHR9_2_CTG35', 'NW_003315930.1'},\n",
       " {'GL383542.1', 'HSCHR9_3_CTG35', 'NW_003315931.1'},\n",
       " {'GL383543.1', 'HG544_PATCH', 'NW_003315932.1'},\n",
       " {'GL383544.1', 'HG995_PATCH', 'NW_003315933.1'},\n",
       " {'GL877873.1', 'HG905_PATCH', 'NW_003571043.1'},\n",
       " {'HG1211_PATCH', 'JH591181.2', 'NW_003871068.1'},\n",
       " {'HG311_PATCH', 'JH591182.1', 'NW_003871069.1'},\n",
       " {'HG339_PATCH', 'JH591183.1', 'NW_003871070.1'},\n",
       " {'HG871_PATCH', 'JH636060.1', 'NW_003871071.1'},\n",
       " {'HG1479_PATCH', 'JH806580.1', 'NW_004070870.1'},\n",
       " {'HG1074_PATCH', 'KB663606.1', 'NW_004504302.1'},\n",
       " {'HG979_PATCH', 'KE332501.1', 'NW_004775432.1'},\n",
       " {'GL383545.1', 'HSCHR10_1_CTG2', 'NW_003315934.1'},\n",
       " {'GL383546.1', 'HSCHR10_1_CTG5', 'NW_003315935.1'},\n",
       " {'GL582973.1', 'HG281_PATCH', 'NW_003571045.1'},\n",
       " {'GL949744.1', 'HG536_PATCH', 'NW_003571046.1'},\n",
       " {'HG299_PATCH', 'JH159138.1', 'NW_003871076.1'},\n",
       " {'HG305_PATCH', 'JH159139.1', 'NW_003871077.1'},\n",
       " {'HG306_PATCH', 'JH159140.1', 'NW_003871078.1'},\n",
       " {'HG348_PATCH', 'JH159141.2', 'NW_003871079.1'},\n",
       " {'HG388_HG400_PATCH', 'JH159142.2', 'NW_003871080.1'},\n",
       " {'HG414_PATCH', 'JH159143.1', 'NW_003871081.1'},\n",
       " {'HG256_PATCH', 'JH591184.1', 'NW_003871075.1'},\n",
       " {'HG873_PATCH', 'JH591185.1', 'NW_003871082.1'},\n",
       " {'HG122_PATCH', 'JH720443.2', 'NW_003871072.2'},\n",
       " {'HG865_PATCH', 'JH806581.1', 'NW_004070871.1'},\n",
       " {'GL383547.1', 'HSCHR11_1_CTG1_1', 'NW_003315936.1'},\n",
       " {'HG142_HG150_NOVEL_TEST', 'JH159136.1', 'NW_003871073.1'},\n",
       " {'HG151_NOVEL_TEST', 'JH159137.1', 'NW_003871074.1'},\n",
       " {'GL383548.1', 'HG996_PATCH', 'NW_003315937.1'},\n",
       " {'GL582974.1', 'HG858_PATCH', 'NW_003571048.1'},\n",
       " {'HG344_PATCH', 'JH720444.2', 'NW_003871083.2'},\n",
       " {'HG1595_PATCH', 'KB663607.2', 'NW_004504303.2'},\n",
       " {'GL383549.1', 'HSCHR12_1_CTG2', 'NW_003315938.1'},\n",
       " {'GL383550.1', 'HSCHR12_1_CTG2_1', 'NW_003315939.1'},\n",
       " {'GL383551.1', 'HSCHR12_1_CTG5', 'NW_003315940.1'},\n",
       " {'GL383552.1', 'HSCHR12_2_CTG2_1', 'NW_003315941.1'},\n",
       " {'GL383553.2', 'HSCHR12_3_CTG2_1', 'NW_003315942.2'},\n",
       " {'GL877875.1', 'HSCHR12_1_CTG1', 'NW_003571049.1'},\n",
       " {'GL877876.1', 'HSCHR12_2_CTG2', 'NW_003571050.1'},\n",
       " {'GL949745.1', 'HG1133_PATCH', 'NW_003571047.1'},\n",
       " {'GL582975.1', 'HG531_PATCH', 'NW_003571051.1'},\n",
       " {'HG1592_PATCH', 'KB021645.1', 'NW_004166863.1'},\n",
       " {'HG971_PATCH', 'JH720445.1', 'NW_003871084.1'},\n",
       " {'GL383554.1', 'HSCHR15_1_CTG4', 'NW_003315943.1'},\n",
       " {'GL383555.1', 'HSCHR15_1_CTG8', 'NW_003315944.1'},\n",
       " {'HG1208_PATCH', 'JH720446.1', 'NW_003871085.1'},\n",
       " {'GL383556.1', 'HSCHR16_1_CTG3_1', 'NW_003315945.1'},\n",
       " {'GL383557.1', 'HSCHR16_2_CTG3_1', 'NW_003315946.1'},\n",
       " {'GL383558.1', 'HG183_PATCH', 'NW_003315947.1'},\n",
       " {'GL383559.2', 'HG745_PATCH', 'NW_003315948.2'},\n",
       " {'GL383560.1', 'HG75_PATCH', 'NW_003315949.1'},\n",
       " {'GL383561.2', 'HG987_PATCH', 'NW_003315950.2'},\n",
       " {'GL383562.1', 'HG990_PATCH', 'NW_003315951.1'},\n",
       " {'GL582976.1', 'HG185_PATCH', 'NW_003571052.1'},\n",
       " {'HG747_PATCH', 'JH159144.1', 'NW_003871088.1'},\n",
       " {'HG883_PATCH', 'JH159145.1', 'NW_003871090.1'},\n",
       " {'HG748_PATCH', 'JH591186.1', 'NW_003871089.1'},\n",
       " {'HG271_PATCH', 'JH636061.1', 'NW_003871087.1'},\n",
       " {'HG1146_PATCH', 'JH720447.1', 'NW_003871086.1'},\n",
       " {'HG417_PATCH', 'JH806582.2', 'NW_004070872.2'},\n",
       " {'HG385_PATCH', 'KB021646.2', 'NW_004166864.2'},\n",
       " {'HG1591_PATCH', 'KE332502.1', 'NW_004775433.1'},\n",
       " {'GL383563.2', 'HSCHR17_1_CTG1', 'NW_003315952.2'},\n",
       " {'GL383564.1', 'HSCHR17_1_CTG4', 'NW_003315953.1'},\n",
       " {'GL383565.1', 'HSCHR17_2_CTG4', 'NW_003315954.1'},\n",
       " {'GL383566.1', 'HSCHR17_3_CTG4', 'NW_003315955.1'},\n",
       " {'HSCHR17_4_CTG4', 'JH159146.1', 'NW_003871091.1'},\n",
       " {'HSCHR17_5_CTG4', 'JH159147.1', 'NW_003871092.1'},\n",
       " {'HSCHR17_6_CTG4', 'JH159148.1', 'NW_003871093.1'},\n",
       " {'GL383567.1', 'HSCHR18_1_CTG1_1', 'NW_003315956.1'},\n",
       " {'GL383568.1', 'HSCHR18_1_CTG2', 'NW_003315957.1'},\n",
       " {'GL383569.1', 'HSCHR18_1_CTG2_1', 'NW_003315958.1'},\n",
       " {'GL383570.1', 'HSCHR18_2_CTG1_1', 'NW_003315959.1'},\n",
       " {'GL383571.1', 'HSCHR18_2_CTG2', 'NW_003315960.1'},\n",
       " {'GL383572.1', 'HSCHR18_2_CTG2_1', 'NW_003315961.1'},\n",
       " {'GL582977.2', 'HG730_PATCH', 'NW_003571053.2'},\n",
       " {'HG729_PATCH', 'JH159149.1', 'NW_003871094.1'},\n",
       " {'HG1079_PATCH', 'KB021647.1', 'NW_004166865.1'},\n",
       " {'HG1350_HG959_PATCH', 'KE332505.1', 'NW_004775434.1'},\n",
       " {'GL383573.1', 'HSCHR19_1_CTG3', 'NW_003315962.1'},\n",
       " {'GL383574.1', 'HSCHR19_1_CTG3_1', 'NW_003315963.1'},\n",
       " {'GL383575.2', 'HSCHR19_2_CTG3', 'NW_003315964.2'},\n",
       " {'GL383576.1', 'HSCHR19_3_CTG3', 'NW_003315965.1'},\n",
       " {'GL949746.1', 'HSCHR19LRC_COX1_CTG1', 'NW_003571054.1'},\n",
       " {'GL949747.1', 'HSCHR19LRC_COX2_CTG1', 'NW_003571055.1'},\n",
       " {'GL949748.1', 'HSCHR19LRC_LRC_I_CTG1', 'NW_003571056.1'},\n",
       " {'GL949749.1', 'HSCHR19LRC_LRC_J_CTG1', 'NW_003571057.1'},\n",
       " {'GL949750.1', 'HSCHR19LRC_LRC_S_CTG1', 'NW_003571058.1'},\n",
       " {'GL949751.1', 'HSCHR19LRC_LRC_T_CTG1', 'NW_003571059.1'},\n",
       " {'GL949752.1', 'HSCHR19LRC_PGF1_CTG1', 'NW_003571060.1'},\n",
       " {'GL949753.1', 'HSCHR19LRC_PGF2_CTG1', 'NW_003571061.1'},\n",
       " {'GL582979.2', 'HG506_HG507_HG1000_PATCH', 'NW_003571063.2'},\n",
       " {'HG144_PATCH', 'JH720448.1', 'NW_003871095.1'},\n",
       " {'HG944_PATCH', 'KB663608.1', 'NW_004504304.1'},\n",
       " {'GL383577.1', 'HSCHR20_1_CTG1', 'NW_003315966.1'},\n",
       " {'HG237_PATCH', 'KE332506.1', 'NW_004775435.1'},\n",
       " {'GL383578.1', 'HSCHR21_1_CTG1_1', 'NW_003315967.1'},\n",
       " {'GL383579.1', 'HSCHR21_2_CTG1_1', 'NW_003315968.1'},\n",
       " {'GL383580.1', 'HSCHR21_3_CTG1_1', 'NW_003315969.1'},\n",
       " {'GL383581.1', 'HSCHR21_4_CTG1_1', 'NW_003315970.1'},\n",
       " {'HG329_PATCH', 'JH720449.1', 'NW_003871096.1'},\n",
       " {'HG1486_PATCH', 'JH806583.1', 'NW_004070873.1'},\n",
       " {'HG1487_PATCH', 'JH806584.1', 'NW_004070874.1'},\n",
       " {'HG1488_PATCH', 'JH806585.1', 'NW_004070875.1'},\n",
       " {'HG497_PATCH', 'JH806586.1', 'NW_004070876.1'},\n",
       " {'GL383582.2', 'HSCHR22_1_CTG1', 'NW_003315971.2'},\n",
       " {'GL383583.1', 'HSCHR22_1_CTG2', 'NW_003315972.1'},\n",
       " {'HSCHR22_2_CTG1', 'KB663609.1', 'NW_004504305.1'},\n",
       " {'GL877877.2', 'HG480_HG481_PATCH', 'NW_003571064.2'},\n",
       " {'HG1497_PATCH', 'JH159150.3', 'NW_003871103.3'},\n",
       " {'HG1423_PATCH', 'JH720451.1', 'NW_003871098.1'},\n",
       " {'HG1424_PATCH', 'JH720452.1', 'NW_003871099.1'},\n",
       " {'HG1425_PATCH', 'JH720453.1', 'NW_003871100.1'},\n",
       " {'HG1426_PATCH', 'JH720454.3', 'NW_003871101.3'},\n",
       " {'HG375_PATCH', 'JH720455.1', 'NW_003871102.1'},\n",
       " {'HG1433_PATCH', 'JH806587.1', 'NW_004070877.1'},\n",
       " {'HG1434_PATCH', 'JH806588.1', 'NW_004070878.1'},\n",
       " {'HG1435_PATCH', 'JH806589.1', 'NW_004070879.1'},\n",
       " {'HG1436_HG1432_PATCH', 'JH806590.2', 'NW_004070880.2'},\n",
       " {'HG1437_PATCH', 'JH806591.1', 'NW_004070881.1'},\n",
       " {'HG1438_PATCH', 'JH806592.1', 'NW_004070882.1'},\n",
       " {'HG1439_PATCH', 'JH806593.1', 'NW_004070883.1'},\n",
       " {'HG1440_PATCH', 'JH806594.1', 'NW_004070884.1'},\n",
       " {'HG1441_PATCH', 'JH806595.1', 'NW_004070885.1'},\n",
       " {'HG1442_PATCH', 'JH806596.1', 'NW_004070886.1'},\n",
       " {'HG1443_HG1444_PATCH', 'JH806597.1', 'NW_004070887.1'},\n",
       " {'HG1453_PATCH', 'JH806598.1', 'NW_004070888.1'},\n",
       " {'HG1458_PATCH', 'JH806599.1', 'NW_004070889.1'},\n",
       " {'HG1459_PATCH', 'JH806600.2', 'NW_004070890.2'},\n",
       " {'HG1462_PATCH', 'JH806601.1', 'NW_004070891.1'},\n",
       " {'HG1463_PATCH', 'JH806602.1', 'NW_004070892.1'},\n",
       " {'HG1490_PATCH', 'JH806603.1', 'NW_004070893.1'},\n",
       " {'HG29_PATCH', 'KB021648.1', 'NW_004166866.1'},\n",
       " {'GL000250.1', 'HSCHR6_MHC_APD_CTG1', 'NT_167244.1', 'chr6_apd_hap1'},\n",
       " {'GL000251.1', 'HSCHR6_MHC_COX_CTG1', 'NT_113891.2', 'chr6_cox_hap2'},\n",
       " {'GL000252.1', 'HSCHR6_MHC_DBB_CTG1', 'NT_167245.1', 'chr6_dbb_hap3'},\n",
       " {'GL000253.1', 'HSCHR6_MHC_MANN_CTG1', 'NT_167246.1', 'chr6_mann_hap4'},\n",
       " {'GL000254.1', 'HSCHR6_MHC_MCF_CTG1', 'NT_167247.1', 'chr6_mcf_hap5'},\n",
       " {'GL000255.1', 'HSCHR6_MHC_QBL_CTG1', 'NT_167248.1', 'chr6_qbl_hap6'},\n",
       " {'GL000256.1', 'HSCHR6_MHC_SSTO_CTG1', 'NT_167249.1', 'chr6_ssto_hap7'},\n",
       " {'GL000257.1', 'HSCHR4_1_CTG9', 'NT_167250.1', 'chr4_ctg9_hap1'},\n",
       " {'GL000258.1', 'HSCHR17_1_CTG5', 'NT_167251.1', 'chr17_ctg5_hap1'},\n",
       " {'J01415.2', 'MT', 'NC_012920.1', 'chrM'}]"
      ]
     },
     "execution_count": 24,
     "metadata": {},
     "output_type": "execute_result"
    }
   ],
   "source": [
    "refgenome.REFVERINFO.get_assemblyspec('hg19').get_alias_groups()"
   ]
  },
  {
   "cell_type": "code",
   "execution_count": null,
   "id": "792b1723-6c57-450a-bb36-29f264997c62",
   "metadata": {},
   "outputs": [],
   "source": []
  },
  {
   "cell_type": "code",
   "execution_count": null,
   "id": "d917b391-a2fe-4e73-9e78-a81624dda0b8",
   "metadata": {},
   "outputs": [],
   "source": []
  },
  {
   "cell_type": "code",
   "execution_count": null,
   "id": "9486a3b4-2cfe-4b2b-914a-cffff8de911f",
   "metadata": {},
   "outputs": [],
   "source": []
  },
  {
   "cell_type": "code",
   "execution_count": null,
   "id": "19ff3bd4-704c-4f15-a76c-22d3bbf0afe0",
   "metadata": {},
   "outputs": [],
   "source": []
  },
  {
   "cell_type": "code",
   "execution_count": 8,
   "id": "1159d353-0f5b-4c21-a882-a16649edf6eb",
   "metadata": {},
   "outputs": [],
   "source": [
    "import pysam\n",
    "gff_ens = pysam.TabixFile()"
   ]
  },
  {
   "cell_type": "code",
   "execution_count": null,
   "id": "a0ccd886-e37f-41cb-ac75-5a0d6165c354",
   "metadata": {},
   "outputs": [],
   "source": []
  },
  {
   "cell_type": "code",
   "execution_count": null,
   "id": "2087a303-6e13-4344-9f7d-1bd7f71d5a04",
   "metadata": {},
   "outputs": [],
   "source": []
  },
  {
   "cell_type": "code",
   "execution_count": null,
   "id": "f410e342-c257-4ca9-ac1c-03cde63338f5",
   "metadata": {},
   "outputs": [],
   "source": []
  },
  {
   "cell_type": "code",
   "execution_count": null,
   "id": "2a95a070-5828-415c-a925-1710338dfda1",
   "metadata": {},
   "outputs": [],
   "source": []
  },
  {
   "cell_type": "code",
   "execution_count": 3,
   "id": "874d8202-d718-4973-b31b-065583d076e0",
   "metadata": {},
   "outputs": [],
   "source": [
    "FASTA_HG19 = common.DEFAULT_FASTAS['hg19']\n",
    "FASTA_HG38 = common.DEFAULT_FASTAS['hg38']\n",
    "CHROMDICT_HG19 = common.DEFAULT_CHROMDICTS['hg19']\n",
    "CHROMDICT_HG38 = common.DEFAULT_CHROMDICTS['hg38']"
   ]
  },
  {
   "cell_type": "code",
   "execution_count": 4,
   "id": "a15064bc-6493-42a0-ac17-71a06306caa9",
   "metadata": {},
   "outputs": [],
   "source": [
    "igv = IGVHandle(60387)"
   ]
  },
  {
   "cell_type": "code",
   "execution_count": 5,
   "id": "7b11d2b3-72eb-4121-9db2-5579b9f04c20",
   "metadata": {},
   "outputs": [],
   "source": [
    "def perfcheck(func, *args, **kwargs):\n",
    "    import time\n",
    "    t1 = time.perf_counter()\n",
    "    result = func(*args, **kwargs)\n",
    "    t2 = time.perf_counter()\n",
    "    print(f'{t2 - t1} sec')\n",
    "    \n",
    "    return result"
   ]
  },
  {
   "cell_type": "markdown",
   "id": "4882e09d-24d0-4328-be9a-0f5671ce1eed",
   "metadata": {
    "jp-MarkdownHeadingCollapsed": true
   },
   "source": [
    "# Scratches"
   ]
  },
  {
   "cell_type": "code",
   "execution_count": 57,
   "id": "4b945a95-5ed2-46a4-96d3-9d3358a8ba23",
   "metadata": {
    "scrolled": true,
    "tags": []
   },
   "outputs": [
    {
     "name": "stderr",
     "output_type": "stream",
     "text": [
      "[KST 2023-07-07 18:45:38] Trying to open url 'https://ftp.ncbi.nlm.nih.gov/genomes/refseq/vertebrate_mammalian/Homo_sapiens/all_assembly_versions/GCF_000001405.10_NCBI34/GCF_000001405.10_NCBI34_assembly_report.txt'\n",
      "[KST 2023-07-07 18:45:39] Succeeded to open url 'https://ftp.ncbi.nlm.nih.gov/genomes/refseq/vertebrate_mammalian/Homo_sapiens/all_assembly_versions/GCF_000001405.10_NCBI34/GCF_000001405.10_NCBI34_assembly_report.txt'\n",
      "[KST 2023-07-07 18:45:39] Trying to open url 'https://ftp.ncbi.nlm.nih.gov/genomes/refseq/vertebrate_mammalian/Homo_sapiens/all_assembly_versions/GCF_000001405.11_NCBI35/GCF_000001405.11_NCBI35_assembly_report.txt'\n",
      "[KST 2023-07-07 18:45:40] Succeeded to open url 'https://ftp.ncbi.nlm.nih.gov/genomes/refseq/vertebrate_mammalian/Homo_sapiens/all_assembly_versions/GCF_000001405.11_NCBI35/GCF_000001405.11_NCBI35_assembly_report.txt'\n",
      "[KST 2023-07-07 18:45:40] Trying to open url 'https://ftp.ncbi.nlm.nih.gov/genomes/refseq/vertebrate_mammalian/Homo_sapiens/all_assembly_versions/GCF_000001405.40_GRCh38.p14/GCF_000001405.40_GRCh38.p14_assembly_report.txt'\n",
      "[KST 2023-07-07 18:45:45] Succeeded to open url 'https://ftp.ncbi.nlm.nih.gov/genomes/refseq/vertebrate_mammalian/Homo_sapiens/all_assembly_versions/GCF_000001405.40_GRCh38.p14/GCF_000001405.40_GRCh38.p14_assembly_report.txt'\n",
      "[KST 2023-07-07 18:45:46] Trying to open url 'https://ftp.ncbi.nlm.nih.gov/genomes/refseq/vertebrate_mammalian/Homo_sapiens/all_assembly_versions/GCF_000001405.8_NCBI33/GCF_000001405.8_NCBI33_assembly_report.txt'\n",
      "[KST 2023-07-07 18:45:47] Succeeded to open url 'https://ftp.ncbi.nlm.nih.gov/genomes/refseq/vertebrate_mammalian/Homo_sapiens/all_assembly_versions/GCF_000001405.8_NCBI33/GCF_000001405.8_NCBI33_assembly_report.txt'\n",
      "[KST 2023-07-07 18:45:47] Trying to open url 'https://ftp.ncbi.nlm.nih.gov/genomes/refseq/vertebrate_mammalian/Homo_sapiens/all_assembly_versions/GCF_009914755.1_T2T-CHM13v2.0/GCF_009914755.1_T2T-CHM13v2.0_assembly_report.txt'\n",
      "[KST 2023-07-07 18:45:47] Succeeded to open url 'https://ftp.ncbi.nlm.nih.gov/genomes/refseq/vertebrate_mammalian/Homo_sapiens/all_assembly_versions/GCF_009914755.1_T2T-CHM13v2.0/GCF_009914755.1_T2T-CHM13v2.0_assembly_report.txt'\n",
      "[KST 2023-07-07 18:45:47] Trying to open url 'https://ftp.ncbi.nlm.nih.gov/genomes/refseq/vertebrate_mammalian/Mus_musculus/all_assembly_versions/GCF_000001635.12_MGSCv3/GCF_000001635.12_MGSCv3_assembly_report.txt'\n",
      "[KST 2023-07-07 18:45:53] Succeeded to open url 'https://ftp.ncbi.nlm.nih.gov/genomes/refseq/vertebrate_mammalian/Mus_musculus/all_assembly_versions/GCF_000001635.12_MGSCv3/GCF_000001635.12_MGSCv3_assembly_report.txt'\n",
      "[KST 2023-07-07 18:45:55] Trying to open url 'https://ftp.ncbi.nlm.nih.gov/genomes/refseq/vertebrate_mammalian/Mus_musculus/all_assembly_versions/GCF_000001635.13_MGSCv34/GCF_000001635.13_MGSCv34_assembly_report.txt'\n",
      "[KST 2023-07-07 18:46:01] Succeeded to open url 'https://ftp.ncbi.nlm.nih.gov/genomes/refseq/vertebrate_mammalian/Mus_musculus/all_assembly_versions/GCF_000001635.13_MGSCv34/GCF_000001635.13_MGSCv34_assembly_report.txt'\n",
      "[KST 2023-07-07 18:46:03] Trying to open url 'https://ftp.ncbi.nlm.nih.gov/genomes/refseq/vertebrate_mammalian/Mus_musculus/all_assembly_versions/GCF_000001635.14_MGSCv35/GCF_000001635.14_MGSCv35_assembly_report.txt'\n",
      "[KST 2023-07-07 18:46:09] Succeeded to open url 'https://ftp.ncbi.nlm.nih.gov/genomes/refseq/vertebrate_mammalian/Mus_musculus/all_assembly_versions/GCF_000001635.14_MGSCv35/GCF_000001635.14_MGSCv35_assembly_report.txt'\n",
      "[KST 2023-07-07 18:46:10] Trying to open url 'https://ftp.ncbi.nlm.nih.gov/genomes/refseq/vertebrate_mammalian/Mus_musculus/all_assembly_versions/GCF_000001635.15_MGSCv36/GCF_000001635.15_MGSCv36_assembly_report.txt'\n",
      "[KST 2023-07-07 18:46:15] Succeeded to open url 'https://ftp.ncbi.nlm.nih.gov/genomes/refseq/vertebrate_mammalian/Mus_musculus/all_assembly_versions/GCF_000001635.15_MGSCv36/GCF_000001635.15_MGSCv36_assembly_report.txt'\n",
      "[KST 2023-07-07 18:46:16] Trying to open url 'https://ftp.ncbi.nlm.nih.gov/genomes/refseq/vertebrate_mammalian/Mus_musculus/all_assembly_versions/GCF_000001635.18_MGSCv37/GCF_000001635.18_MGSCv37_assembly_report.txt'\n",
      "[KST 2023-07-07 18:46:16] Succeeded to open url 'https://ftp.ncbi.nlm.nih.gov/genomes/refseq/vertebrate_mammalian/Mus_musculus/all_assembly_versions/GCF_000001635.18_MGSCv37/GCF_000001635.18_MGSCv37_assembly_report.txt'\n",
      "[KST 2023-07-07 18:46:17] Trying to open url 'https://ftp.ncbi.nlm.nih.gov/genomes/refseq/plant/Musa_acuminata/all_assembly_versions/GCF_000313855.1_ASM31385v1/GCF_000313855.1_ASM31385v1_assembly_report.txt'\n",
      "[KST 2023-07-07 18:46:18] Succeeded to open url 'https://ftp.ncbi.nlm.nih.gov/genomes/refseq/plant/Musa_acuminata/all_assembly_versions/GCF_000313855.1_ASM31385v1/GCF_000313855.1_ASM31385v1_assembly_report.txt'\n",
      "[KST 2023-07-07 18:46:19] Trying to open url 'https://ftp.ncbi.nlm.nih.gov/genomes/refseq/plant/Musa_acuminata/all_assembly_versions/GCF_000313855.2_ASM31385v2/GCF_000313855.2_ASM31385v2_assembly_report.txt'\n",
      "[KST 2023-07-07 18:46:25] Succeeded to open url 'https://ftp.ncbi.nlm.nih.gov/genomes/refseq/plant/Musa_acuminata/all_assembly_versions/GCF_000313855.2_ASM31385v2/GCF_000313855.2_ASM31385v2_assembly_report.txt'\n"
     ]
    }
   ],
   "source": [
    "import handygenome.publicdb.ncbi as libncbi\n",
    "import handygenome.assemblyspec as libassemblyspec"
   ]
  },
  {
   "cell_type": "code",
   "execution_count": 60,
   "id": "12d9019a-9405-404b-a612-66e0270f7ffd",
   "metadata": {},
   "outputs": [
    {
     "data": {
      "text/plain": [
       "{'GCF_000001405.25': {'vcf_md5': 'https://ftp.ncbi.nlm.nih.gov/snp/latest_release/VCF/GCF_000001405.25.gz.md5',\n",
       "  'vcf': 'https://ftp.ncbi.nlm.nih.gov/snp/latest_release/VCF/GCF_000001405.25.gz'},\n",
       " 'GCF_000001405.40': {'vcf_md5': 'https://ftp.ncbi.nlm.nih.gov/snp/latest_release/VCF/GCF_000001405.40.gz.md5',\n",
       "  'vcf': 'https://ftp.ncbi.nlm.nih.gov/snp/latest_release/VCF/GCF_000001405.40.gz'}}"
      ]
     },
     "execution_count": 60,
     "metadata": {},
     "output_type": "execute_result"
    }
   ],
   "source": [
    "libncbi.get_dbsnp_urls()"
   ]
  },
  {
   "cell_type": "code",
   "execution_count": null,
   "id": "b3a378de-e65d-4a44-b7e5-f803548e2778",
   "metadata": {},
   "outputs": [],
   "source": []
  },
  {
   "cell_type": "code",
   "execution_count": null,
   "id": "24b8bca6-fff2-4a77-9dc8-405800417215",
   "metadata": {},
   "outputs": [],
   "source": []
  },
  {
   "cell_type": "code",
   "execution_count": 138,
   "id": "95938c2d-0199-4c19-b8ee-5961585f8bdb",
   "metadata": {},
   "outputs": [],
   "source": [
    "import pysam\n",
    "vcf = pysam.VariantFile(\"https://ftp.ncbi.nih.gov/snp/latest_release/VCF/GCF_000001405.25.gz\")"
   ]
  },
  {
   "cell_type": "code",
   "execution_count": 152,
   "id": "54159f26-1549-4509-a514-60d3ddb56ef5",
   "metadata": {},
   "outputs": [
    {
     "name": "stdout",
     "output_type": "stream",
     "text": [
      "156\n",
      "<class 'str'>\n"
     ]
    }
   ],
   "source": [
    "for rec in vcf.header.records:\n",
    "    if rec.key == 'dbSNP_BUILD_ID':\n",
    "        print(rec.value)\n",
    "        print(type(rec.value))"
   ]
  },
  {
   "cell_type": "code",
   "execution_count": 156,
   "id": "f59caf0e-8a93-4ac5-9ae8-0ba098503bec",
   "metadata": {},
   "outputs": [],
   "source": [
    "dic = dict()\n",
    "for rec in (vcf.header.records):\n",
    "    if rec.type == 'GENERIC':\n",
    "        dic[rec.key] = rec.value"
   ]
  },
  {
   "cell_type": "code",
   "execution_count": 157,
   "id": "ef24efa5-be45-4f70-9071-716ca4060d58",
   "metadata": {},
   "outputs": [
    {
     "data": {
      "text/plain": [
       "{'fileformat': 'VCFv4.2',\n",
       " 'fileDate': '20221104',\n",
       " 'source': 'dbSNP',\n",
       " 'dbSNP_BUILD_ID': '156',\n",
       " 'reference': 'GRCh37.p13',\n",
       " 'phasing': 'partial'}"
      ]
     },
     "execution_count": 157,
     "metadata": {},
     "output_type": "execute_result"
    }
   ],
   "source": [
    "dic"
   ]
  },
  {
   "cell_type": "code",
   "execution_count": 161,
   "id": "53b57a88-b1a9-4824-a41f-38877fe19fc5",
   "metadata": {},
   "outputs": [
    {
     "name": "stdout",
     "output_type": "stream",
     "text": [
      "Help on VariantHeader object:\n",
      "\n",
      "class VariantHeader(builtins.object)\n",
      " |  VariantHeader()\n",
      " |  header information for a :class:`VariantFile` object\n",
      " |  \n",
      " |  Methods defined here:\n",
      " |  \n",
      " |  __bool__(self, /)\n",
      " |      True if self else False\n",
      " |  \n",
      " |  __init__(self, /, *args, **kwargs)\n",
      " |      Initialize self.  See help(type(self)) for accurate signature.\n",
      " |  \n",
      " |  __reduce__ = __reduce_cython__(...)\n",
      " |      VariantHeader.__reduce_cython__(self)\n",
      " |  \n",
      " |  __setstate__ = __setstate_cython__(...)\n",
      " |      VariantHeader.__setstate_cython__(self, __pyx_state)\n",
      " |  \n",
      " |  __str__(self, /)\n",
      " |      Return str(self).\n",
      " |  \n",
      " |  add_line(...)\n",
      " |      VariantHeader.add_line(self, line)\n",
      " |      Add a metadata line to this header\n",
      " |  \n",
      " |  add_meta(...)\n",
      " |      VariantHeader.add_meta(self, key, value=None, items=None)\n",
      " |      Add metadata to this header\n",
      " |  \n",
      " |  add_record(...)\n",
      " |      VariantHeader.add_record(self, VariantHeaderRecord record)\n",
      " |      Add an existing :class:`VariantHeaderRecord` to this header\n",
      " |  \n",
      " |  add_sample(...)\n",
      " |      VariantHeader.add_sample(self, name)\n",
      " |      Add a new sample to this header\n",
      " |  \n",
      " |  add_samples(...)\n",
      " |      VariantHeader.add_samples(self, *args)\n",
      " |      Add several new samples to this header.\n",
      " |              This function takes multiple arguments, each of which may\n",
      " |              be either a sample name or an iterable returning sample names\n",
      " |              (e.g., a list of sample names).\n",
      " |  \n",
      " |  copy(...)\n",
      " |      VariantHeader.copy(self)\n",
      " |  \n",
      " |  merge(...)\n",
      " |      VariantHeader.merge(self, VariantHeader header)\n",
      " |  \n",
      " |  new_record(...)\n",
      " |      VariantHeader.new_record(self, contig=None, start=0, stop=0, alleles=None, id=None, qual=None, filter=None, info=None, samples=None, **kwargs)\n",
      " |      Create a new empty VariantRecord.\n",
      " |      \n",
      " |              Arguments are currently experimental.  Use with caution and expect\n",
      " |              changes in upcoming releases.\n",
      " |  \n",
      " |  ----------------------------------------------------------------------\n",
      " |  Static methods defined here:\n",
      " |  \n",
      " |  __new__(*args, **kwargs) from builtins.type\n",
      " |      Create and return a new object.  See help(type) for accurate signature.\n",
      " |  \n",
      " |  ----------------------------------------------------------------------\n",
      " |  Data descriptors defined here:\n",
      " |  \n",
      " |  alts\n",
      " |      alt metadata (:class:`dict` ID->record).\n",
      " |      \n",
      " |      The data returned just a snapshot of alt records, is created\n",
      " |      every time the property is requested, and modifications will\n",
      " |      not be reflected in the header metadata and vice versa.\n",
      " |      \n",
      " |      i.e. it is just a dict that reflects the state of alt records\n",
      " |      at the time it is created.\n",
      " |  \n",
      " |  contigs\n",
      " |      contig information (:class:`VariantHeaderContigs`)\n",
      " |  \n",
      " |  filters\n",
      " |      filter metadata (:class:`VariantHeaderMetadata`)\n",
      " |  \n",
      " |  formats\n",
      " |      format metadata (:class:`VariantHeaderMetadata`)\n",
      " |  \n",
      " |  info\n",
      " |      info metadata (:class:`VariantHeaderMetadata`)\n",
      " |  \n",
      " |  records\n",
      " |      header records (:class:`VariantHeaderRecords`)\n",
      " |  \n",
      " |  samples\n",
      " |      samples (:class:`VariantHeaderSamples`)\n",
      " |  \n",
      " |  version\n",
      " |      VCF version\n",
      " |  \n",
      " |  ----------------------------------------------------------------------\n",
      " |  Data and other attributes defined here:\n",
      " |  \n",
      " |  __pyx_vtable__ = <capsule object NULL>\n",
      "\n"
     ]
    },
    {
     "name": "stderr",
     "output_type": "stream",
     "text": [
      "[autoreload of handygenome.tools.database_converter.dbsnp_converter failed: Traceback (most recent call last):\n",
      "  File \"/home/users/pjh/tools/miniconda/221104/miniconda3/envs/genome_v7/lib/python3.10/site-packages/IPython/extensions/autoreload.py\", line 261, in check\n",
      "    superreload(m, reload, self.old_objects)\n",
      "  File \"/home/users/pjh/tools/miniconda/221104/miniconda3/envs/genome_v7/lib/python3.10/site-packages/IPython/extensions/autoreload.py\", line 459, in superreload\n",
      "    module = reload(module)\n",
      "  File \"/home/users/pjh/tools/miniconda/221104/miniconda3/envs/genome_v7/lib/python3.10/importlib/__init__.py\", line 169, in reload\n",
      "    _bootstrap._exec(spec, module)\n",
      "  File \"<frozen importlib._bootstrap>\", line 619, in _exec\n",
      "  File \"<frozen importlib._bootstrap_external>\", line 879, in exec_module\n",
      "  File \"<frozen importlib._bootstrap_external>\", line 1017, in get_code\n",
      "  File \"<frozen importlib._bootstrap_external>\", line 947, in source_to_code\n",
      "  File \"<frozen importlib._bootstrap>\", line 241, in _call_with_frames_removed\n",
      "  File \"/home/users/pjh/scripts/python_genome_package_dev/handygenome/tools/database_converter/dbsnp_converter.py\", line 226\n",
      "    new_header.add_record(\n",
      "                         ^\n",
      "SyntaxError: '(' was never closed\n",
      "]\n"
     ]
    }
   ],
   "source": [
    "help(vcf.header)"
   ]
  },
  {
   "cell_type": "code",
   "execution_count": null,
   "id": "c3108d92-0057-494a-893d-714c9d9b7c26",
   "metadata": {},
   "outputs": [],
   "source": []
  },
  {
   "cell_type": "code",
   "execution_count": 108,
   "id": "525a7bc0-fdf8-4e6e-9ae1-f16c5c30da37",
   "metadata": {},
   "outputs": [],
   "source": [
    "left_nrow = 3\n",
    "right_nrow = 10\n",
    "\n",
    "left_df = pd.DataFrame.from_dict({\n",
    "    # 'Chromosome': pd.Categorical(np.random.choice([str(x) for x in range(1, 6)], left_nrow)),\n",
    "    'Chromosome': pd.Categorical(np.random.choice([str(x) for x in range(1, 2)], left_nrow)),\n",
    "    'Start': np.random.randint(0, 10000, left_nrow),\n",
    "    'End': np.random.randint(15000, 30000, left_nrow),\n",
    "    'val1': np.random.normal(0, 1, left_nrow),\n",
    "    'val2': np.random.normal(0, 1, left_nrow),\n",
    "})\n",
    "left_gr = pr.PyRanges(left_df).sort()\n",
    "\n",
    "right_df = pd.DataFrame.from_dict({\n",
    "    # 'Chromosome': pd.Categorical(np.random.choice([str(x) for x in range(1, 5)], right_nrow)),\n",
    "    'Chromosome': pd.Categorical(np.random.choice([str(x) for x in range(1, 2)], right_nrow)),\n",
    "    'Start': np.random.randint(23000, 33000, right_nrow),\n",
    "    'End': np.random.randint(50000, 60000, right_nrow),\n",
    "    'val3': np.random.normal(0, 1, right_nrow),\n",
    "    'val4': np.random.normal(0, 1, right_nrow),\n",
    "})\n",
    "right_gr = pr.PyRanges(right_df).sort()"
   ]
  },
  {
   "cell_type": "code",
   "execution_count": 125,
   "id": "68b6f784-bede-4f5a-860d-d9dbd868e401",
   "metadata": {},
   "outputs": [],
   "source": [
    "left_df = pd.DataFrame.from_records(\n",
    "    [\n",
    "        ['1', 0, 100, 'a'],\n",
    "    ],\n",
    "    columns=['Chromosome', 'Start', 'End', 'val'],\n",
    ")\n",
    "\n",
    "right_df = pd.DataFrame.from_records(\n",
    "    [\n",
    "        ['1', 50, 60, 1],\n",
    "        ['1', 50, 60, 3],\n",
    "        ['1', 70, 80, np.nan],\n",
    "    ],\n",
    "    columns=['Chromosome', 'Start', 'End', 'val2'],\n",
    ")"
   ]
  },
  {
   "cell_type": "code",
   "execution_count": 126,
   "id": "a4732ef9-85d5-4d08-b589-2fc8d461a9a2",
   "metadata": {},
   "outputs": [
    {
     "data": {
      "text/html": [
       "<div>\n",
       "<style scoped>\n",
       "    .dataframe tbody tr th:only-of-type {\n",
       "        vertical-align: middle;\n",
       "    }\n",
       "\n",
       "    .dataframe tbody tr th {\n",
       "        vertical-align: top;\n",
       "    }\n",
       "\n",
       "    .dataframe thead th {\n",
       "        text-align: right;\n",
       "    }\n",
       "</style>\n",
       "<table border=\"1\" class=\"dataframe\">\n",
       "  <thead>\n",
       "    <tr style=\"text-align: right;\">\n",
       "      <th></th>\n",
       "      <th>Chromosome</th>\n",
       "      <th>Start</th>\n",
       "      <th>End</th>\n",
       "      <th>val</th>\n",
       "    </tr>\n",
       "  </thead>\n",
       "  <tbody>\n",
       "    <tr>\n",
       "      <th>0</th>\n",
       "      <td>1</td>\n",
       "      <td>0</td>\n",
       "      <td>100</td>\n",
       "      <td>a</td>\n",
       "    </tr>\n",
       "  </tbody>\n",
       "</table>\n",
       "</div>"
      ],
      "text/plain": [
       "  Chromosome  Start  End val\n",
       "0          1      0  100   a"
      ]
     },
     "execution_count": 126,
     "metadata": {},
     "output_type": "execute_result"
    }
   ],
   "source": [
    "left_df"
   ]
  },
  {
   "cell_type": "code",
   "execution_count": 127,
   "id": "4e2538c7-95cf-4e91-a7c4-a59feb516716",
   "metadata": {},
   "outputs": [
    {
     "data": {
      "text/html": [
       "<div>\n",
       "<style scoped>\n",
       "    .dataframe tbody tr th:only-of-type {\n",
       "        vertical-align: middle;\n",
       "    }\n",
       "\n",
       "    .dataframe tbody tr th {\n",
       "        vertical-align: top;\n",
       "    }\n",
       "\n",
       "    .dataframe thead th {\n",
       "        text-align: right;\n",
       "    }\n",
       "</style>\n",
       "<table border=\"1\" class=\"dataframe\">\n",
       "  <thead>\n",
       "    <tr style=\"text-align: right;\">\n",
       "      <th></th>\n",
       "      <th>Chromosome</th>\n",
       "      <th>Start</th>\n",
       "      <th>End</th>\n",
       "      <th>val2</th>\n",
       "    </tr>\n",
       "  </thead>\n",
       "  <tbody>\n",
       "    <tr>\n",
       "      <th>0</th>\n",
       "      <td>1</td>\n",
       "      <td>50</td>\n",
       "      <td>60</td>\n",
       "      <td>1.0</td>\n",
       "    </tr>\n",
       "    <tr>\n",
       "      <th>1</th>\n",
       "      <td>1</td>\n",
       "      <td>50</td>\n",
       "      <td>60</td>\n",
       "      <td>3.0</td>\n",
       "    </tr>\n",
       "    <tr>\n",
       "      <th>2</th>\n",
       "      <td>1</td>\n",
       "      <td>70</td>\n",
       "      <td>80</td>\n",
       "      <td>NaN</td>\n",
       "    </tr>\n",
       "  </tbody>\n",
       "</table>\n",
       "</div>"
      ],
      "text/plain": [
       "  Chromosome  Start  End  val2\n",
       "0          1     50   60   1.0\n",
       "1          1     50   60   3.0\n",
       "2          1     70   80   NaN"
      ]
     },
     "execution_count": 127,
     "metadata": {},
     "output_type": "execute_result"
    }
   ],
   "source": [
    "right_df"
   ]
  },
  {
   "cell_type": "code",
   "execution_count": null,
   "id": "9de31f70-cbc5-49fe-bf86-a508ad8ede82",
   "metadata": {},
   "outputs": [],
   "source": []
  },
  {
   "cell_type": "code",
   "execution_count": 128,
   "id": "776ede46-e5e6-4ed0-9cdd-a6d332d0359b",
   "metadata": {},
   "outputs": [],
   "source": [
    "import handygenome.pyranges_helper as pyranges_helper"
   ]
  },
  {
   "cell_type": "code",
   "execution_count": 131,
   "id": "c82d76d4-48c3-45a2-a4f9-bc95f56af5f7",
   "metadata": {},
   "outputs": [],
   "source": [
    "joined = pyranges_helper.join(left_df, right_df, merge='mean', how='left', add_std=True)"
   ]
  },
  {
   "cell_type": "code",
   "execution_count": 132,
   "id": "e4a3bc4b-9318-402a-a2f7-bd562e7c831d",
   "metadata": {},
   "outputs": [
    {
     "data": {
      "text/html": [
       "<div>\n",
       "<style scoped>\n",
       "    .dataframe tbody tr th:only-of-type {\n",
       "        vertical-align: middle;\n",
       "    }\n",
       "\n",
       "    .dataframe tbody tr th {\n",
       "        vertical-align: top;\n",
       "    }\n",
       "\n",
       "    .dataframe thead th {\n",
       "        text-align: right;\n",
       "    }\n",
       "</style>\n",
       "<table border=\"1\" class=\"dataframe\">\n",
       "  <thead>\n",
       "    <tr style=\"text-align: right;\">\n",
       "      <th></th>\n",
       "      <th>Chromosome</th>\n",
       "      <th>Start</th>\n",
       "      <th>End</th>\n",
       "      <th>val</th>\n",
       "      <th>val2</th>\n",
       "      <th>val2_std</th>\n",
       "    </tr>\n",
       "  </thead>\n",
       "  <tbody>\n",
       "    <tr>\n",
       "      <th>0</th>\n",
       "      <td>1</td>\n",
       "      <td>0</td>\n",
       "      <td>100</td>\n",
       "      <td>a</td>\n",
       "      <td>2.0</td>\n",
       "      <td>1.0</td>\n",
       "    </tr>\n",
       "  </tbody>\n",
       "</table>\n",
       "</div>"
      ],
      "text/plain": [
       "  Chromosome  Start  End val  val2  val2_std\n",
       "0          1      0  100   a   2.0       1.0"
      ]
     },
     "execution_count": 132,
     "metadata": {},
     "output_type": "execute_result"
    }
   ],
   "source": [
    "joined"
   ]
  },
  {
   "cell_type": "code",
   "execution_count": 133,
   "id": "fe64367b-ed20-4247-acdf-a9ae499b3867",
   "metadata": {},
   "outputs": [
    {
     "data": {
      "text/plain": [
       "1.0"
      ]
     },
     "execution_count": 133,
     "metadata": {},
     "output_type": "execute_result"
    }
   ],
   "source": [
    "np.std([1, 3])"
   ]
  },
  {
   "cell_type": "code",
   "execution_count": 116,
   "id": "34af2c88-437a-46ba-b2eb-aac8b67e96cf",
   "metadata": {},
   "outputs": [],
   "source": [
    "joined2 = pyranges_helper.join(left_gr, right_gr, merge='mean', how='left', add_std=True)"
   ]
  },
  {
   "cell_type": "code",
   "execution_count": 117,
   "id": "2c3df60b-ebd5-42b4-b9b5-fce323e6a87e",
   "metadata": {},
   "outputs": [
    {
     "data": {
      "text/html": [
       "<div>\n",
       "<style scoped>\n",
       "    .dataframe tbody tr th:only-of-type {\n",
       "        vertical-align: middle;\n",
       "    }\n",
       "\n",
       "    .dataframe tbody tr th {\n",
       "        vertical-align: top;\n",
       "    }\n",
       "\n",
       "    .dataframe thead th {\n",
       "        text-align: right;\n",
       "    }\n",
       "</style>\n",
       "<table border=\"1\" class=\"dataframe\">\n",
       "  <thead>\n",
       "    <tr style=\"text-align: right;\">\n",
       "      <th></th>\n",
       "      <th>Chromosome</th>\n",
       "      <th>Start</th>\n",
       "      <th>End</th>\n",
       "      <th>val1</th>\n",
       "      <th>val2</th>\n",
       "      <th>val3</th>\n",
       "      <th>val4</th>\n",
       "      <th>val3_std</th>\n",
       "      <th>val4_std</th>\n",
       "    </tr>\n",
       "  </thead>\n",
       "  <tbody>\n",
       "    <tr>\n",
       "      <th>0</th>\n",
       "      <td>1</td>\n",
       "      <td>1640</td>\n",
       "      <td>24692</td>\n",
       "      <td>2.397871</td>\n",
       "      <td>1.128897</td>\n",
       "      <td>0.653694</td>\n",
       "      <td>0.220985</td>\n",
       "      <td>0.000000</td>\n",
       "      <td>0.000000</td>\n",
       "    </tr>\n",
       "    <tr>\n",
       "      <th>1</th>\n",
       "      <td>1</td>\n",
       "      <td>6859</td>\n",
       "      <td>20853</td>\n",
       "      <td>-0.371721</td>\n",
       "      <td>0.470953</td>\n",
       "      <td>NaN</td>\n",
       "      <td>NaN</td>\n",
       "      <td>NaN</td>\n",
       "      <td>NaN</td>\n",
       "    </tr>\n",
       "    <tr>\n",
       "      <th>2</th>\n",
       "      <td>1</td>\n",
       "      <td>8451</td>\n",
       "      <td>28003</td>\n",
       "      <td>0.478073</td>\n",
       "      <td>2.031294</td>\n",
       "      <td>0.599619</td>\n",
       "      <td>0.400033</td>\n",
       "      <td>0.465758</td>\n",
       "      <td>0.747817</td>\n",
       "    </tr>\n",
       "  </tbody>\n",
       "</table>\n",
       "</div>"
      ],
      "text/plain": [
       "  Chromosome  Start    End      val1      val2      val3      val4  val3_std  \\\n",
       "0          1   1640  24692  2.397871  1.128897  0.653694  0.220985  0.000000   \n",
       "1          1   6859  20853 -0.371721  0.470953       NaN       NaN       NaN   \n",
       "2          1   8451  28003  0.478073  2.031294  0.599619  0.400033  0.465758   \n",
       "\n",
       "   val4_std  \n",
       "0  0.000000  \n",
       "1       NaN  \n",
       "2  0.747817  "
      ]
     },
     "execution_count": 117,
     "metadata": {},
     "output_type": "execute_result"
    }
   ],
   "source": [
    "joined2"
   ]
  },
  {
   "cell_type": "code",
   "execution_count": 99,
   "id": "8514447b-160a-4f9e-ae11-298134c90eb8",
   "metadata": {},
   "outputs": [
    {
     "data": {
      "text/plain": [
       "-0.33342639114907086"
      ]
     },
     "execution_count": 99,
     "metadata": {},
     "output_type": "execute_result"
    }
   ],
   "source": [
    "np.mean(joined['val4'].iloc[:2])"
   ]
  },
  {
   "cell_type": "code",
   "execution_count": 100,
   "id": "778c40a7-9daa-48df-bce4-04c79a696e03",
   "metadata": {},
   "outputs": [
    {
     "data": {
      "text/plain": [
       "1.0569280029347825"
      ]
     },
     "execution_count": 100,
     "metadata": {},
     "output_type": "execute_result"
    }
   ],
   "source": [
    "np.std(joined['val4'].iloc[:2])"
   ]
  },
  {
   "cell_type": "code",
   "execution_count": null,
   "id": "910cd3bb-8f95-486a-a0fe-b8e7d159d71a",
   "metadata": {},
   "outputs": [],
   "source": []
  },
  {
   "cell_type": "code",
   "execution_count": null,
   "id": "7d76b595-608c-402f-bc32-2dbe65ef2dd4",
   "metadata": {},
   "outputs": [],
   "source": []
  },
  {
   "cell_type": "markdown",
   "id": "b0913877-1f41-45dd-8a1c-d2142eaeaeab",
   "metadata": {
    "tags": []
   },
   "source": [
    "# Filtering criteria"
   ]
  },
  {
   "cell_type": "code",
   "execution_count": 24,
   "id": "49f2b6a0-9583-4e01-9196-234e0ad9b234",
   "metadata": {},
   "outputs": [],
   "source": [
    "sampleid = 'LU-6'"
   ]
  },
  {
   "cell_type": "code",
   "execution_count": 25,
   "id": "d87fe664-a103-43c5-b610-1b296f5cd6c9",
   "metadata": {},
   "outputs": [
    {
     "name": "stdout",
     "output_type": "stream",
     "text": [
      "OK\n",
      "OK\n",
      "OK\n"
     ]
    }
   ],
   "source": [
    "igv.new()\n",
    "igv.load([BAM_PATHS['normal'][sampleid], BAM_PATHS['tumor'][sampleid]])"
   ]
  },
  {
   "cell_type": "code",
   "execution_count": 64,
   "id": "b2b33c0f-79e1-46d4-bee6-22a140402917",
   "metadata": {},
   "outputs": [],
   "source": [
    "nbam_path = BAM_PATHS['normal'][sampleid]\n",
    "tbam_path = BAM_PATHS['tumor'][sampleid]\n",
    "nbam = pysam.AlignmentFile(BAM_PATHS['normal'][sampleid])\n",
    "tbam = pysam.AlignmentFile(BAM_PATHS['tumor'][sampleid])\n",
    "bam_dict = {'normal': nbam, 'tumor': tbam}"
   ]
  },
  {
   "cell_type": "code",
   "execution_count": 66,
   "id": "8abc6353-0a22-495a-9838-2fd2d234e09b",
   "metadata": {},
   "outputs": [],
   "source": [
    "import handygenome.bameditor as bameditor\n",
    "nbam_avgdepth = bameditor.get_average_depth(nbam)"
   ]
  },
  {
   "cell_type": "code",
   "execution_count": 115,
   "id": "b2f8bae1-eea0-4140-8ab1-82e55ce55275",
   "metadata": {},
   "outputs": [
    {
     "name": "stdout",
     "output_type": "stream",
     "text": [
      "38.48206469162919\n"
     ]
    }
   ],
   "source": [
    "print(nbam_avgdepth)"
   ]
  },
  {
   "cell_type": "code",
   "execution_count": 170,
   "id": "d0a39a8a-a47c-42ad-bb8e-f5b70ff42e00",
   "metadata": {},
   "outputs": [],
   "source": [
    "import handygenome.variant.filter as libfilter\n",
    "germlinefilter = libfilter.get_preset_filter_germline(\n",
    "    with_pon=False, \n",
    "    cutoff_lower_totalcount=(nbam_avgdepth * 0.5),\n",
    "    cutoff_upper_totalcount=(nbam_avgdepth * 1.5),\n",
    "    cutoffs_vaf=(0.2, 0.8),\n",
    ")"
   ]
  },
  {
   "cell_type": "code",
   "execution_count": null,
   "id": "c9e4627b-a3a7-4611-8298-d72e1b4ea1e7",
   "metadata": {},
   "outputs": [],
   "source": []
  },
  {
   "cell_type": "code",
   "execution_count": 117,
   "id": "43f2efcb-a5e8-4c07-89be-f8c2ac1853f1",
   "metadata": {},
   "outputs": [],
   "source": [
    "vcfpath = '/home/users/team_projects/Lung_Cancer_Panel_data/03_Data_from_YTKim/06_haplotypecaller/merged_vcfs/LU-6.merged.vcf.gz.strip.n_readstats.vcf.gz'"
   ]
  },
  {
   "cell_type": "code",
   "execution_count": 29,
   "id": "4c9f1766-ff60-4f40-844d-8048320d4901",
   "metadata": {},
   "outputs": [
    {
     "name": "stderr",
     "output_type": "stream",
     "text": [
      "[KST 2023-04-09 23:51:57.098] VariantPlusList: Processing 10,000th line\n"
     ]
    }
   ],
   "source": [
    "vplist = VariantPlusList.from_vcf(\n",
    "    vcf_path, \n",
    "    logging_lineno=10000, \n",
    "    init_all_attrs=False, \n",
    "    vp_init_params=dict(init_readstats=True, sampleid_list=[f'{sampleid}_normal']),\n",
    "    \n",
    "    prop=0.01,\n",
    "    chrom='1',\n",
    ")"
   ]
  },
  {
   "cell_type": "code",
   "execution_count": 30,
   "id": "049a216e-d4d1-44b3-a368-0e413f5cb43c",
   "metadata": {},
   "outputs": [
    {
     "data": {
      "text/plain": [
       "<VariantPlusList of length 12255 [\n",
       "\t0\t<VariantPlus(vcfspec=Vcfspec(chrom='1', pos=13,079, ref='C', alts=('G',)), gene=(alt_index 0: ))>\n",
       "\t1\t<VariantPlus(vcfspec=Vcfspec(chrom='1', pos=61,350, ref='TA', alts=('T',)), gene=(alt_index 0: ))>\n",
       "\t2\t<VariantPlus(vcfspec=Vcfspec(chrom='1', pos=66,481, ref='TTTATAGA', alts=('T',)), gene=(alt_index 0: ))>\n",
       "\t3\t<VariantPlus(vcfspec=Vcfspec(chrom='1', pos=68,635, ref='A', alts=('G',)), gene=(alt_index 0: ))>\n",
       "\t4\t<VariantPlus(vcfspec=Vcfspec(chrom='1', pos=104,828, ref='C', alts=('T',)), gene=(alt_index 0: ))>\n",
       "\t5\t<VariantPlus(vcfspec=Vcfspec(chrom='1', pos=105,123, ref='C', alts=('G',)), gene=(alt_index 0: ))>\n",
       "\t6\t<VariantPlus(vcfspec=Vcfspec(chrom='1', pos=105,700, ref='T', alts=('G',)), gene=(alt_index 0: ))>\n",
       "\t7\t<VariantPlus(vcfspec=Vcfspec(chrom='1', pos=111,735, ref='C', alts=('A',)), gene=(alt_index 0: ))>\n",
       "\t8\t<VariantPlus(vcfspec=Vcfspec(chrom='1', pos=113,800, ref='T', alts=('C',)), gene=(alt_index 0: ))>\n",
       "\t9\t<VariantPlus(vcfspec=Vcfspec(chrom='1', pos=122,497, ref='A', alts=('T',)), gene=(alt_index 0: ))>\n",
       "\t10\t<VariantPlus(vcfspec=Vcfspec(chrom='1', pos=131,310, ref='G', alts=('C',)), gene=(alt_index 0: ))>\n",
       "\t11\t<VariantPlus(vcfspec=Vcfspec(chrom='1', pos=132,697, ref='G', alts=('A',)), gene=(alt_index 0: ))>\n",
       "\t12\t<VariantPlus(vcfspec=Vcfspec(chrom='1', pos=137,563, ref='T', alts=('C',)), gene=(alt_index 0: ))>\n",
       "\t13\t<VariantPlus(vcfspec=Vcfspec(chrom='1', pos=173,052, ref='C', alts=('A',)), gene=(alt_index 0: ))>\n",
       "\t14\t<VariantPlus(vcfspec=Vcfspec(chrom='1', pos=235,001, ref='T', alts=('G',)), gene=(alt_index 0: ))>\n",
       "\t...\n",
       "]"
      ]
     },
     "execution_count": 30,
     "metadata": {},
     "output_type": "execute_result"
    }
   ],
   "source": [
    "vplist"
   ]
  },
  {
   "cell_type": "code",
   "execution_count": 157,
   "id": "c5c7b31b-81b2-44dc-b027-714287021fa5",
   "metadata": {},
   "outputs": [],
   "source": [
    "def vpfilter(vp):\n",
    "    # total_depth = vp.readstats_dict[f'{sampleid}_normal'].get_total_rppcount()\n",
    "    # return (\n",
    "    #     (vp.readstats_dict[f'{sampleid}_normal']['recurrent_mNM'][1] > 10)\n",
    "    #     # ((total_depth > nbam_avgdepth * 1.5) and (total_depth < nbam_avgdepth * 2))\n",
    "    #     and (germlinefilter.check(vp, sampleid=f'{sampleid}_normal'))\n",
    "    # )\n",
    "    # return germlinefilter.check(vp, sampleid=f'{sampleid}_normal')\n",
    "    vaf = vp.get_vaf(f'{sampleid}_normal')\n",
    "    return (\n",
    "        germlinefilter.check(vp, sampleid=f'{sampleid}_normal')\n",
    "        and (vaf > 0.2 and vaf < 0.25)\n",
    "    )\n",
    "    \n",
    "vplist_filtered = vplist.filter(vpfilter)"
   ]
  },
  {
   "cell_type": "code",
   "execution_count": 167,
   "id": "bbc14e72-873c-4193-9ce4-f487d8b1fffd",
   "metadata": {},
   "outputs": [
    {
     "name": "stdout",
     "output_type": "stream",
     "text": [
      "8\n"
     ]
    }
   ],
   "source": [
    "print(len(vplist_filtered))"
   ]
  },
  {
   "cell_type": "code",
   "execution_count": null,
   "id": "aabb7cbc-450c-4326-bf03-74d0a1d6e8e9",
   "metadata": {},
   "outputs": [],
   "source": []
  },
  {
   "cell_type": "code",
   "execution_count": 164,
   "id": "57604979-a256-4365-ad4b-3ed24825ee2c",
   "metadata": {},
   "outputs": [
    {
     "name": "stdout",
     "output_type": "stream",
     "text": [
      "<VariantPlus(vcfspec=Vcfspec(chrom='1', pos=91,634,693, ref='G', alts=('A',)), gene=(alt_index 0: ))>\n",
      "OK\n",
      "OK\n",
      "OK\n",
      "OK\n",
      "OK\n",
      "OK\n",
      "OK\n",
      "OK\n",
      "True    <DiffMeanBQFilter ({'cutoff': -5})>\n",
      "True    <AbsMeanBQFilter ({'cutoff': 20})>\n",
      "True    <DiffMeanMQFilter ({'cutoff': -10})>\n",
      "True    <AbsMeanMQFilter ({'cutoff': 40})>\n",
      "True    <ClipoverlapFilter ({'cutoff': 2.0})>\n",
      "True    <CliplenFilter ({'cutoff': 20})>\n",
      "True    <ReadcountFilter ({'cutoff': 2})>\n",
      "True    <OthercountRatioFilter ({'cutoff': 1.5, 'ref_length_cutoff': None})>\n",
      "True    <TotaldepthGTFilter ({'cutoff': 19.241032345814595})>\n",
      "True    <TotaldepthLTFilter ({'cutoff': 57.723097037443786})>\n",
      "True    <VarposUniformFilter ({'cutoff': 0.01})>\n",
      "True    <RecurrentMMFilter ({'cutoff': 10})>\n"
     ]
    }
   ],
   "source": [
    "# vp = vplist_filtered.sample()\n",
    "print(vp)\n",
    "vp.show_igv(igv, bam_dict=bam_dict)\n",
    "# igv.goto([vp.vcfspec], width=500)\n",
    "# igv.cmd('collapse')\n",
    "germlinefilter.check_show(vp, sampleid=f'{sampleid}_normal')"
   ]
  },
  {
   "cell_type": "code",
   "execution_count": 171,
   "id": "b966a1ef-e845-4cc6-aee4-38271bcb8258",
   "metadata": {},
   "outputs": [
    {
     "name": "stdout",
     "output_type": "stream",
     "text": [
      "True    <DiffMeanBQFilter ({'cutoff': -5})>\n",
      "True    <AbsMeanBQFilter ({'cutoff': 20})>\n",
      "True    <DiffMeanMQFilter ({'cutoff': -10})>\n",
      "True    <AbsMeanMQFilter ({'cutoff': 40})>\n",
      "True    <ClipoverlapFilter ({'cutoff': 2.0})>\n",
      "True    <CliplenFilter ({'cutoff': 20})>\n",
      "True    <ReadcountFilter ({'cutoff': 2})>\n",
      "True    <OthercountRatioFilter ({'cutoff': 1.5, 'ref_length_cutoff': None})>\n",
      "True    <TotaldepthGTFilter ({'cutoff': 19.241032345814595})>\n",
      "True    <TotaldepthLTFilter ({'cutoff': 57.723097037443786})>\n",
      "True    <VarposUniformFilter ({'cutoff': 0.01})>\n",
      "True    <RecurrentMMFilter ({'cutoff': 10})>\n",
      "True    <VAFFilter ({'cutoff_lower': 0.2, 'cutoff_upper': 0.8})>\n"
     ]
    }
   ],
   "source": [
    "germlinefilter.check_show(vp, sampleid=f'{sampleid}_normal')"
   ]
  },
  {
   "cell_type": "code",
   "execution_count": 173,
   "id": "6c51481a-6bd1-42af-a1be-228facd1bb06",
   "metadata": {},
   "outputs": [
    {
     "data": {
      "text/plain": [
       "0.20454545454545456"
      ]
     },
     "execution_count": 173,
     "metadata": {},
     "output_type": "execute_result"
    }
   ],
   "source": [
    "vp.get_vaf('LU-6_normal')"
   ]
  },
  {
   "cell_type": "code",
   "execution_count": 168,
   "id": "6abb57e5-885d-44d7-92fc-ef7d73194efb",
   "metadata": {},
   "outputs": [
    {
     "data": {
      "text/plain": [
       "<ReadStatsSampledict(\n",
       "    {'LU-6_normal': <ReadStats(\n",
       "        {'rppcounts': {\u001b[38;5;93m\u001b[38;5;93mNone\u001b[0m\u001b[0m: 2, -1: 0, 0: 35, 1: 9, 'softclip_overlap': 2},\n",
       "         'mean_BQs': {\u001b[38;5;93m\u001b[38;5;93mNone\u001b[0m\u001b[0m: nan, -1: nan, 0: 19.81081081081081, 1: 24.333333333333332},\n",
       "         'median_BQs': {\u001b[38;5;93m\u001b[38;5;93mNone\u001b[0m\u001b[0m: nan, -1: nan, 0: 22.0, 1: 27.0},\n",
       "         'mean_MQs': {\u001b[38;5;93m\u001b[38;5;93mNone\u001b[0m\u001b[0m: 38.25,\n",
       "                      -1: nan,\n",
       "                      0: 41.97142857142857,\n",
       "                      1: 42.888888888888886},\n",
       "         'median_MQs': {\u001b[38;5;93m\u001b[38;5;93mNone\u001b[0m\u001b[0m: 38.25, -1: nan, 0: 40.5, 1: 39.5},\n",
       "         'mean_cliplens': {\u001b[38;5;93m\u001b[38;5;93mNone\u001b[0m\u001b[0m: 65.0,\n",
       "                           -1: nan,\n",
       "                           0: 19.085714285714285,\n",
       "                           1: 12.222222222222221},\n",
       "         'median_cliplens': {\u001b[38;5;93m\u001b[38;5;93mNone\u001b[0m\u001b[0m: 65.0, -1: nan, 0: 2.0, 1: 0.0},\n",
       "         'mNM': {\u001b[38;5;93m\u001b[38;5;93mNone\u001b[0m\u001b[0m: 4.5, -1: 0, 0: 4.485714285714286, 1: 6.666666666666667},\n",
       "         'recurrent_mNM': {\u001b[38;5;93m\u001b[38;5;93mNone\u001b[0m\u001b[0m: 0, -1: 0, 0: 0, 1: 2},\n",
       "         'pairorient_pvalues': {\u001b[38;5;93m\u001b[38;5;93mNone\u001b[0m\u001b[0m: 1.0, -1: nan, 0: 0.735878800856881, 1: 1.0},\n",
       "         'readorient_pvalues': {\u001b[38;5;93m\u001b[38;5;93mNone\u001b[0m\u001b[0m: 1.0, -1: nan, 0: 1.0, 1: 1.0},\n",
       "         'varpos_uniform_pvalues': {\u001b[38;5;93m\u001b[38;5;93mNone\u001b[0m\u001b[0m: nan,\n",
       "                                    -1: nan,\n",
       "                                    0: 0.07574454982649748,\n",
       "                                    1: 0.0321504739939068},\n",
       "         'mean_varpos_fractions': {\u001b[38;5;93m\u001b[38;5;93mNone\u001b[0m\u001b[0m: nan,\n",
       "                                   -1: nan,\n",
       "                                   0: 0.41399677823518877,\n",
       "                                   1: 0.6961000735835173},\n",
       "         'median_varpos_fractions': {\u001b[38;5;93m\u001b[38;5;93mNone\u001b[0m\u001b[0m: nan,\n",
       "                                     -1: nan,\n",
       "                                     0: 0.3576158940397351,\n",
       "                                     1: 0.847682119205298}}\n",
       "    )>}\n",
       ")>"
      ]
     },
     "execution_count": 168,
     "metadata": {},
     "output_type": "execute_result"
    }
   ],
   "source": [
    "vp.readstats"
   ]
  },
  {
   "cell_type": "code",
   "execution_count": null,
   "id": "d2340088-a4af-4960-b827-955afeff1809",
   "metadata": {},
   "outputs": [],
   "source": []
  },
  {
   "cell_type": "code",
   "execution_count": 150,
   "id": "891ba77b-2044-4136-b023-9468fafa1266",
   "metadata": {},
   "outputs": [],
   "source": [
    "vafs = vplist_filtered.get_vafs(f'{sampleid}_normal')"
   ]
  },
  {
   "cell_type": "code",
   "execution_count": 156,
   "id": "b85d0894-13ec-4d4e-84cf-c2fdae624b4b",
   "metadata": {},
   "outputs": [
    {
     "data": {
      "image/png": "[encoded data removed]",
      "text/plain": [
       "<Figure size 640x480 with 1 Axes>"
      ]
     },
     "metadata": {},
     "output_type": "display_data"
    }
   ],
   "source": [
    "_ = plt.hist(vafs, bins=50)"
   ]
  },
  {
   "cell_type": "code",
   "execution_count": null,
   "id": "34e5f362-e1fc-4811-8a72-aa586cb4205a",
   "metadata": {},
   "outputs": [],
   "source": []
  },
  {
   "cell_type": "code",
   "execution_count": null,
   "id": "1483705f-da3a-41a1-af57-8f2c2980dcaf",
   "metadata": {},
   "outputs": [],
   "source": []
  },
  {
   "cell_type": "code",
   "execution_count": 30,
   "id": "dc4f39a8-6149-4895-88d1-c191e41d3024",
   "metadata": {},
   "outputs": [],
   "source": [
    "vcfspec = Vcfspec('1', 55249, 'C', ('CTATGG',), refver='hg19')\n",
    "# vcfspec = Vcfspec('1', 55299, 'C', ('T',), refver='hg19')"
   ]
  },
  {
   "cell_type": "code",
   "execution_count": 31,
   "id": "b13101a8-4fa6-41ae-acf0-a7c75bc0049b",
   "metadata": {},
   "outputs": [],
   "source": [
    "vp = VariantPlus.from_vcfspec(vcfspec)\n",
    "vp.create_readstats(bam_dict=bam_dict)"
   ]
  },
  {
   "cell_type": "code",
   "execution_count": 21,
   "id": "cb8f9724-aa9a-4f6a-af5c-8f67f14e78f9",
   "metadata": {},
   "outputs": [
    {
     "name": "stdout",
     "output_type": "stream",
     "text": [
      "OK\n",
      "OK\n",
      "OK\n",
      "OK\n",
      "OK\n",
      "OK\n",
      "OK\n",
      "OK\n"
     ]
    }
   ],
   "source": [
    "vp.show_igv(igv, bam_dict=bam_dict)"
   ]
  },
  {
   "cell_type": "code",
   "execution_count": 32,
   "id": "5bf0d6be-217b-4442-9a2f-8acfaf76db66",
   "metadata": {},
   "outputs": [
    {
     "data": {
      "text/plain": [
       "0.36231884057971014"
      ]
     },
     "execution_count": 32,
     "metadata": {},
     "output_type": "execute_result"
    }
   ],
   "source": [
    "vp.get_vaf('normal')"
   ]
  },
  {
   "cell_type": "code",
   "execution_count": 33,
   "id": "7cd7a05f-f7b2-457a-81d3-66ca08a8501f",
   "metadata": {},
   "outputs": [
    {
     "name": "stdout",
     "output_type": "stream",
     "text": [
      "True    <DiffMeanBQFilter ({'cutoff': -5})>\n",
      "True    <AbsMeanBQFilter ({'cutoff': 20})>\n",
      "True    <DiffMeanMQFilter ({'cutoff': -10})>\n",
      "False    <AbsMeanMQFilter ({'cutoff': 45})>\n",
      "True    <ClipoverlapFilter ({'cutoff': 2.0})>\n",
      "True    <CliplenFilter ({'cutoff': 20})>\n",
      "True    <ReadcountFilter ({'cutoff': 2})>\n",
      "True    <OthercountRatioFilter ({'cutoff': 1.5, 'ref_length_cutoff': None})>\n",
      "True    <TotaldepthGTFilter ({'cutoff': 10})>\n",
      "True    <VarposUniformFilter ({'cutoff': 0.01})>\n"
     ]
    }
   ],
   "source": [
    "germlinefilter.check_show(vp, 'normal')"
   ]
  },
  {
   "cell_type": "code",
   "execution_count": 34,
   "id": "da30858d-ad09-4cb4-9a64-70854d58db84",
   "metadata": {},
   "outputs": [
    {
     "data": {
      "text/plain": [
       "<ReadStats(\n",
       "    {'rppcounts': {\u001b[38;5;93mNone\u001b[0m: 3, -1: 0, 0: 44, 1: 25, 'softclip_overlap': 2},\n",
       "     'mean_BQs': {\u001b[38;5;93mNone\u001b[0m: 6.0, -1: nan, 0: 25.727272727272727, 1: 27.973333333333333},\n",
       "     'median_BQs': {\u001b[38;5;93mNone\u001b[0m: 6.0, -1: nan, 0: 27.0, 1: 27.0},\n",
       "     'mean_MQs': {\u001b[38;5;93mNone\u001b[0m: 52.0, -1: nan, 0: 43.71590909090909, 1: 38.44},\n",
       "     'median_MQs': {\u001b[38;5;93mNone\u001b[0m: 50.0, -1: nan, 0: 50.0, 1: 50.0},\n",
       "     'mean_cliplens': {\u001b[38;5;93mNone\u001b[0m: 14.333333333333334, -1: nan, 0: 1.25, 1: 0.56},\n",
       "     'median_cliplens': {\u001b[38;5;93mNone\u001b[0m: 7.0, -1: nan, 0: 0.0, 1: 0.0},\n",
       "     'mNM': {\u001b[38;5;93mNone\u001b[0m: 6.666666666666667, -1: 0, 0: 2.5, 1: 1.4},\n",
       "     'recurrent_mNM': {\u001b[38;5;93mNone\u001b[0m: 0, -1: 0, 0: 1, 1: 4},\n",
       "     'pairorient_pvalues': {\u001b[38;5;93mNone\u001b[0m: 1.0,\n",
       "                            -1: nan,\n",
       "                            0: 0.17417114727072658,\n",
       "                            1: 0.42435622215270996},\n",
       "     'readorient_pvalues': {\u001b[38;5;93mNone\u001b[0m: 1.0, -1: nan, 0: 1.0, 1: 1.0},\n",
       "     'varpos_uniform_pvalues': {\u001b[38;5;93mNone\u001b[0m: 0.07947019867549665,\n",
       "                                -1: nan,\n",
       "                                0: 0.19093164267451113,\n",
       "                                1: 0.11929883099941296},\n",
       "     'mean_varpos_fractions': {\u001b[38;5;93mNone\u001b[0m: 0.039735099337748346,\n",
       "                               -1: nan,\n",
       "                               0: 0.45078266104756176,\n",
       "                               1: 0.4005298013245034},\n",
       "     'median_varpos_fractions': {\u001b[38;5;93mNone\u001b[0m: 0.039735099337748346,\n",
       "                                 -1: nan,\n",
       "                                 0: 0.41721854304635764,\n",
       "                                 1: 0.4304635761589404}}\n",
       ")>"
      ]
     },
     "execution_count": 34,
     "metadata": {},
     "output_type": "execute_result"
    }
   ],
   "source": [
    "vp.readstats_dict['normal']"
   ]
  },
  {
   "cell_type": "code",
   "execution_count": null,
   "id": "c6dd7750-266a-47a5-aeba-4897003ede23",
   "metadata": {},
   "outputs": [],
   "source": [
    "import handygenome.variant.filter as libfilter\n",
    "germlinefilter = libfilter.get_preset_filter_germline(with_pon=False)\n",
    "\n",
    "def vpfilter(vp):\n",
    "    # vaf = vp.get_vaf('LU-14_normal', allele_index=1)\n",
    "    return (\n",
    "        germlinefilter.check(vp, sampleid='normal', allele_index=1)\n",
    "        # and (vaf > 0.3)\n",
    "        # and (vaf < 0.7)\n",
    "    )"
   ]
  },
  {
   "cell_type": "code",
   "execution_count": null,
   "id": "2809b63f-6308-4a50-8004-d8907eb2459a",
   "metadata": {},
   "outputs": [],
   "source": []
  },
  {
   "cell_type": "markdown",
   "id": "52183446-20ad-4906-9adc-d5acbb86b6fd",
   "metadata": {
    "tags": []
   },
   "source": [
    "# Multiprocessing"
   ]
  },
  {
   "cell_type": "code",
   "execution_count": 42,
   "id": "413212ea-a0da-46a0-987e-d7fd182b4cd1",
   "metadata": {},
   "outputs": [],
   "source": [
    "import multiprocessing as mp"
   ]
  },
  {
   "cell_type": "code",
   "execution_count": null,
   "id": "d74327b3-e973-4d97-87ab-8e8f25e7020b",
   "metadata": {},
   "outputs": [],
   "source": []
  },
  {
   "cell_type": "code",
   "execution_count": 43,
   "id": "4749728e-f780-4b64-9ebd-de9f5b1f2f6a",
   "metadata": {},
   "outputs": [],
   "source": [
    "manager = mp.Manager()"
   ]
  },
  {
   "cell_type": "code",
   "execution_count": 74,
   "id": "bd652909-4017-4acd-8fcc-dc9fce805b34",
   "metadata": {},
   "outputs": [],
   "source": [
    "sl = manager.list()"
   ]
  },
  {
   "cell_type": "code",
   "execution_count": 79,
   "id": "08bc5bbb-dca9-489a-a36a-eaa39ccf2f62",
   "metadata": {},
   "outputs": [
    {
     "name": "stdout",
     "output_type": "stream",
     "text": [
      "[]\n"
     ]
    }
   ],
   "source": [
    "print(sl)"
   ]
  },
  {
   "cell_type": "code",
   "execution_count": 78,
   "id": "220351b5-238f-4581-bc6c-c0719bc87e87",
   "metadata": {},
   "outputs": [],
   "source": [
    "def target(sl):\n",
    "    sl.append(('1', 123, 'A', ('C',)))\n",
    "    print('hello')"
   ]
  },
  {
   "cell_type": "code",
   "execution_count": 80,
   "id": "51119ad5-da56-4f10-ba30-7ca72ccf9c55",
   "metadata": {},
   "outputs": [
    {
     "name": "stdout",
     "output_type": "stream",
     "text": [
      "hello\n"
     ]
    }
   ],
   "source": [
    "proc = mp.Process(target=target, args=(sl,))\n",
    "proc.start()\n",
    "proc.join()"
   ]
  },
  {
   "cell_type": "code",
   "execution_count": 81,
   "id": "d6c588f5-4048-4da1-8794-2d1bedb097b7",
   "metadata": {},
   "outputs": [
    {
     "name": "stdout",
     "output_type": "stream",
     "text": [
      "[('1', 123, 'A', ('C',))]\n"
     ]
    }
   ],
   "source": [
    "print(sl)"
   ]
  },
  {
   "cell_type": "code",
   "execution_count": null,
   "id": "7e5dedc1-bf27-4950-8d29-62d95c8f59ea",
   "metadata": {},
   "outputs": [],
   "source": []
  },
  {
   "cell_type": "code",
   "execution_count": null,
   "id": "b975b798-544c-44b8-b26f-6b238f7fafc5",
   "metadata": {},
   "outputs": [],
   "source": []
  },
  {
   "cell_type": "code",
   "execution_count": 87,
   "id": "669c1cb5-e9eb-4feb-97a9-4def09c7643a",
   "metadata": {},
   "outputs": [
    {
     "name": "stdout",
     "output_type": "stream",
     "text": [
      "[(0, 10, 20), (1, 10, 20), (2, 10, 20), (3, 10, 20), (4, 10, 20)]\n"
     ]
    }
   ],
   "source": [
    "A = 10\n",
    "B = 20\n",
    "def target(x, A, B):\n",
    "    return (x, A, B)\n",
    "\n",
    "with mp.Pool(3) as p:\n",
    "    result = p.starmap(target, [(x, A, B) for x in range(5)])\n",
    "print(result)"
   ]
  },
  {
   "cell_type": "code",
   "execution_count": 90,
   "id": "3b0f4b24-6fff-42a4-9f6d-b1ca490e2150",
   "metadata": {},
   "outputs": [
    {
     "name": "stdout",
     "output_type": "stream",
     "text": [
      "[(0, 10, 20), (1, 10, 20), (2, 10, 20), (3, 10, 20), (4, 10, 20)]\n"
     ]
    }
   ],
   "source": [
    "A = 10\n",
    "B = 20\n",
    "def target(x):\n",
    "    return (x, A, B)\n",
    "\n",
    "iterable = (x for x in range(5))\n",
    "\n",
    "with mp.Pool(3) as p:\n",
    "    result = p.map(target, iterable)\n",
    "print(result)"
   ]
  },
  {
   "cell_type": "code",
   "execution_count": null,
   "id": "36908f3f-439a-4778-8725-3ed950c0c18c",
   "metadata": {},
   "outputs": [],
   "source": []
  },
  {
   "cell_type": "code",
   "execution_count": null,
   "id": "0e698c82-2f08-4d2d-b0e9-994c1d2e9a07",
   "metadata": {},
   "outputs": [],
   "source": []
  },
  {
   "cell_type": "code",
   "execution_count": 325,
   "id": "ac07c80b-c06e-41ce-bc26-84b3fe75e7b3",
   "metadata": {},
   "outputs": [],
   "source": [
    "import handygenome.variant.varianthandler as varianthandler"
   ]
  },
  {
   "cell_type": "code",
   "execution_count": 326,
   "id": "1dc95dd2-d414-425f-b12f-358c4c3a784f",
   "metadata": {},
   "outputs": [],
   "source": [
    "baf_vcf_path = '/home/users/team_projects/Lung_Cancer_Panel_data/03_Data_from_YTKim/06_haplotypecaller/annotation_230126/LU-14.readstats.het_filtered.tumorannot.vcf.gz'"
   ]
  },
  {
   "cell_type": "code",
   "execution_count": 327,
   "id": "d3360dc4-51a7-4931-9199-c4175529e79e",
   "metadata": {},
   "outputs": [],
   "source": [
    "vr = next(pysam.VariantFile(baf_vcf_path).fetch())"
   ]
  },
  {
   "cell_type": "code",
   "execution_count": 336,
   "id": "ee85db80-5715-4ea6-b64a-b2472d1e8dc2",
   "metadata": {},
   "outputs": [],
   "source": [
    "vr_data = varianthandler.encode_vr(vr)"
   ]
  },
  {
   "cell_type": "code",
   "execution_count": null,
   "id": "59951e7a-9222-47d4-a1f8-ed3a445fed91",
   "metadata": {},
   "outputs": [
    {
     "name": "stderr",
     "output_type": "stream",
     "text": [
      "[W::vcf_parse] Contig '1' is not defined in the header. (Quick workaround: index the file with tabix.)\n",
      "[W::vcf_parse_info] INFO 'AC' is not defined in the header, assuming Type=String\n",
      "[W::vcf_parse_info] INFO 'AF' is not defined in the header, assuming Type=String\n",
      "[W::vcf_parse_info] INFO 'AN' is not defined in the header, assuming Type=String\n",
      "[W::vcf_parse_info] INFO 'BaseQRankSum' is not defined in the header, assuming Type=String\n",
      "[W::vcf_parse_info] INFO 'DP' is not defined in the header, assuming Type=String\n",
      "[W::vcf_parse_info] INFO 'ExcessHet' is not defined in the header, assuming Type=String\n",
      "[W::vcf_parse_info] INFO 'FS' is not defined in the header, assuming Type=String\n",
      "[W::vcf_parse_info] INFO 'MLEAC' is not defined in the header, assuming Type=String\n",
      "[W::vcf_parse_info] INFO 'MLEAF' is not defined in the header, assuming Type=String\n",
      "[W::vcf_parse_info] INFO 'MQ' is not defined in the header, assuming Type=String\n",
      "[W::vcf_parse_info] INFO 'MQRankSum' is not defined in the header, assuming Type=String\n",
      "[W::vcf_parse_info] INFO 'QD' is not defined in the header, assuming Type=String\n",
      "[W::vcf_parse_info] INFO 'ReadPosRankSum' is not defined in the header, assuming Type=String\n",
      "[W::vcf_parse_info] INFO 'SOR' is not defined in the header, assuming Type=String\n",
      "[W::vcf_parse_format] FORMAT 'GT' at 1:54421 is not defined in the header, assuming Type=String\n",
      "[W::vcf_parse_format] FORMAT 'AD' at 1:54421 is not defined in the header, assuming Type=String\n",
      "[W::vcf_parse_format] FORMAT 'AF' at 1:54421 is not defined in the header, assuming Type=String\n",
      "[W::vcf_parse_format] FORMAT 'DP' at 1:54421 is not defined in the header, assuming Type=String\n",
      "[W::vcf_parse_format] FORMAT 'GQ' at 1:54421 is not defined in the header, assuming Type=String\n",
      "[W::vcf_parse_format] FORMAT 'readstats' at 1:54421 is not defined in the header, assuming Type=String\n"
     ]
    }
   ],
   "source": [
    "new_vr = varianthandler.decode_vr(vr_data)"
   ]
  },
  {
   "cell_type": "code",
   "execution_count": null,
   "id": "91bc2892-91ae-43d6-8e09-b4ba3de74288",
   "metadata": {},
   "outputs": [],
   "source": []
  },
  {
   "cell_type": "code",
   "execution_count": null,
   "id": "c787d7dd-0492-49f7-ba92-623ef2262d83",
   "metadata": {},
   "outputs": [],
   "source": []
  },
  {
   "cell_type": "markdown",
   "id": "729880b6-8e01-4635-97a8-967afce7762b",
   "metadata": {},
   "source": [
    "# pyranges_helper join"
   ]
  },
  {
   "cell_type": "code",
   "execution_count": 319,
   "id": "f08e2479-1b2b-42eb-a35d-3a4938c4b531",
   "metadata": {},
   "outputs": [],
   "source": [
    "left_nrow = 50000\n",
    "right_nrow = 25000\n",
    "\n",
    "left_df = pd.DataFrame.from_dict({\n",
    "    'Chromosome': pd.Categorical(np.random.choice([str(x) for x in range(1, 6)], left_nrow)),\n",
    "    'Start': np.random.randint(0, 10000, left_nrow),\n",
    "    'End': np.random.randint(15000, 30000, left_nrow),\n",
    "    'val1': np.random.normal(0, 1, left_nrow),\n",
    "    'val2': np.random.normal(0, 1, left_nrow),\n",
    "})\n",
    "left_gr = pr.PyRanges(left_df)\n",
    "\n",
    "right_df = pd.DataFrame.from_dict({\n",
    "    'Chromosome': pd.Categorical(np.random.choice([str(x) for x in range(1, 5)], right_nrow)),\n",
    "    'Start': np.random.randint(23000, 33000, right_nrow),\n",
    "    'End': np.random.randint(50000, 60000, right_nrow),\n",
    "    'val3': np.random.normal(0, 1, right_nrow),\n",
    "    'val4': np.random.normal(0, 1, right_nrow),\n",
    "})\n",
    "right_gr = pr.PyRanges(right_df)"
   ]
  },
  {
   "cell_type": "code",
   "execution_count": 322,
   "id": "11b5c720-db27-4d26-ab6e-dc5f09f483a4",
   "metadata": {},
   "outputs": [],
   "source": [
    "left_df = pd.DataFrame.from_dict({\n",
    "    'Chromosome': ['1', '1', '1'],\n",
    "    'Start': [0, 10, 100],\n",
    "    'End': [10, 25, 150],\n",
    "    'val1': [0.1, 0.24, 3.5],\n",
    "})\n",
    "left_gr = pr.PyRanges(left_df)\n",
    "\n",
    "right_df = pd.DataFrame.from_dict({\n",
    "    'Chromosome': ['1', '1', '1'],\n",
    "    'Start': [5, 24, 120],\n",
    "    'End': [8, 30, 150],\n",
    "    'val2': [10, 55, 20],\n",
    "})\n",
    "right_gr = pr.PyRanges(right_df)"
   ]
  },
  {
   "cell_type": "code",
   "execution_count": null,
   "id": "fc950048-7db5-44cf-b5b0-ac5194436838",
   "metadata": {},
   "outputs": [],
   "source": []
  },
  {
   "cell_type": "code",
   "execution_count": 323,
   "id": "04322e85-594d-4fdc-b61c-29b9babe1039",
   "metadata": {},
   "outputs": [
    {
     "name": "stdout",
     "output_type": "stream",
     "text": [
      "Grouping dataframes by chromosome\n",
      "Doing join by chromosome\n",
      "chrom 1\n",
      "Comparing coordinates\n",
      "Subsetting right df\n",
      "Doing merge\n",
      "Joining with left df\n",
      "Concatenating dataframes of all chromosomes\n",
      "0.005746753886342049 sec\n",
      "  Chromosome  Start  End  val1  val2\n",
      "0          1      0   10  0.10  10.0\n",
      "1          1     10   25  0.24  55.0\n",
      "2          1    100  150  3.50  20.0\n"
     ]
    }
   ],
   "source": [
    "joined_df = perfcheck(pyranges_helper.join_newest, left_df, right_df, how='left', merge='mean')\n",
    "print(joined_df)"
   ]
  }
 ],
 "metadata": {
  "kernelspec": {
   "display_name": "hdgn-editable",
   "language": "python",
   "name": "hdgn-editable"
  },
  "language_info": {
   "codemirror_mode": {
    "name": "ipython",
    "version": 3
   },
   "file_extension": ".py",
   "mimetype": "text/x-python",
   "name": "python",
   "nbconvert_exporter": "python",
   "pygments_lexer": "ipython3",
   "version": "3.11.4"
  }
 },
 "nbformat": 4,
 "nbformat_minor": 5
}
