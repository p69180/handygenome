{
 "cells": [
  {
   "cell_type": "markdown",
   "id": "e1d9aa7d-c181-4635-9b9a-4ce03dbd2d64",
   "metadata": {},
   "source": [
    "# Basic setups"
   ]
  },
  {
   "cell_type": "code",
   "execution_count": 8,
   "id": "59066514-fcf4-4757-b2a9-698ace03ef28",
   "metadata": {},
   "outputs": [
    {
     "name": "stdout",
     "output_type": "stream",
     "text": [
      "The autoreload extension is already loaded. To reload it, use:\n",
      "  %reload_ext autoreload\n"
     ]
    }
   ],
   "source": [
    "# 수 분 걸릴 수 있습니다\n",
    "\n",
    "%load_ext autoreload\n",
    "%autoreload 2\n",
    "\n",
    "import sys\n",
    "sys.path.append('/home/users/pjh/scripts/python_genome_package_stable/')\n",
    "# sys.path.append('/home/users/pjh/scripts/python_genome_package_dev/')\n",
    "import os\n",
    "\n",
    "import pysam\n",
    "\n",
    "from handygenome import common\n",
    "from handygenome.variant.vcfspec import Vcfspec\n",
    "from handygenome.variant.variantplus import VariantPlus\n",
    "from handygenome.igvhandle import IGVHandle\n",
    "from handygenome.align import realign"
   ]
  },
  {
   "cell_type": "code",
   "execution_count": 2,
   "id": "cbe07ee8-35bf-4771-99ef-924dd5ca5205",
   "metadata": {},
   "outputs": [],
   "source": [
    "FASTA_HG19 = common.DEFAULT_FASTAS['hg19']\n",
    "FASTA_HG38 = common.DEFAULT_FASTAS['hg38']\n",
    "CHROMDICT_HG19 = common.ChromDict(fasta=FASTA_HG19)\n",
    "CHROMDICT_HG38 = common.ChromDict(fasta=FASTA_HG38)"
   ]
  },
  {
   "cell_type": "code",
   "execution_count": 3,
   "id": "507c4095-5882-4485-b3ae-139b39321c4a",
   "metadata": {},
   "outputs": [],
   "source": [
    "# jupyter를 실행한 node와 같은 node에서 IGV를 띄워놔야 합니다\n",
    "# \"port\" argument에는 IGV에서 설정한 port와 동일한 것을 적어야 합니다\n",
    "\n",
    "igv = IGVHandle(port=60387)"
   ]
  },
  {
   "cell_type": "markdown",
   "id": "98c679e8-6bb7-4aae-8a5d-1512b29f87f7",
   "metadata": {},
   "source": [
    "# Main"
   ]
  },
  {
   "cell_type": "markdown",
   "id": "1361209b-684b-41c0-84c8-b2d8c0f8429b",
   "metadata": {},
   "source": [
    "### parameter 세팅"
   ]
  },
  {
   "cell_type": "code",
   "execution_count": 21,
   "id": "bd2be8ff-e455-45d6-bb75-67fa65361005",
   "metadata": {},
   "outputs": [],
   "source": [
    "# \"bam_paths\" 딕셔너리에 bam file들의 id 및 절대경로를 key-value로 적어주면 됩니다. id는 임의로 적어도 됩니다.\n",
    "# bam_paths = {}\n",
    "# 예시\n",
    "DB3_topdir = '/home/users/team_projects/Lineage_tracing/DB3/02_BAM'\n",
    "bam_paths = {\n",
    "    '3_LLL-1_Fb_001C3': os.path.join(DB3_topdir, '3_LLL-1_Fb_001C3.s.md.ir.br.cram'),\n",
    "    '3_LSM_001B10': os.path.join(DB3_topdir, '3_LSM_001B10.s.md.ir.br.cram'),\n",
    "}\n",
    "\n",
    "\n",
    "# realign 할 위치를 적어줍니다. variant가 있는 곳 근처의 아무런 범위로나 하면 됩니다.\n",
    "# locus = ('17', 3_468_331, 3_468_331)\n",
    "locus = ('18', 3_262_072, 3_262_072)  \n",
    "    # CHROM, start, end 순으로 적어주면 됩니다. \n",
    "    # CHROM은 str type으로 해야 합니다.\n",
    "    # start, end는 1-based inclusive 좌표계로 적어야 합니다.    \n",
    "\n",
    "    \n",
    "# realigned bam이 저장될 디렉토리를 지정해 줘야 합니다. 새 디렉토리를 하나 만든 다음에 절대경로를 assign 하세요.\n",
    "# realigned_bams_topdir = ''    \n",
    "# 예시: \n",
    "realigned_bams_topdir = '/home/users/pjh/practice/realign'    "
   ]
  },
  {
   "cell_type": "markdown",
   "id": "ca40b824-2c6e-4af1-9f31-c9ea617fd316",
   "metadata": {},
   "source": [
    "#### 이 아래부터는 모두 그냥 실행하면 됩니다."
   ]
  },
  {
   "cell_type": "code",
   "execution_count": 22,
   "id": "b12abaf1-8369-4c02-9f3d-f547b6413b56",
   "metadata": {},
   "outputs": [],
   "source": [
    "bam_dict = {key: pysam.AlignmentFile(val) for key, val in bam_paths.items()}\n",
    "chrom = locus[0]\n",
    "start0 = locus[1] - 1\n",
    "end0 = locus[2]\n",
    "loci = [locus]"
   ]
  },
  {
   "cell_type": "markdown",
   "id": "76adb2a2-2b04-4bd7-9610-4d954c19a934",
   "metadata": {},
   "source": [
    "### Loading original BAMs"
   ]
  },
  {
   "cell_type": "code",
   "execution_count": 23,
   "id": "1ec82fdd-23e6-45af-b535-3b999e90b225",
   "metadata": {
    "tags": []
   },
   "outputs": [
    {
     "name": "stdout",
     "output_type": "stream",
     "text": [
      "OK\n",
      "OK\n",
      "OK\n",
      "OK\n",
      "OK\n"
     ]
    }
   ],
   "source": [
    "igv.cmd('new')\n",
    "igv.load(list(bam_paths.values()))\n",
    "igv.goto(loci, width=200)  # width 값을 조정하면 더 넓은 범위를 볼 수 있습니다.\n",
    "igv.cmd('collapse')  # expand 하고싶으면 collapse 대신에 expand 쓰면 됩니다."
   ]
  },
  {
   "cell_type": "markdown",
   "id": "9a6d077a-ae1c-426e-bf34-daaf8f82058f",
   "metadata": {},
   "source": [
    "### Doing realignment - 조건에 따라 수십초 걸리기도 합니다 (개선할 예정). 1분 넘게 안 끝나면 무한루프 등의 에러일 가능성이 높습니다 ㅠㅠ"
   ]
  },
  {
   "cell_type": "code",
   "execution_count": 24,
   "id": "8508fa35-9a82-4207-be00-d7648cc96a0a",
   "metadata": {
    "scrolled": true,
    "tags": []
   },
   "outputs": [],
   "source": [
    "msrpileup_ser = realign.MultisampleRealignerPileupSeries(\n",
    "    FASTA_HG19, bam_dict, chrom, start0, end0,\n",
    "    inactive_padding=10,  # variation이 있는 영역 주변으로 variation 없는 여유 공간을 얼마나 확보할 것인가를 나타냄\n",
    "    verbose=False,  # verbose를 True로 하면 debugging message 출력\n",
    ")"
   ]
  },
  {
   "cell_type": "markdown",
   "id": "1c8b56a9-56f9-4a99-b3c7-113141739068",
   "metadata": {},
   "source": [
    "### Writing realigned bam files"
   ]
  },
  {
   "cell_type": "code",
   "execution_count": 25,
   "id": "d89858d4-5742-4fc7-b71e-e158726673a3",
   "metadata": {},
   "outputs": [],
   "source": [
    "import re\n",
    "\n",
    "realigned_bam_paths = {\n",
    "    key: os.path.join(realigned_bams_topdir, re.sub(r'(bam|cram)$', r'realigned.bam', os.path.basename(val)))\n",
    "    for key, val in bam_paths.items()\n",
    "}\n",
    "\n",
    "msrpileup_ser.write_realigned_reads(realigned_bam_paths, padding=500)\n",
    "realigned_bams = {sampleid: pysam.AlignmentFile(bam_path) for sampleid, bam_path in realigned_bam_paths.items()}"
   ]
  },
  {
   "cell_type": "markdown",
   "id": "1b1cd8d7-2b40-4e15-84a5-7d195908e05c",
   "metadata": {},
   "source": [
    "### Showing on IGV"
   ]
  },
  {
   "cell_type": "code",
   "execution_count": 26,
   "id": "aeeb6498-1ac2-4ef1-9a64-24de11b8ca71",
   "metadata": {
    "tags": []
   },
   "outputs": [
    {
     "name": "stdout",
     "output_type": "stream",
     "text": [
      "OK\n",
      "OK\n",
      "OK\n",
      "OK\n",
      "OK\n",
      "OK\n",
      "OK\n",
      "OK\n",
      "OK\n",
      "OK\n",
      "OK\n",
      "OK\n"
     ]
    }
   ],
   "source": [
    "vcfspec = msrpileup_ser.get_result_vcfspecs()[0]\n",
    "vp = VariantPlus.from_vcfspec(vcfspec)\n",
    "\n",
    "for key, val in realigned_bams.items():\n",
    "    vp.show_igv(igv, bam=val, tmpbam_name=f'{key}_realigned.bam', viewaspairs=False)\n",
    "\n",
    "igv.cmd('sort POSITION')\n",
    "igv.cmd('collapse')"
   ]
  },
  {
   "cell_type": "markdown",
   "id": "6c530a2e-d353-4493-b9fb-fb8d0b80e894",
   "metadata": {},
   "source": [
    "### VCF entry - 위치가 인접한 것들을 합쳐서 multi-ALT entry로 출력"
   ]
  },
  {
   "cell_type": "code",
   "execution_count": null,
   "id": "7acee26d-ec9f-47e3-a27f-d2dda2499f5e",
   "metadata": {},
   "outputs": [],
   "source": [
    "msrpileup_ser.get_result_vcfspecs()"
   ]
  },
  {
   "cell_type": "markdown",
   "id": "a1666f56-1ba1-4386-a61e-96f9cbed3d8c",
   "metadata": {},
   "source": [
    "### Read annotation - supporting read count 출력"
   ]
  },
  {
   "cell_type": "code",
   "execution_count": 29,
   "id": "3fd32662-0939-4140-8b93-ba13f2674dfd",
   "metadata": {},
   "outputs": [],
   "source": [
    "for sampleid, bam in realigned_bams.items():\n",
    "    vp.set_readstats(sampleid, bam)"
   ]
  },
  {
   "cell_type": "code",
   "execution_count": 30,
   "id": "098ecfc7-788a-404a-8300-c5c1db4adf44",
   "metadata": {},
   "outputs": [
    {
     "name": "stdout",
     "output_type": "stream",
     "text": [
      "3_LLL-1_Fb_001C3 {None: 5, -1: 4, 0: 16, 1: 17, 'softclip_overlap': 0}\n",
      "3_LSM_001B10 {None: 5, -1: 3, 0: 9, 1: 14, 'softclip_overlap': 0}\n"
     ]
    }
   ],
   "source": [
    "for sampleid, db in vp.readstats_dict.items():\n",
    "    print(sampleid, db['rppcounts'])"
   ]
  },
  {
   "cell_type": "code",
   "execution_count": null,
   "id": "99912963-dd22-4341-9706-4d934d45fa4f",
   "metadata": {},
   "outputs": [],
   "source": []
  },
  {
   "cell_type": "code",
   "execution_count": null,
   "id": "3de72918-c067-43d6-b706-09adba60e9da",
   "metadata": {},
   "outputs": [],
   "source": []
  },
  {
   "cell_type": "code",
   "execution_count": null,
   "id": "b34a18db-f3e1-491d-9b5e-82336386f43b",
   "metadata": {},
   "outputs": [],
   "source": []
  },
  {
   "cell_type": "code",
   "execution_count": null,
   "id": "968b371d-af3c-4d23-9fca-3ec3cb8b8bf3",
   "metadata": {},
   "outputs": [],
   "source": []
  }
 ],
 "metadata": {
  "kernelspec": {
   "display_name": "genome_v5",
   "language": "python",
   "name": "genome_v5"
  },
  "language_info": {
   "codemirror_mode": {
    "name": "ipython",
    "version": 3
   },
   "file_extension": ".py",
   "mimetype": "text/x-python",
   "name": "python",
   "nbconvert_exporter": "python",
   "pygments_lexer": "ipython3",
   "version": "3.9.12"
  }
 },
 "nbformat": 4,
 "nbformat_minor": 5
}
