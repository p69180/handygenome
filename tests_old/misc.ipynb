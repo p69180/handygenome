{
 "cells": [
  {
   "cell_type": "markdown",
   "id": "4d7fe522",
   "metadata": {},
   "source": [
    "# Initiation"
   ]
  },
  {
   "cell_type": "code",
   "execution_count": 1,
   "id": "fc03db36",
   "metadata": {},
   "outputs": [],
   "source": [
    "# %load_ext autoreload\n",
    "# %autoreload 2\n",
    "\n",
    "import re\n",
    "import os\n",
    "import random\n",
    "import pprint\n",
    "\n",
    "import pysam\n",
    "import numpy as np\n",
    "import pandas as pd\n",
    "import pyranges as pr\n",
    "import matplotlib.pyplot as plt\n",
    "import seaborn as sns\n",
    "\n",
    "import sys\n",
    "sys.path.append('/home/users/pjh/scripts/python_genome_package_dev')"
   ]
  },
  {
   "cell_type": "markdown",
   "id": "e0d7d91b",
   "metadata": {},
   "source": [
    "# Scratches"
   ]
  },
  {
   "cell_type": "code",
   "execution_count": 23,
   "id": "49ef2e4c-197e-4dc4-9753-6847bd032052",
   "metadata": {},
   "outputs": [
    {
     "data": {
      "text/plain": [
       "array(['a', 'a', 'a', 'a', 'a', 'a', 'a', 'a', 'a', 'a'], dtype='<U1')"
      ]
     },
     "execution_count": 23,
     "metadata": {},
     "output_type": "execute_result"
    }
   ],
   "source": [
    "np.repeat('a', 10)"
   ]
  },
  {
   "cell_type": "code",
   "execution_count": 24,
   "id": "242e8c4d-0b8d-4174-9044-1a7d24e2cf82",
   "metadata": {},
   "outputs": [],
   "source": [
    "import collections"
   ]
  },
  {
   "cell_type": "code",
   "execution_count": 32,
   "id": "0c66a1c7-d1bb-4ef7-a43f-ad900205a929",
   "metadata": {},
   "outputs": [],
   "source": [
    "Nt = collections.namedtuple('Nt', ('x', 'y'))\n",
    "nt = Nt(y=1, x=2)"
   ]
  },
  {
   "cell_type": "code",
   "execution_count": 30,
   "id": "28d99a25-014a-4b1a-808d-48a1deca48fa",
   "metadata": {},
   "outputs": [
    {
     "data": {
      "text/plain": [
       "Nt(x=2, y=1)"
      ]
     },
     "execution_count": 30,
     "metadata": {},
     "output_type": "execute_result"
    }
   ],
   "source": [
    "nt"
   ]
  },
  {
   "cell_type": "code",
   "execution_count": null,
   "id": "c500a661-7d93-46b4-9f15-4c2f2707e2c0",
   "metadata": {},
   "outputs": [],
   "source": []
  },
  {
   "cell_type": "code",
   "execution_count": null,
   "id": "0ce3cb30-e5e5-4dc9-a7cb-857c124201a0",
   "metadata": {},
   "outputs": [],
   "source": []
  },
  {
   "cell_type": "code",
   "execution_count": null,
   "id": "7808e0f5-12f3-49c0-80f6-29730b8be940",
   "metadata": {},
   "outputs": [],
   "source": []
  },
  {
   "cell_type": "markdown",
   "id": "ac55c931-50e0-4a7c-8f2a-b25a70f19329",
   "metadata": {},
   "source": [
    "# Search for homopolymer sites from Mutect2 result"
   ]
  },
  {
   "cell_type": "code",
   "execution_count": 388,
   "id": "239eb52f-08dd-4663-aba9-b9a505397196",
   "metadata": {},
   "outputs": [],
   "source": [
    "import handygenome.igvhandle\n",
    "igv = handygenome.igvhandle.IGVHandle(60387)"
   ]
  },
  {
   "cell_type": "code",
   "execution_count": 537,
   "id": "44043f02-243a-40fe-b6ad-c97be705b919",
   "metadata": {},
   "outputs": [],
   "source": [
    "from handygenome import common\n",
    "FASTA_HG19 = common.DEFAULT_FASTAS['hg19']"
   ]
  },
  {
   "cell_type": "code",
   "execution_count": 532,
   "id": "35f2b33b-0df3-41f0-86ef-88ca3fa46449",
   "metadata": {},
   "outputs": [],
   "source": [
    "SAMPLEIDS = [\n",
    "    '14', '6', '87', 'F13', 'F2', 'F33', 'F37', 'FF1', 'FF104', 'FF115', 'FF13', 'FF18', 'FF20', 'FF21', 'FF23', 'FF24', 'FF27', \n",
    "    'FF3', 'FF31', 'FF34', 'FF37', 'FF39', 'FF4', 'FF43', 'FF53', 'FF56', 'FF57', 'FF58', 'FF6', 'FF62', 'FF67', 'FF71', 'FF76', \n",
    "    'FF77', 'FF78', 'FF79', 'FF80', 'FF85', \n",
    "    #'IO04',  # swapped sample\n",
    "    'IO05', 'IO06', 'IO07', 'IO08', 'IO09', 'IO12', 'IO13', 'IO15', 'IO16', 'IO17', \n",
    "    'IO18', 'IO22', 'IO23', 'IO24', 'IO25', 'SC126', 'SC134', 'SC31', 'SC81', 'SC88', 'SC97', 'SC98', \n",
    "]\n",
    "SAMPLEIDS_LU = [f'LU-{x}' for x in SAMPLEIDS]\n",
    "SAMPLEIDS_LU_PANEL = [f'{x}_panel' for x in SAMPLEIDS_LU]\n",
    "SAMPLEIDS_LU_TUMOR = [f'{x}_tumor' for x in SAMPLEIDS_LU]\n",
    "\n",
    "BAM_TOPDIR = '/home/users/team_projects/Lung_Cancer_Panel_data/03_Data_from_YTKim/02_BAM/'\n",
    "PANEL_REGION_PATH = '/home/users/team_projects/Lung_Cancer_Panel_data/03_Data_from_YTKim/metadata/panel_bait_design/custom/exon_intron_targetregions_merged.bed'\n",
    "PANEL_REGION_EXONS_PATH = '/home/users/team_projects/Lung_Cancer_Panel_data/03_Data_from_YTKim/metadata/panel_bait_design/custom/SNUH_FIRST_Lung_Cancer_V5_exon_Regions_tracknamechanged.bed'\n",
    "PANEL_REGION_INTRONS_PATH = '/home/users/team_projects/Lung_Cancer_Panel_data/03_Data_from_YTKim/metadata/panel_bait_design/custom/SNUH_FIRST_Lung_Cancer_V5_intron_Regions_tracknamechanged.bed'\n",
    "WGS_TMB_PATH = '/home/users/team_projects/Lung_Cancer_Panel_data/03_Data_from_YTKim/metadata/wgs_TMB_previously_found_210312.txt'"
   ]
  },
  {
   "cell_type": "code",
   "execution_count": 533,
   "id": "29eba1c9-4b01-45eb-923c-c381ba525bb9",
   "metadata": {
    "scrolled": true
   },
   "outputs": [],
   "source": [
    "sampletype_filename_map = {\n",
    "    'tumor': ['tumor'], \n",
    "    'normal': ['normal'], \n",
    "    'panel': ['panel'], \n",
    "    'rna': ['RNA', 'RNA_GFP'],\n",
    "}\n",
    "BAM_PATHS = {sampletype: dict() for sampletype in sampletype_filename_map.keys()}\n",
    "\n",
    "for top, dirs, files in os.walk(BAM_TOPDIR):\n",
    "    for f in files:\n",
    "        for sampleid in SAMPLEIDS_LU:\n",
    "            for sampletype, fname_portions in sampletype_filename_map.items():\n",
    "                if f in (f'{sampleid}.{fname_portion}.bam' for fname_portion in fname_portions):\n",
    "                    BAM_PATHS[sampletype][sampleid] = os.path.join(top, f)"
   ]
  },
  {
   "cell_type": "code",
   "execution_count": null,
   "id": "02891a98-1455-4a8b-90f5-bdd3310fe933",
   "metadata": {},
   "outputs": [],
   "source": []
  },
  {
   "cell_type": "code",
   "execution_count": 535,
   "id": "3de2c799-fe8a-4d87-87c0-dbc03676230b",
   "metadata": {},
   "outputs": [
    {
     "name": "stdout",
     "output_type": "stream",
     "text": [
      "LU-14\n",
      "OK\n",
      "OK\n",
      "OK\n"
     ]
    }
   ],
   "source": [
    "sampleid = SAMPLEIDS_LU[0]\n",
    "print(sampleid)\n",
    "igv.cmd('new')\n",
    "igv.load([BAM_PATHS['normal'][sampleid], BAM_PATHS['tumor'][sampleid]])"
   ]
  },
  {
   "cell_type": "code",
   "execution_count": 539,
   "id": "f153db18-fdbc-4ce7-81d5-a67b32404730",
   "metadata": {},
   "outputs": [],
   "source": [
    "mutect2_raw_calls = {\n",
    "    'snv': dict(),\n",
    "    'indel': dict(),\n",
    "}\n",
    "\n",
    "for top, dirs, files in os.walk('/home/users/team_projects/Lung_Cancer_Panel_data/03_Data_from_YTKim/03_mutect2/'):\n",
    "    for f in files:\n",
    "        if f.endswith('snv.bcf.gz'):\n",
    "            sid = os.path.basename(f).split('.')[0]\n",
    "            mutect2_raw_calls['snv'][sid] = os.path.join(top, f)\n",
    "        if f.endswith('indel.bcf.gz'):\n",
    "            sid = os.path.basename(f).split('.')[0]\n",
    "            mutect2_raw_calls['indel'][sid] = os.path.join(top, f)\n",
    "            \n",
    "            \n",
    "_raw_calls = {\n",
    "    'snv': dict(),\n",
    "    'indel': dict(),\n",
    "}\n",
    "\n",
    "for top, dirs, files in os.walk('/home/users/team_projects/Lung_Cancer_Panel_data/03_Data_from_YTKim/03_mutect2/'):\n",
    "    for f in files:\n",
    "        if f.endswith('snv.bcf.gz'):\n",
    "            sid = os.path.basename(f).split('.')[0]\n",
    "            mutect2_raw_calls['snv'][sid] = os.path.join(top, f)\n",
    "        if f.endswith('indel.bcf.gz'):\n",
    "            sid = os.path.basename(f).split('.')[0]\n",
    "            mutect2_raw_calls['indel'][sid] = os.path.join(top, f)"
   ]
  },
  {
   "cell_type": "code",
   "execution_count": null,
   "id": "948c7faa-50e6-4b9c-9b57-1df5d97b6063",
   "metadata": {},
   "outputs": [],
   "source": []
  },
  {
   "cell_type": "code",
   "execution_count": 509,
   "id": "c4a451a5-333a-44a6-979e-a45338331891",
   "metadata": {},
   "outputs": [],
   "source": [
    "gen = (vr for vr in in_vcf.fetch())    "
   ]
  },
  {
   "cell_type": "code",
   "execution_count": 507,
   "id": "82be8f3c-cf8a-4505-8aab-014f6ac4c8d8",
   "metadata": {},
   "outputs": [],
   "source": [
    "import re\n",
    "\n",
    "PAT1 = re.compile('^(A{3,}|C{3,}|G{3,}|T{3,})')\n",
    "PAT2 = re.compile('(A{3,}|C{3,}|G{3,}|T{3,})$')\n",
    "\n",
    "def check_repeat_region(vr):\n",
    "    width = 5\n",
    "    pos0 = vr.pos - 1\n",
    "    ref_seq = FASTA_HG19.fetch(vr.contig, pos0 - width, (pos0 + 1) + width)\n",
    "    center_idx = width + 1\n",
    "    \n",
    "    # print(ref_seq)\n",
    "    \n",
    "    return any([\n",
    "        PAT1.match(ref_seq[center_idx:]) is not None,\n",
    "        PAT1.match(ref_seq[(center_idx + 1):]) is not None,\n",
    "        PAT2.match(ref_seq[:(center_idx + 1)]) is not None,\n",
    "        PAT2.match(ref_seq[:center_idx]) is not None,\n",
    "    ])\n",
    "    "
   ]
  },
  {
   "cell_type": "code",
   "execution_count": 529,
   "id": "e5eb8e06-7b01-4c9a-a728-fbcffafc5b5f",
   "metadata": {},
   "outputs": [],
   "source": [
    "def check_repeat_region(vr):\n",
    "    vcfspec = Vcfspec.from_vr(vr)\n",
    "    # print(vcfspec._equivalents)\n",
    "    vcfspec._set_equivalents()\n",
    "    # print(vcfspec._equivalents)\n",
    "    if len(vcfspec._equivalents) > 1:\n",
    "        print(vcfspec._equivalents)\n",
    "    return (len(vcfspec._equivalents) > 1)\n",
    "        "
   ]
  },
  {
   "cell_type": "code",
   "execution_count": 530,
   "id": "6c514f29-e776-425c-a2bd-5d357d94b4a5",
   "metadata": {
    "scrolled": true,
    "tags": []
   },
   "outputs": [],
   "source": [
    "relevant_vrs = list()\n",
    "for vr in in_vcf.fetch():\n",
    "    if check_repeat_region(vr):\n",
    "        # print(vr)\n",
    "        relevant_vrs.append(vr)\n",
    "    break"
   ]
  },
  {
   "cell_type": "code",
   "execution_count": null,
   "id": "4862f03f-1b41-449f-aa78-62ba48998e38",
   "metadata": {},
   "outputs": [],
   "source": []
  },
  {
   "cell_type": "code",
   "execution_count": 514,
   "id": "c1f9af70-5335-4b3f-95b3-59c2df8ece11",
   "metadata": {},
   "outputs": [],
   "source": [
    "gen = iter(relevant_vrs)"
   ]
  },
  {
   "cell_type": "code",
   "execution_count": 520,
   "id": "ae4c6d8b-7b74-45dc-ae73-90a348a7fcac",
   "metadata": {},
   "outputs": [
    {
     "name": "stdout",
     "output_type": "stream",
     "text": [
      "OK\n"
     ]
    }
   ],
   "source": [
    "from handygenome.variant.vcfspec import Vcfspec\n",
    "\n",
    "vr = next(gen)\n",
    "igv.goto([Vcfspec.from_vr(vr)], width=50)"
   ]
  },
  {
   "cell_type": "code",
   "execution_count": null,
   "id": "db123282-8c05-4a4a-8dc0-c6378d652c23",
   "metadata": {},
   "outputs": [],
   "source": []
  },
  {
   "cell_type": "code",
   "execution_count": null,
   "id": "dfff2afd-a21a-47a3-936e-7c4fc2657404",
   "metadata": {},
   "outputs": [],
   "source": []
  },
  {
   "cell_type": "code",
   "execution_count": null,
   "id": "2ba771f0-46a7-4349-9c5e-656aa4a2566d",
   "metadata": {},
   "outputs": [],
   "source": []
  },
  {
   "cell_type": "code",
   "execution_count": null,
   "id": "4178cfcc-7f30-4166-b9f4-4015edc5f214",
   "metadata": {},
   "outputs": [],
   "source": []
  },
  {
   "cell_type": "code",
   "execution_count": null,
   "id": "04f70d9f-8945-4292-94b3-18f41a0c2968",
   "metadata": {},
   "outputs": [],
   "source": []
  },
  {
   "cell_type": "code",
   "execution_count": null,
   "id": "9ab297e5-5a42-4f29-9163-03cb2d0a972c",
   "metadata": {},
   "outputs": [],
   "source": []
  },
  {
   "cell_type": "markdown",
   "id": "38406dc9-ae1e-4346-ab69-bf29e1068527",
   "metadata": {},
   "source": [
    "# 제휘 그래프"
   ]
  },
  {
   "cell_type": "code",
   "execution_count": 302,
   "id": "a314d5be-733a-40d4-bfbd-90c597c45a6b",
   "metadata": {},
   "outputs": [
    {
     "data": {
      "text/plain": [
       "<matplotlib.legend.Legend at 0x2b9aae21f370>"
      ]
     },
     "execution_count": 302,
     "metadata": {},
     "output_type": "execute_result"
    },
    {
     "data": {
      "image/png": "[encoded data removed]",
      "text/plain": [
       "<Figure size 504x360 with 1 Axes>"
      ]
     },
     "metadata": {
      "needs_background": "light"
     },
     "output_type": "display_data"
    }
   ],
   "source": [
    "# initiation\n",
    "import numpy as np\n",
    "import matplotlib as mpl\n",
    "import matplotlib.pyplot as plt\n",
    "\n",
    "fig, ax = plt.subplots(figsize=(7, 5))\n",
    "\n",
    "# data preparation\n",
    "x = [1, 2, 3, 4]\n",
    "y1 = [11.3, 10.9, 11.3, 11]\n",
    "y1err = [1, 1.5, 2, 1.5]\n",
    "y2 = [12, 13, 16.3, 16.6]\n",
    "y2err = [2, 1.5, 1, 3.5]\n",
    "\n",
    "# x axis setups\n",
    "ax.set_xlim(0.5, 4.5)\n",
    "ax.set_xticks([1, 2, 3, 4], minor=False)\n",
    "ax.set_xticks([1.5, 2.5, 3.5], minor=True)\n",
    "ax.set_xticklabels(['7w', '15w', '22w', '30w'], fontsize=13, fontweight=550, minor=False)\n",
    "ax.tick_params(axis='x', length=5, width=1, which='major')\n",
    "ax.tick_params(axis='x', length=3, width=1, which='minor')\n",
    "ax.set_xlabel('Age-related intermicroglial gap changes', fontsize=18, fontweight=550)\n",
    "\n",
    "# y axis setups\n",
    "ymajorticks = np.arange(9, 22)\n",
    "yminorticks = np.arange(9.5, 21, 0.5)\n",
    "yticklabels = ymajorticks.astype('int').astype('str')\n",
    "\n",
    "ax.set_ylim(8.5, 21)\n",
    "ax.set_yticks(ymajorticks, minor=False)\n",
    "ax.set_yticks(yminorticks, minor=True)\n",
    "ax.set_yticklabels(yticklabels, fontsize=13, fontweight=550, minor=False)\n",
    "ax.tick_params(axis='y', length=5, width=1, which='major')\n",
    "ax.tick_params(axis='y', length=3, width=1, which='minor')\n",
    "ax.set_ylabel(r'Glia - Glia distance ($\\mu$m)', fontsize=18, fontweight=550)\n",
    "\n",
    "# plot border customization\n",
    "ax.spines.right.set_visible(False)\n",
    "ax.spines.top.set_visible(False)\n",
    "\n",
    "# draw errorbars\n",
    "ax.errorbar(x, y1, yerr=y1err, fmt='o-k', markersize=8, capsize=5, capthick=2, zorder=0, label='NFL-IPL')\n",
    "ax.errorbar(x, y2, yerr=y2err, fmt='o-r', markersize=8, capsize=5, capthick=2, zorder=1, label='IPL-OPL')\n",
    "\n",
    "# draw legend\n",
    "legend_proxy_reddot = mpl.lines.Line2D(\n",
    "    [], [], label='IPL-OPL', marker='o', markersize=10, markerfacecolor='red', markeredgewidth=0, linestyle=''\n",
    ")\n",
    "legend_proxy_blackdot = mpl.lines.Line2D(\n",
    "    [], [], label='NFL-IPL', marker='o', markersize=10, markerfacecolor='black', markeredgewidth=0, linestyle=''\n",
    ")\n",
    "ax.legend(\n",
    "    handles=[legend_proxy_reddot, legend_proxy_blackdot], \n",
    "    loc='upper left', fontsize=14,\n",
    ")"
   ]
  },
  {
   "cell_type": "markdown",
   "id": "f3699580-85fa-44db-8f9f-57d16bcc9e2f",
   "metadata": {},
   "source": [
    "# Assembly"
   ]
  },
  {
   "cell_type": "code",
   "execution_count": 41,
   "id": "b627692e-56a3-475a-af36-2b5ef00f15f7",
   "metadata": {},
   "outputs": [],
   "source": [
    "import pysam\n",
    "import Bio.Seq\n",
    "import Bio.SeqIO\n",
    "import Bio.SeqRecord\n",
    "import gzip"
   ]
  },
  {
   "cell_type": "markdown",
   "id": "6369cc23-3ef3-49eb-9642-b0b665ab08e5",
   "metadata": {},
   "source": [
    "### Make sample fastq"
   ]
  },
  {
   "cell_type": "code",
   "execution_count": 45,
   "id": "d53933db-89db-4303-ab12-11a8affa8144",
   "metadata": {},
   "outputs": [],
   "source": [
    "bam_path = '/home/users/anjisong/project/13_VNTR/01_BAM/00_GastricCancer/2_O.splitmark.realigned.recal.bam'\n",
    "fastq_path = '/home/users/pjh/practice/assembly/input/sample.fastq.gz'\n",
    "\n",
    "def make_seqrecord(read, revert=False):\n",
    "    if revert:\n",
    "        seq = Bio.Seq.Seq(read.query_sequence if read.is_forward else Bio.Seq.reverse_complement(read.query_sequence))\n",
    "        letter_annotations = {'phred_quality': (list(read.query_qualities) if read.is_forward else list(read.query_qualities)[::-1])}\n",
    "    else:\n",
    "        seq = Bio.Seq.Seq(read.query_sequence)\n",
    "        letter_annotations = {'phred_quality': (list(read.query_qualities))}\n",
    "        \n",
    "    return Bio.SeqRecord.SeqRecord(seq=seq, id=read.query_name, name=read.query_name, letter_annotations=letter_annotations)\n",
    "    \n",
    "\n",
    "bam = pysam.AlignmentFile(bam_path)\n",
    "seqrec_iter = (make_seqrecord(read, revert=True) for read in bam.fetch('8', 144_448_677, 144_448_678))\n",
    "with gzip.open(fastq_path, 'wt') as infile:\n",
    "    Bio.SeqIO.write(seqrec_iter, infile, 'fastq')"
   ]
  },
  {
   "cell_type": "markdown",
   "id": "26343a7d-251c-44b8-af76-65cb01adfe15",
   "metadata": {},
   "source": [
    "### assembly function"
   ]
  },
  {
   "cell_type": "code",
   "execution_count": 58,
   "id": "19eb2291-9071-460e-94d0-57e5fc84acf9",
   "metadata": {},
   "outputs": [],
   "source": [
    "def assembler(seqlist):\n",
    "    contigs = dict()\n",
    "    for seq in seqlist:\n",
    "        # found_hit = False\n",
    "        # fulls = list()\n",
    "        right_partials = list()\n",
    "        left_partials = list()\n",
    "        # fulls\n",
    "        # for name, contig in sorted(contigs, key=(lambda x: len(x[1])), reverse=True):\n",
    "        # for name, contig in contigs.items():\n",
    "        #     if seq in contig:\n",
    "        #         fulls.append(name)\n",
    "        # right partials\n",
    "        for length in range(1, len(seq) + 1):\n",
    "            subseq = seq[:length]\n",
    "            for name, contig in contigs.items():\n",
    "                if contig[-length:] == subseq:\n",
    "                    extended_seq = seq[length:]\n",
    "                    right_partials.append((name, extended_seq))\n",
    "        # left partials\n",
    "        for length in range(1, len(seq) + 1):\n",
    "            subseq = seq[-length:]\n",
    "            for name, contig in contigs.items():\n",
    "                if contig[:length] == subseq:\n",
    "                    extended_seq = seq[:-length]\n",
    "                    left_partials.append((name, extended_seq))\n",
    "        # assemble\n",
    "        if len(right_partials) == 0 and len(left_partials) == 0:\n",
    "            contigs[len(contigs)] = seq\n",
    "        else:\n",
    "            if len(right_partials) > 0:\n",
    "                for name, extended_seq in right_partials:\n",
    "                    contigs[name] = contigs[name] + extended_seq\n",
    "            elif len(left_partials) > 0:\n",
    "                for name, extended_seq in left_partials:\n",
    "                    contigs[name] = extended_seq + contigs[name]\n",
    "\n",
    "    return contigs"
   ]
  },
  {
   "cell_type": "markdown",
   "id": "fdf4bb3e-866a-45f7-bc2d-660ba766f3d6",
   "metadata": {},
   "source": [
    "### Test assembly result"
   ]
  },
  {
   "cell_type": "code",
   "execution_count": null,
   "id": "ff608420-76a2-433f-b591-844b12871abe",
   "metadata": {},
   "outputs": [],
   "source": [
    "aligner = Bio.Align.PairwiseAligner(\n",
    "    mode='global',\n",
    "    match_score=2,\n",
    "    mismatch_score=-3,\n",
    "    query_internal_open_gap_score=-7,\n",
    "    query_internal_extend_gap_score=-2,\n",
    "    target_internal_open_gap_score=-7,\n",
    "    target_internal_extend_gap_score=-2,\n",
    ")\n",
    "fasta = pysam.FastaFile('/home/users/data/01_reference/human_g1k_v37/human_g1k_v37_cas9.fasta')"
   ]
  },
  {
   "cell_type": "markdown",
   "id": "0cd9360c",
   "metadata": {
    "tags": []
   },
   "source": [
    "# 220810 JWPARK"
   ]
  },
  {
   "cell_type": "code",
   "execution_count": 21,
   "id": "f278c34a",
   "metadata": {},
   "outputs": [],
   "source": [
    "rootdir = '/home/users/jwpark/Amplicon/220624/'\n",
    "bam_paths = {}\n",
    "\n",
    "for x in os.listdir(rootdir):\n",
    "    if not (x[:4] in ('N716', 'N718', 'N719') and x.endswith('.bam')):\n",
    "        continue\n",
    "    sampleid = os.path.basename(x).split('.')[0]\n",
    "    bam_paths[sampleid] = os.path.join(rootdir, x)"
   ]
  },
  {
   "cell_type": "code",
   "execution_count": 23,
   "id": "143c755c",
   "metadata": {},
   "outputs": [],
   "source": [
    "bams = {k: pysam.AlignmentFile(v) for (k,v) in bam_paths.items()}"
   ]
  },
  {
   "cell_type": "code",
   "execution_count": null,
   "id": "821f9b1b",
   "metadata": {},
   "outputs": [],
   "source": []
  },
  {
   "cell_type": "code",
   "execution_count": null,
   "id": "0ffa0d0c",
   "metadata": {},
   "outputs": [],
   "source": []
  },
  {
   "cell_type": "code",
   "execution_count": 14,
   "id": "93f41b1d",
   "metadata": {},
   "outputs": [
    {
     "name": "stdout",
     "output_type": "stream",
     "text": [
      "OK\n"
     ]
    }
   ],
   "source": [
    "igv.cmd('new')"
   ]
  },
  {
   "cell_type": "code",
   "execution_count": 15,
   "id": "a0cc4692",
   "metadata": {},
   "outputs": [
    {
     "name": "stdout",
     "output_type": "stream",
     "text": [
      "OK\n",
      "OK\n",
      "OK\n"
     ]
    }
   ],
   "source": [
    "igv.load(bam_paths)"
   ]
  },
  {
   "cell_type": "code",
   "execution_count": 16,
   "id": "a3e94c32",
   "metadata": {},
   "outputs": [
    {
     "name": "stdout",
     "output_type": "stream",
     "text": [
      "OK\n"
     ]
    }
   ],
   "source": [
    "igv.goto(['chr10:87933159-87933161'])"
   ]
  },
  {
   "cell_type": "code",
   "execution_count": 9,
   "id": "76086ccf",
   "metadata": {},
   "outputs": [
    {
     "name": "stdout",
     "output_type": "stream",
     "text": [
      "OK\n"
     ]
    }
   ],
   "source": [
    "igv.cmd('viewaspairs')"
   ]
  },
  {
   "cell_type": "code",
   "execution_count": null,
   "id": "fa154cc8",
   "metadata": {},
   "outputs": [],
   "source": [
    "vcfspec = Vcfspec('chr10', 87_933_158, 'AATG', ('A',))`"
   ]
  },
  {
   "cell_type": "code",
   "execution_count": 31,
   "id": "412de61b",
   "metadata": {},
   "outputs": [],
   "source": [
    "vp = VariantPlus(vcfspec=vcfspec, refver='hg38', \n",
    "                 set_popfreq=False, set_cosmic=False, set_transcript=False, set_regulatory=False, set_repeat=False)"
   ]
  },
  {
   "cell_type": "code",
   "execution_count": 34,
   "id": "6aef9de4",
   "metadata": {},
   "outputs": [],
   "source": [
    "vp.set_readstats(sampleid='N719', bam=bams['N719'])"
   ]
  },
  {
   "cell_type": "code",
   "execution_count": 43,
   "id": "4a04b95d",
   "metadata": {},
   "outputs": [],
   "source": [
    "vp.set_readstats(sampleid='N718', bam=bams['N718'])"
   ]
  },
  {
   "cell_type": "code",
   "execution_count": 35,
   "id": "a4e70b79",
   "metadata": {},
   "outputs": [],
   "source": [
    "readstats = vp.readstats_dict['N719']"
   ]
  }
 ],
 "metadata": {
  "kernelspec": {
   "display_name": "genome_v7",
   "language": "python",
   "name": "genome_v7"
  },
  "language_info": {
   "codemirror_mode": {
    "name": "ipython",
    "version": 3
   },
   "file_extension": ".py",
   "mimetype": "text/x-python",
   "name": "python",
   "nbconvert_exporter": "python",
   "pygments_lexer": "ipython3",
   "version": "3.10.6"
  }
 },
 "nbformat": 4,
 "nbformat_minor": 5
}
