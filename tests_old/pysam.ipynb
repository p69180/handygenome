{
 "cells": [
  {
   "cell_type": "code",
   "execution_count": 1,
   "id": "13dc0a1f",
   "metadata": {},
   "outputs": [],
   "source": [
    "%load_ext autoreload\n",
    "%autoreload 2\n",
    "\n",
    "import pysam\n",
    "\n",
    "import re\n",
    "import os\n",
    "import sys\n",
    "import itertools\n",
    "sys.path.append('/home/users/pjh/scripts/python_genome_package_dev/')\n",
    "# from handygenome import common\n",
    "# from handygenome.common import ChromDict\n",
    "\n",
    "# FASTA_PATH = \"/home/users/data/01_reference/human_g1k_v37/human_g1k_v37.fasta\"\n",
    "# FASTA_PATH_38 = \"/home/users/data/01_reference/human_g1k_v38/Homo_sapiens_assembly38.fasta\"\n",
    "\n",
    "# chromdict = ChromDict(fasta_path = FASTA_PATH)\n",
    "# chromdict_38 = ChromDict(fasta_path = FASTA_PATH_38)\n",
    "# fasta = pysam.FastaFile(FASTA_PATH)\n",
    "# fasta_38 = pysam.FastaFile(FASTA_PATH_38)"
   ]
  },
  {
   "cell_type": "code",
   "execution_count": 2,
   "id": "542f37ea-db23-4795-b13b-3884b28a73c4",
   "metadata": {},
   "outputs": [],
   "source": [
    "from handygenome.igvhandle import IGVHandle\n",
    "igv = IGVHandle(60387)"
   ]
  },
  {
   "cell_type": "markdown",
   "id": "a86e071d-a7cf-47fa-b40d-e1bb57f3cbce",
   "metadata": {},
   "source": [
    "# Scratches"
   ]
  },
  {
   "cell_type": "code",
   "execution_count": 4,
   "id": "1218e4b6-64a5-42cd-bc0f-c4b1e971f537",
   "metadata": {},
   "outputs": [
    {
     "name": "stderr",
     "output_type": "stream",
     "text": [
      "[W::hts_idx_load3] The index file is older than the data file: /home/users/jinsil/project/01_MUTYH/03_EGA/03_vcf/03_varscan2/PD44889a_lo0002.varscan.snps.vcf.gz.tbi\n"
     ]
    }
   ],
   "source": [
    "vcf_path = '/home/users/jinsil/project/01_MUTYH/03_EGA/03_vcf/03_varscan2/PD44889a_lo0002.varscan.snps.vcf.gz'\n",
    "vcf = pysam.VariantFile(vcf_path)\n",
    "vr = next(vcf.fetch())"
   ]
  },
  {
   "cell_type": "code",
   "execution_count": 28,
   "id": "36e4a2b8-9838-4872-9a02-6d5fe06f9424",
   "metadata": {},
   "outputs": [
    {
     "name": "stdout",
     "output_type": "stream",
     "text": [
      "1\t10039\t.\tA\tG\t.\tstr10\tDP=95;SS=1;SSC=3;GPV=0.029575;SPV=0.40784\tGT:GQ:DP:RD:AD:FREQ:DP4\t0/1:.:52:49:2:3.92%:32,17,2,0\t0/1:.:43:39:3:7.14%:30,9,3,0\n",
      "\n"
     ]
    }
   ],
   "source": [
    "print(vr)"
   ]
  },
  {
   "cell_type": "code",
   "execution_count": 29,
   "id": "39ab6e70-1521-4ab2-978d-2de2c3529567",
   "metadata": {},
   "outputs": [],
   "source": [
    "new_vr = vr.copy()"
   ]
  },
  {
   "cell_type": "code",
   "execution_count": 32,
   "id": "2261570d-7c0a-4237-ab0d-cefe1d0fb99e",
   "metadata": {},
   "outputs": [],
   "source": [
    "del new_vr.info['DP']"
   ]
  },
  {
   "cell_type": "code",
   "execution_count": 33,
   "id": "6d6ab12f-62c6-408c-bf61-9095fe8bf62a",
   "metadata": {},
   "outputs": [
    {
     "name": "stdout",
     "output_type": "stream",
     "text": [
      "1\t10039\t.\tA\tG\t.\tstr10\tSS=1;SSC=3;GPV=0.029575;SPV=0.40784\tGT:GQ:DP:RD:AD:FREQ:DP4\t0/1:.:52:49:2:3.92%:32,17,2,0\t0/1:.:43:39:3:7.14%:30,9,3,0\n",
      "\n"
     ]
    }
   ],
   "source": [
    "print(new_vr)"
   ]
  },
  {
   "cell_type": "code",
   "execution_count": 34,
   "id": "29df0ef3-3980-4e59-85b4-1e2a29d61a31",
   "metadata": {},
   "outputs": [],
   "source": [
    "hdr = vr.header.copy()"
   ]
  },
  {
   "cell_type": "code",
   "execution_count": 35,
   "id": "3ddab046-06a3-4d82-9f14-49e2883298a0",
   "metadata": {},
   "outputs": [],
   "source": [
    "hdr.info.remove_header('DP')"
   ]
  },
  {
   "cell_type": "code",
   "execution_count": 36,
   "id": "21b0f844-4781-4bf3-ad93-e95eb3f61c6c",
   "metadata": {},
   "outputs": [],
   "source": [
    "out_vcf_path = '/home/users/pjh/tmp/zzz.vcf.gz'\n",
    "with pysam.VariantFile(out_vcf_path, mode='wz', header=hdr) as out_vcf:\n",
    "    out_vcf.write(new_vr)"
   ]
  },
  {
   "cell_type": "code",
   "execution_count": 37,
   "id": "fdfa7b60-90be-4598-abb6-c88fbe3607fb",
   "metadata": {},
   "outputs": [
    {
     "name": "stderr",
     "output_type": "stream",
     "text": [
      "[E::idx_find_and_load] Could not retrieve index file for '/home/users/pjh/tmp/zzz.vcf.gz'\n"
     ]
    }
   ],
   "source": [
    "new_vcf = pysam.VariantFile(out_vcf_path)\n",
    "new_vr = next(new_vcf.fetch())"
   ]
  },
  {
   "cell_type": "code",
   "execution_count": 38,
   "id": "7b8c4058-ef8a-4086-bab1-29b772c7663b",
   "metadata": {},
   "outputs": [
    {
     "name": "stdout",
     "output_type": "stream",
     "text": [
      "1\t10039\t.\tA\tG\t.\tstr10\tSS=1;SSC=3;GPV=0.029575;SPV=0.40784\tGT:GQ:DP:RD:AD:FREQ:DP4\t0/1:.:52:49:2:3.92%:32,17,2,0\t0/1:.:43:39:3:7.14%:30,9,3,0\n",
      "\n"
     ]
    }
   ],
   "source": [
    "print(new_vr)"
   ]
  },
  {
   "cell_type": "code",
   "execution_count": null,
   "id": "d5a57b70-3cac-4b02-85dc-5ac727334fc4",
   "metadata": {},
   "outputs": [],
   "source": []
  },
  {
   "cell_type": "markdown",
   "id": "36a8a0be-0821-4695-9ada-12bd5b4689e8",
   "metadata": {},
   "source": [
    "# Varscan output"
   ]
  },
  {
   "cell_type": "code",
   "execution_count": 2,
   "id": "c72c21a0-0f40-4fab-905b-c57c89e7dd78",
   "metadata": {},
   "outputs": [
    {
     "name": "stderr",
     "output_type": "stream",
     "text": [
      "[W::hts_idx_load3] The index file is older than the data file: /home/users/jinsil/project/01_MUTYH/03_EGA/03_vcf/03_varscan2/PD44889a_lo0002.varscan.snps.vcf.gz.tbi\n",
      "[W::hts_idx_load3] The index file is older than the data file: /home/users/jinsil/project/01_MUTYH/03_EGA/03_vcf/03_varscan2/PD44889a_lo0002.varscan.indels.vcf.gz.tbi\n"
     ]
    }
   ],
   "source": [
    "snp_vcf_path = '/home/users/jinsil/project/01_MUTYH/03_EGA/03_vcf/03_varscan2/PD44889a_lo0002.varscan.snps.vcf.gz'\n",
    "indel_vcf_path =  '/home/users/jinsil/project/01_MUTYH/03_EGA/03_vcf/03_varscan2/PD44889a_lo0002.varscan.indels.vcf.gz'\n",
    "snp_vcf = pysam.VariantFile(snp_vcf_path)\n",
    "indel_vcf = pysam.VariantFile(indel_vcf_path)"
   ]
  },
  {
   "cell_type": "code",
   "execution_count": 169,
   "id": "9f35094f-a168-413e-b56d-42572beb5e0d",
   "metadata": {},
   "outputs": [],
   "source": [
    "bam_path_dict = {\n",
    "    'tumor': '/home/users/jinsil/project/01_MUTYH/03_EGA/02_BAM/dna_bam/PD44889/PD44889a_lo0002.md.bam',\n",
    "    'normal': '/home/users/jinsil/project/01_MUTYH/03_EGA/02_BAM/dna_bam/PD44889/PD44889e.md.bam',\n",
    "}\n",
    "bam_dict = {sid: pysam.AlignmentFile(f) for sid, f in bam_path_dict.items()}"
   ]
  },
  {
   "cell_type": "code",
   "execution_count": 104,
   "id": "193a02e5-9874-4351-a9a2-c738e300e812",
   "metadata": {},
   "outputs": [
    {
     "name": "stdout",
     "output_type": "stream",
     "text": [
      "OK\n",
      "OK\n"
     ]
    }
   ],
   "source": [
    "igv.load(list(bam_path_dict.values()))"
   ]
  },
  {
   "cell_type": "code",
   "execution_count": 124,
   "id": "6ddef970-ff69-4dd1-a6c2-bdf033bf6bda",
   "metadata": {},
   "outputs": [],
   "source": [
    "tmp = set()\n",
    "# for vr in itertools.chain(snp_vcf.fetch(), indel_vcf.fetch()):\n",
    "for vr in snp_vcf.fetch():\n",
    "    REFsp = vr.ref.split('/')\n",
    "    ALTsp = vr.alts[0].split('/')\n",
    "    if len(REFsp) > 1:\n",
    "        print(vr)\n",
    "    # tmp.add(len(vr.alts[0].split('/')))\n",
    "    # tmp.add(len(vr.ref.split('/')))\n",
    "    # mat = re.fullmatch(r'([ACGTN]+)/(-)?([ACGTN]+)', vr.alts[0])\n",
    "    # if mat is not None:\n",
    "    #     len_g1 = len(mat.group(1))\n",
    "    #     len_g3 = len(mat.group(3))\n",
    "    #     if len_g1 > 1 a\n",
    "    #     print(len(mat.group(1)), len(mat.group(3)))\n",
    "    #     break"
   ]
  },
  {
   "cell_type": "code",
   "execution_count": 8,
   "id": "6c88d1bd-a87c-485d-a5fa-bc8df85818f5",
   "metadata": {},
   "outputs": [
    {
     "name": "stdout",
     "output_type": "stream",
     "text": [
      "1\t51864\t.\tC\tCA/-A\t.\tstr10\tDP=46;SS=5;SSC=0;GPV=1;SPV=0.61756\tGT:GQ:DP:RD:AD:FREQ:DP4\t0/1:.:31:27:4:12.9%:16,11,4,0\t0/1:.:15:12:2:14.29%:6,6,2,0\n",
      "\n"
     ]
    }
   ],
   "source": [
    "print(vr)"
   ]
  },
  {
   "cell_type": "code",
   "execution_count": 155,
   "id": "d632af2f-960d-4246-950c-547c4148fcbf",
   "metadata": {},
   "outputs": [],
   "source": [
    "def gen():\n",
    "    for vr in indel_vcf.fetch():\n",
    "        REFsp = vr.ref.split('/')\n",
    "        ALTsp = vr.alts[0].split('/')\n",
    "        # if len(REFsp) > 1:\n",
    "        if len(REFsp) > 1 and set(vr.filter) == {'PASS'} and vr.info['SOMATIC']:\n",
    "        # if set(vr.filter) == {'PASS'} and vr.info['SOMATIC']:\n",
    "            yield vr\n",
    "        \n",
    "multi_gen = gen()"
   ]
  },
  {
   "cell_type": "code",
   "execution_count": 156,
   "id": "55d14370-450e-41e9-89e7-4658258e2fec",
   "metadata": {},
   "outputs": [
    {
     "ename": "StopIteration",
     "evalue": "",
     "output_type": "error",
     "traceback": [
      "\u001b[0;31m---------------------------------------------------------------------------\u001b[0m",
      "\u001b[0;31mStopIteration\u001b[0m                             Traceback (most recent call last)",
      "Cell \u001b[0;32mIn [156], line 1\u001b[0m\n\u001b[0;32m----> 1\u001b[0m vr \u001b[38;5;241m=\u001b[39m \u001b[38;5;28;43mnext\u001b[39;49m\u001b[43m(\u001b[49m\u001b[43mmulti_gen\u001b[49m\u001b[43m)\u001b[49m\n\u001b[1;32m      2\u001b[0m \u001b[38;5;28mprint\u001b[39m(vr)\n",
      "\u001b[0;31mStopIteration\u001b[0m: "
     ]
    }
   ],
   "source": [
    "vr = next(multi_gen)\n",
    "print(vr)"
   ]
  },
  {
   "cell_type": "code",
   "execution_count": 157,
   "id": "dfb4d655-b5b6-4904-ab99-2224ef760be3",
   "metadata": {},
   "outputs": [
    {
     "name": "stdout",
     "output_type": "stream",
     "text": [
      "Vcfspec(chrom='1', pos=10,058, ref='CCCT', alts=('C',))\n",
      "1\t10058\t.\tCCCT\tC\t.\tPASS\tDP=127;SOMATIC;SS=2;SSC=6;GPV=1;SPV=0.20594\tGT:GQ:DP:RD:AD:FREQ:DP4\t0/0:.:68:68:0:0%:45,23,0,0\t0/1:.:59:55:2:3.51%:39,16,1,1\n",
      "\n"
     ]
    }
   ],
   "source": [
    "import handygenome.vcfeditor.varscan_editing as varscan_editing\n",
    "vcfspec = varscan_editing.extract_vcfspec(vr, 'hg19')\n",
    "print(vcfspec)\n",
    "print(vr)"
   ]
  },
  {
   "cell_type": "code",
   "execution_count": 158,
   "id": "22f04df2-e28e-4787-ac8c-5ff16c1b188d",
   "metadata": {},
   "outputs": [
    {
     "name": "stdout",
     "output_type": "stream",
     "text": [
      "1\t10058\t.\tCCCT\tC\t.\t.\t.\n",
      "\n"
     ]
    }
   ],
   "source": [
    "import handygenome.vcfeditor.initvcf as initvcf\n",
    "import handygenome.common as common\n",
    "\n",
    "header = initvcf.create_header(common.DEFAULT_CHROMDICTS['hg19'])\n",
    "new_vr = header.new_record()\n",
    "vcfspec.apply_to_vr(new_vr)\n",
    "print(new_vr)\n",
    "# vcfspec"
   ]
  },
  {
   "cell_type": "code",
   "execution_count": null,
   "id": "c2b1bd35-f0cd-4202-8daf-e1538fd80013",
   "metadata": {},
   "outputs": [],
   "source": []
  },
  {
   "cell_type": "code",
   "execution_count": 159,
   "id": "97334dae-74a9-45ff-b435-ccffcdf38feb",
   "metadata": {},
   "outputs": [
    {
     "name": "stderr",
     "output_type": "stream",
     "text": [
      "[W::hts_idx_load3] The index file is older than the data file: /home/users/jinsil/project/01_MUTYH/03_EGA/03_vcf/03_varscan2/PD44889a_lo0002.varscan.snps.vcf.gz.tbi\n",
      "[W::hts_idx_load3] The index file is older than the data file: /home/users/jinsil/project/01_MUTYH/03_EGA/03_vcf/03_varscan2/PD44889a_lo0002.varscan.indels.vcf.gz.tbi\n"
     ]
    }
   ],
   "source": [
    "# infile_path = snp_vcf_path\n",
    "# outfile_path = '/home/users/pjh/tmp/varscan_edited_snv.vcf.gz'\n",
    "\n",
    "varscan_editing.modify_varscan_vcf(\n",
    "    snp_vcf_path, \n",
    "    '/home/users/pjh/tmp/varscan_edited_snv.vcf.gz', \n",
    "    refver='hg19',\n",
    ")\n",
    "\n",
    "varscan_editing.modify_varscan_vcf(\n",
    "    indel_vcf_path, \n",
    "    '/home/users/pjh/tmp/varscan_edited_indel.vcf.gz', \n",
    "    refver='hg19',\n",
    ")"
   ]
  },
  {
   "cell_type": "code",
   "execution_count": 160,
   "id": "9986b920-321e-4316-89b7-5da2451ec89b",
   "metadata": {},
   "outputs": [
    {
     "name": "stderr",
     "output_type": "stream",
     "text": [
      "[W::hts_idx_load3] The index file is older than the data file: /home/users/pjh/scripts/python_genome_packages/data/popfreq/dbSNP_b155_GRCh37.p13.vcf.gz.csi\n",
      "[E::idx_find_and_load] Could not retrieve index file for '/home/users/pjh/tmp/varscan_edited_indel.vcf.gz'\n",
      "[KST 2022-11-29 22:23:53.971] VariantPlusList: Processing 10,000th line\n",
      "[KST 2022-11-29 22:23:55.209] VariantPlusList: Processing 20,000th line\n",
      "[KST 2022-11-29 22:23:56.367] VariantPlusList: Processing 30,000th line\n",
      "[KST 2022-11-29 22:23:57.546] VariantPlusList: Processing 40,000th line\n",
      "[KST 2022-11-29 22:23:58.751] VariantPlusList: Processing 50,000th line\n",
      "[KST 2022-11-29 22:23:59.985] VariantPlusList: Processing 60,000th line\n"
     ]
    }
   ],
   "source": [
    "from handygenome.variant.variantplus import VariantPlusList\n",
    "vplist = VariantPlusList.from_vcf('/home/users/pjh/tmp/varscan_edited_indel.vcf.gz')"
   ]
  },
  {
   "cell_type": "code",
   "execution_count": 205,
   "id": "92c5557b-20e5-4dc9-ad78-35caddb84d47",
   "metadata": {},
   "outputs": [],
   "source": [
    "vp = vplist.sample()"
   ]
  },
  {
   "cell_type": "code",
   "execution_count": 206,
   "id": "c05a5b73-4b11-40fe-ad7c-a8a142a073c5",
   "metadata": {},
   "outputs": [
    {
     "data": {
      "text/plain": [
       "<VariantPlus(vcfspec=Vcfspec(chrom='2', pos=80,315,000, ref='CTT', alts=('C',)), gene=(alt_index 0: ))>"
      ]
     },
     "execution_count": 206,
     "metadata": {},
     "output_type": "execute_result"
    }
   ],
   "source": [
    "vp"
   ]
  },
  {
   "cell_type": "code",
   "execution_count": 207,
   "id": "bdc3ca5e-63cc-4a7a-8aea-8b8216cc6e16",
   "metadata": {},
   "outputs": [
    {
     "name": "stdout",
     "output_type": "stream",
     "text": [
      "OK\n",
      "OK\n",
      "OK\n",
      "OK\n",
      "OK\n",
      "OK\n",
      "OK\n"
     ]
    }
   ],
   "source": [
    "vp.show_igv(igv, bam_dict)"
   ]
  },
  {
   "cell_type": "code",
   "execution_count": 166,
   "id": "6e600368-6f06-4c2d-9e95-05f4f58aeced",
   "metadata": {},
   "outputs": [
    {
     "name": "stdout",
     "output_type": "stream",
     "text": [
      "OK\n",
      "OK\n"
     ]
    }
   ],
   "source": [
    "igv.goto([vp.vcfspec], width=100)\n",
    "igv.cmd('collapse')"
   ]
  },
  {
   "cell_type": "code",
   "execution_count": null,
   "id": "18ea4486-a4c6-46e1-9e3c-afd38673c563",
   "metadata": {},
   "outputs": [],
   "source": []
  },
  {
   "cell_type": "code",
   "execution_count": null,
   "id": "95b3ec12-a252-4ca5-87d1-079d4c279798",
   "metadata": {},
   "outputs": [],
   "source": []
  },
  {
   "cell_type": "markdown",
   "id": "9ddb2a84-5b8c-4eeb-9959-bc01aab91595",
   "metadata": {},
   "source": [
    "# Read"
   ]
  },
  {
   "cell_type": "code",
   "execution_count": 3,
   "id": "17e329c0-fcdb-47f1-b59d-d0c72d47adc0",
   "metadata": {},
   "outputs": [],
   "source": [
    "bam_path = '/home/users/team_projects/Lung_Cancer_Panel_data/03_Data_from_YTKim/02_BAM/14/LU-14.tumor.bam'"
   ]
  },
  {
   "cell_type": "code",
   "execution_count": 4,
   "id": "34ab99d3-f625-45f1-8cad-9fe0e46c7e15",
   "metadata": {},
   "outputs": [],
   "source": [
    "bam = pysam.AlignmentFile(bam_path)"
   ]
  },
  {
   "cell_type": "code",
   "execution_count": 5,
   "id": "1cce04b2-0ab3-43f6-8fe3-84e0bf7f2764",
   "metadata": {},
   "outputs": [],
   "source": [
    "read = next(bam.fetch())"
   ]
  },
  {
   "cell_type": "code",
   "execution_count": 6,
   "id": "6f3ce936-3c87-4e5d-8763-dc7bdd25f1e6",
   "metadata": {},
   "outputs": [
    {
     "name": "stdout",
     "output_type": "stream",
     "text": [
      "ST-E00130:582:HC7KJALXX:1:2204:12307:39616\t129\t1\t9999\t0\t46S66M39S\t5\t18606670\t0\tAAGTATGAGTTGCCTAGAACAGCTCTTCCTTTATTTTCTTTTTCTGGATAACCCTAACCCTAACCCTAACCCTAACCCTAACCCTAACCCTAACCCTAACCCTAACCCTAACAGAGCTAACTATTGATACAACACCTTCATGACCCTACGG\t<<<<<B<<<<<<<<<<<<<<<<<<<<<<<<<<<7<<<7B<7<<<BB<7<<<'<0BB<<<<B0<<7<<0<77<B<<0'<7<<7<7BB<BB<B<B<<BB7B<BB<<BB<<B<7BB'07'<<0'BBBB<B<<<7B7B<<777B<B0<<0<<'''\tSA:Z:5,18606943,-,96S55M,0,0;5,18606895,-,41M110S,0,2;\tMC:Z:69M2D38M44S\tMD:Z:66\tNM:i:0\tMQ:i:60\tAS:i:66\tXS:i:65\tRG:Z:JKL-LU-14-cancer-wgs-ILLUMINA\n"
     ]
    }
   ],
   "source": [
    "print(read.to_string())"
   ]
  },
  {
   "cell_type": "code",
   "execution_count": 8,
   "id": "d49521e0-7a0d-401c-851b-0ccae06e4d5b",
   "metadata": {},
   "outputs": [
    {
     "name": "stdout",
     "output_type": "stream",
     "text": [
      "[(4, 46), (0, 66), (4, 39)]\n"
     ]
    }
   ],
   "source": [
    "print(read.cigartuples)"
   ]
  },
  {
   "cell_type": "code",
   "execution_count": 9,
   "id": "3d6f28cb-cf3a-4847-928e-d6aab68cc745",
   "metadata": {},
   "outputs": [],
   "source": [
    "read.cigartuples = [(4, 46), (0, 66), (4, 30), (4, 9)]"
   ]
  },
  {
   "cell_type": "code",
   "execution_count": 10,
   "id": "40450a2b-38d9-42db-8442-c18971198f91",
   "metadata": {},
   "outputs": [
    {
     "name": "stdout",
     "output_type": "stream",
     "text": [
      "[(4, 46), (0, 66), (4, 30), (4, 9)]\n"
     ]
    }
   ],
   "source": [
    "print(read.cigartuples)"
   ]
  },
  {
   "cell_type": "code",
   "execution_count": 11,
   "id": "9044923b-09fb-47c9-b48c-bf46e0ae6213",
   "metadata": {},
   "outputs": [
    {
     "name": "stdout",
     "output_type": "stream",
     "text": [
      "ST-E00130:582:HC7KJALXX:1:2204:12307:39616\t129\t1\t9999\t0\t46S66M30S9S\t5\t18606670\t0\tAAGTATGAGTTGCCTAGAACAGCTCTTCCTTTATTTTCTTTTTCTGGATAACCCTAACCCTAACCCTAACCCTAACCCTAACCCTAACCCTAACCCTAACCCTAACCCTAACAGAGCTAACTATTGATACAACACCTTCATGACCCTACGG\t<<<<<B<<<<<<<<<<<<<<<<<<<<<<<<<<<7<<<7B<7<<<BB<7<<<'<0BB<<<<B0<<7<<0<77<B<<0'<7<<7<7BB<BB<B<B<<BB7B<BB<<BB<<B<7BB'07'<<0'BBBB<B<<<7B7B<<777B<B0<<0<<'''\tSA:Z:5,18606943,-,96S55M,0,0;5,18606895,-,41M110S,0,2;\tMC:Z:69M2D38M44S\tMD:Z:66\tNM:i:0\tMQ:i:60\tAS:i:66\tXS:i:65\tRG:Z:JKL-LU-14-cancer-wgs-ILLUMINA\n"
     ]
    }
   ],
   "source": [
    "print(read.to_string())"
   ]
  },
  {
   "cell_type": "code",
   "execution_count": null,
   "id": "89788657",
   "metadata": {},
   "outputs": [],
   "source": []
  },
  {
   "cell_type": "markdown",
   "id": "0c7d39ba-6347-4273-84c8-b4d7fc3b3a77",
   "metadata": {},
   "source": [
    "# Variant"
   ]
  },
  {
   "cell_type": "code",
   "execution_count": 13,
   "id": "39b409ee",
   "metadata": {},
   "outputs": [],
   "source": [
    "from handygenome import common\n",
    "from handygenome.variant import varianthandler\n",
    "from handygenome.vcfeditor import initvcf\n",
    "\n",
    "in_vcf_path = '/home/users/pjh/practice/pysam/test.vcf'\n",
    "out_vcf_path = '/home/users/pjh/practice/pysam/testout.vcf'\n",
    "vcf = pysam.VariantFile(in_vcf_path)"
   ]
  },
  {
   "cell_type": "code",
   "execution_count": 7,
   "id": "e840471b-b84b-484f-beec-992ff7b66d9a",
   "metadata": {},
   "outputs": [
    {
     "name": "stdout",
     "output_type": "stream",
     "text": [
      "##fileformat=VCFv4.3\n",
      "##FILTER=<ID=PASS,Description=\"All filters passed\">\n",
      "##custominfo=JULAB\n",
      "##contig=<ID=1,length=100000>\n",
      "##contig=<ID=2,length=100000>\n",
      "##FILTER=<ID=BAR,Description=\"BARFILTER\">\n",
      "##INFO=<ID=FOO,Type=Integer,Number=1,Description=\"BAR\">\n",
      "##FORMAT=<ID=GT,Number=1,Type=String,Description=\"genotype\">\n",
      "##FORMAT=<ID=BAZ,Type=Integer,Number=1,Description=\"HEHE\">\n",
      "#CHROM\tPOS\tID\tREF\tALT\tQUAL\tFILTER\tINFO\tFORMAT\ts1\ts2\n",
      "\n"
     ]
    }
   ],
   "source": [
    "print(vcf.header)"
   ]
  },
  {
   "cell_type": "code",
   "execution_count": 12,
   "id": "9a2b3fa0",
   "metadata": {},
   "outputs": [],
   "source": [
    "vr = next(vcf.fetch())"
   ]
  },
  {
   "cell_type": "code",
   "execution_count": 11,
   "id": "7ba74a09-9662-49f6-9697-5418c9588483",
   "metadata": {},
   "outputs": [
    {
     "name": "stdout",
     "output_type": "stream",
     "text": [
      "1\t1002\t.\tA\tDEL\t.\tBAR\tFOO=.\tGT:BAZ\t0/1:.\t0/1:44\n",
      "\n",
      "None\n",
      "44\n"
     ]
    }
   ],
   "source": [
    "print(vr)\n",
    "print(vr.samples['s1']['BAZ'])\n",
    "print(vr.samples['s2']['BAZ'])"
   ]
  },
  {
   "cell_type": "code",
   "execution_count": 22,
   "id": "0406cc2a-32c8-46d9-a9ad-2e13086e39da",
   "metadata": {},
   "outputs": [],
   "source": [
    "new_header = initvcf.create_header(chromdict=common.DEFAULT_CHROMDICTS['hg19'], samples=('s2', 's1'), vcfheader=vcf.header)"
   ]
  },
  {
   "cell_type": "code",
   "execution_count": 24,
   "id": "abc7cfba-b101-4646-9d7f-9b040b698c1c",
   "metadata": {},
   "outputs": [],
   "source": [
    "new_vr = varianthandler.reheader(vr, new_header)"
   ]
  },
  {
   "cell_type": "code",
   "execution_count": 26,
   "id": "f956f26c-3e74-435f-9cf7-2aaaf25a791c",
   "metadata": {},
   "outputs": [
    {
     "name": "stdout",
     "output_type": "stream",
     "text": [
      "1\t1002\t.\tA\tDEL\t.\tBAR\tFOO=.\tGT:BAZ\t0/1:44\t0/1:.\n",
      "\n",
      "None\n",
      "44\n"
     ]
    }
   ],
   "source": [
    "print(new_vr)\n",
    "print(new_vr.samples['s1']['BAZ'])\n",
    "print(new_vr.samples['s2']['BAZ'])"
   ]
  },
  {
   "cell_type": "code",
   "execution_count": 28,
   "id": "e929c362-02df-4d6d-8b4d-57558836e707",
   "metadata": {},
   "outputs": [
    {
     "name": "stdout",
     "output_type": "stream",
     "text": [
      "1\t1002\t.\tA\tDEL\t.\tBAR\tFOO=.\tGT:BAZ\t0/1:.\t0/1:44\n",
      "\n",
      "44\n",
      "None\n"
     ]
    },
    {
     "name": "stderr",
     "output_type": "stream",
     "text": [
      "[E::idx_find_and_load] Could not retrieve index file for '/home/users/pjh/practice/pysam/testout.vcf'\n"
     ]
    }
   ],
   "source": [
    "with pysam.VariantFile(out_vcf_path, mode='wb', header=new_header) as out_vcf:\n",
    "    out_vcf.write(vr)\n",
    "    # out_vcf.write(new_vr)\n",
    "\n",
    "new2_vr = next(pysam.VariantFile(out_vcf_path).fetch())\n",
    "\n",
    "print(new2_vr)\n",
    "print(new2_vr.samples['s1']['BAZ'])\n",
    "print(new2_vr.samples['s2']['BAZ'])"
   ]
  },
  {
   "cell_type": "code",
   "execution_count": null,
   "id": "dc00dcc1-ca33-4b1f-b227-668b37060119",
   "metadata": {},
   "outputs": [],
   "source": []
  },
  {
   "cell_type": "code",
   "execution_count": null,
   "id": "8afe89b1-8f32-4ffa-b9fc-9e2bf596c65c",
   "metadata": {},
   "outputs": [],
   "source": []
  },
  {
   "cell_type": "code",
   "execution_count": null,
   "id": "df75bb36-07ef-4e54-b456-2e7895dec5f1",
   "metadata": {},
   "outputs": [],
   "source": []
  },
  {
   "cell_type": "code",
   "execution_count": null,
   "id": "cc766835-cd58-41a3-97fa-ecc4b2546160",
   "metadata": {},
   "outputs": [],
   "source": [
    "new_vr = "
   ]
  },
  {
   "cell_type": "code",
   "execution_count": 86,
   "id": "e6730390-c2b1-4fb8-be6c-6200449ac7f5",
   "metadata": {},
   "outputs": [],
   "source": [
    "new_vr = varianthandler.rename(vr, ['s2', 's1'])"
   ]
  },
  {
   "cell_type": "code",
   "execution_count": 87,
   "id": "57033e39-ca82-459b-9080-e1de9d56b324",
   "metadata": {},
   "outputs": [
    {
     "name": "stdout",
     "output_type": "stream",
     "text": [
      "None\n",
      "44\n",
      "\n",
      "44\n",
      "None\n"
     ]
    }
   ],
   "source": [
    "print(vr.samples['s1']['BAZ'])\n",
    "print(vr.samples['s2']['BAZ'])\n",
    "print()\n",
    "print(new_vr.samples['s1']['BAZ'])\n",
    "print(new_vr.samples['s2']['BAZ'])"
   ]
  },
  {
   "cell_type": "code",
   "execution_count": 88,
   "id": "dbcf3200-d789-4f84-adbd-1ea5bc65157e",
   "metadata": {},
   "outputs": [],
   "source": [
    "new_header = vcf.header.copy()\n",
    "# new_header.add_sample('s3')"
   ]
  },
  {
   "cell_type": "code",
   "execution_count": 89,
   "id": "7fe6a186-8ada-42c4-b3de-0a4d6b909e32",
   "metadata": {},
   "outputs": [],
   "source": [
    "with pysam.VariantFile(out_vcf_path, mode='wb', header=new_header) as out_vcf:\n",
    "    # out_vcf.write(vr)\n",
    "    out_vcf.write(new_vr)"
   ]
  },
  {
   "cell_type": "code",
   "execution_count": 90,
   "id": "e8efc7f5-43b5-47a1-bb34-7ed55cc54fd0",
   "metadata": {},
   "outputs": [
    {
     "name": "stderr",
     "output_type": "stream",
     "text": [
      "[E::idx_find_and_load] Could not retrieve index file for '/home/users/pjh/practice/pysam/testout.vcf'\n"
     ]
    }
   ],
   "source": [
    "recovered_new_vr = next(pysam.VariantFile(out_vcf_path).fetch())"
   ]
  },
  {
   "cell_type": "code",
   "execution_count": 91,
   "id": "d21bee77-061a-4c4f-b1af-89d3bca9c39f",
   "metadata": {},
   "outputs": [
    {
     "name": "stdout",
     "output_type": "stream",
     "text": [
      "None\n",
      "44\n"
     ]
    }
   ],
   "source": [
    "print(recovered_new_vr.samples['s1']['BAZ'])\n",
    "print(recovered_new_vr.samples['s2']['BAZ'])"
   ]
  },
  {
   "cell_type": "code",
   "execution_count": null,
   "id": "b0f964a0-db3f-4d76-a7bc-a06b8c881f57",
   "metadata": {},
   "outputs": [],
   "source": []
  },
  {
   "cell_type": "code",
   "execution_count": null,
   "id": "7f3f4ef5-be8d-469f-884c-15f77fabb305",
   "metadata": {},
   "outputs": [],
   "source": []
  },
  {
   "cell_type": "code",
   "execution_count": null,
   "id": "8dbb33c1-637b-4816-b35e-ecc814e72aa5",
   "metadata": {},
   "outputs": [],
   "source": []
  },
  {
   "cell_type": "code",
   "execution_count": null,
   "id": "46968a04-08de-4c89-8258-47b098b60300",
   "metadata": {},
   "outputs": [],
   "source": []
  },
  {
   "cell_type": "markdown",
   "id": "5c4e7108-f18a-4515-ba51-3d97971662cd",
   "metadata": {},
   "source": [
    "### allele_indices, phased"
   ]
  },
  {
   "cell_type": "code",
   "execution_count": 45,
   "id": "8e0f7e66",
   "metadata": {},
   "outputs": [],
   "source": [
    "vr.samples.values()[-1].allele_indices = [1, 1, 0]\n",
    "vr.samples.values()[-1].phased = False"
   ]
  },
  {
   "cell_type": "code",
   "execution_count": 46,
   "id": "a7dbb570",
   "metadata": {},
   "outputs": [
    {
     "name": "stdout",
     "output_type": "stream",
     "text": [
      "1\t69496\t.\tG\tA\t.\tPASS\tAS_SB_TABLE=20,14|4,4;ECNT=1;GERMQ=16;DP=43;AS_FilterStatus=SITE;MBQ=37,37;MFRL=364,322;MMQ=25,42;MPOS=50;NALOD=1.18;NLOD=4.21;POPAF=2.69;TLOD=20.33;context=CCG>T;repeatRegion=0;satellite=0;dbSNP_FREQ=1000Genomes:0.0009984|ExAC:0.0007382|GnomAD_exomes:0.0007058|GoESP:0.002364;dbSNP_MAX_FREQ=0.002364;dbSNP_MAX_FREQ_POP=GoESP;ponSNU_tDP=874;ponSNU_tN=30;ponSNU_vDP=0;ponSNU_vN=0;ponSNU_vafPct=0;ponPCAWG_tDP=684;ponPCAWG_tN=32;ponPCAWG_vDP=1;ponPCAWG_vN=1;ponPCAWG_vafPct=0.15;ponBGI_tDP=468;ponBGI_tN=24;ponBGI_vDP=1;ponBGI_vN=1;ponBGI_vafPct=0.21;ponPCNSL_tDP=199;ponPCNSL_tN=11;ponPCNSL_vDP=1;ponPCNSL_vN=1;ponPCNSL_vafPct=0.5\tGT:AD:AF:DP:F1R2:F2R1:SB:ref_read:var_read:other_read:ref_read_lowqual:var_read_lowqual:other_read_lowqual:vaf:ref_minMQ:ref_medMQ:ref_meanMQ:ref_maxMQ:var_minMQ:var_medMQ:var_meanMQ:var_maxMQ:ref_minBQ:ref_medBQ:ref_meanBQ:ref_maxBQ:var_minBQ:var_medBQ:var_meanBQ:var_maxBQ:minLocaLt:medLocaLt:meanLocaLt:maxLocaLt:minLocaRt:medLocaRt:meanLocaRt:maxLocaRt:ref_minMM:ref_medMM:ref_meanMM:ref_maxMM:var_minMM:var_medMM:var_meanMM:var_maxMM:ref_ClipCnt:ref_ClipFrac:var_ClipCnt:var_ClipFrac:ref_InsCnt:ref_InsFrac:var_InsCnt:var_InsFrac:ref_DelCnt:ref_DelFrac:var_DelCnt:var_DelFrac:N_Loca:snv_withinRepeat:RdInfoAnnot\t0/1:20,8:0.285:28:7,4:13,4:12,8,4,4:.:.:.:.:.:.:.:.:.:.:.:.:.:.:.:.:.:.:.:.:.:.:.:.:.:.:.:.:.:.:.:.:.:.:.:.:.:.:.:.:.:.:.:.:.:.:.:.:.:.:.:.:.:.\t0/0:14,0:0.063:14:8,0:6,0:8,6,0,0:.:.:.:.:.:.:.:.:.:.:.:.:.:.:.:.:.:.:.:.:.:.:.:.:.:.:.:.:.:.:.:.:.:.:.:.:.:.:.:.:.:.:.:.:.:.:.:.:.:.:.:.:.:.\t./.:.:.:.:.:.:.:.:.:.:.:.:.:.:.:.:.:.:.:.:.:.:.:.:.:.:.:.:.:.:.:.:.:.:.:.:.:.:.:.:.:.:.:.:.:.:.:.:.:.:.:.:.:.:.:.:.:.:.:.:.\t./.:.:.:.:.:.:.:.:.:.:.:.:.:.:.:.:.:.:.:.:.:.:.:.:.:.:.:.:.:.:.:.:.:.:.:.:.:.:.:.:.:.:.:.:.:.:.:.:.:.:.:.:.:.:.:.:.:.:.:.:.\t./.:.:.:.:.:.:.:19:7:0:2:1:0:0.269231:25:25:34.6842:55:25:40:39.8571:60:37:37:37:37:37:37:37:37:60:92:100.714:144:8:60:51.2857:92:0:1:0.842105:1:0:1:2.57143:13:0:0:0:0:0:0:0:0:0:0:0:0:7:0:2\t1/1/0:.:.:.:.:.:.:13:0:0:0:0:0:0:25:25:36:55:.:.:.:.:37:37:37:37:.:.:.:.:.:.:.:.:.:.:.:.:0:1:1.07692:2:.:.:.:.:0:0:0:.:0:0:0:.:0:0:0:.:0:0:2\n",
      "\n"
     ]
    }
   ],
   "source": [
    "print(vr)"
   ]
  },
  {
   "cell_type": "code",
   "execution_count": null,
   "id": "4036f42a",
   "metadata": {},
   "outputs": [],
   "source": []
  },
  {
   "cell_type": "code",
   "execution_count": null,
   "id": "b799cc55",
   "metadata": {},
   "outputs": [],
   "source": []
  },
  {
   "cell_type": "code",
   "execution_count": 6,
   "id": "45b0f905",
   "metadata": {},
   "outputs": [
    {
     "name": "stdout",
     "output_type": "stream",
     "text": [
      "LY12_C.Mutect2\n"
     ]
    }
   ],
   "source": [
    "print(vcf.header.samples[0])"
   ]
  },
  {
   "cell_type": "code",
   "execution_count": null,
   "id": "0ca8db5b",
   "metadata": {},
   "outputs": [],
   "source": []
  },
  {
   "cell_type": "code",
   "execution_count": 27,
   "id": "47925d6c",
   "metadata": {},
   "outputs": [
    {
     "name": "stderr",
     "output_type": "stream",
     "text": [
      "[W::bcf_update_info] INFO/END=999999 is smaller than POS at 1:1000000\n"
     ]
    }
   ],
   "source": [
    "vr = vcf.header.new_record()\n",
    "vr.contig = '1'\n",
    "vr.pos = 1000000\n",
    "vr.ref = 'C'"
   ]
  },
  {
   "cell_type": "code",
   "execution_count": 28,
   "id": "ddcb805a",
   "metadata": {},
   "outputs": [
    {
     "name": "stdout",
     "output_type": "stream",
     "text": [
      "1\t1000000\t.\tC\t<NON_REF>\t.\t.\tEND=1000000\t.\t.\t.\t.\t.\t.\t.\n",
      "\n"
     ]
    }
   ],
   "source": [
    "print(vr)"
   ]
  },
  {
   "cell_type": "code",
   "execution_count": null,
   "id": "7093ffc1",
   "metadata": {},
   "outputs": [],
   "source": []
  }
 ],
 "metadata": {
  "kernelspec": {
   "display_name": "genome_v7",
   "language": "python",
   "name": "genome_v7"
  },
  "language_info": {
   "codemirror_mode": {
    "name": "ipython",
    "version": 3
   },
   "file_extension": ".py",
   "mimetype": "text/x-python",
   "name": "python",
   "nbconvert_exporter": "python",
   "pygments_lexer": "ipython3",
   "version": "3.10.6"
  }
 },
 "nbformat": 4,
 "nbformat_minor": 5
}
