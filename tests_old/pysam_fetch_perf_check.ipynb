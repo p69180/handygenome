{
 "cells": [
  {
   "cell_type": "code",
   "execution_count": 2,
   "id": "e546ab2e-9883-43f5-a751-743e4e1f4b2d",
   "metadata": {},
   "outputs": [],
   "source": [
    "import pysam\n",
    "import numpy as np\n",
    "\n",
    "import sys\n",
    "sys.path.append('/home/users/pjh/scripts/python_genome_package_dev/')"
   ]
  },
  {
   "cell_type": "code",
   "execution_count": 5,
   "id": "c74ec334-5f4a-42db-8b8f-1435a5363959",
   "metadata": {},
   "outputs": [],
   "source": [
    "from handygenome import common\n",
    "from handygenome.common import ChromDict, Vcfspec, Interval\n",
    "\n",
    "FASTA_PATH_HG19 = \"/home/users/data/01_reference/human_g1k_v37/human_g1k_v37.fasta\"\n",
    "FASTA_PATH_HG38 = \"/home/users/data/01_reference/human_g1k_v38/Homo_sapiens_assembly38.fasta\"\n",
    "\n",
    "FASTA_HG19 = pysam.FastaFile(FASTA_PATH_HG19)\n",
    "FASTA_HG38 = pysam.FastaFile(FASTA_PATH_HG38)\n",
    "CHROMDICT_HG19 = ChromDict(fasta_path=FASTA_PATH_HG19)\n",
    "CHROMDICT_HG38 = ChromDict(fasta_path=FASTA_PATH_HG38)"
   ]
  },
  {
   "cell_type": "code",
   "execution_count": 6,
   "id": "f37cabac-dc8a-4e5c-b2e8-89797a9e7911",
   "metadata": {},
   "outputs": [],
   "source": [
    "from handygenome.readplus import readhandler\n",
    "from handygenome.readplus import pileup as libpileup\n",
    "\n",
    "def get_read_dict(bam, chrom, start0, end0):\n",
    "    result = {\n",
    "        readhandler.get_uid(x): x\n",
    "        for x in readhandler.get_fetch(bam, chrom, start0, end0, filter_fun=libpileup.pileup_readfilter)\n",
    "    }\n",
    "    return result\n",
    "    "
   ]
  },
  {
   "cell_type": "code",
   "execution_count": 14,
   "id": "de81cdc3-a254-440c-b16a-fe4999f8b6ae",
   "metadata": {},
   "outputs": [],
   "source": [
    "def testrun(width):\n",
    "    for start0 in start0_list:\n",
    "        read_dict = get_read_dict(bam, chrom, start0, start0 + width)\n",
    "    "
   ]
  },
  {
   "cell_type": "code",
   "execution_count": 3,
   "id": "8a1a9ca3-a255-44ab-897c-78e5d17f493b",
   "metadata": {},
   "outputs": [],
   "source": [
    "chrom = '1'\n",
    "bam = pysam.AlignmentFile('/home/users/team_projects/Lung_Cancer_Panel_data/03_Data_from_YTKim/02_BAM/FF43/LU-FF43.tumor.bam')"
   ]
  },
  {
   "cell_type": "code",
   "execution_count": 4,
   "id": "8e85b3b5-92b6-4993-8ba1-dbff93d04a20",
   "metadata": {},
   "outputs": [],
   "source": [
    "read = next(bam.fetch())"
   ]
  },
  {
   "cell_type": "code",
   "execution_count": 9,
   "id": "ad668eb4-24ed-49d4-8ec9-b1a84ea71947",
   "metadata": {},
   "outputs": [
    {
     "data": {
      "text/plain": [
       "113"
      ]
     },
     "execution_count": 9,
     "metadata": {},
     "output_type": "execute_result"
    }
   ],
   "source": [
    "read.get_cigar_stats()[0][4]"
   ]
  },
  {
   "cell_type": "code",
   "execution_count": null,
   "id": "d6bddb8b-13d4-458a-b079-46868176d082",
   "metadata": {},
   "outputs": [],
   "source": []
  },
  {
   "cell_type": "code",
   "execution_count": 16,
   "id": "c508da2b-7b3c-4090-b1ea-d1c2ec03140a",
   "metadata": {},
   "outputs": [],
   "source": [
    "start0_list = np.random.randint(0, CHROMDICT_HG19['1'] - 1000, size=1000)"
   ]
  },
  {
   "cell_type": "code",
   "execution_count": 20,
   "id": "5f99533f-65fe-4f0b-a65f-dae77173c027",
   "metadata": {},
   "outputs": [
    {
     "name": "stdout",
     "output_type": "stream",
     "text": [
      "2.13 s ± 0 ns per loop (mean ± std. dev. of 1 run, 1 loop each)\n"
     ]
    }
   ],
   "source": [
    "%%timeit -r1 -n1\n",
    "testrun(100)"
   ]
  },
  {
   "cell_type": "code",
   "execution_count": 18,
   "id": "a89f937a-5cf6-4f0f-a0d9-5431a277bac8",
   "metadata": {},
   "outputs": [
    {
     "name": "stdout",
     "output_type": "stream",
     "text": [
      "2.47 s ± 0 ns per loop (mean ± std. dev. of 1 run, 1 loop each)\n"
     ]
    }
   ],
   "source": [
    "%%timeit -r1 -n1\n",
    "testrun(300)"
   ]
  },
  {
   "cell_type": "code",
   "execution_count": 19,
   "id": "2fd72824-0135-41bc-8ddf-1d8a5b0719a3",
   "metadata": {},
   "outputs": [
    {
     "name": "stdout",
     "output_type": "stream",
     "text": [
      "2.64 s ± 0 ns per loop (mean ± std. dev. of 1 run, 1 loop each)\n"
     ]
    }
   ],
   "source": [
    "%%timeit -r1 -n1\n",
    "testrun(500)"
   ]
  },
  {
   "cell_type": "code",
   "execution_count": 21,
   "id": "5ab6ff0e-e282-4a9d-8ecd-e5616c2d9773",
   "metadata": {},
   "outputs": [
    {
     "name": "stdout",
     "output_type": "stream",
     "text": [
      "3.3 s ± 0 ns per loop (mean ± std. dev. of 1 run, 1 loop each)\n"
     ]
    }
   ],
   "source": [
    "%%timeit -r1 -n1\n",
    "testrun(1000)"
   ]
  },
  {
   "cell_type": "code",
   "execution_count": null,
   "id": "5eac981e-9846-41f1-9a51-9cd4c42489e1",
   "metadata": {},
   "outputs": [],
   "source": []
  }
 ],
 "metadata": {
  "kernelspec": {
   "display_name": "genome_v5",
   "language": "python",
   "name": "genome_v5"
  },
  "language_info": {
   "codemirror_mode": {
    "name": "ipython",
    "version": 3
   },
   "file_extension": ".py",
   "mimetype": "text/x-python",
   "name": "python",
   "nbconvert_exporter": "python",
   "pygments_lexer": "ipython3",
   "version": "3.9.12"
  }
 },
 "nbformat": 4,
 "nbformat_minor": 5
}
