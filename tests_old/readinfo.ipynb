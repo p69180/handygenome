{
 "cells": [
  {
   "cell_type": "markdown",
   "metadata": {},
   "source": [
    "# Initiation"
   ]
  },
  {
   "cell_type": "code",
   "execution_count": 1,
   "metadata": {},
   "outputs": [],
   "source": [
    "%load_ext autoreload\n",
    "%autoreload 2\n",
    "\n",
    "import random\n",
    "import pprint\n",
    "\n",
    "import pysam\n",
    "\n",
    "import sys\n",
    "sys.path.append('/home/users/pjh/scripts/python_genome_packages')"
   ]
  },
  {
   "cell_type": "code",
   "execution_count": 13,
   "metadata": {},
   "outputs": [],
   "source": [
    "from handygenome.common import ChromDict, Vcfspec, Interval\n",
    "from handygenome.variantplus.breakends import Breakends"
   ]
  },
  {
   "cell_type": "code",
   "execution_count": 4,
   "metadata": {},
   "outputs": [],
   "source": [
    "FASTA_PATH_HG19 = \"/home/users/data/01_reference/human_g1k_v37/human_g1k_v37.fasta\"\n",
    "FASTA_PATH_HG38 = \"/home/users/data/01_reference/human_g1k_v38/Homo_sapiens_assembly38.fasta\"\n",
    "\n",
    "FASTA_HG19 = pysam.FastaFile(FASTA_PATH_HG19)\n",
    "FASTA_HG38 = pysam.FastaFile(FASTA_PATH_HG38)\n",
    "CHROMDICT_HG19 = ChromDict(fasta_path=FASTA_PATH_HG19)\n",
    "CHROMDICT_HG38 = ChromDict(fasta_path=FASTA_PATH_HG38)"
   ]
  },
  {
   "cell_type": "code",
   "execution_count": 6,
   "metadata": {},
   "outputs": [],
   "source": [
    "igv = igvhandle.IGVHandle(60387)"
   ]
  },
  {
   "cell_type": "markdown",
   "metadata": {},
   "source": [
    "# short SV tests"
   ]
  },
  {
   "cell_type": "code",
   "execution_count": 12,
   "metadata": {},
   "outputs": [],
   "source": [
    "from handygenome.readplus import readplus\n",
    "from handygenome import igvhandle\n",
    "from handygenome.readplus import alleleinfosetup_sv\n",
    "from handygenome.readplus import alleleinfosetup"
   ]
  },
  {
   "cell_type": "code",
   "execution_count": 14,
   "metadata": {},
   "outputs": [],
   "source": [
    "anjisong_bam_path_list = [\n",
    "    '/home/users/anjisong/project/09_LungCancer_SNUH/01_bam/P04C1-1.s.md.ir.bam',\n",
    "    '/home/users/anjisong/project/09_LungCancer_SNUH/01_bam/P04C1-2.s.md.ir.bam',\n",
    "    '/home/users/anjisong/project/09_LungCancer_SNUH/01_bam/P04C1-3.s.md.ir.bam',\n",
    "]"
   ]
  },
  {
   "cell_type": "code",
   "execution_count": 15,
   "metadata": {},
   "outputs": [
    {
     "name": "stderr",
     "output_type": "stream",
     "text": [
      "[W::hts_idx_load3] The index file is older than the data file: /home/users/anjisong/project/09_LungCancer_SNUH/01_bam/P04C1-1.s.md.ir.bam.bai\n"
     ]
    }
   ],
   "source": [
    "anjisong_bam_list = [pysam.AlignmentFile(x) for x in anjisong_bam_path_list]"
   ]
  },
  {
   "cell_type": "code",
   "execution_count": 9,
   "metadata": {},
   "outputs": [],
   "source": [
    "bnds = Breakends('1', 1778025, False, '1', 1778353, False, FASTA_HG19)"
   ]
  },
  {
   "cell_type": "code",
   "execution_count": null,
   "metadata": {},
   "outputs": [],
   "source": []
  },
  {
   "cell_type": "code",
   "execution_count": 10,
   "metadata": {},
   "outputs": [
    {
     "name": "stdout",
     "output_type": "stream",
     "text": [
      "OK\n",
      "OK\n",
      "OK\n",
      "OK\n",
      "OK\n"
     ]
    }
   ],
   "source": [
    "igv.cmd('new')\n",
    "igv.load(anjisong_bam_path_list)\n",
    "igv.goto([bnds])"
   ]
  },
  {
   "cell_type": "code",
   "execution_count": 11,
   "metadata": {},
   "outputs": [
    {
     "name": "stdout",
     "output_type": "stream",
     "text": [
      "OK\n"
     ]
    }
   ],
   "source": [
    "igv.cmd('group')"
   ]
  },
  {
   "cell_type": "code",
   "execution_count": null,
   "metadata": {},
   "outputs": [],
   "source": []
  },
  {
   "cell_type": "code",
   "execution_count": 19,
   "metadata": {},
   "outputs": [],
   "source": [
    "rpplist = readplus.get_rpplist_sv(bam=anjisong_bam_list[0], fasta=FASTA_HG19, chromdict=CHROMDICT_HG19, bnds=bnds)"
   ]
  },
  {
   "cell_type": "code",
   "execution_count": 20,
   "metadata": {},
   "outputs": [
    {
     "data": {
      "text/plain": [
       "[<ReadPlusPair object (qname: A01146:152:HCYM3DSX3:4:1457:4806:28761; rp1_pos: 1:1,777,031; rp2_pos: 1:1,777,225; alleleinfo: {})>,\n",
       " <ReadPlusPair object (qname: A01146:152:HCYM3DSX3:3:2519:17155:4805; rp1_pos: 1:1,777,096; rp2_pos: 1:1,777,261; alleleinfo: {})>,\n",
       " <ReadPlusPair object (qname: A01146:152:HCYM3DSX3:2:2435:19506:23876; rp1_pos: 1:1,777,108; rp2_pos: 1:1,777,302; alleleinfo: {})>,\n",
       " <ReadPlusPair object (qname: A01146:152:HCYM3DSX3:1:1642:8684:22889; rp1_pos: 1:1,777,207; rp2_pos: 1:1,777,429; alleleinfo: {})>,\n",
       " <ReadPlusPair object (qname: A01146:152:HCYM3DSX3:4:2651:23267:24032; rp1_pos: 1:1,777,218; rp2_pos: 1:1,777,315; alleleinfo: {})>,\n",
       " <ReadPlusPair object (qname: A01146:152:HCYM3DSX3:2:1120:3920:19523; rp1_pos: 1:1,777,223; rp2_pos: 1:1,777,489; alleleinfo: {})>,\n",
       " <ReadPlusPair object (qname: A01146:152:HCYM3DSX3:4:1349:10031:8563; rp1_pos: 1:1,777,262; rp2_pos: 1:1,777,396; alleleinfo: {})>,\n",
       " <ReadPlusPair object (qname: A01146:152:HCYM3DSX3:1:2578:1398:2785; rp1_pos: 1:1,777,294; rp2_pos: 1:1,777,425; alleleinfo: {})>,\n",
       " <ReadPlusPair object (qname: A01146:152:HCYM3DSX3:4:1116:6307:21308; rp1_pos: 1:1,777,296; rp2_pos: 1:1,777,425; alleleinfo: {})>,\n",
       " <ReadPlusPair object (qname: A01146:152:HCYM3DSX3:1:2115:11677:25661; rp1_pos: 1:1,777,317; rp2_pos: 1:1,777,656; alleleinfo: {})>,\n",
       " <ReadPlusPair object (qname: A01146:152:HCYM3DSX3:2:2276:21594:11240; rp1_pos: 1:1,777,322; rp2_pos: 1:1,777,322; alleleinfo: {})>,\n",
       " <ReadPlusPair object (qname: A01146:152:HCYM3DSX3:1:1662:11623:5963; rp1_pos: 1:1,777,372; rp2_pos: 1:1,777,821; alleleinfo: {})>,\n",
       " <ReadPlusPair object (qname: A01146:152:HCYM3DSX3:3:2166:12581:24690; rp1_pos: 1:1,777,374; rp2_pos: 1:1,777,553; alleleinfo: {})>,\n",
       " <ReadPlusPair object (qname: A01146:152:HCYM3DSX3:4:1619:13331:13182; rp1_pos: 1:1,777,451; rp2_pos: 1:1,777,591; alleleinfo: {})>,\n",
       " <ReadPlusPair object (qname: A01146:152:HCYM3DSX3:4:1630:16821:27117; rp1_pos: 1:1,777,456; rp2_pos: 1:1,777,650; alleleinfo: {})>,\n",
       " <ReadPlusPair object (qname: A01146:152:HCYM3DSX3:3:1420:24153:27946; rp1_pos: 1:1,777,514; rp2_pos: 1:1,777,598; alleleinfo: {})>,\n",
       " <ReadPlusPair object (qname: A01146:152:HCYM3DSX3:2:1566:3812:34648; rp1_pos: 1:1,777,515; rp2_pos: 1:1,777,887; alleleinfo: {})>,\n",
       " <ReadPlusPair object (qname: A01146:152:HCYM3DSX3:1:1537:28040:22592; rp1_pos: 1:1,777,564; rp2_pos: 1:1,777,720; alleleinfo: {})>,\n",
       " <ReadPlusPair object (qname: A01146:152:HCYM3DSX3:2:1208:2510:15765; rp1_pos: 1:1,777,614; rp2_pos: 1:1,777,642; alleleinfo: {})>,\n",
       " <ReadPlusPair object (qname: A01146:152:HCYM3DSX3:1:2559:2049:25801; rp1_pos: 1:1,777,617; rp2_pos: 1:1,777,906; alleleinfo: {})>,\n",
       " <ReadPlusPair object (qname: A01146:152:HCYM3DSX3:4:2206:11921:22576; rp1_pos: 1:1,777,666; rp2_pos: 1:1,777,948; alleleinfo: {})>,\n",
       " <ReadPlusPair object (qname: A01146:152:HCYM3DSX3:1:2172:1045:2206; rp1_pos: 1:1,777,717; rp2_pos: 1:1,777,891; alleleinfo: {})>,\n",
       " <ReadPlusPair object (qname: A01146:152:HCYM3DSX3:2:1139:12988:7388; rp1_pos: 1:1,777,720; rp2_pos: 1:1,777,855; alleleinfo: {})>,\n",
       " <ReadPlusPair object (qname: A01146:152:HCYM3DSX3:3:1452:2709:13228; rp1_pos: 1:1,777,728; rp2_pos: 1:1,777,798; alleleinfo: {})>,\n",
       " <ReadPlusPair object (qname: A01146:152:HCYM3DSX3:2:2575:31024:34491; rp1_pos: 1:1,777,757; rp2_pos: 1:1,777,965; alleleinfo: {})>,\n",
       " <ReadPlusPair object (qname: A01146:152:HCYM3DSX3:1:1247:22218:5744; rp1_pos: 1:1,777,860; rp2_pos: 1:1,778,377; alleleinfo: {})>,\n",
       " <ReadPlusPair object (qname: A01146:152:HCYM3DSX3:2:2356:17752:1047; rp1_pos: 1:1,777,874; rp2_pos: 1:1,778,219; alleleinfo: {})>,\n",
       " <ReadPlusPair object (qname: A01146:152:HCYM3DSX3:3:1132:26738:31454; rp1_pos: 1:1,777,878; rp2_pos: 1:1,778,080; alleleinfo: {})>,\n",
       " <ReadPlusPair object (qname: A01146:152:HCYM3DSX3:4:1110:28248:18693; rp1_pos: 1:1,777,888; rp2_pos: 1:1,777,888; alleleinfo: {})>,\n",
       " <ReadPlusPair object (qname: A01146:152:HCYM3DSX3:4:1254:11098:7717; rp1_pos: 1:1,777,949; rp2_pos: 1:1,777,985; alleleinfo: {})>,\n",
       " <ReadPlusPair object (qname: A01146:152:HCYM3DSX3:1:1402:9227:26553; rp1_pos: 1:1,778,073; rp2_pos: 1:1,778,666; alleleinfo: {})>,\n",
       " <ReadPlusPair object (qname: A01146:152:HCYM3DSX3:2:1446:30707:15029; rp1_pos: 1:1,778,112; rp2_pos: 1:1,778,375; alleleinfo: {})>,\n",
       " <ReadPlusPair object (qname: A01146:152:HCYM3DSX3:2:2325:15157:4194; rp1_pos: 1:1,778,136; rp2_pos: 1:1,778,550; alleleinfo: {})>,\n",
       " <ReadPlusPair object (qname: A01146:152:HCYM3DSX3:1:2204:9136:16125; rp1_pos: 1:1,778,168; rp2_pos: 1:1,778,378; alleleinfo: {})>,\n",
       " <ReadPlusPair object (qname: A01146:152:HCYM3DSX3:1:1370:8106:31407; rp1_pos: 1:1,778,174; rp2_pos: 1:1,778,333; alleleinfo: {})>,\n",
       " <ReadPlusPair object (qname: A01146:152:HCYM3DSX3:1:2374:8666:22795; rp1_pos: 1:1,778,203; rp2_pos: 1:1,778,401; alleleinfo: {})>,\n",
       " <ReadPlusPair object (qname: A01146:152:HCYM3DSX3:4:1357:5710:35149; rp1_pos: 1:1,778,206; rp2_pos: 1:1,778,384; alleleinfo: {})>,\n",
       " <ReadPlusPair object (qname: A01146:152:HCYM3DSX3:3:1233:1823:5619; rp1_pos: 1:1,778,212; rp2_pos: 1:1,778,218; alleleinfo: {})>,\n",
       " <ReadPlusPair object (qname: A01146:152:HCYM3DSX3:1:1163:8196:1125; rp1_pos: 1:1,778,253; rp2_pos: 1:1,778,285; alleleinfo: {})>,\n",
       " <ReadPlusPair object (qname: A01146:152:HCYM3DSX3:4:2120:16559:34554; rp1_pos: 1:1,778,283; rp2_pos: 1:1,778,440; alleleinfo: {})>,\n",
       " <ReadPlusPair object (qname: A01146:152:HCYM3DSX3:2:2434:10556:31516; rp1_pos: 1:1,778,318; rp2_pos: 1:1,778,719; alleleinfo: {})>]"
      ]
     },
     "execution_count": 20,
     "metadata": {},
     "output_type": "execute_result"
    }
   ],
   "source": [
    "rpplist"
   ]
  },
  {
   "cell_type": "code",
   "execution_count": null,
   "metadata": {},
   "outputs": [],
   "source": []
  },
  {
   "cell_type": "markdown",
   "metadata": {},
   "source": [
    "# Scratches"
   ]
  },
  {
   "cell_type": "code",
   "execution_count": 3,
   "metadata": {},
   "outputs": [],
   "source": [
    "nbam_path = '/home/users/hspark/Projects/11_fusion_samples/tmp/LU-ALK49-N.s.md.ir.bam'\n",
    "tbam_path = '/home/users/hspark/Projects/11_fusion_samples/tmp/LU-ALK49-T.s.md.ir.bam'\n",
    "\n",
    "#nbam_path = '/home/users/hspark/Projects/11_fusion_samples/bam/wgs_smc2/LU-ALK49-N.s.md.ir.bam'\n",
    "#tbam_path = '/home/users/hspark/Projects/11_fusion_samples/bam/wgs_smc2/LU-ALK49-T.s.md.ir.bam'\n",
    "\n",
    "nbam = pysam.AlignmentFile(nbam_path)\n",
    "tbam = pysam.AlignmentFile(tbam_path)"
   ]
  },
  {
   "cell_type": "code",
   "execution_count": 6,
   "metadata": {},
   "outputs": [],
   "source": [
    "#vcfspec = Vcfspec('7', 55_176_696, 'G', ['C'])\n",
    "#vcfspec = Vcfspec('7', 55_182_730, 'G', ['A'])\n",
    "vcfspec = Vcfspec('7', 55_182_730, 'GCGCC', ['G'])"
   ]
  },
  {
   "cell_type": "code",
   "execution_count": 7,
   "metadata": {},
   "outputs": [],
   "source": [
    "bnds_dup = breakends.Breakends('1', 59_000_242, True, '1', 78_401_807, False, FASTA_HG19)\n",
    "bnds_dup.set_pos_range0s()\n",
    "#bnds_dup_new = breakends.Breakends('1', 59_000_240, True, '1', 78_401_806, False, FASTA_HG19)\n",
    "bnds_inv = breakends.Breakends('1', 78_147_272, True, '1', 83_140_336, False, FASTA_HG19)\n",
    "bnds_inv.set_pos_range0s()"
   ]
  },
  {
   "cell_type": "code",
   "execution_count": 46,
   "metadata": {},
   "outputs": [
    {
     "data": {
      "text/plain": [
       "[<Breakends [1:59000239[  ]1:78401804] (1-based coords)>,\n",
       " <Breakends [1:59000240[  ]1:78401805] (1-based coords)>,\n",
       " <Breakends [1:59000241[  ]1:78401806] (1-based coords)>,\n",
       " <Breakends [1:59000242[  ]1:78401807] (1-based coords)>]"
      ]
     },
     "execution_count": 46,
     "metadata": {},
     "output_type": "execute_result"
    }
   ],
   "source": [
    "bnds_dup.get_equivs()"
   ]
  },
  {
   "cell_type": "code",
   "execution_count": null,
   "metadata": {},
   "outputs": [],
   "source": []
  },
  {
   "cell_type": "code",
   "execution_count": 9,
   "metadata": {},
   "outputs": [
    {
     "name": "stdout",
     "output_type": "stream",
     "text": [
      "OK\n"
     ]
    }
   ],
   "source": [
    "igv.goto([bnds_dup], width=20)"
   ]
  },
  {
   "cell_type": "code",
   "execution_count": 8,
   "metadata": {},
   "outputs": [
    {
     "name": "stdout",
     "output_type": "stream",
     "text": [
      "OK\n"
     ]
    }
   ],
   "source": [
    "igv.goto([vcfspec])"
   ]
  },
  {
   "cell_type": "code",
   "execution_count": 11,
   "metadata": {},
   "outputs": [
    {
     "name": "stdout",
     "output_type": "stream",
     "text": [
      "OK\n"
     ]
    }
   ],
   "source": [
    "#igv.cmd('group PAIR_ORIENTATION')\n",
    "igv.cmd('group')"
   ]
  },
  {
   "cell_type": "code",
   "execution_count": null,
   "metadata": {},
   "outputs": [],
   "source": []
  },
  {
   "cell_type": "code",
   "execution_count": 47,
   "metadata": {},
   "outputs": [],
   "source": [
    "rpplist = readplus.get_rpplist_sv(tbam, FASTA_HG19, CHROMDICT_HG19, bnds_dup, view=True)"
   ]
  },
  {
   "cell_type": "code",
   "execution_count": 76,
   "metadata": {},
   "outputs": [],
   "source": [
    "rpplist.update_alleleinfo_sv(bnds_dup)"
   ]
  },
  {
   "cell_type": "code",
   "execution_count": 77,
   "metadata": {},
   "outputs": [],
   "source": [
    "rpplist.set_alleleinfo_tag_sv(bnds_dup)\n",
    "rpplist.set_alleleinfo_tag_rp_sv(bnds_dup)"
   ]
  },
  {
   "cell_type": "code",
   "execution_count": null,
   "metadata": {},
   "outputs": [],
   "source": []
  },
  {
   "cell_type": "code",
   "execution_count": null,
   "metadata": {},
   "outputs": [],
   "source": []
  },
  {
   "cell_type": "code",
   "execution_count": null,
   "metadata": {},
   "outputs": [],
   "source": []
  },
  {
   "cell_type": "code",
   "execution_count": null,
   "metadata": {},
   "outputs": [],
   "source": []
  },
  {
   "cell_type": "code",
   "execution_count": null,
   "metadata": {},
   "outputs": [],
   "source": []
  },
  {
   "cell_type": "code",
   "execution_count": null,
   "metadata": {},
   "outputs": [],
   "source": []
  }
 ],
 "metadata": {
  "kernelspec": {
   "display_name": "genome_v5",
   "language": "python",
   "name": "genome_v5"
  },
  "language_info": {
   "codemirror_mode": {
    "name": "ipython",
    "version": 3
   },
   "file_extension": ".py",
   "mimetype": "text/x-python",
   "name": "python",
   "nbconvert_exporter": "python",
   "pygments_lexer": "ipython3",
   "version": "3.9.12"
  }
 },
 "nbformat": 4,
 "nbformat_minor": 4
}
