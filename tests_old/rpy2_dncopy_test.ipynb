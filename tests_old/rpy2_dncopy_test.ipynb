{
 "cells": [
  {
   "cell_type": "code",
   "execution_count": 1,
   "id": "a68c47f7-7434-4cad-a2bf-f5d3635d0708",
   "metadata": {},
   "outputs": [],
   "source": [
    "import pandas as pd\n",
    "import numpy as np\n",
    "\n",
    "import handygenome\n",
    "import handygenome.cnv.rdnacopy as rdnacopy"
   ]
  },
  {
   "cell_type": "code",
   "execution_count": null,
   "id": "a5a7d933-15d0-4ce9-b12a-3d693c73971b",
   "metadata": {},
   "outputs": [],
   "source": []
  },
  {
   "cell_type": "code",
   "execution_count": 4,
   "id": "60d4cfc9-20a6-42fa-96e8-95f8ce96b9df",
   "metadata": {},
   "outputs": [],
   "source": [
    "df = pd.DataFrame(\n",
    "    {\n",
    "        'Chromosome': np.repeat('chr1', 100),\n",
    "        'Start': np.arange(100) + 1,\n",
    "        'End': np.arange(100) + 2,\n",
    "        'value': np.concatenate(\n",
    "            [np.random.normal(2.5, 0.1, 40), np.random.normal(3.2, 0.1, 60)]\n",
    "        ),\n",
    "    }\n",
    ")"
   ]
  },
  {
   "cell_type": "code",
   "execution_count": 5,
   "id": "bf2ef3d2-016e-4e3f-82cd-a1a48a8e688b",
   "metadata": {},
   "outputs": [
    {
     "name": "stdout",
     "output_type": "stream",
     "text": [
      "Analyzing: Sample.1 \n"
     ]
    }
   ],
   "source": [
    "seg = rdnacopy.run_segmentation(df)"
   ]
  },
  {
   "cell_type": "code",
   "execution_count": 6,
   "id": "e671fb8b-83b0-4f6b-9ef3-a8fa3d9c6de8",
   "metadata": {},
   "outputs": [
    {
     "data": {
      "text/html": [
       "<div>\n",
       "<style scoped>\n",
       "    .dataframe tbody tr th:only-of-type {\n",
       "        vertical-align: middle;\n",
       "    }\n",
       "\n",
       "    .dataframe tbody tr th {\n",
       "        vertical-align: top;\n",
       "    }\n",
       "\n",
       "    .dataframe thead th {\n",
       "        text-align: right;\n",
       "    }\n",
       "</style>\n",
       "<table border=\"1\" class=\"dataframe\">\n",
       "  <thead>\n",
       "    <tr style=\"text-align: right;\">\n",
       "      <th></th>\n",
       "      <th>Chromosome</th>\n",
       "      <th>Start</th>\n",
       "      <th>End</th>\n",
       "      <th>num_data</th>\n",
       "      <th>mean_value</th>\n",
       "    </tr>\n",
       "  </thead>\n",
       "  <tbody>\n",
       "    <tr>\n",
       "      <th>1</th>\n",
       "      <td>chr1</td>\n",
       "      <td>1</td>\n",
       "      <td>41</td>\n",
       "      <td>40.0</td>\n",
       "      <td>2.5298</td>\n",
       "    </tr>\n",
       "    <tr>\n",
       "      <th>2</th>\n",
       "      <td>chr1</td>\n",
       "      <td>41</td>\n",
       "      <td>101</td>\n",
       "      <td>60.0</td>\n",
       "      <td>3.2197</td>\n",
       "    </tr>\n",
       "  </tbody>\n",
       "</table>\n",
       "</div>"
      ],
      "text/plain": [
       "  Chromosome  Start  End  num_data  mean_value\n",
       "1       chr1      1   41      40.0      2.5298\n",
       "2       chr1     41  101      60.0      3.2197"
      ]
     },
     "execution_count": 6,
     "metadata": {},
     "output_type": "execute_result"
    }
   ],
   "source": [
    "seg"
   ]
  },
  {
   "cell_type": "code",
   "execution_count": null,
   "id": "c170e9ca-48ec-4b1d-aa2d-796231b29a99",
   "metadata": {},
   "outputs": [],
   "source": []
  },
  {
   "cell_type": "code",
   "execution_count": 1,
   "id": "9c6a9c40-44f2-4c22-a180-14128215a927",
   "metadata": {},
   "outputs": [],
   "source": [
    "import pandas as pd\n",
    "import numpy as np\n",
    "\n",
    "import rpy2.robjects as ro\n",
    "from rpy2.robjects.packages import importr\n",
    "from rpy2.robjects import pandas2ri"
   ]
  },
  {
   "cell_type": "code",
   "execution_count": 8,
   "id": "58d5657c-7361-4fd3-bb8b-972687365f7b",
   "metadata": {},
   "outputs": [],
   "source": [
    "arg_chrom = ro.StrVector(df['chrom'])\n",
    "# arg_pos = ro.FloatVector(df['pos'])\n",
    "arg_pos = ro.IntVector(df['pos'])\n",
    "arg_value = ro.FloatVector(df['values'])"
   ]
  },
  {
   "cell_type": "code",
   "execution_count": 9,
   "id": "74b50750-d8fe-405a-b3ed-585f7967e1b5",
   "metadata": {},
   "outputs": [
    {
     "name": "stdout",
     "output_type": "stream",
     "text": [
      "Analyzing: Sample.1 \n"
     ]
    }
   ],
   "source": [
    "dnacopy = importr('DNAcopy')\n",
    "cnaobj = dnacopy.CNA(arg_value, arg_chrom, arg_pos, data_type='logratio')\n",
    "segresult = dnacopy.segment(cnaobj, **{'verbose': 1, 'undo.splits': 'sdundo'})"
   ]
  },
  {
   "cell_type": "code",
   "execution_count": 10,
   "id": "48b67bf0-fbe3-493c-9752-3426d172f15b",
   "metadata": {},
   "outputs": [
    {
     "data": {
      "text/html": [
       "\n",
       "        <span>ListVector with 4 elements.</span>\n",
       "        <table>\n",
       "        <tbody>\n",
       "        \n",
       "          <tr>\n",
       "            <th>\n",
       "            data\n",
       "            </th>\n",
       "            <td>\n",
       "            <rpy2.rinterface.ListSexpVector object at 0x2b089b5dc6d0> [19]\n",
       "            </td>\n",
       "          </tr>\n",
       "        \n",
       "          <tr>\n",
       "            <th>\n",
       "            output\n",
       "            </th>\n",
       "            <td>\n",
       "            <rpy2.rinterface.ListSexpVector object at 0x2b089b5dec90> [19]\n",
       "            </td>\n",
       "          </tr>\n",
       "        \n",
       "          <tr>\n",
       "            <th>\n",
       "            segRows\n",
       "            </th>\n",
       "            <td>\n",
       "            <rpy2.rinterface.ListSexpVector object at 0x2b089b5b3290> [19]\n",
       "            </td>\n",
       "          </tr>\n",
       "        \n",
       "          <tr>\n",
       "            <th>\n",
       "            call\n",
       "            </th>\n",
       "            <td>\n",
       "            <rpy2.rinterface.LangSexpVector object at 0x2b089b5b33d0> [6]\n",
       "            </td>\n",
       "          </tr>\n",
       "        \n",
       "        </tbody>\n",
       "        </table>\n",
       "        "
      ],
      "text/plain": [
       "<rpy2.robjects.vectors.ListVector object at 0x2b089b5572d0> [19]\n",
       "R classes: ('DNAcopy',)\n",
       "[ListSexpVe..., ListSexpVe..., ListSexpVe..., LangSexpVe...]\n",
       "  data: <class 'rpy2.rinterface.ListSexpVector'>\n",
       "  <rpy2.rinterface.ListSexpVector object at 0x2b089b5dc2d0> [19]\n",
       "  output: <class 'rpy2.rinterface.ListSexpVector'>\n",
       "  <rpy2.rinterface.ListSexpVector object at 0x2b089b5dc4d0> [19]\n",
       "  segRows: <class 'rpy2.rinterface.ListSexpVector'>\n",
       "  <rpy2.rinterface.ListSexpVector object at 0x2b089b5dc290> [19]\n",
       "  call: <class 'rpy2.rinterface.LangSexpVector'>\n",
       "  <rpy2.rinterface.LangSexpVector object at 0x2b089b5b33d0> [6]"
      ]
     },
     "execution_count": 10,
     "metadata": {},
     "output_type": "execute_result"
    }
   ],
   "source": [
    "segresult"
   ]
  },
  {
   "cell_type": "code",
   "execution_count": 11,
   "id": "77803a57-90f7-4cc1-bcc9-f12335101d0b",
   "metadata": {},
   "outputs": [],
   "source": [
    "with (ro.default_converter + pandas2ri.converter).context():\n",
    "    seg_df = ro.conversion.get_conversion().rpy2py(segresult.rx2['output'])"
   ]
  },
  {
   "cell_type": "code",
   "execution_count": 12,
   "id": "cfc55b31-7d3a-4a4b-96bf-0d0bb6b3075f",
   "metadata": {},
   "outputs": [
    {
     "data": {
      "text/html": [
       "<div>\n",
       "<style scoped>\n",
       "    .dataframe tbody tr th:only-of-type {\n",
       "        vertical-align: middle;\n",
       "    }\n",
       "\n",
       "    .dataframe tbody tr th {\n",
       "        vertical-align: top;\n",
       "    }\n",
       "\n",
       "    .dataframe thead th {\n",
       "        text-align: right;\n",
       "    }\n",
       "</style>\n",
       "<table border=\"1\" class=\"dataframe\">\n",
       "  <thead>\n",
       "    <tr style=\"text-align: right;\">\n",
       "      <th></th>\n",
       "      <th>ID</th>\n",
       "      <th>chrom</th>\n",
       "      <th>loc.start</th>\n",
       "      <th>loc.end</th>\n",
       "      <th>num.mark</th>\n",
       "      <th>seg.mean</th>\n",
       "    </tr>\n",
       "  </thead>\n",
       "  <tbody>\n",
       "    <tr>\n",
       "      <th>1</th>\n",
       "      <td>Sample.1</td>\n",
       "      <td>chr1</td>\n",
       "      <td>1</td>\n",
       "      <td>40</td>\n",
       "      <td>40.0</td>\n",
       "      <td>2.4881</td>\n",
       "    </tr>\n",
       "    <tr>\n",
       "      <th>2</th>\n",
       "      <td>Sample.1</td>\n",
       "      <td>chr1</td>\n",
       "      <td>41</td>\n",
       "      <td>100</td>\n",
       "      <td>60.0</td>\n",
       "      <td>3.2012</td>\n",
       "    </tr>\n",
       "  </tbody>\n",
       "</table>\n",
       "</div>"
      ],
      "text/plain": [
       "         ID chrom  loc.start  loc.end  num.mark  seg.mean\n",
       "1  Sample.1  chr1          1       40      40.0    2.4881\n",
       "2  Sample.1  chr1         41      100      60.0    3.2012"
      ]
     },
     "execution_count": 12,
     "metadata": {},
     "output_type": "execute_result"
    }
   ],
   "source": [
    "seg_df"
   ]
  },
  {
   "cell_type": "code",
   "execution_count": null,
   "id": "86ac5ec7-213a-4d4e-916b-7e93f0666595",
   "metadata": {},
   "outputs": [],
   "source": []
  },
  {
   "cell_type": "code",
   "execution_count": null,
   "id": "b83f7ea7-24f1-41a8-90d3-9fbb13f43d28",
   "metadata": {},
   "outputs": [],
   "source": []
  },
  {
   "cell_type": "code",
   "execution_count": null,
   "id": "fd45d714-4824-47d3-a749-a3bd56e850d0",
   "metadata": {},
   "outputs": [],
   "source": []
  },
  {
   "cell_type": "code",
   "execution_count": null,
   "id": "d81aa3ae-0084-4bdc-8b2c-36994d7f7e7d",
   "metadata": {},
   "outputs": [],
   "source": []
  },
  {
   "cell_type": "code",
   "execution_count": 1,
   "id": "12d31636-4013-492d-bf2d-e99812d9bed1",
   "metadata": {},
   "outputs": [],
   "source": [
    "import pysam"
   ]
  },
  {
   "cell_type": "code",
   "execution_count": 2,
   "id": "cb2e1bb0-402f-4d36-babd-1c65684188a4",
   "metadata": {},
   "outputs": [],
   "source": [
    "bam_path = '/home/users/team_projects/Lung_Cancer_Panel_data/03_Data_from_YTKim/02_BAM/14/LU-14.normal.bam'"
   ]
  },
  {
   "cell_type": "code",
   "execution_count": 3,
   "id": "97164011-d664-4886-bb23-65bb6230cb23",
   "metadata": {},
   "outputs": [],
   "source": [
    "bam = pysam.AlignmentFile(bam_path)"
   ]
  },
  {
   "cell_type": "code",
   "execution_count": 4,
   "id": "6c29038c-d2af-4dd0-8266-ab5672b2d883",
   "metadata": {
    "scrolled": true
   },
   "outputs": [
    {
     "name": "stdout",
     "output_type": "stream",
     "text": [
      "ST-E00130:582:HC7KJALXX:6:2108:26524:54612\t81\t#0\t9998\t0\t95S56M\t#1\t182140535\t0\tCCTCACCCTAACCCTACCCCTAACCCTAACCCTAACCAGCACACGACCGCATACGATATCGAGTAACGTGACCCGAGTCCTAACGTGTGCTCTTACGATAACCCTAACCCTAACCCTAACCCTAACCCTAACCCTAACCCTAACCCTAACC\tarray('B', [27, 15, 15, 6, 22, 27, 27, 15, 15, 15, 33, 22, 15, 15, 15, 15, 6, 15, 15, 15, 15, 22, 15, 22, 15, 6, 15, 27, 22, 6, 15, 6, 22, 15, 15, 15, 6, 15, 6, 6, 27, 6, 22, 6, 6, 22, 15, 6, 6, 22, 15, 22, 33, 15, 6, 15, 22, 27, 22, 15, 6, 15, 15, 15, 22, 15, 6, 6, 27, 27, 27, 15, 6, 6, 6, 33, 22, 15, 6, 15, 15, 15, 27, 6, 6, 15, 6, 22, 27, 27, 15, 27, 27, 15, 15, 22, 22, 15, 33, 22, 15, 27, 27, 27, 33, 27, 27, 27, 27, 27, 33, 27, 27, 27, 27, 27, 33, 27, 27, 27, 27, 27, 33, 27, 27, 27, 27, 27, 33, 27, 27, 27, 27, 27, 33, 27, 27, 27, 27, 27, 33, 27, 27, 27, 27, 33, 33, 33, 27, 27, 33])\t[('SA', '12,95440,+,114S37M,0,1;'), ('MC', '52M99S'), ('MD', '56'), ('NM', 0), ('MQ', 0), ('AS', 56), ('XS', 53), ('RG', 'JKL-LU-14-blood-wgs-ILLUMINA')]\n",
      "ST-E00130:582:HC7KJALXX:2:1103:21907:52063\t387\t#0\t9999\t0\t95H56M\t#4\t18606675\t0\tGATAACCCTAACCCTAACCCTAACCCTAACCCTAACCCTAACCCTAACCCTAACCC\tarray('B', [27, 27, 27, 27, 22, 27, 27, 27, 27, 33, 27, 27, 27, 27, 27, 27, 27, 22, 27, 22, 33, 33, 27, 27, 27, 27, 27, 33, 27, 27, 27, 27, 27, 22, 22, 27, 27, 27, 27, 22, 27, 22, 27, 27, 27, 33, 22, 27, 27, 27, 22, 33, 27, 15, 22, 27])\t[('SA', '5,18606943,-,47S104M,60,0;'), ('MC', '64M2D87M'), ('MD', '56'), ('NM', 0), ('MQ', 60), ('AS', 56), ('XS', 54), ('RG', 'JKL-LU-14-blood-wgs-ILLUMINA')]\n",
      "ST-E00130:582:HC7KJALXX:2:1222:7304:41638\t323\t#0\t9999\t1\t118H33M\t#4\t18606754\t0\tGATAACCCTAACCCTAACCCTAACCCTAACCCT\tarray('B', [22, 22, 22, 22, 15, 27, 27, 27, 27, 33, 27, 27, 27, 27, 27, 33, 27, 27, 27, 27, 33, 33, 27, 27, 27, 27, 27, 33, 27, 27, 27, 27, 27])\t[('SA', '5,18606943,-,24S127M,60,0;'), ('XA', '6,+147869,119S32M,0;GL000227.1,+73742,119S32M,0;'), ('MC', '151M'), ('MD', '33'), ('NM', 0), ('MQ', 60), ('AS', 33), ('XS', 32), ('RG', 'JKL-LU-14-blood-wgs-ILLUMINA')]\n",
      "ST-E00130:582:HC7KJALXX:2:2204:12023:49179\t387\t#0\t9999\t0\t94H57M\t#4\t18606763\t0\tGATAACCCTAACCCTAACCCTAACCCTAACCCTAACCCTAACCCTAACCCTAACCCT\tarray('B', [27, 27, 27, 27, 22, 27, 27, 27, 27, 22, 33, 22, 22, 27, 27, 33, 27, 27, 27, 27, 33, 27, 27, 27, 6, 27, 22, 15, 27, 6, 22, 22, 33, 27, 27, 27, 22, 22, 33, 33, 27, 15, 22, 6, 27, 33, 27, 27, 27, 27, 33, 33, 15, 15, 27, 22, 22])\t[('SA', '5,18606943,-,48S103M,60,1;'), ('MC', '151M'), ('MD', '57'), ('NM', 0), ('MQ', 60), ('AS', 57), ('XS', 55), ('RG', 'JKL-LU-14-blood-wgs-ILLUMINA')]\n",
      "ST-E00130:582:HC7KJALXX:3:1217:5558:24796\t1411\t#0\t9999\t0\t82H66M3H\t#4\t18606767\t0\tGATAACCCTAACCCTAACCCTAACCCTAACCCTAACCCTAACCCTAACCCTAACCCTAACCCTAAC\tarray('B', [27, 27, 27, 27, 22, 27, 27, 27, 27, 27, 27, 27, 27, 27, 33, 33, 27, 27, 27, 27, 27, 33, 27, 27, 27, 27, 27, 33, 27, 27, 22, 27, 27, 22, 27, 22, 27, 27, 33, 15, 27, 27, 27, 27, 33, 33, 22, 27, 27, 27, 33, 22, 27, 27, 27, 27, 22, 15, 27, 27, 27, 22, 27, 22, 27, 27])\t[('SA', '5,18606943,-,60S91M,60,0;'), ('MC', '151M'), ('MD', '66'), ('NM', 0), ('MQ', 60), ('AS', 66), ('XS', 65), ('RG', 'JKL-LU-14-blood-wgs-ILLUMINA')]\n",
      "ST-E00130:582:HC7KJALXX:3:1217:5609:24638\t1411\t#0\t9999\t0\t82H66M3H\t#4\t18606767\t0\tGATAACCCTAACCCTAACCCTAACCCTAACCCTAACCCTAACCCTAACCCTAACCCTAACCCTAAC\tarray('B', [27, 27, 27, 27, 22, 27, 27, 27, 33, 33, 27, 27, 27, 27, 27, 33, 33, 27, 27, 27, 33, 33, 27, 27, 27, 27, 27, 33, 27, 27, 27, 27, 27, 33, 27, 27, 27, 27, 33, 15, 27, 22, 27, 27, 33, 33, 27, 27, 27, 27, 33, 33, 27, 27, 27, 27, 27, 33, 27, 22, 22, 27, 15, 15, 15, 6])\t[('SA', '5,18606943,-,60S91M,60,0;'), ('MC', '151M'), ('MD', '66'), ('NM', 0), ('MQ', 60), ('AS', 66), ('XS', 65), ('RG', 'JKL-LU-14-blood-wgs-ILLUMINA')]\n",
      "ST-E00130:582:HC7KJALXX:3:1217:5903:22018\t387\t#0\t9999\t0\t82H66M3H\t#4\t18606767\t0\tGATAACCCTAACCCTAACCCTAACCCTAACCCTAACCCTAACCCTAACCCTAACCCTAACCCTAAC\tarray('B', [27, 27, 27, 33, 22, 27, 27, 27, 33, 15, 27, 27, 27, 27, 27, 27, 27, 22, 27, 27, 27, 33, 33, 27, 27, 27, 27, 27, 27, 27, 27, 27, 27, 33, 27, 27, 27, 27, 27, 22, 15, 22, 22, 27, 33, 33, 27, 27, 27, 27, 33, 33, 27, 27, 27, 27, 22, 27, 27, 27, 27, 27, 33, 15, 27, 27])\t[('SA', '5,18606943,-,60S91M,60,0;'), ('MC', '151M'), ('MD', '66'), ('NM', 0), ('MQ', 60), ('AS', 66), ('XS', 65), ('RG', 'JKL-LU-14-blood-wgs-ILLUMINA')]\n",
      "ST-E00130:582:HC7KJALXX:4:1205:10906:39088\t387\t#0\t9999\t0\t92H59M\t#4\t18606755\t0\tGATAACCCTAACCCTAACCCTAACCCTAACCCTAACCCTAACCCTAACCCTAACCCTAA\tarray('B', [27, 27, 27, 27, 22, 27, 33, 27, 27, 33, 27, 27, 27, 27, 27, 33, 27, 27, 27, 27, 27, 33, 27, 27, 27, 27, 27, 33, 27, 27, 27, 27, 27, 27, 27, 27, 27, 27, 27, 33, 27, 27, 27, 27, 33, 33, 27, 27, 27, 27, 33, 22, 27, 22, 27, 27, 33, 15, 27])\t[('SA', '5,18606943,-,50S101M,60,0;'), ('MC', '151M'), ('MD', '59'), ('NM', 0), ('MQ', 60), ('AS', 59), ('XS', 57), ('RG', 'JKL-LU-14-blood-wgs-ILLUMINA')]\n",
      "ST-E00130:582:HC7KJALXX:4:2114:25337:73159\t1347\t#0\t9999\t0\t68H66M17H\t#4\t18606744\t0\tGATAACCCTAACCCTAACCCTAACCCTAACCCTAACCCTAACCCTAACCCTAACCCTAACCCTAAC\tarray('B', [22, 22, 27, 33, 33, 27, 27, 27, 27, 33, 27, 27, 27, 27, 27, 33, 33, 27, 27, 27, 33, 22, 27, 15, 27, 27, 27, 33, 27, 27, 22, 22, 15, 33, 27, 27, 27, 27, 27, 33, 27, 22, 27, 27, 27, 33, 27, 27, 27, 27, 27, 22, 27, 27, 27, 27, 27, 33, 27, 27, 27, 27, 27, 33, 27, 15])\t[('SA', '5,18606943,-,74S77M,60,0;'), ('MC', '151M'), ('MD', '66'), ('NM', 0), ('MQ', 60), ('AS', 66), ('XS', 65), ('RG', 'JKL-LU-14-blood-wgs-ILLUMINA')]\n",
      "ST-E00130:582:HC7KJALXX:4:2114:25672:73071\t323\t#0\t9999\t0\t68H66M17H\t#4\t18606744\t0\tGATAACCCTAACCCTAACCCTAACCCTAACCCTAACCCTAACCCTAACCCTAACCCTAACCCTAAC\tarray('B', [22, 22, 22, 22, 15, 27, 27, 27, 27, 33, 27, 27, 27, 27, 27, 33, 27, 27, 27, 27, 27, 33, 27, 27, 27, 27, 27, 33, 27, 27, 27, 27, 27, 33, 27, 27, 27, 27, 27, 33, 27, 27, 27, 27, 27, 33, 27, 27, 27, 27, 27, 33, 27, 27, 27, 27, 27, 33, 27, 27, 27, 27, 27, 33, 27, 27])\t[('SA', '5,18606943,-,74S77M,60,0;'), ('MC', '151M'), ('MD', '66'), ('NM', 0), ('MQ', 60), ('AS', 66), ('XS', 65), ('RG', 'JKL-LU-14-blood-wgs-ILLUMINA')]\n"
     ]
    }
   ],
   "source": [
    "for idx, read in enumerate(bam.fetch()):\n",
    "    if idx == 10:\n",
    "        break\n",
    "    print(read)\n",
    "    "
   ]
  },
  {
   "cell_type": "code",
   "execution_count": null,
   "id": "0084a6ab-82e3-4b08-89a5-73c64e153dfc",
   "metadata": {},
   "outputs": [],
   "source": []
  },
  {
   "cell_type": "code",
   "execution_count": 5,
   "id": "9bb02618-fff1-477d-b667-ddab15f61793",
   "metadata": {},
   "outputs": [],
   "source": [
    "import pyranges as pr"
   ]
  },
  {
   "cell_type": "code",
   "execution_count": 9,
   "id": "a7f36a36-2b4e-41a2-a918-9ff9cd4b4b80",
   "metadata": {},
   "outputs": [],
   "source": [
    "f1 = pr.from_dict({'Chromosome': ['chr1', 'chr1', 'chr1'], 'Start': [3, 8, 5],\n",
    "                   'End': [6, 9, 7], 'Name': ['interval1', 'interval3', 'interval2']})\n",
    "\n",
    "f2 = pr.from_dict({'Chromosome': ['chr1', 'chr1'], 'Start': [1, 6],\n",
    "                   'End': [2, 7], 'Name': ['a', 'b']})"
   ]
  },
  {
   "cell_type": "code",
   "execution_count": 11,
   "id": "bf3ea485-7599-4122-8a1b-2f6a627fa3cf",
   "metadata": {},
   "outputs": [
    {
     "data": {
      "text/html": [
       "<div>\n",
       "<style scoped>\n",
       "    .dataframe tbody tr th:only-of-type {\n",
       "        vertical-align: middle;\n",
       "    }\n",
       "\n",
       "    .dataframe tbody tr th {\n",
       "        vertical-align: top;\n",
       "    }\n",
       "\n",
       "    .dataframe thead th {\n",
       "        text-align: right;\n",
       "    }\n",
       "</style>\n",
       "<table border=\"1\" class=\"dataframe\">\n",
       "  <thead>\n",
       "    <tr style=\"text-align: right;\">\n",
       "      <th></th>\n",
       "      <th>Chromosome</th>\n",
       "      <th>Start</th>\n",
       "      <th>End</th>\n",
       "      <th>Name</th>\n",
       "    </tr>\n",
       "  </thead>\n",
       "  <tbody>\n",
       "    <tr>\n",
       "      <th>0</th>\n",
       "      <td>chr1</td>\n",
       "      <td>3</td>\n",
       "      <td>6</td>\n",
       "      <td>interval1</td>\n",
       "    </tr>\n",
       "    <tr>\n",
       "      <th>1</th>\n",
       "      <td>chr1</td>\n",
       "      <td>8</td>\n",
       "      <td>9</td>\n",
       "      <td>interval3</td>\n",
       "    </tr>\n",
       "    <tr>\n",
       "      <th>2</th>\n",
       "      <td>chr1</td>\n",
       "      <td>5</td>\n",
       "      <td>7</td>\n",
       "      <td>interval2</td>\n",
       "    </tr>\n",
       "  </tbody>\n",
       "</table>\n",
       "</div>"
      ],
      "text/plain": [
       "+--------------+-----------+-----------+------------+\n",
       "| Chromosome   |     Start |       End | Name       |\n",
       "| (category)   |   (int64) |   (int64) | (object)   |\n",
       "|--------------+-----------+-----------+------------|\n",
       "| chr1         |         3 |         6 | interval1  |\n",
       "| chr1         |         8 |         9 | interval3  |\n",
       "| chr1         |         5 |         7 | interval2  |\n",
       "+--------------+-----------+-----------+------------+\n",
       "Unstranded PyRanges object has 3 rows and 4 columns from 1 chromosomes.\n",
       "For printing, the PyRanges was sorted on Chromosome."
      ]
     },
     "execution_count": 11,
     "metadata": {},
     "output_type": "execute_result"
    }
   ],
   "source": [
    "f1"
   ]
  },
  {
   "cell_type": "code",
   "execution_count": 12,
   "id": "a92669ef-d0c7-4831-8ecf-ca0de9b594d1",
   "metadata": {},
   "outputs": [
    {
     "data": {
      "text/html": [
       "<div>\n",
       "<style scoped>\n",
       "    .dataframe tbody tr th:only-of-type {\n",
       "        vertical-align: middle;\n",
       "    }\n",
       "\n",
       "    .dataframe tbody tr th {\n",
       "        vertical-align: top;\n",
       "    }\n",
       "\n",
       "    .dataframe thead th {\n",
       "        text-align: right;\n",
       "    }\n",
       "</style>\n",
       "<table border=\"1\" class=\"dataframe\">\n",
       "  <thead>\n",
       "    <tr style=\"text-align: right;\">\n",
       "      <th></th>\n",
       "      <th>Chromosome</th>\n",
       "      <th>Start</th>\n",
       "      <th>End</th>\n",
       "      <th>Name</th>\n",
       "    </tr>\n",
       "  </thead>\n",
       "  <tbody>\n",
       "    <tr>\n",
       "      <th>0</th>\n",
       "      <td>chr1</td>\n",
       "      <td>1</td>\n",
       "      <td>2</td>\n",
       "      <td>a</td>\n",
       "    </tr>\n",
       "    <tr>\n",
       "      <th>1</th>\n",
       "      <td>chr1</td>\n",
       "      <td>6</td>\n",
       "      <td>7</td>\n",
       "      <td>b</td>\n",
       "    </tr>\n",
       "  </tbody>\n",
       "</table>\n",
       "</div>"
      ],
      "text/plain": [
       "+--------------+-----------+-----------+------------+\n",
       "| Chromosome   |     Start |       End | Name       |\n",
       "| (category)   |   (int64) |   (int64) | (object)   |\n",
       "|--------------+-----------+-----------+------------|\n",
       "| chr1         |         1 |         2 | a          |\n",
       "| chr1         |         6 |         7 | b          |\n",
       "+--------------+-----------+-----------+------------+\n",
       "Unstranded PyRanges object has 2 rows and 4 columns from 1 chromosomes.\n",
       "For printing, the PyRanges was sorted on Chromosome."
      ]
     },
     "execution_count": 12,
     "metadata": {},
     "output_type": "execute_result"
    }
   ],
   "source": [
    "f2"
   ]
  },
  {
   "cell_type": "code",
   "execution_count": 10,
   "id": "70a42758-8fe5-4c0f-a488-f2ae3cd5ce90",
   "metadata": {},
   "outputs": [
    {
     "data": {
      "text/html": [
       "<div>\n",
       "<style scoped>\n",
       "    .dataframe tbody tr th:only-of-type {\n",
       "        vertical-align: middle;\n",
       "    }\n",
       "\n",
       "    .dataframe tbody tr th {\n",
       "        vertical-align: top;\n",
       "    }\n",
       "\n",
       "    .dataframe thead th {\n",
       "        text-align: right;\n",
       "    }\n",
       "</style>\n",
       "<table border=\"1\" class=\"dataframe\">\n",
       "  <thead>\n",
       "    <tr style=\"text-align: right;\">\n",
       "      <th></th>\n",
       "      <th>Chromosome</th>\n",
       "      <th>Start</th>\n",
       "      <th>End</th>\n",
       "      <th>Name</th>\n",
       "      <th>Start_b</th>\n",
       "      <th>End_b</th>\n",
       "      <th>Name_b</th>\n",
       "    </tr>\n",
       "  </thead>\n",
       "  <tbody>\n",
       "    <tr>\n",
       "      <th>0</th>\n",
       "      <td>chr1</td>\n",
       "      <td>5</td>\n",
       "      <td>7</td>\n",
       "      <td>interval2</td>\n",
       "      <td>6</td>\n",
       "      <td>7</td>\n",
       "      <td>b</td>\n",
       "    </tr>\n",
       "  </tbody>\n",
       "</table>\n",
       "</div>"
      ],
      "text/plain": [
       "+--------------+-----------+-----------+------------+-----------+-------+\n",
       "| Chromosome   |     Start |       End | Name       |   Start_b | +2    |\n",
       "| (category)   |   (int64) |   (int64) | (object)   |   (int64) | ...   |\n",
       "|--------------+-----------+-----------+------------+-----------+-------|\n",
       "| chr1         |         5 |         7 | interval2  |         6 | ...   |\n",
       "+--------------+-----------+-----------+------------+-----------+-------+\n",
       "Unstranded PyRanges object has 1 rows and 7 columns from 1 chromosomes.\n",
       "For printing, the PyRanges was sorted on Chromosome.\n",
       "2 hidden columns: End_b, Name_b"
      ]
     },
     "execution_count": 10,
     "metadata": {},
     "output_type": "execute_result"
    }
   ],
   "source": [
    "f1.join(f2)"
   ]
  },
  {
   "cell_type": "code",
   "execution_count": 14,
   "id": "25861312-0805-4ee5-a99d-452c282f8867",
   "metadata": {
    "scrolled": true
   },
   "outputs": [
    {
     "data": {
      "text/html": [
       "<div>\n",
       "<style scoped>\n",
       "    .dataframe tbody tr th:only-of-type {\n",
       "        vertical-align: middle;\n",
       "    }\n",
       "\n",
       "    .dataframe tbody tr th {\n",
       "        vertical-align: top;\n",
       "    }\n",
       "\n",
       "    .dataframe thead th {\n",
       "        text-align: right;\n",
       "    }\n",
       "</style>\n",
       "<table border=\"1\" class=\"dataframe\">\n",
       "  <thead>\n",
       "    <tr style=\"text-align: right;\">\n",
       "      <th></th>\n",
       "      <th>Chromosome</th>\n",
       "      <th>Start</th>\n",
       "      <th>End</th>\n",
       "      <th>Name</th>\n",
       "      <th>Start_b</th>\n",
       "      <th>End_b</th>\n",
       "      <th>Name_b</th>\n",
       "    </tr>\n",
       "  </thead>\n",
       "  <tbody>\n",
       "    <tr>\n",
       "      <th>0</th>\n",
       "      <td>chr1</td>\n",
       "      <td>5</td>\n",
       "      <td>7</td>\n",
       "      <td>interval2</td>\n",
       "      <td>6</td>\n",
       "      <td>7</td>\n",
       "      <td>b</td>\n",
       "    </tr>\n",
       "    <tr>\n",
       "      <th>1</th>\n",
       "      <td>chr1</td>\n",
       "      <td>3</td>\n",
       "      <td>6</td>\n",
       "      <td>interval1</td>\n",
       "      <td>-1</td>\n",
       "      <td>-1</td>\n",
       "      <td>-1</td>\n",
       "    </tr>\n",
       "    <tr>\n",
       "      <th>2</th>\n",
       "      <td>chr1</td>\n",
       "      <td>8</td>\n",
       "      <td>9</td>\n",
       "      <td>interval3</td>\n",
       "      <td>-1</td>\n",
       "      <td>-1</td>\n",
       "      <td>-1</td>\n",
       "    </tr>\n",
       "  </tbody>\n",
       "</table>\n",
       "</div>"
      ],
      "text/plain": [
       "+--------------+-----------+-----------+------------+-----------+-------+\n",
       "| Chromosome   |     Start |       End | Name       |   Start_b | +2    |\n",
       "| (category)   |   (int64) |   (int64) | (object)   |   (int64) | ...   |\n",
       "|--------------+-----------+-----------+------------+-----------+-------|\n",
       "| chr1         |         5 |         7 | interval2  |         6 | ...   |\n",
       "| chr1         |         3 |         6 | interval1  |        -1 | ...   |\n",
       "| chr1         |         8 |         9 | interval3  |        -1 | ...   |\n",
       "+--------------+-----------+-----------+------------+-----------+-------+\n",
       "Unstranded PyRanges object has 3 rows and 7 columns from 1 chromosomes.\n",
       "For printing, the PyRanges was sorted on Chromosome.\n",
       "2 hidden columns: End_b, Name_b"
      ]
     },
     "execution_count": 14,
     "metadata": {},
     "output_type": "execute_result"
    }
   ],
   "source": [
    "f1.join(f2, how='left')"
   ]
  }
 ],
 "metadata": {
  "kernelspec": {
   "display_name": "hdgn-editable",
   "language": "python",
   "name": "hdgn-editable"
  },
  "language_info": {
   "codemirror_mode": {
    "name": "ipython",
    "version": 3
   },
   "file_extension": ".py",
   "mimetype": "text/x-python",
   "name": "python",
   "nbconvert_exporter": "python",
   "pygments_lexer": "ipython3",
   "version": "3.11.4"
  }
 },
 "nbformat": 4,
 "nbformat_minor": 5
}
