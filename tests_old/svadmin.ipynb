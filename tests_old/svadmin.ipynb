{
 "cells": [
  {
   "cell_type": "code",
   "execution_count": 1,
   "id": "e6f0071b-2d89-408a-b3d9-028878a9ee1e",
   "metadata": {},
   "outputs": [],
   "source": [
    "%load_ext autoreload\n",
    "%autoreload 2\n",
    "\n",
    "import sys\n",
    "\n",
    "sys.path.append('/home/users/pjh/scripts/svadmin_tools/svadmin/python/')"
   ]
  },
  {
   "cell_type": "code",
   "execution_count": 2,
   "id": "8f5cb7d3-3722-49aa-b8fd-d32219bbbda8",
   "metadata": {},
   "outputs": [],
   "source": [
    "import utils"
   ]
  },
  {
   "cell_type": "code",
   "execution_count": 3,
   "id": "f3e3364f-0221-43df-99e6-9fefa640dc02",
   "metadata": {},
   "outputs": [
    {
     "ename": "AccessDenied",
     "evalue": "(pid=1)",
     "output_type": "error",
     "traceback": [
      "\u001b[0;31m---------------------------------------------------------------------------\u001b[0m",
      "\u001b[0;31mPermissionError\u001b[0m                           Traceback (most recent call last)",
      "File \u001b[0;32m~/tools/miniconda/221104/miniconda3/envs/genome_v7/lib/python3.10/site-packages/psutil/_pslinux.py:1645\u001b[0m, in \u001b[0;36mwrap_exceptions.<locals>.wrapper\u001b[0;34m(self, *args, **kwargs)\u001b[0m\n\u001b[1;32m   1644\u001b[0m \u001b[38;5;28;01mtry\u001b[39;00m:\n\u001b[0;32m-> 1645\u001b[0m     \u001b[38;5;28;01mreturn\u001b[39;00m \u001b[43mfun\u001b[49m\u001b[43m(\u001b[49m\u001b[38;5;28;43mself\u001b[39;49m\u001b[43m,\u001b[49m\u001b[43m \u001b[49m\u001b[38;5;241;43m*\u001b[39;49m\u001b[43margs\u001b[49m\u001b[43m,\u001b[49m\u001b[43m \u001b[49m\u001b[38;5;241;43m*\u001b[39;49m\u001b[38;5;241;43m*\u001b[39;49m\u001b[43mkwargs\u001b[49m\u001b[43m)\u001b[49m\n\u001b[1;32m   1646\u001b[0m \u001b[38;5;28;01mexcept\u001b[39;00m \u001b[38;5;167;01mPermissionError\u001b[39;00m:\n",
      "File \u001b[0;32m~/tools/miniconda/221104/miniconda3/envs/genome_v7/lib/python3.10/site-packages/psutil/_pslinux.py:1807\u001b[0m, in \u001b[0;36mProcess.io_counters\u001b[0;34m(self)\u001b[0m\n\u001b[1;32m   1806\u001b[0m fields \u001b[38;5;241m=\u001b[39m {}\n\u001b[0;32m-> 1807\u001b[0m \u001b[38;5;28;01mwith\u001b[39;00m \u001b[43mopen_binary\u001b[49m\u001b[43m(\u001b[49m\u001b[43mfname\u001b[49m\u001b[43m)\u001b[49m \u001b[38;5;28;01mas\u001b[39;00m f:\n\u001b[1;32m   1808\u001b[0m     \u001b[38;5;28;01mfor\u001b[39;00m line \u001b[38;5;129;01min\u001b[39;00m f:\n\u001b[1;32m   1809\u001b[0m         \u001b[38;5;66;03m# https://github.com/giampaolo/psutil/issues/1004\u001b[39;00m\n",
      "File \u001b[0;32m~/tools/miniconda/221104/miniconda3/envs/genome_v7/lib/python3.10/site-packages/psutil/_common.py:728\u001b[0m, in \u001b[0;36mopen_binary\u001b[0;34m(fname)\u001b[0m\n\u001b[1;32m    727\u001b[0m \u001b[38;5;28;01mdef\u001b[39;00m \u001b[38;5;21mopen_binary\u001b[39m(fname):\n\u001b[0;32m--> 728\u001b[0m     \u001b[38;5;28;01mreturn\u001b[39;00m \u001b[38;5;28;43mopen\u001b[39;49m\u001b[43m(\u001b[49m\u001b[43mfname\u001b[49m\u001b[43m,\u001b[49m\u001b[43m \u001b[49m\u001b[38;5;124;43m\"\u001b[39;49m\u001b[38;5;124;43mrb\u001b[39;49m\u001b[38;5;124;43m\"\u001b[39;49m\u001b[43m,\u001b[49m\u001b[43m \u001b[49m\u001b[43mbuffering\u001b[49m\u001b[38;5;241;43m=\u001b[39;49m\u001b[43mFILE_READ_BUFFER_SIZE\u001b[49m\u001b[43m)\u001b[49m\n",
      "\u001b[0;31mPermissionError\u001b[0m: [Errno 13] Permission denied: '/proc/1/io'",
      "\nDuring handling of the above exception, another exception occurred:\n",
      "\u001b[0;31mAccessDenied\u001b[0m                              Traceback (most recent call last)",
      "Cell \u001b[0;32mIn[3], line 1\u001b[0m\n\u001b[0;32m----> 1\u001b[0m snapshot \u001b[38;5;241m=\u001b[39m \u001b[43mutils\u001b[49m\u001b[38;5;241;43m.\u001b[39;49m\u001b[43mget_byuser_snapshot\u001b[49m\u001b[43m(\u001b[49m\u001b[43minterval\u001b[49m\u001b[38;5;241;43m=\u001b[39;49m\u001b[38;5;241;43m3\u001b[39;49m\u001b[43m)\u001b[49m\n",
      "File \u001b[0;32m~/scripts/svadmin_tools/svadmin/python/utils.py:776\u001b[0m, in \u001b[0;36mget_byuser_snapshot\u001b[0;34m(interval, gross_cpu_percents)\u001b[0m\n\u001b[1;32m    775\u001b[0m \u001b[38;5;28;01mdef\u001b[39;00m \u001b[38;5;21mget_byuser_snapshot\u001b[39m(interval\u001b[38;5;241m=\u001b[39m\u001b[38;5;241m0.2\u001b[39m, gross_cpu_percents\u001b[38;5;241m=\u001b[39m\u001b[38;5;28;01mFalse\u001b[39;00m):\n\u001b[0;32m--> 776\u001b[0m     proc_snapshot, gross_pcpus \u001b[38;5;241m=\u001b[39m \u001b[43mget_proc_snapshot\u001b[49m\u001b[43m(\u001b[49m\n\u001b[1;32m    777\u001b[0m \u001b[43m        \u001b[49m\u001b[43minterval\u001b[49m\u001b[38;5;241;43m=\u001b[39;49m\u001b[43minterval\u001b[49m\u001b[43m,\u001b[49m\u001b[43m \u001b[49m\u001b[43mgross_cpu_percents\u001b[49m\u001b[38;5;241;43m=\u001b[39;49m\u001b[43mgross_cpu_percents\u001b[49m\u001b[43m,\u001b[49m\n\u001b[1;32m    778\u001b[0m \u001b[43m    \u001b[49m\u001b[43m)\u001b[49m\n\u001b[1;32m    779\u001b[0m     proc_snapshot_df \u001b[38;5;241m=\u001b[39m pd\u001b[38;5;241m.\u001b[39mDataFrame\u001b[38;5;241m.\u001b[39mfrom_records(proc_snapshot)\n\u001b[1;32m    780\u001b[0m     grouped_df \u001b[38;5;241m=\u001b[39m proc_snapshot_df\u001b[38;5;241m.\u001b[39mgroupby(\u001b[38;5;124m'\u001b[39m\u001b[38;5;124muser\u001b[39m\u001b[38;5;124m'\u001b[39m)[\u001b[38;5;28mlist\u001b[39m(BYUSER_KEYS)]\u001b[38;5;241m.\u001b[39msum()\n",
      "File \u001b[0;32m~/scripts/svadmin_tools/svadmin/python/utils.py:714\u001b[0m, in \u001b[0;36mget_proc_snapshot\u001b[0;34m(interval, gross_cpu_percents)\u001b[0m\n\u001b[1;32m    712\u001b[0m \u001b[38;5;28;01mif\u001b[39;00m gross_cpu_percents:\n\u001b[1;32m    713\u001b[0m     _ \u001b[38;5;241m=\u001b[39m psutil\u001b[38;5;241m.\u001b[39mcpu_percent(percpu\u001b[38;5;241m=\u001b[39m\u001b[38;5;28;01mTrue\u001b[39;00m)\n\u001b[0;32m--> 714\u001b[0m all_pcpus, all_iorates \u001b[38;5;241m=\u001b[39m \u001b[43mget_pcpus_iorates\u001b[49m\u001b[43m(\u001b[49m\u001b[43mproclist\u001b[49m\u001b[43m,\u001b[49m\u001b[43m \u001b[49m\u001b[43minterval\u001b[49m\u001b[38;5;241;43m=\u001b[39;49m\u001b[43minterval\u001b[49m\u001b[43m)\u001b[49m\n\u001b[1;32m    715\u001b[0m \u001b[38;5;28;01mif\u001b[39;00m gross_cpu_percents:\n\u001b[1;32m    716\u001b[0m     gross_pcpus \u001b[38;5;241m=\u001b[39m psutil\u001b[38;5;241m.\u001b[39mcpu_percent(percpu\u001b[38;5;241m=\u001b[39m\u001b[38;5;28;01mTrue\u001b[39;00m)\n",
      "File \u001b[0;32m~/scripts/svadmin_tools/svadmin/python/utils.py:653\u001b[0m, in \u001b[0;36mget_pcpus_iorates\u001b[0;34m(proclist, interval)\u001b[0m\n\u001b[1;32m    651\u001b[0m \u001b[38;5;28;01mdef\u001b[39;00m \u001b[38;5;21mget_pcpus_iorates\u001b[39m(proclist, interval\u001b[38;5;241m=\u001b[39m\u001b[38;5;241m0.2\u001b[39m):\n\u001b[1;32m    652\u001b[0m     cputimes_begin \u001b[38;5;241m=\u001b[39m get_cputimes(proclist)\n\u001b[0;32m--> 653\u001b[0m     iocnts_begin \u001b[38;5;241m=\u001b[39m \u001b[43mget_iocounters\u001b[49m\u001b[43m(\u001b[49m\u001b[43mproclist\u001b[49m\u001b[43m)\u001b[49m\n\u001b[1;32m    654\u001b[0m     time\u001b[38;5;241m.\u001b[39msleep(interval)\n\u001b[1;32m    655\u001b[0m     cputimes_end \u001b[38;5;241m=\u001b[39m get_cputimes(proclist)\n",
      "File \u001b[0;32m~/scripts/svadmin_tools/svadmin/python/utils.py:599\u001b[0m, in \u001b[0;36mget_iocounters\u001b[0;34m(proclist)\u001b[0m\n\u001b[1;32m    598\u001b[0m \u001b[38;5;28;01mdef\u001b[39;00m \u001b[38;5;21mget_iocounters\u001b[39m(proclist):\n\u001b[0;32m--> 599\u001b[0m     \u001b[38;5;28;01mreturn\u001b[39;00m \u001b[43mget_process_data\u001b[49m\u001b[43m(\u001b[49m\u001b[43mproclist\u001b[49m\u001b[43m,\u001b[49m\u001b[43m \u001b[49m\u001b[38;5;124;43m'\u001b[39;49m\u001b[38;5;124;43mio_counters\u001b[39;49m\u001b[38;5;124;43m'\u001b[39;49m\u001b[43m)\u001b[49m\n",
      "File \u001b[0;32m~/scripts/svadmin_tools/svadmin/python/utils.py:587\u001b[0m, in \u001b[0;36mget_process_data\u001b[0;34m(proclist, methodname)\u001b[0m\n\u001b[1;32m    585\u001b[0m \u001b[38;5;28;01mfor\u001b[39;00m x \u001b[38;5;129;01min\u001b[39;00m proclist:\n\u001b[1;32m    586\u001b[0m     \u001b[38;5;28;01mtry\u001b[39;00m:\n\u001b[0;32m--> 587\u001b[0m         item \u001b[38;5;241m=\u001b[39m \u001b[38;5;28;43mgetattr\u001b[39;49m\u001b[43m(\u001b[49m\u001b[43mx\u001b[49m\u001b[43m,\u001b[49m\u001b[43m \u001b[49m\u001b[43mmethodname\u001b[49m\u001b[43m)\u001b[49m\u001b[43m(\u001b[49m\u001b[43m)\u001b[49m\n\u001b[1;32m    588\u001b[0m     \u001b[38;5;28;01mexcept\u001b[39;00m psutil\u001b[38;5;241m.\u001b[39mNoSuchProcess:\n\u001b[1;32m    589\u001b[0m         item \u001b[38;5;241m=\u001b[39m \u001b[38;5;28;01mNone\u001b[39;00m\n",
      "File \u001b[0;32m~/tools/miniconda/221104/miniconda3/envs/genome_v7/lib/python3.10/site-packages/psutil/__init__.py:767\u001b[0m, in \u001b[0;36mProcess.io_counters\u001b[0;34m(self)\u001b[0m\n\u001b[1;32m    760\u001b[0m \u001b[38;5;28;01mdef\u001b[39;00m \u001b[38;5;21mio_counters\u001b[39m(\u001b[38;5;28mself\u001b[39m):\n\u001b[1;32m    761\u001b[0m     \u001b[38;5;124;03m\"\"\"Return process I/O statistics as a\u001b[39;00m\n\u001b[1;32m    762\u001b[0m \u001b[38;5;124;03m    (read_count, write_count, read_bytes, write_bytes)\u001b[39;00m\n\u001b[1;32m    763\u001b[0m \u001b[38;5;124;03m    namedtuple.\u001b[39;00m\n\u001b[1;32m    764\u001b[0m \u001b[38;5;124;03m    Those are the number of read/write calls performed and the\u001b[39;00m\n\u001b[1;32m    765\u001b[0m \u001b[38;5;124;03m    amount of bytes read and written by the process.\u001b[39;00m\n\u001b[1;32m    766\u001b[0m \u001b[38;5;124;03m    \"\"\"\u001b[39;00m\n\u001b[0;32m--> 767\u001b[0m     \u001b[38;5;28;01mreturn\u001b[39;00m \u001b[38;5;28;43mself\u001b[39;49m\u001b[38;5;241;43m.\u001b[39;49m\u001b[43m_proc\u001b[49m\u001b[38;5;241;43m.\u001b[39;49m\u001b[43mio_counters\u001b[49m\u001b[43m(\u001b[49m\u001b[43m)\u001b[49m\n",
      "File \u001b[0;32m~/tools/miniconda/221104/miniconda3/envs/genome_v7/lib/python3.10/site-packages/psutil/_pslinux.py:1647\u001b[0m, in \u001b[0;36mwrap_exceptions.<locals>.wrapper\u001b[0;34m(self, *args, **kwargs)\u001b[0m\n\u001b[1;32m   1645\u001b[0m     \u001b[38;5;28;01mreturn\u001b[39;00m fun(\u001b[38;5;28mself\u001b[39m, \u001b[38;5;241m*\u001b[39margs, \u001b[38;5;241m*\u001b[39m\u001b[38;5;241m*\u001b[39mkwargs)\n\u001b[1;32m   1646\u001b[0m \u001b[38;5;28;01mexcept\u001b[39;00m \u001b[38;5;167;01mPermissionError\u001b[39;00m:\n\u001b[0;32m-> 1647\u001b[0m     \u001b[38;5;28;01mraise\u001b[39;00m AccessDenied(\u001b[38;5;28mself\u001b[39m\u001b[38;5;241m.\u001b[39mpid, \u001b[38;5;28mself\u001b[39m\u001b[38;5;241m.\u001b[39m_name)\n\u001b[1;32m   1648\u001b[0m \u001b[38;5;28;01mexcept\u001b[39;00m \u001b[38;5;167;01mProcessLookupError\u001b[39;00m:\n\u001b[1;32m   1649\u001b[0m     \u001b[38;5;28;01mraise\u001b[39;00m NoSuchProcess(\u001b[38;5;28mself\u001b[39m\u001b[38;5;241m.\u001b[39mpid, \u001b[38;5;28mself\u001b[39m\u001b[38;5;241m.\u001b[39m_name)\n",
      "\u001b[0;31mAccessDenied\u001b[0m: (pid=1)"
     ]
    }
   ],
   "source": [
    "snapshot = utils.get_byuser_snapshot(interval=3)"
   ]
  }
 ],
 "metadata": {
  "kernelspec": {
   "display_name": "genome_v7",
   "language": "python",
   "name": "genome_v7"
  },
  "language_info": {
   "codemirror_mode": {
    "name": "ipython",
    "version": 3
   },
   "file_extension": ".py",
   "mimetype": "text/x-python",
   "name": "python",
   "nbconvert_exporter": "python",
   "pygments_lexer": "ipython3",
   "version": "3.10.6"
  }
 },
 "nbformat": 4,
 "nbformat_minor": 5
}
