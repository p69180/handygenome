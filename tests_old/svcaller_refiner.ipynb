{
 "cells": [
  {
   "cell_type": "markdown",
   "metadata": {},
   "source": [
    "# Package initiation"
   ]
  },
  {
   "cell_type": "code",
   "execution_count": 1,
   "metadata": {
    "tags": []
   },
   "outputs": [],
   "source": [
    "%load_ext autoreload\n",
    "%autoreload 2\n",
    "\n",
    "import os\n",
    "\n",
    "# https://stackoverflow.com/questions/30791550/limit-number-of-threads-in-numpy\n",
    "os.environ[\"OMP_NUM_THREADS\"] = \"1\" # export OMP_NUM_THREADS=4\n",
    "os.environ[\"OPENBLAS_NUM_THREADS\"] = \"1\" # export OPENBLAS_NUM_THREADS=4 \n",
    "os.environ[\"MKL_NUM_THREADS\"] = \"1\" # export MKL_NUM_THREADS=6\n",
    "os.environ[\"VECLIB_MAXIMUM_THREADS\"] = \"1\" # export VECLIB_MAXIMUM_THREADS=4\n",
    "os.environ[\"NUMEXPR_NUM_THREADS\"] = \"1\" # export NUMEXPR_NUM_THREADS=6\n",
    "\n",
    "import re\n",
    "import shutil\n",
    "import random\n",
    "import pprint\n",
    "import itertools\n",
    "import functools\n",
    "import collections\n",
    "\n",
    "import pysam\n",
    "# import pyranges as pr\n",
    "import numpy as np\n",
    "import Bio.Align\n",
    "import Bio.Align.AlignInfo\n",
    "import Bio.SeqRecord\n",
    "# import matplotlib as mpl\n",
    "# import matplotlib.pyplot as plt\n",
    "# import seaborn as sns\n",
    "# import pandas as pd\n",
    "# import scipy.stats\n",
    "# import sklearn.cluster\n",
    "# import sklearn.mixture\n",
    "\n",
    "import sys\n",
    "sys.path.append('/home/users/pjh/scripts/python_genome_package_dev')"
   ]
  },
  {
   "cell_type": "code",
   "execution_count": 2,
   "metadata": {
    "tags": []
   },
   "outputs": [],
   "source": [
    "from handygenome import common\n",
    "from handygenome.common import ChromDict, Interval\n",
    "from handygenome.variant.vcfspec import Vcfspec\n",
    "from handygenome.igvhandle import IGVHandle\n",
    "\n",
    "from handygenome.read.readplus import ReadPlusPairList\n",
    "from handygenome.sv.breakends import Breakends\n",
    "from handygenome.variant.variantplus import VariantPlus, VariantPlusList\n",
    "from handygenome.igvhandle import IGVHandle\n",
    "\n",
    "import handygenome.variant.filter as libfilter\n",
    "import handygenome.variant.variantplus as libvp\n",
    "\n",
    "import handygenome.align.alignhandler as alignhandler\n",
    "import handygenome.align.msa as libmsa\n",
    "import handygenome.align.toolwrapper\n",
    "\n",
    "import handygenome.sv.svcall as svcall"
   ]
  },
  {
   "cell_type": "code",
   "execution_count": 3,
   "metadata": {},
   "outputs": [],
   "source": [
    "FASTA_PATH_HG19 = common.DEFAULT_FASTA_PATHS['hg19']\n",
    "FASTA_PATH_HG38 = common.DEFAULT_FASTA_PATHS['hg38']\n",
    "\n",
    "FASTA_HG19 = common.DEFAULT_FASTAS['hg19']\n",
    "FASTA_HG38 = common.DEFAULT_FASTAS['hg38']\n",
    "CHROMDICT_HG19 = common.DEFAULT_CHROMDICTS['hg19']\n",
    "CHROMDICT_HG38 = common.DEFAULT_CHROMDICTS['hg38']"
   ]
  },
  {
   "cell_type": "code",
   "execution_count": 4,
   "metadata": {},
   "outputs": [],
   "source": [
    "igv = IGVHandle(60387)"
   ]
  },
  {
   "cell_type": "markdown",
   "metadata": {},
   "source": [
    "# Set Functions"
   ]
  },
  {
   "cell_type": "code",
   "execution_count": 5,
   "metadata": {},
   "outputs": [],
   "source": [
    "def get_softclip_collection(bam, chrom, start, end):\n",
    "    result = dict()\n",
    "    for read in bam.fetch(chrom, start, end):\n",
    "        for clipspec in handygenome.readplus.readhandler.get_softclip_specs(read):\n",
    "            key = (clipspec.start1, clipspec.is_forward)\n",
    "            result.setdefault(key, list())\n",
    "            result[key].append(clipspec)\n",
    "            \n",
    "    return result"
   ]
  },
  {
   "cell_type": "code",
   "execution_count": 6,
   "metadata": {},
   "outputs": [],
   "source": [
    "def check_identical(seqlist):\n",
    "    seqlist_sorted = sorted(seqlist, key=(lambda x: len(x)))\n",
    "    for idx in range(1, len(seqlist_sorted)):\n",
    "        seq1 = seqlist_sorted[idx - 1]\n",
    "        seq2 = seqlist_sorted[idx]\n",
    "        if seq2[:len(seq1)] == seq1:\n",
    "            continue\n",
    "        else:\n",
    "            return False\n",
    "    return True\n",
    "        "
   ]
  },
  {
   "cell_type": "markdown",
   "metadata": {},
   "source": [
    "# Scratches"
   ]
  },
  {
   "cell_type": "code",
   "execution_count": 7,
   "metadata": {},
   "outputs": [],
   "source": [
    "bam_path = '/home/users/team_projects/Lung_Cancer_Panel_data/03_Data_from_YTKim/02_BAM/FF18/LU-FF18.normal.bam'\n",
    "bam = pysam.AlignmentFile(bam_path)"
   ]
  },
  {
   "cell_type": "code",
   "execution_count": 8,
   "metadata": {},
   "outputs": [],
   "source": [
    "target_chrom = '5'\n",
    "target_pos0 = 21_573_431\n",
    "\n",
    "target_start0 = target_pos0\n",
    "target_end0 = target_start0 + 1"
   ]
  },
  {
   "cell_type": "code",
   "execution_count": 9,
   "metadata": {},
   "outputs": [],
   "source": [
    "rpplist = ReadPlusPairList.from_bam(bam, target_chrom, target_pos0, target_pos0 + 1)"
   ]
  },
  {
   "cell_type": "code",
   "execution_count": null,
   "metadata": {},
   "outputs": [],
   "source": []
  },
  {
   "cell_type": "code",
   "execution_count": 15,
   "metadata": {},
   "outputs": [],
   "source": [
    "SA_region_info, consensus_result = svcall.call_breakends(bam, target_chrom, target_start0, target_end0, 'hg19')"
   ]
  },
  {
   "cell_type": "code",
   "execution_count": 16,
   "metadata": {},
   "outputs": [
    {
     "name": "stdout",
     "output_type": "stream",
     "text": [
      "{('5', 21573312, False, 'TATACACGA'): {'confident': [], 'unconfident': []},\n",
      " ('5', 21573318, True, 'TATAT'): {'confident': [], 'unconfident': []},\n",
      " ('5', 21573342, False, 'AGA'): {'confident': [],\n",
      "                                 'unconfident': [{'chrom': '6',\n",
      "                                                  'end0': 57575975,\n",
      "                                                  'is_reversed': True,\n",
      "                                                  'start0': 57575807}]},\n",
      " ('5', 21573431, True, 'TTTTTGAAACTGGCTGTCTAATCTCACCCTTCAAATCCCTACCCCATTTCCAATCTCCAACTGGCCCTCCTC'): {'confident': [{'chrom': '6',\n",
      "                                                                                                                    'end0': 57575988,\n",
      "                                                                                                                    'is_reversed': True,\n",
      "                                                                                                                    'start0': 57575781}],\n",
      "                                                                                                     'unconfident': []}}\n"
     ]
    }
   ],
   "source": [
    "pprint.pprint(SA_region_info)"
   ]
  },
  {
   "cell_type": "code",
   "execution_count": 17,
   "metadata": {},
   "outputs": [
    {
     "name": "stdout",
     "output_type": "stream",
     "text": [
      "{('5', 21573312, False): [{'consensus': 'AGCACATAT',\n",
      "                           'msa': <<class 'Bio.Align.MultipleSeqAlignment'> instance (1 records of length 9) at 2b69f1f40b20>,\n",
      "                           'target': 'AGCACATAT',\n",
      "                           'true_consensus': 'TATACACGA'}],\n",
      " ('5', 21573318, True): [{'consensus': 'TATAT',\n",
      "                          'msa': <<class 'Bio.Align.MultipleSeqAlignment'> instance (1 records of length 5) at 2b69f1f40e50>,\n",
      "                          'target': 'TATAT',\n",
      "                          'true_consensus': 'TATAT'}],\n",
      " ('5', 21573342, False): [{'consensus': 'AGA',\n",
      "                           'msa': <<class 'Bio.Align.MultipleSeqAlignment'> instance (2 records of length 3) at 2b69f1f409a0>,\n",
      "                           'target': 'AGA',\n",
      "                           'true_consensus': 'AGA'}],\n",
      " ('5', 21573431, True): [{'consensus': 'TTTTTGAAACTGGCTGTCTAATCTCACCCTTCAAATCCCTACCCCATTTCCAATCTCCAACTGGCCCTCCTC',\n",
      "                          'msa': <<class 'Bio.Align.MultipleSeqAlignment'> instance (12 records of length 72) at 2b69f1f41060>,\n",
      "                          'target': 'TTTTTTAAACTGGCTGTCTAATCTCACCCTTCAAATCCCTACCCCATTTCCAATCTCCAACTGGCCCTCCTC',\n",
      "                          'true_consensus': 'TTTTTGAAACTGGCTGTCTAATCTCACCCTTCAAATCCCTACCCCATTTCCAATCTCCAACTGGCCCTCCTC'}]}\n"
     ]
    }
   ],
   "source": [
    "pprint.pprint(consensus_result)"
   ]
  },
  {
   "cell_type": "code",
   "execution_count": null,
   "metadata": {},
   "outputs": [],
   "source": []
  },
  {
   "cell_type": "code",
   "execution_count": null,
   "metadata": {},
   "outputs": [],
   "source": []
  },
  {
   "cell_type": "code",
   "execution_count": 631,
   "metadata": {},
   "outputs": [],
   "source": [
    "target = 'ACCTTGCGA'\n",
    "query = 'CCTGCG'"
   ]
  },
  {
   "cell_type": "code",
   "execution_count": 632,
   "metadata": {},
   "outputs": [],
   "source": [
    "alns = aligner.align(target, query)"
   ]
  },
  {
   "cell_type": "code",
   "execution_count": 641,
   "metadata": {},
   "outputs": [
    {
     "name": "stdout",
     "output_type": "stream",
     "text": [
      "target            0 ACCTTGCGA 9\n",
      "                  0 -||-||||- 9\n",
      "query             0 -CC-TGCG- 6\n",
      "\n",
      "15.0\n",
      "\n",
      "target            0 ACCTTGCGA 9\n",
      "                  0 -|||-|||- 9\n",
      "query             0 -CCT-GCG- 6\n",
      "\n",
      "15.0\n",
      "\n"
     ]
    }
   ],
   "source": [
    "for x in alns:\n",
    "    print(x)\n",
    "    print(x.score)\n",
    "    print()"
   ]
  },
  {
   "cell_type": "code",
   "execution_count": null,
   "metadata": {},
   "outputs": [],
   "source": []
  },
  {
   "cell_type": "code",
   "execution_count": null,
   "metadata": {},
   "outputs": [],
   "source": []
  },
  {
   "cell_type": "code",
   "execution_count": 523,
   "metadata": {},
   "outputs": [],
   "source": [
    "rp_dict = dict()\n",
    "clipspec_dict = dict()\n",
    "for rp, clipspec in rpplist.iter_clipspecs():\n",
    "    rp_dict[rp.uid] = rp\n",
    "    clipspec_dict[rp.uid] = clipspec\n",
    "    "
   ]
  },
  {
   "cell_type": "code",
   "execution_count": null,
   "metadata": {},
   "outputs": [],
   "source": []
  },
  {
   "cell_type": "code",
   "execution_count": 536,
   "metadata": {},
   "outputs": [
    {
     "name": "stdout",
     "output_type": "stream",
     "text": [
      "[(0, 4), (2, 2), (0, 90), (4, 57)]\n",
      "{'chrom': '6', 'pos': 57575866, 'is_forward': True, 'MQ': 60, 'NM': 0, 'cigarstring': '54M97S', 'cigartuples': [(0, 54), (4, 97)]}\n",
      "\n",
      "[(0, 18), (2, 2), (0, 90), (4, 43)]\n",
      "{'chrom': '6', 'pos': 57575880, 'is_forward': False, 'MQ': 60, 'NM': 0, 'cigarstring': '40M111S', 'cigartuples': [(0, 40), (4, 111)]}\n",
      "\n",
      "[(0, 13), (2, 2), (0, 90), (4, 48)]\n",
      "{'chrom': '6', 'pos': 57575875, 'is_forward': False, 'MQ': 60, 'NM': 0, 'cigarstring': '45M106S', 'cigartuples': [(0, 45), (4, 106)]}\n",
      "\n",
      "[(0, 7), (2, 2), (0, 90), (4, 54)]\n",
      "{'chrom': '6', 'pos': 57575869, 'is_forward': False, 'MQ': 60, 'NM': 0, 'cigarstring': '51M100S', 'cigartuples': [(0, 51), (4, 100)]}\n",
      "\n",
      "[(4, 2), (0, 90), (4, 59)]\n",
      "{'chrom': '6', 'pos': 57575864, 'is_forward': False, 'MQ': 60, 'NM': 0, 'cigarstring': '56M95S', 'cigartuples': [(0, 56), (4, 95)]}\n",
      "\n",
      "[(4, 3), (0, 90), (4, 58)]\n",
      "{'chrom': '6', 'pos': 57575865, 'is_forward': False, 'MQ': 60, 'NM': 0, 'cigarstring': '55M96S', 'cigartuples': [(0, 55), (4, 96)]}\n",
      "\n",
      "[(0, 79), (4, 72)]\n",
      "{'chrom': '6', 'pos': 57575851, 'is_forward': False, 'MQ': 60, 'NM': 1, 'cigarstring': '66M85S', 'cigartuples': [(0, 66), (4, 85)]}\n",
      "\n"
     ]
    }
   ],
   "source": [
    "for ruid, rp in rp_dict.items():\n",
    "    if rp.SAinfo:\n",
    "        print(rp.read.cigartuples)\n",
    "        for x in rp.SAinfo:\n",
    "            print(x)\n",
    "        print()"
   ]
  },
  {
   "cell_type": "code",
   "execution_count": null,
   "metadata": {},
   "outputs": [],
   "source": []
  },
  {
   "cell_type": "code",
   "execution_count": 588,
   "metadata": {},
   "outputs": [],
   "source": [
    "import pyranges as pr\n",
    "gr1 = pr.PyRanges(chromosomes=['1'], starts=[10], ends=[20])\n",
    "gr2 = pr.PyRanges(chromosomes=['1', '2'], starts=[15, 0], ends=[25, 11])"
   ]
  },
  {
   "cell_type": "code",
   "execution_count": 589,
   "metadata": {},
   "outputs": [
    {
     "data": {
      "text/html": [
       "<div>\n",
       "<style scoped>\n",
       "    .dataframe tbody tr th:only-of-type {\n",
       "        vertical-align: middle;\n",
       "    }\n",
       "\n",
       "    .dataframe tbody tr th {\n",
       "        vertical-align: top;\n",
       "    }\n",
       "\n",
       "    .dataframe thead th {\n",
       "        text-align: right;\n",
       "    }\n",
       "</style>\n",
       "<table border=\"1\" class=\"dataframe\">\n",
       "  <thead>\n",
       "    <tr style=\"text-align: right;\">\n",
       "      <th></th>\n",
       "      <th>Chromosome</th>\n",
       "      <th>Start</th>\n",
       "      <th>End</th>\n",
       "    </tr>\n",
       "  </thead>\n",
       "  <tbody>\n",
       "    <tr>\n",
       "      <th>0</th>\n",
       "      <td>1</td>\n",
       "      <td>10</td>\n",
       "      <td>20</td>\n",
       "    </tr>\n",
       "  </tbody>\n",
       "</table>\n",
       "</div>"
      ],
      "text/plain": [
       "+--------------+-----------+-----------+\n",
       "|   Chromosome |     Start |       End |\n",
       "|   (category) |   (int32) |   (int32) |\n",
       "|--------------+-----------+-----------|\n",
       "|            1 |        10 |        20 |\n",
       "+--------------+-----------+-----------+\n",
       "Unstranded PyRanges object has 1 rows and 3 columns from 1 chromosomes.\n",
       "For printing, the PyRanges was sorted on Chromosome."
      ]
     },
     "execution_count": 589,
     "metadata": {},
     "output_type": "execute_result"
    }
   ],
   "source": [
    "gr1"
   ]
  },
  {
   "cell_type": "code",
   "execution_count": 590,
   "metadata": {},
   "outputs": [
    {
     "data": {
      "text/html": [
       "<div>\n",
       "<style scoped>\n",
       "    .dataframe tbody tr th:only-of-type {\n",
       "        vertical-align: middle;\n",
       "    }\n",
       "\n",
       "    .dataframe tbody tr th {\n",
       "        vertical-align: top;\n",
       "    }\n",
       "\n",
       "    .dataframe thead th {\n",
       "        text-align: right;\n",
       "    }\n",
       "</style>\n",
       "<table border=\"1\" class=\"dataframe\">\n",
       "  <thead>\n",
       "    <tr style=\"text-align: right;\">\n",
       "      <th></th>\n",
       "      <th>Chromosome</th>\n",
       "      <th>Start</th>\n",
       "      <th>End</th>\n",
       "    </tr>\n",
       "  </thead>\n",
       "  <tbody>\n",
       "    <tr>\n",
       "      <th>0</th>\n",
       "      <td>1</td>\n",
       "      <td>15</td>\n",
       "      <td>25</td>\n",
       "    </tr>\n",
       "    <tr>\n",
       "      <th>1</th>\n",
       "      <td>2</td>\n",
       "      <td>0</td>\n",
       "      <td>11</td>\n",
       "    </tr>\n",
       "  </tbody>\n",
       "</table>\n",
       "</div>"
      ],
      "text/plain": [
       "+--------------+-----------+-----------+\n",
       "|   Chromosome |     Start |       End |\n",
       "|   (category) |   (int32) |   (int32) |\n",
       "|--------------+-----------+-----------|\n",
       "|            1 |        15 |        25 |\n",
       "|            2 |         0 |        11 |\n",
       "+--------------+-----------+-----------+\n",
       "Unstranded PyRanges object has 2 rows and 3 columns from 2 chromosomes.\n",
       "For printing, the PyRanges was sorted on Chromosome."
      ]
     },
     "execution_count": 590,
     "metadata": {},
     "output_type": "execute_result"
    }
   ],
   "source": [
    "gr2"
   ]
  },
  {
   "cell_type": "code",
   "execution_count": 591,
   "metadata": {},
   "outputs": [
    {
     "data": {
      "text/html": [
       "<div>\n",
       "<style scoped>\n",
       "    .dataframe tbody tr th:only-of-type {\n",
       "        vertical-align: middle;\n",
       "    }\n",
       "\n",
       "    .dataframe tbody tr th {\n",
       "        vertical-align: top;\n",
       "    }\n",
       "\n",
       "    .dataframe thead th {\n",
       "        text-align: right;\n",
       "    }\n",
       "</style>\n",
       "<table border=\"1\" class=\"dataframe\">\n",
       "  <thead>\n",
       "    <tr style=\"text-align: right;\">\n",
       "      <th></th>\n",
       "      <th>Chromosome</th>\n",
       "      <th>Start</th>\n",
       "      <th>End</th>\n",
       "      <th>Start_b</th>\n",
       "      <th>End_b</th>\n",
       "      <th>Overlap</th>\n",
       "    </tr>\n",
       "  </thead>\n",
       "  <tbody>\n",
       "    <tr>\n",
       "      <th>0</th>\n",
       "      <td>1</td>\n",
       "      <td>10</td>\n",
       "      <td>20</td>\n",
       "      <td>15</td>\n",
       "      <td>25</td>\n",
       "      <td>5</td>\n",
       "    </tr>\n",
       "  </tbody>\n",
       "</table>\n",
       "</div>"
      ],
      "text/plain": [
       "+--------------+-----------+-----------+-----------+-----------+-----------+\n",
       "|   Chromosome |     Start |       End |   Start_b |     End_b |   Overlap |\n",
       "|   (category) |   (int32) |   (int32) |   (int32) |   (int32) |   (int32) |\n",
       "|--------------+-----------+-----------+-----------+-----------+-----------|\n",
       "|            1 |        10 |        20 |        15 |        25 |         5 |\n",
       "+--------------+-----------+-----------+-----------+-----------+-----------+\n",
       "Unstranded PyRanges object has 1 rows and 6 columns from 1 chromosomes.\n",
       "For printing, the PyRanges was sorted on Chromosome."
      ]
     },
     "execution_count": 591,
     "metadata": {},
     "output_type": "execute_result"
    }
   ],
   "source": [
    "gr1.join(gr2, report_overlap=True)"
   ]
  },
  {
   "cell_type": "code",
   "execution_count": null,
   "metadata": {},
   "outputs": [],
   "source": []
  },
  {
   "cell_type": "code",
   "execution_count": null,
   "metadata": {},
   "outputs": [],
   "source": []
  },
  {
   "cell_type": "code",
   "execution_count": null,
   "metadata": {},
   "outputs": [],
   "source": []
  },
  {
   "cell_type": "code",
   "execution_count": 501,
   "metadata": {},
   "outputs": [],
   "source": [
    "clipspec_list = [x[1] for x in clipspec_info]\n",
    "rp_list = [x[0] for x in clipspec_info]"
   ]
  },
  {
   "cell_type": "code",
   "execution_count": 524,
   "metadata": {},
   "outputs": [],
   "source": [
    "msa = result[('5', 21573431, True)][0]['msa']"
   ]
  },
  {
   "cell_type": "code",
   "execution_count": 529,
   "metadata": {},
   "outputs": [],
   "source": [
    "ruids = [x.annotations['clipspec'].readuid for x in msa]"
   ]
  },
  {
   "cell_type": "code",
   "execution_count": 531,
   "metadata": {},
   "outputs": [],
   "source": [
    "relevant_rps = [rp_dict[x] for x in ruids]"
   ]
  },
  {
   "cell_type": "code",
   "execution_count": 533,
   "metadata": {},
   "outputs": [],
   "source": [
    "SAinfo = list(itertools.chain.from_iterable(rp.SAinfo for rp in relevant_rps))"
   ]
  },
  {
   "cell_type": "code",
   "execution_count": null,
   "metadata": {},
   "outputs": [],
   "source": [
    "rngs = [range(x['pos'] - 1, x['pos'] )]"
   ]
  },
  {
   "cell_type": "code",
   "execution_count": null,
   "metadata": {},
   "outputs": [],
   "source": []
  },
  {
   "cell_type": "code",
   "execution_count": null,
   "metadata": {},
   "outputs": [],
   "source": [
    "for ruid, rp in rp_list"
   ]
  },
  {
   "cell_type": "code",
   "execution_count": null,
   "metadata": {},
   "outputs": [],
   "source": []
  },
  {
   "cell_type": "code",
   "execution_count": 534,
   "metadata": {
    "scrolled": true,
    "tags": []
   },
   "outputs": [
    {
     "data": {
      "text/plain": [
       "[{'chrom': '6',\n",
       "  'pos': 57575851,\n",
       "  'is_forward': False,\n",
       "  'MQ': 60,\n",
       "  'NM': 1,\n",
       "  'cigarstring': '66M85S',\n",
       "  'cigartuples': [(0, 66), (4, 85)]},\n",
       " {'chrom': '6',\n",
       "  'pos': 57575864,\n",
       "  'is_forward': False,\n",
       "  'MQ': 60,\n",
       "  'NM': 0,\n",
       "  'cigarstring': '56M95S',\n",
       "  'cigartuples': [(0, 56), (4, 95)]},\n",
       " {'chrom': '6',\n",
       "  'pos': 57575865,\n",
       "  'is_forward': False,\n",
       "  'MQ': 60,\n",
       "  'NM': 0,\n",
       "  'cigarstring': '55M96S',\n",
       "  'cigartuples': [(0, 55), (4, 96)]},\n",
       " {'chrom': '6',\n",
       "  'pos': 57575866,\n",
       "  'is_forward': True,\n",
       "  'MQ': 60,\n",
       "  'NM': 0,\n",
       "  'cigarstring': '54M97S',\n",
       "  'cigartuples': [(0, 54), (4, 97)]},\n",
       " {'chrom': '6',\n",
       "  'pos': 57575869,\n",
       "  'is_forward': False,\n",
       "  'MQ': 60,\n",
       "  'NM': 0,\n",
       "  'cigarstring': '51M100S',\n",
       "  'cigartuples': [(0, 51), (4, 100)]},\n",
       " {'chrom': '6',\n",
       "  'pos': 57575875,\n",
       "  'is_forward': False,\n",
       "  'MQ': 60,\n",
       "  'NM': 0,\n",
       "  'cigarstring': '45M106S',\n",
       "  'cigartuples': [(0, 45), (4, 106)]},\n",
       " {'chrom': '6',\n",
       "  'pos': 57575880,\n",
       "  'is_forward': False,\n",
       "  'MQ': 60,\n",
       "  'NM': 0,\n",
       "  'cigarstring': '40M111S',\n",
       "  'cigartuples': [(0, 40), (4, 111)]}]"
      ]
     },
     "execution_count": 534,
     "metadata": {},
     "output_type": "execute_result"
    }
   ],
   "source": [
    "SAinfo"
   ]
  },
  {
   "cell_type": "code",
   "execution_count": null,
   "metadata": {},
   "outputs": [],
   "source": []
  },
  {
   "cell_type": "code",
   "execution_count": null,
   "metadata": {},
   "outputs": [],
   "source": []
  },
  {
   "cell_type": "code",
   "execution_count": 511,
   "metadata": {},
   "outputs": [],
   "source": [
    "result = svcall.get_consensus_from_clipspecs(clipspec_list)"
   ]
  },
  {
   "cell_type": "code",
   "execution_count": 512,
   "metadata": {},
   "outputs": [
    {
     "name": "stdout",
     "output_type": "stream",
     "text": [
      "{('5', 21573312, False): [{'consensus': 'AGCACATAT',\n",
      "                           'msa': <<class 'Bio.Align.MultipleSeqAlignment'> instance (1 records of length 9) at 2b20cbf01660>,\n",
      "                           'target': 'AGCACATAT',\n",
      "                           'true_consensus': 'TATACACGA'}],\n",
      " ('5', 21573318, True): [{'consensus': 'TATAT',\n",
      "                          'msa': <<class 'Bio.Align.MultipleSeqAlignment'> instance (1 records of length 5) at 2b20cbf00b20>,\n",
      "                          'target': 'TATAT',\n",
      "                          'true_consensus': 'TATAT'}],\n",
      " ('5', 21573342, False): [{'consensus': 'AGA',\n",
      "                           'msa': <<class 'Bio.Align.MultipleSeqAlignment'> instance (2 records of length 3) at 2b20cbf015a0>,\n",
      "                           'target': 'AGA',\n",
      "                           'true_consensus': 'AGA'}],\n",
      " ('5', 21573431, True): [{'consensus': 'TTTTTGAAACTGGCTGTCTAATCTCACCCTTCAAATCCCTACCCCATTTCCAATCTCCAACTGGCCCTCCTC',\n",
      "                          'msa': <<class 'Bio.Align.MultipleSeqAlignment'> instance (12 records of length 72) at 2b20cc1abd90>,\n",
      "                          'target': 'TTTTTTAAACTGGCTGTCTAATCTCACCCTTCAAATCCCTACCCCATTTCCAATCTCCAACTGGCCCTCCTC',\n",
      "                          'true_consensus': 'TTTTTGAAACTGGCTGTCTAATCTCACCCTTCAAATCCCTACCCCATTTCCAATCTCCAACTGGCCCTCCTC'}]}\n"
     ]
    }
   ],
   "source": [
    "pprint.pprint(result)"
   ]
  },
  {
   "cell_type": "code",
   "execution_count": 522,
   "metadata": {},
   "outputs": [
    {
     "name": "stdout",
     "output_type": "stream",
     "text": [
      "ReadUID(qname='ST-E00181:657:HNYC7CCXY:1:2119:25875:40020', flag=129, chrom='5', pos0=21573353)\n"
     ]
    }
   ],
   "source": [
    "print(result[('5', 21573431, True)][0]['msa'][0].annotations['clipspec'].readuid)"
   ]
  },
  {
   "cell_type": "code",
   "execution_count": 499,
   "metadata": {},
   "outputs": [
    {
     "name": "stdout",
     "output_type": "stream",
     "text": [
      "TTTTTGAAACTGGCTGTCTAATCTCACCCTTCAAATCCCTACCCCATTTCCAATCTCCAACTGGCCCTCCTC\n"
     ]
    }
   ],
   "source": [
    "print(result[('5', 21573431, True)][0]['true_consensus'])"
   ]
  },
  {
   "cell_type": "code",
   "execution_count": null,
   "metadata": {},
   "outputs": [],
   "source": []
  },
  {
   "cell_type": "code",
   "execution_count": 596,
   "metadata": {},
   "outputs": [
    {
     "name": "stdout",
     "output_type": "stream",
     "text": [
      "[ True False False]\n",
      "[False  True False]\n",
      "[False False  True]\n"
     ]
    }
   ],
   "source": [
    "for x in np.eye(3).astype(bool):\n",
    "    print(x)"
   ]
  },
  {
   "cell_type": "code",
   "execution_count": 600,
   "metadata": {},
   "outputs": [
    {
     "data": {
      "text/html": [
       "<div>\n",
       "<style scoped>\n",
       "    .dataframe tbody tr th:only-of-type {\n",
       "        vertical-align: middle;\n",
       "    }\n",
       "\n",
       "    .dataframe tbody tr th {\n",
       "        vertical-align: top;\n",
       "    }\n",
       "\n",
       "    .dataframe thead th {\n",
       "        text-align: right;\n",
       "    }\n",
       "</style>\n",
       "<table border=\"1\" class=\"dataframe\">\n",
       "  <thead>\n",
       "    <tr style=\"text-align: right;\">\n",
       "      <th></th>\n",
       "      <th>Chromosome</th>\n",
       "      <th>Start</th>\n",
       "      <th>End</th>\n",
       "    </tr>\n",
       "  </thead>\n",
       "  <tbody>\n",
       "    <tr>\n",
       "      <th>0</th>\n",
       "      <td>1</td>\n",
       "      <td>0</td>\n",
       "      <td>100</td>\n",
       "    </tr>\n",
       "    <tr>\n",
       "      <th>1</th>\n",
       "      <td>1</td>\n",
       "      <td>10</td>\n",
       "      <td>150</td>\n",
       "    </tr>\n",
       "  </tbody>\n",
       "</table>\n",
       "</div>"
      ],
      "text/plain": [
       "+--------------+-----------+-----------+\n",
       "|   Chromosome |     Start |       End |\n",
       "|   (category) |   (int32) |   (int32) |\n",
       "|--------------+-----------+-----------|\n",
       "|            1 |         0 |       100 |\n",
       "|            1 |        10 |       150 |\n",
       "+--------------+-----------+-----------+\n",
       "Unstranded PyRanges object has 2 rows and 3 columns from 1 chromosomes.\n",
       "For printing, the PyRanges was sorted on Chromosome."
      ]
     },
     "execution_count": 600,
     "metadata": {},
     "output_type": "execute_result"
    }
   ],
   "source": [
    "gr"
   ]
  },
  {
   "cell_type": "code",
   "execution_count": 601,
   "metadata": {},
   "outputs": [
    {
     "data": {
      "text/html": [
       "<div>\n",
       "<style scoped>\n",
       "    .dataframe tbody tr th:only-of-type {\n",
       "        vertical-align: middle;\n",
       "    }\n",
       "\n",
       "    .dataframe tbody tr th {\n",
       "        vertical-align: top;\n",
       "    }\n",
       "\n",
       "    .dataframe thead th {\n",
       "        text-align: right;\n",
       "    }\n",
       "</style>\n",
       "<table border=\"1\" class=\"dataframe\">\n",
       "  <thead>\n",
       "    <tr style=\"text-align: right;\">\n",
       "      <th></th>\n",
       "      <th>Chromosome</th>\n",
       "      <th>Start</th>\n",
       "      <th>End</th>\n",
       "    </tr>\n",
       "  </thead>\n",
       "  <tbody>\n",
       "    <tr>\n",
       "      <th>1</th>\n",
       "      <td>1</td>\n",
       "      <td>10</td>\n",
       "      <td>150</td>\n",
       "    </tr>\n",
       "  </tbody>\n",
       "</table>\n",
       "</div>"
      ],
      "text/plain": [
       "+--------------+-----------+-----------+\n",
       "|   Chromosome |     Start |       End |\n",
       "|   (category) |   (int32) |   (int32) |\n",
       "|--------------+-----------+-----------|\n",
       "|            1 |        10 |       150 |\n",
       "+--------------+-----------+-----------+\n",
       "Unstranded PyRanges object has 1 rows and 3 columns from 1 chromosomes.\n",
       "For printing, the PyRanges was sorted on Chromosome."
      ]
     },
     "execution_count": 601,
     "metadata": {},
     "output_type": "execute_result"
    }
   ],
   "source": [
    "gr[np.eye(2).astype(bool)[1]]"
   ]
  },
  {
   "cell_type": "code",
   "execution_count": null,
   "metadata": {},
   "outputs": [],
   "source": []
  },
  {
   "cell_type": "code",
   "execution_count": null,
   "metadata": {},
   "outputs": [],
   "source": []
  },
  {
   "cell_type": "code",
   "execution_count": 487,
   "metadata": {},
   "outputs": [
    {
     "name": "stdout",
     "output_type": "stream",
     "text": [
      "OK\n"
     ]
    }
   ],
   "source": [
    "igv.load([bam_path])"
   ]
  },
  {
   "cell_type": "code",
   "execution_count": 488,
   "metadata": {},
   "outputs": [
    {
     "name": "stdout",
     "output_type": "stream",
     "text": [
      "OK\n"
     ]
    }
   ],
   "source": [
    "igv.goto([(target_chrom, target_pos0, target_pos0)])"
   ]
  },
  {
   "cell_type": "code",
   "execution_count": null,
   "metadata": {},
   "outputs": [],
   "source": []
  },
  {
   "cell_type": "code",
   "execution_count": null,
   "metadata": {},
   "outputs": [],
   "source": []
  },
  {
   "cell_type": "code",
   "execution_count": null,
   "metadata": {},
   "outputs": [],
   "source": []
  },
  {
   "cell_type": "code",
   "execution_count": null,
   "metadata": {},
   "outputs": [],
   "source": []
  },
  {
   "cell_type": "code",
   "execution_count": null,
   "metadata": {},
   "outputs": [],
   "source": []
  },
  {
   "cell_type": "code",
   "execution_count": null,
   "metadata": {},
   "outputs": [],
   "source": []
  },
  {
   "cell_type": "code",
   "execution_count": null,
   "metadata": {},
   "outputs": [],
   "source": []
  },
  {
   "cell_type": "code",
   "execution_count": 13,
   "metadata": {},
   "outputs": [
    {
     "name": "stderr",
     "output_type": "stream",
     "text": [
      "[M::bwa_idx_load_from_disk] read 0 ALT contigs\n",
      "[M::process] read 1 sequences (150 bp)...\n",
      "[M::mem_process_seqs] Processed 1 reads in 0.002 CPU sec, 0.001 real sec\n",
      "[main] Version: 0.7.17-r1188\n",
      "[main] CMD: /home/users/pjh/scripts/python_genome_packages/utils/bwa mem -Y -M -t 1 -o /home/users/pjh/scripts/tmp64n6z67g/output.sam /home/users/data/01_reference/human_g1k_v37/human_g1k_v37.fasta /home/users/pjh/scripts/tmp64n6z67g/input.fasta\n",
      "[main] Real time: 3.581 sec; CPU: 3.528 sec\n"
     ]
    }
   ],
   "source": [
    "import handygenome.align.bwa\n",
    "seq = 'CAAGGGCAGGTTCACTGTCCTGCACCTTCCACCCTCCTGCTGAGTCAGTCCGCAGCTGTCCCTCCTCCATGATGTGTTTCTATCCAAAGATAACATGCTGACTCCTTTTGTGCTTCTCTATGCTGACCCCTTATAGGGCTCACATCCTCA'\n",
    "readlist = handygenome.align.bwa.run_bwa(seq, 'hg19')"
   ]
  },
  {
   "cell_type": "code",
   "execution_count": 14,
   "metadata": {},
   "outputs": [
    {
     "name": "stdout",
     "output_type": "stream",
     "text": [
      "query\t0\t10\t5202381\t60\t150M\t*\t0\t0\tCAAGGGCAGGTTCACTGTCCTGCACCTTCCACCCTCCTGCTGAGTCAGTCCGCAGCTGTCCCTCCTCCATGATGTGTTTCTATCCAAAGATAACATGCTGACTCCTTTTGTGCTTCTCTATGCTGACCCCTTATAGGGCTCACATCCTCA\t*\tNM:i:0\tMD:Z:150\tAS:i:150\tXS:i:62\n"
     ]
    }
   ],
   "source": [
    "print(readlist[0].to_string())"
   ]
  },
  {
   "cell_type": "code",
   "execution_count": null,
   "metadata": {},
   "outputs": [],
   "source": []
  },
  {
   "cell_type": "markdown",
   "metadata": {},
   "source": [
    "# Examples"
   ]
  },
  {
   "cell_type": "markdown",
   "metadata": {},
   "source": [
    "### Common germline SV(?)"
   ]
  },
  {
   "cell_type": "code",
   "execution_count": null,
   "metadata": {},
   "outputs": [],
   "source": [
    "vcfspec = Vcfspec('7', 158254698, 'G', ('C',), refver='hg19')"
   ]
  },
  {
   "cell_type": "markdown",
   "metadata": {
    "jp-MarkdownHeadingCollapsed": true,
    "tags": []
   },
   "source": [
    "### LU-ALK05 hard-to-resolve complex SV"
   ]
  },
  {
   "cell_type": "code",
   "execution_count": 52,
   "metadata": {},
   "outputs": [],
   "source": [
    "tbam_path = '/home/users/hspark/Projects/11_fusion_samples/bam/wgs_smc/LU-ALK05-T.s.md.ir.br.bam'\n",
    "nbam_path = '/home/users/hspark/Projects/11_fusion_samples/bam/wgs_smc/LU-ALK05-N.s.md.ir.br.bam'\n",
    "svaba_vcf_path = '/home/users/hspark/Projects/11_fusion_samples/sv/svaba/LU-ALK05.svaba.unfiltered.somatic.sv.vcf'\n",
    "\n",
    "tbam = pysam.AlignmentFile(tbam_path)\n",
    "nbam = pysam.AlignmentFile(nbam_path)\n",
    "svaba_vcf = pysam.VariantFile(svaba_vcf_path)"
   ]
  },
  {
   "cell_type": "code",
   "execution_count": 37,
   "metadata": {},
   "outputs": [
    {
     "name": "stdout",
     "output_type": "stream",
     "text": [
      "OK\n",
      "OK\n",
      "OK\n"
     ]
    }
   ],
   "source": [
    "igv.cmd('new')\n",
    "igv.load([tbam_path, nbam_path])"
   ]
  },
  {
   "cell_type": "code",
   "execution_count": 38,
   "metadata": {},
   "outputs": [],
   "source": [
    "bnds1 = Breakends('3', 107_594_794, True, '3', 168_666_451, False, FASTA_HG19)\n",
    "bnds2 = Breakends('3', 107_594_834, False, '3', 107_598_244, False, FASTA_HG19)\n",
    "bnds3 = Breakends('3', 107_598_191, True, '3', 174_990_270, False, FASTA_HG19)"
   ]
  },
  {
   "cell_type": "code",
   "execution_count": 53,
   "metadata": {},
   "outputs": [],
   "source": [
    "distance = 10\n",
    "relevant_vrs = list()\n",
    "poslist = [bnds1.pos_bnd1, bnds1.pos_bnd2, bnds2.pos_bnd1, bnds2.pos_bnd2, bnds3.pos_bnd1, bnds3.pos_bnd2]\n",
    "for vr in svaba_vcf.fetch():\n",
    "    bnds_vr = get_bnds_from_vr(vr, FASTA_HG19, CHROMDICT_HG19)\n",
    "    if (\n",
    "            bnds_vr.chrom_bnd1 == '3' and\n",
    "            bnds_vr.chrom_bnd2 == '3' and\n",
    "            (any(bnds_vr.pos_bnd1 in range(bndpos - distance, bndpos + distance) for bndpos in poslist) or\n",
    "             any(bnds_vr.pos_bnd2 in range(bndpos - distance, bndpos + distance) for bndpos in poslist))):\n",
    "        relevant_vrs.append(vr)"
   ]
  },
  {
   "cell_type": "code",
   "execution_count": 40,
   "metadata": {},
   "outputs": [
    {
     "name": "stdout",
     "output_type": "stream",
     "text": [
      "3\t107594794\t1006650674:1\tA\t]3:168666451]A\t0\tLOWAS\tDISC_MAPQ=255;EVDNC=TSI_L;HOMSEQ=A;MAPQ=60;MATEID=1006650674:2;MATENM=0;NM=0;NUMPARTS=4;REPSEQ=TATCTATC;SCTG=c_3_107579501_107604501_34C;SPAN=61071657;SVTYPE=BND\tGT:AD:DP:GQ:PL:SR:DR:LR:LO\t0/0:0:15:4.1:0,4.1,27.9:0:0:4.216:0\t0/1:16:114:0.4:0.4,0,148.1:16:0:0.04474:12.75\n",
      "\n",
      "3\t107594833\t100183109:1\tT\tT]3:107598243]\t15\tLOWAS\tDISC_MAPQ=255;EVDNC=TSI_L;HOMSEQ=A;MAPQ=60;MATEID=100183109:2;MATENM=0;NM=0;NUMPARTS=4;REPSEQ=CC;SCTG=c_3_107579501_107604501_34C;SPAN=3410;SVTYPE=BND\tGT:AD:DP:GQ:PL:SR:DR:LR:LO\t0/0:0:38:10.5:0,10.5,115.5:0:0:10.68:0\t0/1:20:181:15.1:15.1,0,440.9:20:0:-15.14:39.36\n",
      "\n",
      "3\t107598190\t148116658:1\tA\t]3:174990215]A\t0\tLOWMAPQDISC\tDISC_MAPQ=60;EVDNC=DSCRD;IMPRECISE;MAPQ=60;MATEID=148116658:2;MATENM=-1;NM=-1;NUMPARTS=0;SCTG=3:107598190(-)-3:174990215(+)__3_107579501_107604501D;SPAN=67392025;SVTYPE=BND\tGT:AD:DP:GQ:PL:SR:DR:LR:LO\t0/0:0:21:5.7:0,5.7,62.7:0:0:5.903:0\t0/0:4:72:6.9:0,6.9,194.7:0:4:7.035:6.63\n",
      "\n",
      "3\t107598243\t100183109:2\tA\tA]3:107594833]\t15\tLOWAS\tDISC_MAPQ=255;EVDNC=TSI_L;HOMSEQ=A;MAPQ=60;MATEID=100183109:1;MATENM=0;NM=0;NUMPARTS=4;REPSEQ=CC;SCTG=c_3_107579501_107604501_34C;SPAN=3410;SVTYPE=BND\tGT:AD:DP:GQ:PL:SR:DR:LR:LO\t0/0:0:38:10.5:0,10.5,115.5:0:0:10.68:0\t0/1:20:181:15.1:15.1,0,440.9:20:0:-15.14:39.36\n",
      "\n",
      "3\t168666451\t1006650674:2\tA\tA[3:107594794[\t0\tLOWAS\tDISC_MAPQ=255;EVDNC=TSI_L;HOMSEQ=A;MAPQ=60;MATEID=1006650674:1;MATENM=0;NM=0;NUMPARTS=4;REPSEQ=TATCTATC;SCTG=c_3_107579501_107604501_34C;SPAN=61071657;SVTYPE=BND\tGT:AD:DP:GQ:PL:SR:DR:LR:LO\t0/0:0:15:4.1:0,4.1,27.9:0:0:4.216:0\t0/1:16:114:0.4:0.4,0,148.1:16:0:0.04474:12.75\n",
      "\n",
      "3\t168666451\t1032786118:1\tA\tA]3:174990270]\t61\tLOWAS\tDISC_MAPQ=255;EVDNC=TSI_G;HOMSEQ=T;INSERTION=CAACAACAACTAACATTAATGTCACTGAGTGCTAGGCACACTGTTCATGAGGAACATAAACTCTTTGTTTCAATTGGTGTGTGAGATAGATA;MAPQ=60;MATEID=1032786118:2;MATENM=0;NM=0;NUMPARTS=4;SCTG=c_3_168658001_168683001_58C;SPAN=6323819;SVTYPE=BND\tGT:AD:DP:GQ:PL:SR:DR:LR:LO\t0/0:0:18:4.8:0,4.8,52.8:0:0:5.06:0\t0/1:24:65:61.1:61.1,0,100.7:24:0:-60.95:61.54\n",
      "\n",
      "3\t174990215\t148116658:2\tC\tC[3:107598190[\t0\tLOWMAPQDISC\tDISC_MAPQ=60;EVDNC=DSCRD;IMPRECISE;MAPQ=60;MATEID=148116658:1;MATENM=-1;NM=-1;NUMPARTS=0;SCTG=3:107598190(-)-3:174990215(+)__3_107579501_107604501D;SPAN=67392025;SVTYPE=BND\tGT:AD:DP:GQ:PL:SR:DR:LR:LO\t0/0:0:21:5.7:0,5.7,62.7:0:0:5.903:0\t0/0:4:72:6.9:0,6.9,194.7:0:4:7.035:6.63\n",
      "\n",
      "3\t174990270\t1032786118:2\tG\tG]3:168666451]\t61\tLOWAS\tDISC_MAPQ=255;EVDNC=TSI_G;HOMSEQ=T;INSERTION=CAACAACAACTAACATTAATGTCACTGAGTGCTAGGCACACTGTTCATGAGGAACATAAACTCTTTGTTTCAATTGGTGTGTGAGATAGATA;MAPQ=60;MATEID=1032786118:1;MATENM=0;NM=0;NUMPARTS=4;SCTG=c_3_168658001_168683001_58C;SPAN=6323819;SVTYPE=BND\tGT:AD:DP:GQ:PL:SR:DR:LR:LO\t0/0:0:18:4.8:0,4.8,52.8:0:0:5.06:0\t0/1:24:65:61.1:61.1,0,100.7:24:0:-60.95:61.54\n",
      "\n"
     ]
    }
   ],
   "source": [
    "for vr in relevant_vrs:\n",
    "    print(vr)"
   ]
  },
  {
   "cell_type": "code",
   "execution_count": 73,
   "metadata": {},
   "outputs": [
    {
     "name": "stdout",
     "output_type": "stream",
     "text": [
      "OK\n",
      "OK\n",
      "OK\n",
      "OK\n"
     ]
    }
   ],
   "source": [
    "igv.goto([bnds1, bnds2, bnds3])\n",
    "igv.cmd('viewaspairs')\n",
    "igv.cmd('group PAIR_ORIENTATION')\n",
    "igv.cmd('sort base')"
   ]
  },
  {
   "cell_type": "code",
   "execution_count": null,
   "metadata": {},
   "outputs": [],
   "source": []
  },
  {
   "cell_type": "code",
   "execution_count": null,
   "metadata": {},
   "outputs": [],
   "source": []
  },
  {
   "cell_type": "code",
   "execution_count": 74,
   "metadata": {},
   "outputs": [],
   "source": [
    "chrom = '3'\n",
    "pos = 168_666_450\n",
    "start = pos - 1\n",
    "end = pos"
   ]
  },
  {
   "cell_type": "code",
   "execution_count": 75,
   "metadata": {},
   "outputs": [],
   "source": [
    "softclip_col = get_softclip_collection(tbam, chrom, start, end)"
   ]
  },
  {
   "cell_type": "code",
   "execution_count": 76,
   "metadata": {},
   "outputs": [
    {
     "data": {
      "text/plain": [
       "dict_keys([(168666452, True), (168666503, True), (168666583, True), (168666446, False)])"
      ]
     },
     "execution_count": 76,
     "metadata": {},
     "output_type": "execute_result"
    }
   ],
   "source": [
    "softclip_col.keys()"
   ]
  },
  {
   "cell_type": "code",
   "execution_count": 78,
   "metadata": {},
   "outputs": [
    {
     "data": {
      "text/plain": [
       "[Clipspec(start1=168666452, is_forward=True, seq='TATCTATCTC', qual=[34, 34, 33, 33, 34, 32, 29, 28, 29, 28], qname='A01057:8:H3GMYDSXY:2:2302:16613:32925'),\n",
       " Clipspec(start1=168666452, is_forward=True, seq='TATCTATCTCACACA', qual=[33, 33, 33, 26, 34, 34, 34, 33, 34, 25, 32, 28, 23, 27, 28], qname='A01057:8:H3GMYDSXY:2:2469:21630:35196'),\n",
       " Clipspec(start1=168666452, is_forward=True, seq='TATCTATCTCACACACCAATTGAAACAAAGAGTTT', qual=[31, 31, 31, 31, 32, 31, 31, 32, 33, 32, 23, 31, 32, 31, 8, 31, 32, 32, 32, 32, 32, 32, 32, 32, 32, 31, 32, 32, 32, 33, 30, 29, 27, 27, 26], qname='A01057:8:H3GMYDSXY:2:1212:6361:24972'),\n",
       " Clipspec(start1=168666452, is_forward=True, seq='TATCTATCTCACACACCAATTGAAACAAAGAGTTTATG', qual=[31, 31, 31, 32, 31, 31, 31, 32, 31, 31, 31, 31, 31, 31, 31, 30, 31, 30, 31, 31, 31, 31, 31, 31, 31, 31, 31, 31, 32, 31, 32, 30, 31, 31, 29, 29, 29, 29], qname='A01057:8:H3GMYDSXY:2:2466:11713:35462'),\n",
       " Clipspec(start1=168666452, is_forward=True, seq='TATCTATCTCACACACCAATTGAAACAAAGAGTTTATGTT', qual=[32, 32, 32, 32, 33, 32, 32, 32, 33, 32, 32, 31, 33, 32, 33, 32, 33, 33, 33, 33, 33, 33, 33, 33, 33, 32, 33, 33, 33, 34, 34, 35, 33, 33, 33, 32, 29, 28, 28, 28], qname='A01057:8:H3GMYDSXY:2:1353:30996:1125'),\n",
       " Clipspec(start1=168666452, is_forward=True, seq='TATCTATCTCACACACCAATTGAAACAAAGAGTTTATGTTCC', qual=[32, 32, 32, 32, 33, 32, 32, 32, 33, 32, 32, 31, 32, 31, 33, 32, 33, 33, 33, 28, 28, 33, 33, 33, 33, 32, 33, 33, 33, 13, 33, 34, 34, 34, 33, 33, 33, 32, 29, 28, 28, 24], qname='A00155:287:H3HKGDSXY:2:1559:25464:33129'),\n",
       " Clipspec(start1=168666452, is_forward=True, seq='TATCTATCTCACACACCAATTGAAACAAAGAGTTTATGTTCCTCATGAA', qual=[31, 31, 31, 31, 32, 31, 31, 31, 32, 31, 31, 30, 31, 30, 31, 30, 31, 31, 31, 31, 31, 32, 32, 32, 32, 31, 32, 24, 32, 33, 32, 33, 32, 32, 32, 32, 32, 32, 32, 32, 32, 32, 33, 32, 30, 28, 27, 27, 26], qname='A00155:287:H3HKGDSXY:2:1674:5972:27618'),\n",
       " Clipspec(start1=168666452, is_forward=True, seq='TATCTATCTCACACACCAATTGAAACAAAGAGTTTATGTTCCTCATGAACA', qual=[32, 32, 32, 32, 33, 32, 32, 32, 33, 32, 32, 31, 32, 31, 32, 31, 32, 32, 32, 32, 32, 32, 32, 33, 33, 32, 33, 33, 33, 13, 33, 34, 33, 33, 33, 33, 33, 33, 33, 33, 33, 34, 35, 33, 33, 33, 32, 29, 28, 27, 28], qname='A00155:287:H3HKGDSXY:2:1521:26060:21480'),\n",
       " Clipspec(start1=168666452, is_forward=True, seq='TATCTATCTCACACACCAATTGAAACAAAGAGTTTATGTTCCTCATGAACAGTGTGCCTAGCACTC', qual=[31, 32, 32, 26, 33, 31, 32, 31, 33, 32, 32, 31, 32, 31, 32, 31, 32, 32, 32, 32, 32, 32, 32, 32, 32, 31, 32, 32, 32, 27, 32, 33, 28, 32, 32, 32, 32, 32, 33, 33, 33, 24, 34, 33, 33, 33, 33, 33, 33, 32, 33, 34, 33, 33, 33, 33, 34, 34, 34, 33, 34, 32, 29, 27, 29, 28], qname='A01057:8:H3GMYDSXY:2:2157:28754:23109'),\n",
       " Clipspec(start1=168666452, is_forward=True, seq='TATCTATCTCACACACCAATTGAAACAAAGAGTTAATGTTCCTCATGAACAGTGTGCCTAGCACTCAGTGACAT', qual=[31, 31, 31, 31, 32, 31, 31, 31, 32, 32, 32, 31, 32, 30, 32, 30, 32, 32, 32, 32, 32, 32, 32, 32, 32, 31, 32, 32, 32, 33, 32, 33, 32, 32, 8, 32, 32, 32, 32, 32, 32, 32, 33, 32, 32, 32, 33, 33, 33, 32, 33, 34, 33, 33, 33, 33, 33, 33, 34, 33, 34, 33, 33, 32, 35, 34, 33, 34, 33, 32, 29, 27, 28, 28], qname='A01057:8:H3GMYDSXY:2:2156:2654:5400'),\n",
       " Clipspec(start1=168666452, is_forward=True, seq='TATCTATCTCACACACCAATTGAAACAAAGAGTTTATGTTCCTCATGAACAGTGTGCCTAGCACTCAGTGACATTAATGT', qual=[28, 31, 31, 31, 32, 31, 31, 31, 32, 31, 31, 30, 31, 30, 31, 31, 32, 32, 26, 31, 32, 31, 32, 32, 32, 31, 32, 32, 11, 33, 9, 33, 32, 32, 32, 32, 32, 32, 32, 32, 32, 10, 33, 32, 32, 32, 32, 32, 32, 31, 32, 33, 33, 33, 33, 33, 28, 33, 34, 33, 34, 33, 25, 32, 34, 33, 33, 34, 33, 33, 34, 33, 33, 33, 33, 32, 25, 28, 28, 28], qname='A01057:8:H3GMYDSXY:2:1664:1470:15311'),\n",
       " Clipspec(start1=168666452, is_forward=True, seq='TATCTATCTCACACACCAATTGAAACAAAGAGTTTATGTTCCTCATGAACAGTGTGCCTAGCACTCAGTGACATTAATGTTAGTTGTTGTTG', qual=[31, 31, 31, 32, 31, 31, 31, 32, 31, 31, 31, 31, 31, 31, 31, 30, 31, 31, 31, 31, 31, 24, 26, 31, 31, 31, 31, 31, 32, 31, 32, 30, 31, 31, 31, 31, 31, 30, 31, 31, 30, 32, 31, 31, 31, 30, 30, 30, 30, 30, 31, 29, 30, 22, 30, 30, 29, 26, 30, 31, 30, 30, 30, 31, 30, 30, 31, 29, 30, 30, 30, 30, 30, 30, 24, 30, 30, 30, 29, 30, 24, 31, 29, 30, 30, 29, 29, 30, 27, 28, 28, 28], qname='A00155:287:H3HKGDSXY:2:1425:21667:13275')]"
      ]
     },
     "execution_count": 78,
     "metadata": {},
     "output_type": "execute_result"
    }
   ],
   "source": [
    "softclip_col[(168666452, True)]"
   ]
  },
  {
   "cell_type": "code",
   "execution_count": 79,
   "metadata": {},
   "outputs": [],
   "source": [
    "key = (168666452, True)\n",
    "seqlist = [x.seq for x in softclip_col[key]]\n",
    "seqnamelist = [x.qname for x in softclip_col[key]]"
   ]
  },
  {
   "cell_type": "code",
   "execution_count": 80,
   "metadata": {},
   "outputs": [],
   "source": [
    "msa = handygenome.align.msa.align_with_muscle(seqlist, seqnamelist, biopython=False)"
   ]
  },
  {
   "cell_type": "code",
   "execution_count": 82,
   "metadata": {},
   "outputs": [
    {
     "name": "stdout",
     "output_type": "stream",
     "text": [
      " 0    TATCTATCTCACACACCAATTGAAACAAAGAGTTTATGTTCCTCATGAACAGTGTGCCTAGCACTCAGTGACATTAATGTTAGTTGTTGTTG    A00155:287:H3HKGDSXY:2:1425:21667:13275\n",
      " 1    TATCTATCTCACACACCAATTGAAACAAAGAGTTTATGTTCCTCATGAACAGTGTGCCTAGCACTC--------------------------    A01057:8:H3GMYDSXY:2:2157:28754:23109\n",
      " 2    TATCTATCTCACACACCAATTGAAACAAAGAGTTTATG------------------------------------------------------    A01057:8:H3GMYDSXY:2:2466:11713:35462\n",
      " 3    TATCTATCTCACACA-----------------------------------------------------------------------------    A01057:8:H3GMYDSXY:2:2469:21630:35196\n",
      " 4    TATCTATCTC----------------------------------------------------------------------------------    A01057:8:H3GMYDSXY:2:2302:16613:32925\n",
      " 5    TATCTATCTCACACACCAATTGAAACAAAGAGTTTATGTT----------------------------------------------------    A01057:8:H3GMYDSXY:2:1353:30996:1125\n",
      " 6    TATCTATCTCACACACCAATTGAAACAAAGAGTTAATGTTCCTCATGAACAGTGTGCCTAGCACTCAGTGACAT------------------    A01057:8:H3GMYDSXY:2:2156:2654:5400\n",
      " 7    TATCTATCTCACACACCAATTGAAACAAAGAGTTT---------------------------------------------------------    A01057:8:H3GMYDSXY:2:1212:6361:24972\n",
      " 8    TATCTATCTCACACACCAATTGAAACAAAGAGTTTATGTTCC--------------------------------------------------    A00155:287:H3HKGDSXY:2:1559:25464:33129\n",
      " 9    TATCTATCTCACACACCAATTGAAACAAAGAGTTTATGTTCCTCATGAA-------------------------------------------    A00155:287:H3HKGDSXY:2:1674:5972:27618\n",
      "10    TATCTATCTCACACACCAATTGAAACAAAGAGTTTATGTTCCTCATGAACAGTGTGCCTAGCACTCAGTGACATTAATG------------T    A01057:8:H3GMYDSXY:2:1664:1470:15311\n",
      "11    TATCTATCTCACACACCAATTGAAACAAAGAGTTTATGTTCCTCATGAACA-----------------------------------------    A00155:287:H3HKGDSXY:2:1521:26060:21480\n"
     ]
    }
   ],
   "source": [
    "print(msa)"
   ]
  },
  {
   "cell_type": "code",
   "execution_count": 83,
   "metadata": {},
   "outputs": [
    {
     "data": {
      "text/plain": [
       "'TATCTATCTCACACACCAATTGAAACAAAGAGTTTATGTTCCTCATGAACAGTGTGCCTAGCACTCAGTGACATTAATGTTAGTTGTTGTTX'"
      ]
     },
     "execution_count": 83,
     "metadata": {},
     "output_type": "execute_result"
    }
   ],
   "source": [
    "msa.get_consensus()"
   ]
  },
  {
   "cell_type": "code",
   "execution_count": 84,
   "metadata": {},
   "outputs": [],
   "source": [
    "handygenome.align.msa.modify_msa_gapclose(msa, 0.5)"
   ]
  },
  {
   "cell_type": "code",
   "execution_count": 85,
   "metadata": {},
   "outputs": [
    {
     "name": "stdout",
     "output_type": "stream",
     "text": [
      " 0    TATCTATCTCACACACCAATTGAAACAAAGAGTTTATGTTCCTCATGAACAGTGTGCCTAGCACTCAGTGACATTAATGTTAGTTGTTGTTG    A00155:287:H3HKGDSXY:2:1425:21667:13275\n",
      " 1    TATCTATCTCACACACCAATTGAAACAAAGAGTTTATGTTCCTCATGAACAGTGTGCCTAGCACTC--------------------------    A01057:8:H3GMYDSXY:2:2157:28754:23109\n",
      " 2    TATCTATCTCACACACCAATTGAAACAAAGAGTTTATG------------------------------------------------------    A01057:8:H3GMYDSXY:2:2466:11713:35462\n",
      " 3    TATCTATCTCACACA-----------------------------------------------------------------------------    A01057:8:H3GMYDSXY:2:2469:21630:35196\n",
      " 4    TATCTATCTC----------------------------------------------------------------------------------    A01057:8:H3GMYDSXY:2:2302:16613:32925\n",
      " 5    TATCTATCTCACACACCAATTGAAACAAAGAGTTTATGTT----------------------------------------------------    A01057:8:H3GMYDSXY:2:1353:30996:1125\n",
      " 6    TATCTATCTCACACACCAATTGAAACAAAGAGTTAATGTTCCTCATGAACAGTGTGCCTAGCACTCAGTGACAT------------------    A01057:8:H3GMYDSXY:2:2156:2654:5400\n",
      " 7    TATCTATCTCACACACCAATTGAAACAAAGAGTTT---------------------------------------------------------    A01057:8:H3GMYDSXY:2:1212:6361:24972\n",
      " 8    TATCTATCTCACACACCAATTGAAACAAAGAGTTTATGTTCC--------------------------------------------------    A00155:287:H3HKGDSXY:2:1559:25464:33129\n",
      " 9    TATCTATCTCACACACCAATTGAAACAAAGAGTTTATGTTCCTCATGAA-------------------------------------------    A00155:287:H3HKGDSXY:2:1674:5972:27618\n",
      "10    TATCTATCTCACACACCAATTGAAACAAAGAGTTTATGTTCCTCATGAACAGTGTGCCTAGCACTCAGTGACATTAATGT------------    A01057:8:H3GMYDSXY:2:1664:1470:15311\n",
      "11    TATCTATCTCACACACCAATTGAAACAAAGAGTTTATGTTCCTCATGAACA-----------------------------------------    A00155:287:H3HKGDSXY:2:1521:26060:21480\n"
     ]
    }
   ],
   "source": [
    "print(msa)"
   ]
  },
  {
   "cell_type": "code",
   "execution_count": 86,
   "metadata": {},
   "outputs": [
    {
     "data": {
      "text/plain": [
       "'TATCTATCTCACACACCAATTGAAACAAAGAGTTTATGTTCCTCATGAACAGTGTGCCTAGCACTCAGTGACATTAATGTTAGTTGTTGTTG'"
      ]
     },
     "execution_count": 86,
     "metadata": {},
     "output_type": "execute_result"
    }
   ],
   "source": [
    "msa.get_consensus()"
   ]
  },
  {
   "cell_type": "code",
   "execution_count": 69,
   "metadata": {},
   "outputs": [],
   "source": [
    "consensus_seq = msa.get_consensus()"
   ]
  },
  {
   "cell_type": "code",
   "execution_count": 87,
   "metadata": {},
   "outputs": [
    {
     "name": "stderr",
     "output_type": "stream",
     "text": [
      "[M::bwa_idx_load_from_disk] read 0 ALT contigs\n",
      "[M::process] read 1 sequences (92 bp)...\n",
      "[M::mem_process_seqs] Processed 1 reads in 0.001 CPU sec, 0.002 real sec\n",
      "[main] Version: 0.7.17-r1188\n",
      "[main] CMD: /home/users/pjh/scripts/python_genome_packages/utils/bwa mem -Y -M -t 1 -o /home/users/pjh/scripts/tmpqh5402pd/output.sam /home/users/data/01_reference/human_g1k_v37/human_g1k_v37.fasta /home/users/pjh/scripts/tmpqh5402pd/input.fasta\n",
      "[main] Real time: 5.855 sec; CPU: 5.607 sec\n"
     ]
    }
   ],
   "source": [
    "readlist = handygenome.align.bwa.run_bwa(consensus_seq, 'hg19')"
   ]
  },
  {
   "cell_type": "code",
   "execution_count": 88,
   "metadata": {},
   "outputs": [
    {
     "name": "stdout",
     "output_type": "stream",
     "text": [
      "query\t16\t3\t107598191\t60\t53M39S\t*\t0\t0\tCAACAACAACTAACATTAATGTCACTGAGTGCTAGGCACACTGTTCATGAGGAACATAAACTCTTTGTTTCAATTGGTGTGTGAGATAGATA\t*\tNM:i:0\tMD:Z:53\tAS:i:53\tXS:i:0\tSA:Z:3,107594795,+,39M53S,60,0;\n",
      "query\t256\t3\t107594795\t60\t39M53S\t*\t0\t0\tTATCTATCTCACACACCAATTGAAACAAAGAGTTTATGTTCCTCATGAACAGTGTGCCTAGCACTCAGTGACATTAATGTTAGTTGTTGTTG\t*\tNM:i:0\tMD:Z:39\tAS:i:39\tXS:i:20\tSA:Z:3,107598191,-,53M39S,60,0;\n"
     ]
    }
   ],
   "source": [
    "for read in readlist:\n",
    "    print(read.to_string())"
   ]
  },
  {
   "cell_type": "code",
   "execution_count": null,
   "metadata": {},
   "outputs": [],
   "source": []
  },
  {
   "cell_type": "code",
   "execution_count": null,
   "metadata": {},
   "outputs": [],
   "source": []
  },
  {
   "cell_type": "markdown",
   "metadata": {
    "jp-MarkdownHeadingCollapsed": true,
    "tags": []
   },
   "source": [
    "### jhkim sample"
   ]
  },
  {
   "cell_type": "code",
   "execution_count": 15,
   "metadata": {},
   "outputs": [],
   "source": [
    "bam_path = '/home/users/jhkim/Project/05_WGS/24.DSD_WGS/22DGS004_20220208-971-2201_DGS-2_M-ready.bam'\n",
    "bam = pysam.AlignmentFile(bam_path)"
   ]
  },
  {
   "cell_type": "code",
   "execution_count": 16,
   "metadata": {},
   "outputs": [
    {
     "name": "stdout",
     "output_type": "stream",
     "text": [
      "OK\n",
      "OK\n"
     ]
    }
   ],
   "source": [
    "igv.load([bam_path])\n",
    "igv.goto(['10:5199609-5210138'])"
   ]
  },
  {
   "cell_type": "code",
   "execution_count": null,
   "metadata": {},
   "outputs": [],
   "source": []
  },
  {
   "cell_type": "code",
   "execution_count": 45,
   "metadata": {},
   "outputs": [],
   "source": [
    "chrom = 'chr10'\n",
    "pos = 5_202_144\n",
    "start = pos - 1\n",
    "end = pos"
   ]
  },
  {
   "cell_type": "code",
   "execution_count": 46,
   "metadata": {},
   "outputs": [],
   "source": [
    "softclip_col = get_softclip_collection(bam, chrom, start, end)"
   ]
  },
  {
   "cell_type": "code",
   "execution_count": 47,
   "metadata": {},
   "outputs": [
    {
     "data": {
      "text/plain": [
       "dict_keys([(5202145, True), (5202142, False), (5202238, True)])"
      ]
     },
     "execution_count": 47,
     "metadata": {},
     "output_type": "execute_result"
    }
   ],
   "source": [
    "softclip_col.keys()"
   ]
  },
  {
   "cell_type": "code",
   "execution_count": 48,
   "metadata": {
    "collapsed": true,
    "jupyter": {
     "outputs_hidden": true
    }
   },
   "outputs": [
    {
     "data": {
      "text/plain": [
       "[Clipspec(start1=5202142, is_forward=False, seq='ATATACGTATCGTTCCATTACGTA', qual=[30, 30, 30, 30, 30, 30, 30, 30, 30, 30, 30, 30, 30, 30, 30, 30, 30, 30, 30, 30, 4, 30, 30, 30], qname='E100031906L1C001R00603681898'),\n",
       " Clipspec(start1=5202142, is_forward=False, seq='ATATACGTATCGTTCCATTACGTAATCCTTTAACATATAAGTTCACTATTTTG', qual=[30, 30, 30, 30, 30, 30, 30, 30, 30, 30, 30, 30, 30, 30, 30, 30, 30, 30, 30, 30, 30, 30, 30, 30, 30, 30, 30, 30, 30, 30, 30, 30, 30, 30, 30, 30, 30, 30, 30, 30, 30, 30, 30, 30, 30, 30, 30, 30, 30, 30, 30, 30, 30], qname='E100031906L1C012R03202397776'),\n",
       " Clipspec(start1=5202142, is_forward=False, seq='ATATACGTATCGTTCCATTACGTAATCCTTTAACATATAAGTTCACT', qual=[30, 30, 30, 30, 30, 30, 20, 30, 30, 30, 30, 30, 30, 5, 30, 30, 30, 20, 30, 30, 30, 30, 30, 30, 30, 30, 30, 30, 30, 30, 30, 30, 30, 30, 30, 30, 30, 30, 30, 30, 30, 30, 30, 30, 30, 30, 30], qname='E100031906L1C013R01801566726'),\n",
       " Clipspec(start1=5202142, is_forward=False, seq='ATATACGTATC', qual=[30, 30, 30, 30, 30, 30, 30, 30, 30, 30, 30], qname='E100031906L1C023R00404209928'),\n",
       " Clipspec(start1=5202142, is_forward=False, seq='ATATACGTATC', qual=[30, 30, 20, 30, 30, 30, 30, 30, 30, 30, 30], qname='E100031906L1C029R01003814517'),\n",
       " Clipspec(start1=5202142, is_forward=False, seq='ATATACGTA', qual=[30, 30, 30, 30, 30, 30, 30, 30, 30], qname='E100031906L1C029R03801922981'),\n",
       " Clipspec(start1=5202142, is_forward=False, seq='ATATACGTATCGTTCCATTACGTAATCCTTTAACATATAAGTTCAC', qual=[30, 30, 30, 30, 30, 30, 30, 30, 30, 30, 30, 30, 30, 30, 30, 30, 30, 30, 30, 30, 30, 30, 30, 30, 30, 30, 30, 30, 30, 30, 30, 30, 30, 30, 30, 30, 30, 30, 30, 30, 30, 30, 30, 30, 30, 30], qname='E100031906L1C035R01700626801'),\n",
       " Clipspec(start1=5202142, is_forward=False, seq='ATATACGTATCGTTCCATTACGTAATCCTTTAACATATAAGTTCACTATTTTG', qual=[30, 30, 30, 30, 30, 30, 30, 30, 30, 30, 30, 30, 30, 30, 30, 30, 30, 30, 30, 30, 30, 30, 30, 30, 30, 30, 30, 30, 30, 30, 30, 30, 30, 30, 30, 30, 30, 30, 30, 30, 30, 30, 30, 30, 30, 30, 30, 30, 30, 30, 30, 30, 30], qname='E100031906L1C035R03701309181'),\n",
       " Clipspec(start1=5202142, is_forward=False, seq='ATATACGTATCGTTCCATTACG', qual=[30, 30, 30, 30, 30, 30, 30, 30, 30, 30, 30, 30, 30, 30, 30, 30, 30, 30, 30, 30, 20, 30], qname='E100031906L1C039R01502304339'),\n",
       " Clipspec(start1=5202142, is_forward=False, seq='ATATACGTATCGTTCCATTACGTAATCCTTTAACATATAAGTTCACTATTTTGACAAATTAAGTCAGATTATAAATATATACAAT', qual=[30, 30, 30, 30, 30, 30, 30, 30, 30, 30, 30, 30, 30, 30, 30, 6, 30, 30, 30, 30, 30, 30, 30, 30, 30, 30, 30, 20, 30, 30, 30, 30, 20, 4, 30, 30, 30, 30, 30, 30, 30, 30, 30, 30, 30, 30, 30, 30, 30, 30, 30, 30, 30, 30, 30, 30, 30, 30, 30, 30, 30, 30, 30, 30, 20, 30, 30, 30, 30, 30, 30, 30, 30, 30, 30, 30, 30, 30, 30, 30, 30, 30, 30, 30, 30], qname='E100031906L1C040R01601423563'),\n",
       " Clipspec(start1=5202142, is_forward=False, seq='ATATACGTA', qual=[30, 30, 30, 30, 30, 30, 30, 30, 30], qname='E100031906L1C041R04100551483'),\n",
       " Clipspec(start1=5202142, is_forward=False, seq='ATATACG', qual=[30, 30, 30, 30, 30, 20, 30], qname='E100031912L1C007R01200763066'),\n",
       " Clipspec(start1=5202142, is_forward=False, seq='ATATACGTATCGTTCCATTACGTAATCCTTTAACATATAAGTTCACTATTTTGACAAATTAAGTCAGATTATAAATATATACAATTTTG', qual=[30, 30, 30, 30, 30, 30, 30, 30, 30, 30, 30, 30, 30, 30, 30, 30, 30, 30, 30, 30, 30, 30, 30, 30, 30, 30, 30, 30, 30, 30, 30, 30, 30, 30, 30, 30, 30, 30, 30, 30, 30, 30, 30, 30, 30, 30, 30, 30, 30, 30, 30, 30, 30, 30, 30, 30, 30, 30, 30, 30, 30, 30, 30, 30, 30, 30, 30, 30, 30, 30, 30, 30, 30, 30, 30, 30, 30, 30, 30, 30, 30, 30, 30, 30, 30, 30, 30, 30, 30], qname='E100031912L1C014R01302600732'),\n",
       " Clipspec(start1=5202142, is_forward=False, seq='ATATACGTATCGTTCCATTACGTA', qual=[30, 30, 30, 30, 30, 30, 30, 30, 30, 30, 30, 30, 30, 30, 30, 30, 30, 30, 30, 30, 30, 30, 30, 30], qname='E100031906L1C006R03400005067'),\n",
       " Clipspec(start1=5202142, is_forward=False, seq='ATATACGTATCGTTCCATTACGTAATCCTTTAACATATAAGTTCACTATTTTGACAAATTAAGTCAGATTATAAATATATACAATTTTGTC', qual=[30, 30, 30, 30, 30, 30, 30, 30, 30, 30, 30, 30, 30, 30, 30, 30, 30, 30, 30, 30, 30, 30, 30, 30, 30, 30, 30, 30, 30, 30, 30, 30, 30, 30, 30, 30, 30, 30, 30, 30, 30, 30, 30, 30, 30, 30, 30, 30, 30, 30, 30, 30, 30, 30, 30, 30, 30, 30, 30, 20, 30, 30, 30, 30, 30, 30, 30, 30, 30, 30, 30, 30, 30, 30, 20, 30, 30, 30, 30, 30, 30, 10, 30, 30, 30, 30, 30, 30, 30, 30, 30], qname='E100031906L1C010R01903811176'),\n",
       " Clipspec(start1=5202142, is_forward=False, seq='ATATACGTATCGTTCCATTACGTAATCCTTTAACATATAAGTTCACTATTTTGACTAATTAAGTCAGATTATAAATATATACAATTTTGTCTAAAGGTCGTAAATGTTCCAGTTTGCGGTTAA', qual=[30, 30, 30, 30, 30, 30, 30, 30, 30, 30, 30, 30, 30, 30, 30, 20, 30, 30, 30, 30, 30, 30, 30, 30, 30, 30, 30, 30, 30, 30, 30, 30, 30, 30, 30, 30, 30, 30, 30, 30, 30, 30, 30, 30, 20, 20, 30, 30, 30, 30, 30, 30, 30, 30, 30, 3, 30, 30, 30, 10, 30, 30, 30, 30, 30, 20, 30, 30, 30, 30, 20, 30, 30, 30, 30, 30, 30, 30, 30, 30, 30, 30, 30, 30, 30, 30, 30, 30, 30, 30, 30, 30, 30, 30, 30, 30, 30, 20, 30, 30, 30, 30, 30, 30, 30, 30, 30, 30, 3, 30, 30, 20, 30, 20, 30, 30, 20, 30, 30, 30, 30, 30, 20], qname='E100031906L1C012R03003585385'),\n",
       " Clipspec(start1=5202142, is_forward=False, seq='ATATACGTCTCCTCCCATTACCT', qual=[20, 30, 10, 30, 30, 3, 20, 30, 20, 20, 30, 5, 30, 10, 6, 30, 30, 20, 5, 20, 20, 6, 10], qname='E100031906L1C020R04103024674'),\n",
       " Clipspec(start1=5202142, is_forward=False, seq='ATATACGTATCGTTCCATTACGTAATCCTTTAACATATAAGTTCACTATTTTGACAAATTAAGTCAGATTATAAATATATACAATTTTGTCTAAAGGTCGTAAATGTTTCAGTTTGCGGTTAACTTTTC', qual=[30, 30, 30, 30, 30, 30, 30, 30, 30, 30, 30, 30, 30, 30, 30, 30, 30, 30, 30, 30, 30, 30, 30, 30, 30, 30, 30, 30, 30, 30, 30, 30, 30, 30, 30, 30, 30, 30, 30, 30, 30, 30, 30, 30, 30, 30, 30, 30, 30, 30, 30, 30, 30, 30, 30, 30, 30, 30, 30, 30, 30, 30, 30, 30, 30, 30, 30, 30, 30, 30, 30, 30, 30, 30, 30, 30, 30, 30, 30, 30, 30, 30, 30, 30, 30, 30, 30, 30, 30, 30, 30, 30, 30, 30, 30, 30, 30, 30, 30, 30, 30, 30, 30, 30, 30, 30, 30, 30, 30, 30, 30, 30, 30, 30, 30, 30, 20, 30, 30, 30, 30, 30, 30, 30, 30, 30, 30, 30, 30], qname='E100031906L1C023R01601347426'),\n",
       " Clipspec(start1=5202142, is_forward=False, seq='ATATACGTATCGTTCCATTACGTAATCCTTTAACATATAAGTTC', qual=[30, 30, 30, 30, 30, 30, 30, 30, 30, 30, 30, 30, 30, 30, 30, 30, 30, 30, 30, 30, 30, 30, 30, 30, 30, 30, 30, 30, 30, 30, 30, 30, 30, 30, 30, 30, 30, 30, 30, 30, 30, 30, 30, 30], qname='E100031906L1C023R03401917059'),\n",
       " Clipspec(start1=5202142, is_forward=False, seq='ATATACGTATCGTTCCATTACGTAATCCTTTAACATATAAGTTCACTATTTTGACAAATTAAGTCAGATTATAAATATATA', qual=[30, 30, 30, 30, 30, 30, 30, 30, 30, 30, 30, 30, 30, 30, 30, 30, 30, 30, 30, 30, 30, 30, 30, 30, 30, 30, 30, 30, 30, 30, 30, 30, 30, 30, 30, 30, 30, 30, 30, 30, 30, 30, 30, 30, 30, 30, 30, 30, 30, 30, 30, 30, 30, 30, 30, 30, 30, 30, 30, 30, 30, 30, 30, 30, 30, 30, 30, 30, 30, 30, 30, 30, 30, 30, 30, 30, 30, 30, 30, 30, 30], qname='E100031906L1C024R01303661743'),\n",
       " Clipspec(start1=5202142, is_forward=False, seq='ATATACGTATCGTTCCATTACGTAATCCTTTAACATATAAGTTCACTATTTTGACAAATTAAGTCAGATTAT', qual=[30, 30, 30, 30, 30, 30, 30, 30, 30, 30, 30, 30, 30, 30, 30, 30, 30, 30, 30, 30, 30, 30, 30, 30, 30, 30, 30, 30, 30, 30, 30, 30, 30, 30, 30, 30, 30, 30, 30, 30, 30, 30, 30, 30, 30, 30, 30, 30, 30, 30, 30, 30, 30, 30, 30, 30, 30, 30, 30, 30, 30, 30, 30, 30, 30, 30, 30, 30, 30, 30, 30, 30], qname='E100031906L1C025R02002536590'),\n",
       " Clipspec(start1=5202142, is_forward=False, seq='ATATCCGTATCG', qual=[30, 30, 30, 20, 20, 30, 20, 30, 10, 30, 30, 5], qname='E100031906L1C027R01000873301'),\n",
       " Clipspec(start1=5202142, is_forward=False, seq='ATATACGTATCGTTCCATTACGTAATCCTTTAACATATAAGTTCACTATTTTGACAAATTAAGTCAGATTATAAATATATACAATTTTGTCTAAAGGTCGTA', qual=[30, 30, 30, 30, 30, 30, 30, 30, 20, 30, 30, 30, 30, 30, 30, 30, 20, 30, 30, 30, 30, 30, 30, 30, 30, 30, 30, 30, 30, 30, 30, 30, 30, 30, 20, 30, 30, 30, 30, 30, 30, 30, 30, 30, 30, 30, 30, 30, 30, 30, 30, 30, 30, 30, 30, 20, 30, 30, 30, 30, 20, 30, 30, 30, 30, 20, 30, 30, 30, 30, 30, 30, 30, 30, 30, 30, 30, 30, 30, 30, 30, 30, 30, 30, 30, 30, 30, 30, 30, 30, 30, 30, 30, 30, 30, 30, 30, 10, 30, 30, 30, 30], qname='E100031906L1C029R02300606395'),\n",
       " Clipspec(start1=5202142, is_forward=False, seq='ATATACGTATCGTTCCATTACGTAATCCTTTAACATATAAGTTCACTATTTTGACAAATTAAGTCAGATTAT', qual=[30, 30, 30, 30, 30, 30, 30, 30, 30, 30, 30, 30, 30, 30, 30, 20, 30, 30, 30, 30, 30, 30, 30, 30, 30, 30, 30, 30, 30, 30, 30, 30, 30, 30, 30, 30, 30, 30, 30, 30, 30, 30, 30, 30, 30, 30, 30, 30, 30, 30, 30, 30, 20, 30, 30, 30, 30, 30, 30, 30, 30, 30, 30, 30, 30, 30, 30, 30, 30, 30, 20, 30], qname='E100031906L1C032R00101906444'),\n",
       " Clipspec(start1=5202142, is_forward=False, seq='ATATACGTATCGTTCCATTACGTAATCCTTTAACATATAAGTTCACTATTTTGACAAATTAAGTCAG', qual=[30, 30, 30, 30, 30, 30, 30, 30, 30, 30, 30, 30, 30, 30, 30, 30, 30, 30, 30, 30, 30, 30, 30, 30, 30, 30, 30, 20, 30, 30, 30, 30, 30, 30, 30, 30, 30, 30, 30, 30, 30, 30, 30, 30, 30, 30, 30, 30, 30, 20, 30, 30, 30, 30, 30, 30, 30, 30, 30, 30, 30, 30, 30, 30, 30, 30, 30], qname='E100031906L1C040R00802020422'),\n",
       " Clipspec(start1=5202142, is_forward=False, seq='ATATACGTATCGTTCCATTACGTAATCCTTTAACATATAAGTTCACTATTTTGA', qual=[30, 30, 30, 30, 20, 30, 30, 30, 20, 30, 30, 30, 30, 30, 30, 30, 30, 30, 30, 30, 30, 30, 30, 30, 30, 30, 30, 30, 30, 30, 30, 30, 30, 30, 30, 30, 30, 30, 30, 30, 30, 30, 30, 30, 3, 30, 30, 30, 30, 30, 30, 30, 30, 30], qname='E100031906L1C041R01700966537'),\n",
       " Clipspec(start1=5202142, is_forward=False, seq='ATATACGTATCGTTCCATTACGTAATCCTTTAACATATAAGTTCACTATTTTGACAAATTAAGTCAGATTATAAATATATACAATTTTGTCTAAAGGTCGTAAATGTTTCA', qual=[30, 30, 30, 30, 30, 30, 30, 30, 30, 30, 30, 30, 30, 30, 30, 30, 30, 30, 30, 30, 30, 30, 30, 30, 30, 30, 30, 30, 30, 30, 30, 30, 30, 30, 30, 30, 30, 30, 30, 30, 30, 30, 30, 30, 30, 30, 30, 30, 30, 30, 30, 30, 30, 30, 30, 30, 30, 30, 30, 30, 30, 30, 30, 30, 30, 30, 30, 30, 30, 30, 30, 30, 30, 30, 30, 30, 30, 30, 30, 30, 30, 30, 30, 30, 30, 30, 30, 30, 30, 30, 30, 30, 30, 30, 30, 30, 30, 30, 30, 30, 30, 30, 30, 30, 30, 30, 30, 30, 30, 20, 30], qname='E100031912L1C003R00402458502'),\n",
       " Clipspec(start1=5202142, is_forward=False, seq='ATAT', qual=[30, 30, 30, 30], qname='E100031912L1C005R01404104475'),\n",
       " Clipspec(start1=5202142, is_forward=False, seq='ATATACGTATCGTTCCATTACGTAATCCTTTAACATATAAGATCACTATTTTGACAAATTAAGTCAGATTATAAATATATACAATTTTGTCTAAAGGTCGTAAAT', qual=[30, 30, 30, 30, 30, 30, 30, 30, 30, 30, 30, 4, 30, 30, 20, 20, 30, 30, 30, 30, 20, 1, 10, 30, 30, 10, 10, 6, 30, 30, 30, 30, 30, 30, 30, 30, 30, 30, 30, 30, 30, 6, 30, 20, 30, 20, 30, 30, 30, 30, 30, 30, 30, 30, 20, 30, 30, 30, 30, 30, 30, 30, 30, 30, 30, 30, 30, 30, 30, 30, 30, 20, 30, 20, 30, 30, 30, 30, 30, 30, 30, 10, 30, 30, 30, 30, 30, 20, 30, 30, 20, 20, 20, 30, 30, 30, 30, 20, 20, 20, 30, 20, 30, 20, 30], qname='E100031912L1C013R01900626321')]"
      ]
     },
     "execution_count": 48,
     "metadata": {},
     "output_type": "execute_result"
    }
   ],
   "source": [
    "softclip_col[(5202142, False)]"
   ]
  },
  {
   "cell_type": "code",
   "execution_count": 26,
   "metadata": {},
   "outputs": [],
   "source": [
    "key = (5202142, False)\n",
    "seqlist = [x.seq for x in softclip_col[key]]\n",
    "seqnamelist = [x.qname for x in softclip_col[key]]"
   ]
  },
  {
   "cell_type": "code",
   "execution_count": 28,
   "metadata": {},
   "outputs": [],
   "source": [
    "msa = handygenome.align.msa.align_with_muscle(seqlist, seqnamelist, biopython=False)"
   ]
  },
  {
   "cell_type": "code",
   "execution_count": 31,
   "metadata": {},
   "outputs": [],
   "source": [
    "handygenome.align.msa.modify_msa_gapclose(msa, 0.5)"
   ]
  },
  {
   "cell_type": "code",
   "execution_count": 33,
   "metadata": {},
   "outputs": [],
   "source": [
    "consensus_seq = msa.get_consensus()"
   ]
  },
  {
   "cell_type": "code",
   "execution_count": 34,
   "metadata": {},
   "outputs": [
    {
     "name": "stderr",
     "output_type": "stream",
     "text": [
      "[M::bwa_idx_load_from_disk] read 0 ALT contigs\n",
      "[M::process] read 1 sequences (129 bp)...\n",
      "[M::mem_process_seqs] Processed 1 reads in 0.001 CPU sec, 0.001 real sec\n",
      "[main] Version: 0.7.17-r1188\n",
      "[main] CMD: /home/users/pjh/scripts/python_genome_packages/utils/bwa mem -Y -M -t 1 -o /home/users/pjh/scripts/tmpo74uwacr/output.sam /home/users/data/01_reference/human_g1k_v37/human_g1k_v37.fasta /home/users/pjh/scripts/tmpo74uwacr/input.fasta\n",
      "[main] Real time: 3.489 sec; CPU: 3.462 sec\n"
     ]
    }
   ],
   "source": [
    "readlist = handygenome.align.bwa.run_bwa(consensus_seq, 'hg19')"
   ]
  },
  {
   "cell_type": "code",
   "execution_count": 35,
   "metadata": {},
   "outputs": [
    {
     "name": "stdout",
     "output_type": "stream",
     "text": [
      "query\t4\t*\t0\t0\t*\t*\t0\t0\tATATACGTATCGTTCCATTACGTAATCCTTTAACATATAAGTTCACTATTTTGACAAATTAAGTCAGATTATAAATATATACAATTTTGTCTAAAGGTCGTAAATGTTTCAGTTTGCGGTTAACTTTTC\t*\tAS:i:0\tXS:i:0\n"
     ]
    }
   ],
   "source": [
    "for read in readlist:\n",
    "    print(read.to_string())"
   ]
  },
  {
   "cell_type": "code",
   "execution_count": null,
   "metadata": {},
   "outputs": [],
   "source": []
  },
  {
   "cell_type": "code",
   "execution_count": null,
   "metadata": {},
   "outputs": [],
   "source": []
  },
  {
   "cell_type": "code",
   "execution_count": null,
   "metadata": {},
   "outputs": [],
   "source": []
  }
 ],
 "metadata": {
  "kernelspec": {
   "display_name": "genome_v7",
   "language": "python",
   "name": "genome_v7"
  },
  "language_info": {
   "codemirror_mode": {
    "name": "ipython",
    "version": 3
   },
   "file_extension": ".py",
   "mimetype": "text/x-python",
   "name": "python",
   "nbconvert_exporter": "python",
   "pygments_lexer": "ipython3",
   "version": "3.10.6"
  }
 },
 "nbformat": 4,
 "nbformat_minor": 4
}
